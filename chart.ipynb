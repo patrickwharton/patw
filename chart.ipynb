{
 "cells": [
  {
   "cell_type": "code",
   "execution_count": 1,
   "metadata": {},
   "outputs": [
    {
     "data": {
      "text/html": [
       "<script type=\"text/javascript\">window.PlotlyConfig = {MathJaxConfig: 'local'};</script><script type=\"text/javascript\">if (window.MathJax) {MathJax.Hub.Config({SVG: {font: \"STIX-Web\"}});}</script><script>requirejs.config({paths: { 'plotly': ['https://cdn.plot.ly/plotly-latest.min']},});if(!window._Plotly) {require(['plotly'],function(plotly) {window._Plotly=plotly;});}</script>"
      ],
      "text/vnd.plotly.v1+html": [
       "<script type=\"text/javascript\">window.PlotlyConfig = {MathJaxConfig: 'local'};</script><script type=\"text/javascript\">if (window.MathJax) {MathJax.Hub.Config({SVG: {font: \"STIX-Web\"}});}</script><script>requirejs.config({paths: { 'plotly': ['https://cdn.plot.ly/plotly-latest.min']},});if(!window._Plotly) {require(['plotly'],function(plotly) {window._Plotly=plotly;});}</script>"
      ]
     },
     "metadata": {},
     "output_type": "display_data"
    }
   ],
   "source": [
    "from datetime import datetime\n",
    "import pandas as pd\n",
    "from patw import app, db\n",
    "from patw.helpers import get_country, get_map_list\n",
    "from patw.models import Polar, User\n",
    "from patw.charts import get_single_map_df\n",
    "from plotly.offline import iplot, init_notebook_mode\n",
    "import plotly.figure_factory as ff\n",
    "init_notebook_mode(connected=True)"
   ]
  },
  {
   "cell_type": "code",
   "execution_count": 2,
   "metadata": {
    "scrolled": false
   },
   "outputs": [
    {
     "data": {
      "application/vnd.plotly.v1+json": {
       "config": {
        "linkText": "Export to plot.ly",
        "plotlyServerURL": "https://plot.ly",
        "showLink": false
       },
       "data": [
        {
         "marker": {
          "color": "white"
         },
         "name": "",
         "type": "scatter",
         "uid": "5c87da82-5d19-4ff2-b6d8-2494f50ece07",
         "x": [
          "2019-03-02",
          "2019-03-09"
         ],
         "y": [
          4,
          4
         ]
        },
        {
         "marker": {
          "color": "white"
         },
         "name": "",
         "type": "scatter",
         "uid": "72b1ef1d-ecc5-45a2-bc1e-d1fe5001b23b",
         "x": [
          "2018-06-17",
          "2018-06-19"
         ],
         "y": [
          4,
          4
         ]
        },
        {
         "marker": {
          "color": "white"
         },
         "name": "",
         "type": "scatter",
         "uid": "cca9a804-443c-425e-ba24-322cda9adfeb",
         "x": [
          "2018-06-19",
          "2018-06-25"
         ],
         "y": [
          4,
          4
         ]
        },
        {
         "marker": {
          "color": "white"
         },
         "name": "",
         "type": "scatter",
         "uid": "b92cfdc1-9f41-479c-9831-c9200c89b178",
         "x": [
          "2018-06-25",
          "2018-06-30"
         ],
         "y": [
          4,
          4
         ]
        },
        {
         "marker": {
          "color": "white"
         },
         "name": "",
         "type": "scatter",
         "uid": "6c9b674f-0b1f-4586-a7db-c01d747ce7f5",
         "x": [
          "2018-06-30",
          "2018-07-01"
         ],
         "y": [
          4,
          4
         ]
        },
        {
         "marker": {
          "color": "white"
         },
         "name": "",
         "type": "scatter",
         "uid": "11cb02d2-cf3c-4026-b533-30d99ba87c80",
         "x": [
          "2018-07-01",
          "2018-07-03"
         ],
         "y": [
          4,
          4
         ]
        },
        {
         "marker": {
          "color": "white"
         },
         "name": "",
         "type": "scatter",
         "uid": "27471add-d391-400d-843f-268e7b95be2a",
         "x": [
          "2018-07-03",
          "2018-07-06"
         ],
         "y": [
          4,
          4
         ]
        },
        {
         "marker": {
          "color": "white"
         },
         "name": "",
         "type": "scatter",
         "uid": "99acaf3d-e891-43c2-9b5a-6138099c7282",
         "x": [
          "2018-07-06",
          "2018-07-06"
         ],
         "y": [
          4,
          4
         ]
        },
        {
         "marker": {
          "color": "white"
         },
         "name": "",
         "type": "scatter",
         "uid": "6a0f0a01-e132-48ad-9852-07ac5ebdfc6d",
         "x": [
          "2018-07-06",
          "2018-07-07"
         ],
         "y": [
          4,
          4
         ]
        },
        {
         "marker": {
          "color": "white"
         },
         "name": "",
         "type": "scatter",
         "uid": "1b5d489e-24bf-4878-aedc-4ebf076e3a26",
         "x": [
          "2018-07-07",
          "2018-07-08"
         ],
         "y": [
          4,
          4
         ]
        },
        {
         "marker": {
          "color": "white"
         },
         "name": "",
         "type": "scatter",
         "uid": "4921fa5b-c9ed-45cf-8d76-a5d1e694c54c",
         "x": [
          "2018-07-08",
          "2018-07-12"
         ],
         "y": [
          4,
          4
         ]
        },
        {
         "marker": {
          "color": "white"
         },
         "name": "",
         "type": "scatter",
         "uid": "8353411e-5ac1-4a8f-b321-01caa3c5cf94",
         "x": [
          "2018-07-12",
          "2018-07-15"
         ],
         "y": [
          4,
          4
         ]
        },
        {
         "marker": {
          "color": "white"
         },
         "name": "",
         "type": "scatter",
         "uid": "6093f1e8-2d6a-47ef-a368-0fa0b16fe77c",
         "x": [
          "2018-07-15",
          "2018-07-17"
         ],
         "y": [
          4,
          4
         ]
        },
        {
         "marker": {
          "color": "white"
         },
         "name": "",
         "type": "scatter",
         "uid": "4623750a-3bbb-4e58-9d6f-62e20a580815",
         "x": [
          "2018-07-17",
          "2018-07-18"
         ],
         "y": [
          4,
          4
         ]
        },
        {
         "marker": {
          "color": "white"
         },
         "name": "",
         "type": "scatter",
         "uid": "3b610db0-b145-483e-b5f2-09a4b9ace56a",
         "x": [
          "2018-07-18",
          "2018-07-20"
         ],
         "y": [
          4,
          4
         ]
        },
        {
         "marker": {
          "color": "white"
         },
         "name": "",
         "type": "scatter",
         "uid": "82684109-eb2e-4f17-a0a3-5318771dae95",
         "x": [
          "2018-07-20",
          "2018-07-24"
         ],
         "y": [
          4,
          4
         ]
        },
        {
         "marker": {
          "color": "white"
         },
         "name": "",
         "type": "scatter",
         "uid": "41003eef-065f-44ff-89b6-af54b0da842b",
         "x": [
          "2018-07-24",
          "2018-07-27"
         ],
         "y": [
          4,
          4
         ]
        },
        {
         "marker": {
          "color": "white"
         },
         "name": "",
         "type": "scatter",
         "uid": "af67ef25-fe05-4f87-98c8-fffd8891de41",
         "x": [
          "2018-07-27",
          "2018-07-29"
         ],
         "y": [
          4,
          4
         ]
        },
        {
         "marker": {
          "color": "white"
         },
         "name": "",
         "type": "scatter",
         "uid": "5e40d1f1-5244-49e7-a860-1d541b84ed07",
         "x": [
          "2018-07-29",
          "2018-08-01"
         ],
         "y": [
          4,
          4
         ]
        },
        {
         "marker": {
          "color": "white"
         },
         "name": "",
         "type": "scatter",
         "uid": "3c804bf4-000a-455f-978c-d97c47b13bd9",
         "x": [
          "2018-08-01",
          "2018-08-04"
         ],
         "y": [
          4,
          4
         ]
        },
        {
         "marker": {
          "color": "white"
         },
         "name": "",
         "type": "scatter",
         "uid": "ceb050b0-4a7a-435a-9cf4-d872e24bd2d3",
         "x": [
          "2018-08-04",
          "2018-08-08"
         ],
         "y": [
          4,
          4
         ]
        },
        {
         "marker": {
          "color": "white"
         },
         "name": "",
         "type": "scatter",
         "uid": "0e6ac076-25f6-4b3c-a58e-b07870a00f17",
         "x": [
          "2018-08-08",
          "2018-08-12"
         ],
         "y": [
          4,
          4
         ]
        },
        {
         "marker": {
          "color": "white"
         },
         "name": "",
         "type": "scatter",
         "uid": "89574d8c-c107-470b-a322-ddd862157a29",
         "x": [
          "2018-08-12",
          "2018-08-13"
         ],
         "y": [
          4,
          4
         ]
        },
        {
         "marker": {
          "color": "white"
         },
         "name": "",
         "type": "scatter",
         "uid": "89fa20c0-829d-4ee8-b57b-32ddf6fc3f5a",
         "x": [
          "2018-08-13",
          "2018-08-20"
         ],
         "y": [
          4,
          4
         ]
        },
        {
         "marker": {
          "color": "white"
         },
         "name": "",
         "type": "scatter",
         "uid": "aea35c70-4197-4580-b6dd-9470f018da63",
         "x": [
          "2018-08-20",
          "2018-08-22"
         ],
         "y": [
          4,
          4
         ]
        },
        {
         "marker": {
          "color": "white"
         },
         "name": "",
         "type": "scatter",
         "uid": "abcbaa38-c2d3-49c0-91dc-b58ee71ecfa6",
         "x": [
          "2018-08-22",
          "2018-08-30"
         ],
         "y": [
          4,
          4
         ]
        },
        {
         "marker": {
          "color": "white"
         },
         "name": "",
         "type": "scatter",
         "uid": "774d6c30-5d44-4009-891a-8bb7128f1be6",
         "x": [
          "2018-08-30",
          "2018-09-01"
         ],
         "y": [
          4,
          4
         ]
        },
        {
         "marker": {
          "color": "white"
         },
         "name": "",
         "type": "scatter",
         "uid": "3d065b8b-88fa-4d92-affa-0a6fa3000448",
         "x": [
          "2018-09-01",
          "2018-09-17"
         ],
         "y": [
          4,
          4
         ]
        },
        {
         "marker": {
          "color": "white"
         },
         "name": "",
         "type": "scatter",
         "uid": "26b69537-f0da-4336-8de0-4cd73cd1bd4c",
         "x": [
          "2018-09-17",
          "2018-09-18"
         ],
         "y": [
          4,
          4
         ]
        },
        {
         "marker": {
          "color": "white"
         },
         "name": "",
         "type": "scatter",
         "uid": "ab7b254d-2d6d-4495-9c63-36ad7b3cc275",
         "x": [
          "2018-09-18",
          "2018-09-23"
         ],
         "y": [
          4,
          4
         ]
        },
        {
         "marker": {
          "color": "white"
         },
         "name": "",
         "type": "scatter",
         "uid": "17d3d93f-4538-409a-8a78-1d2d00ddf449",
         "x": [
          "2018-09-23",
          "2018-09-27"
         ],
         "y": [
          4,
          4
         ]
        },
        {
         "marker": {
          "color": "white"
         },
         "name": "",
         "type": "scatter",
         "uid": "aa38ca1f-23ee-4dae-9711-163dafbda331",
         "x": [
          "2018-09-27",
          "2018-09-29"
         ],
         "y": [
          4,
          4
         ]
        },
        {
         "marker": {
          "color": "white"
         },
         "name": "",
         "type": "scatter",
         "uid": "d218106a-02f2-4ca7-aaa8-cbe4732741ec",
         "x": [
          "2018-09-29",
          "2018-09-30"
         ],
         "y": [
          4,
          4
         ]
        },
        {
         "marker": {
          "color": "white"
         },
         "name": "",
         "type": "scatter",
         "uid": "f4a5d827-0034-4094-8d71-0cac9b7f41ec",
         "x": [
          "2018-09-30",
          "2018-10-01"
         ],
         "y": [
          4,
          4
         ]
        },
        {
         "marker": {
          "color": "white"
         },
         "name": "",
         "type": "scatter",
         "uid": "1a67ed87-57d3-4c90-a897-614690310f12",
         "x": [
          "2018-10-01",
          "2018-10-03"
         ],
         "y": [
          4,
          4
         ]
        },
        {
         "marker": {
          "color": "white"
         },
         "name": "",
         "type": "scatter",
         "uid": "0a17bac2-c195-4ac5-b5fd-c441745c9c39",
         "x": [
          "2018-10-03",
          "2018-10-04"
         ],
         "y": [
          4,
          4
         ]
        },
        {
         "marker": {
          "color": "white"
         },
         "name": "",
         "type": "scatter",
         "uid": "03a7901b-0214-43bf-b4a8-e59d3c607d42",
         "x": [
          "2018-10-04",
          "2018-10-05"
         ],
         "y": [
          4,
          4
         ]
        },
        {
         "marker": {
          "color": "white"
         },
         "name": "",
         "type": "scatter",
         "uid": "146332cb-ea6f-4684-af6d-3be289415b33",
         "x": [
          "2018-10-05",
          "2018-10-06"
         ],
         "y": [
          4,
          4
         ]
        },
        {
         "marker": {
          "color": "white"
         },
         "name": "",
         "type": "scatter",
         "uid": "a0e4e0ca-050c-47db-a1fe-2af9ab404154",
         "x": [
          "2018-10-06",
          "2018-10-09"
         ],
         "y": [
          4,
          4
         ]
        },
        {
         "marker": {
          "color": "white"
         },
         "name": "",
         "type": "scatter",
         "uid": "514bc6da-6eee-49ee-b592-357c4b684c7a",
         "x": [
          "2018-10-09",
          "2018-10-12"
         ],
         "y": [
          4,
          4
         ]
        },
        {
         "marker": {
          "color": "white"
         },
         "name": "",
         "type": "scatter",
         "uid": "3050364b-3f3b-427a-8826-0e5d7f6c3c3f",
         "x": [
          "2018-10-12",
          "2018-10-14"
         ],
         "y": [
          4,
          4
         ]
        },
        {
         "marker": {
          "color": "white"
         },
         "name": "",
         "type": "scatter",
         "uid": "3c5cad6f-9ee0-4dc5-b6f7-5f3fb5e6f2f5",
         "x": [
          "2018-10-14",
          "2018-10-16"
         ],
         "y": [
          4,
          4
         ]
        },
        {
         "marker": {
          "color": "white"
         },
         "name": "",
         "type": "scatter",
         "uid": "c120441a-40c8-497c-b6e6-c68856bf3301",
         "x": [
          "2018-10-16",
          "2018-10-19"
         ],
         "y": [
          4,
          4
         ]
        },
        {
         "marker": {
          "color": "white"
         },
         "name": "",
         "type": "scatter",
         "uid": "c63db359-9b6d-4c7d-9165-0eebbf4197b0",
         "x": [
          "2018-10-19",
          "2018-10-20"
         ],
         "y": [
          4,
          4
         ]
        },
        {
         "marker": {
          "color": "white"
         },
         "name": "",
         "type": "scatter",
         "uid": "0ae1553a-54bb-4680-b3c8-4b2e06b5cfe2",
         "x": [
          "2018-10-20",
          "2018-10-21"
         ],
         "y": [
          4,
          4
         ]
        },
        {
         "marker": {
          "color": "white"
         },
         "name": "",
         "type": "scatter",
         "uid": "b994f81a-5715-46ad-97e8-fefb5c713bda",
         "x": [
          "2018-10-21",
          "2018-10-23"
         ],
         "y": [
          4,
          4
         ]
        },
        {
         "marker": {
          "color": "white"
         },
         "name": "",
         "type": "scatter",
         "uid": "5f09cf7f-571c-49ef-876d-3335d808539d",
         "x": [
          "2018-10-23",
          "2018-10-26"
         ],
         "y": [
          4,
          4
         ]
        },
        {
         "marker": {
          "color": "white"
         },
         "name": "",
         "type": "scatter",
         "uid": "c9ae5394-1e57-4cff-a7ce-aaa6d6ba6679",
         "x": [
          "2018-11-26",
          "2018-11-27"
         ],
         "y": [
          3,
          3
         ]
        },
        {
         "marker": {
          "color": "white"
         },
         "name": "",
         "type": "scatter",
         "uid": "08045ddc-6555-46d2-9675-13140d642b06",
         "x": [
          "2018-11-27",
          "2018-11-28"
         ],
         "y": [
          3,
          3
         ]
        },
        {
         "marker": {
          "color": "white"
         },
         "name": "",
         "type": "scatter",
         "uid": "5811fe1f-d31f-4f5a-b720-37d4e509ffbc",
         "x": [
          "2018-11-28",
          "2018-12-01"
         ],
         "y": [
          3,
          3
         ]
        },
        {
         "marker": {
          "color": "white"
         },
         "name": "",
         "type": "scatter",
         "uid": "85ba270f-bd86-48ae-a57f-1a79adee829f",
         "x": [
          "2010-08-01",
          "2010-08-16"
         ],
         "y": [
          4,
          4
         ]
        },
        {
         "marker": {
          "color": "white"
         },
         "name": "",
         "type": "scatter",
         "uid": "79b0ffe9-4dca-4ab4-b2a9-a11daeb8f44e",
         "x": [
          "2003-08-10",
          "2003-08-25"
         ],
         "y": [
          4,
          4
         ]
        },
        {
         "marker": {
          "color": "white"
         },
         "name": "",
         "type": "scatter",
         "uid": "86eb0c5a-954d-4595-94b5-f74c5f19c826",
         "x": [
          "2004-08-14",
          "2004-08-15"
         ],
         "y": [
          4,
          4
         ]
        },
        {
         "marker": {
          "color": "white"
         },
         "name": "",
         "type": "scatter",
         "uid": "75eee106-6fbc-426c-a05b-bce373474219",
         "x": [
          "2004-08-15",
          "2004-08-28"
         ],
         "y": [
          4,
          4
         ]
        },
        {
         "marker": {
          "color": "white"
         },
         "name": "",
         "type": "scatter",
         "uid": "45f80916-471f-4e13-8e2e-bfb2ca5559be",
         "x": [
          "2005-08-13",
          "2005-08-27"
         ],
         "y": [
          4,
          4
         ]
        },
        {
         "marker": {
          "color": "white"
         },
         "name": "",
         "type": "scatter",
         "uid": "abf44e35-5f99-4672-bcc4-5212944d58f9",
         "x": [
          "2006-08-13",
          "2006-08-26"
         ],
         "y": [
          4,
          4
         ]
        },
        {
         "marker": {
          "color": "white"
         },
         "name": "",
         "type": "scatter",
         "uid": "9efb8342-b9a5-4b5e-9a19-240638cb9cd2",
         "x": [
          "2008-03-22",
          "2008-04-02"
         ],
         "y": [
          4,
          4
         ]
        },
        {
         "marker": {
          "color": "white"
         },
         "name": "",
         "type": "scatter",
         "uid": "43ae90ae-b1a8-44d8-b4d6-01183bcd6adc",
         "x": [
          "2007-04-07",
          "2007-04-15"
         ],
         "y": [
          4,
          4
         ]
        },
        {
         "marker": {
          "color": "white"
         },
         "name": "",
         "type": "scatter",
         "uid": "cf1e895e-f28b-43da-9a37-560f09e69ae6",
         "x": [
          "2006-02-11",
          "2006-02-19"
         ],
         "y": [
          4,
          4
         ]
        },
        {
         "marker": {
          "color": "white"
         },
         "name": "",
         "type": "scatter",
         "uid": "2a3a5617-0d01-483c-8400-54b98e707936",
         "x": [
          "2005-03-26",
          "2005-04-02"
         ],
         "y": [
          4,
          4
         ]
        },
        {
         "marker": {
          "color": "white"
         },
         "name": "",
         "type": "scatter",
         "uid": "07d3fb9e-f1e7-40a1-9560-0df8bb7293fb",
         "x": [
          "2001-08-11",
          "2001-08-15"
         ],
         "y": [
          4,
          4
         ]
        },
        {
         "marker": {
          "color": "white"
         },
         "name": "",
         "type": "scatter",
         "uid": "72a41662-06dd-4b3d-b3bc-3dd36c66e03b",
         "x": [
          "2001-08-15",
          "2001-08-18"
         ],
         "y": [
          4,
          4
         ]
        },
        {
         "marker": {
          "color": "white"
         },
         "name": "",
         "type": "scatter",
         "uid": "43a903e8-10e2-45cd-9bbe-e1e1b448aa3e",
         "x": [
          "2001-08-18",
          "2001-08-26"
         ],
         "y": [
          4,
          4
         ]
        },
        {
         "marker": {
          "color": "white"
         },
         "name": "",
         "type": "scatter",
         "uid": "8baab541-326f-4f78-9798-f89375e51116",
         "x": [
          "2002-08-25",
          "2002-09-01"
         ],
         "y": [
          4,
          4
         ]
        },
        {
         "marker": {
          "color": "white"
         },
         "name": "",
         "type": "scatter",
         "uid": "c1010473-9108-44fd-b524-188027207341",
         "x": [
          "2007-08-12",
          "2007-08-13"
         ],
         "y": [
          2,
          2
         ]
        },
        {
         "marker": {
          "color": "white"
         },
         "name": "",
         "type": "scatter",
         "uid": "c7c89bce-9e4b-4621-9912-bf31644dbc1c",
         "x": [
          "2007-08-13",
          "2007-08-17"
         ],
         "y": [
          2,
          2
         ]
        },
        {
         "marker": {
          "color": "white"
         },
         "name": "",
         "type": "scatter",
         "uid": "32f6c53d-ea80-41c8-a985-92083b0284b9",
         "x": [
          "2007-08-17",
          "2007-08-18"
         ],
         "y": [
          2,
          2
         ]
        },
        {
         "marker": {
          "color": "white"
         },
         "name": "",
         "type": "scatter",
         "uid": "4874ac35-9158-44b4-862e-5afb829615f3",
         "x": [
          "2007-08-18",
          "2007-08-20"
         ],
         "y": [
          2,
          2
         ]
        },
        {
         "marker": {
          "color": "white"
         },
         "name": "",
         "type": "scatter",
         "uid": "29b7b14a-84dd-4f65-bae3-122bbdf5cc08",
         "x": [
          "2007-08-20",
          "2007-08-27"
         ],
         "y": [
          2,
          2
         ]
        },
        {
         "marker": {
          "color": "white"
         },
         "name": "",
         "type": "scatter",
         "uid": "e980c8f2-1c5d-46ad-a8cf-494c0a595b83",
         "x": [
          "2008-08-01",
          "2008-08-07"
         ],
         "y": [
          4,
          4
         ]
        },
        {
         "marker": {
          "color": "white"
         },
         "name": "",
         "type": "scatter",
         "uid": "22c6b8ca-1477-4ed8-ac5f-c0b1cad0c721",
         "x": [
          "2008-08-07",
          "2008-08-13"
         ],
         "y": [
          4,
          4
         ]
        },
        {
         "marker": {
          "color": "white"
         },
         "name": "",
         "type": "scatter",
         "uid": "9d57cb5e-26df-47bd-8713-f0daeecfb9b2",
         "x": [
          "2008-08-13",
          "2008-08-16"
         ],
         "y": [
          4,
          4
         ]
        },
        {
         "marker": {
          "color": "white"
         },
         "name": "",
         "type": "scatter",
         "uid": "92ab5a49-a5ef-4cb3-a552-31e74b79c5b4",
         "x": [
          "2009-07-26",
          "2009-08-08"
         ],
         "y": [
          4,
          4
         ]
        },
        {
         "marker": {
          "color": "white"
         },
         "name": "",
         "type": "scatter",
         "uid": "269c3e62-6fb3-453b-a4f0-387d16db8fdd",
         "x": [
          "2010-02-14",
          "2010-02-15"
         ],
         "y": [
          4,
          4
         ]
        },
        {
         "marker": {
          "color": "white"
         },
         "name": "",
         "type": "scatter",
         "uid": "093bcfef-ad71-401f-a051-8351c106c2aa",
         "x": [
          "2013-07-28",
          "2013-07-30"
         ],
         "y": [
          4,
          4
         ]
        },
        {
         "marker": {
          "color": "white"
         },
         "name": "",
         "type": "scatter",
         "uid": "48acc36b-847b-46a0-8748-4602fa15c8d4",
         "x": [
          "2013-07-30",
          "2013-08-01"
         ],
         "y": [
          4,
          4
         ]
        },
        {
         "marker": {
          "color": "white"
         },
         "name": "",
         "type": "scatter",
         "uid": "7a504c83-8a95-4db1-ab0b-b67bc38f9829",
         "x": [
          "2013-08-01",
          "2013-08-03"
         ],
         "y": [
          4,
          4
         ]
        },
        {
         "marker": {
          "color": "white"
         },
         "name": "",
         "type": "scatter",
         "uid": "3b350ce8-0656-4195-bd3b-d46a365ab2dc",
         "x": [
          "2013-08-03",
          "2013-08-10"
         ],
         "y": [
          4,
          4
         ]
        },
        {
         "marker": {
          "color": "white"
         },
         "name": "",
         "type": "scatter",
         "uid": "03b14889-1c07-4f76-8aac-edf86ed4ae21",
         "x": [
          "2013-07-04",
          "2013-07-05"
         ],
         "y": [
          4,
          4
         ]
        },
        {
         "marker": {
          "color": "white"
         },
         "name": "",
         "type": "scatter",
         "uid": "034b1d36-229f-4acb-8a1f-3e3025b3d77f",
         "x": [
          "2013-03-31",
          "2013-04-07"
         ],
         "y": [
          4,
          4
         ]
        },
        {
         "marker": {
          "color": "white"
         },
         "name": "",
         "type": "scatter",
         "uid": "a39a0ebc-b98f-4440-9c18-74d04f47780c",
         "x": [
          "2006-10-21",
          "2006-10-23"
         ],
         "y": [
          4,
          4
         ]
        },
        {
         "marker": {
          "color": "white"
         },
         "name": "",
         "type": "scatter",
         "uid": "e1454fca-30ad-48cb-8bf8-739ce76e4a80",
         "x": [
          "2006-10-23",
          "2006-10-24"
         ],
         "y": [
          4,
          4
         ]
        },
        {
         "marker": {
          "color": "white"
         },
         "name": "",
         "type": "scatter",
         "uid": "349b7197-6b4e-438a-a65b-54800e84922f",
         "x": [
          "2006-10-24",
          "2006-10-25"
         ],
         "y": [
          4,
          4
         ]
        },
        {
         "marker": {
          "color": "white"
         },
         "name": "",
         "type": "scatter",
         "uid": "36adac97-88d0-40cf-88aa-b1fef3f7147f",
         "x": [
          "2017-10-16",
          "2017-10-16"
         ],
         "y": [
          2,
          2
         ]
        },
        {
         "marker": {
          "color": "white"
         },
         "name": "",
         "type": "scatter",
         "uid": "3ba4f6bd-7c18-4023-b4f0-516978fcc1c5",
         "x": [
          "2017-10-16",
          "2017-10-16"
         ],
         "y": [
          2,
          2
         ]
        },
        {
         "marker": {
          "color": "white"
         },
         "name": "",
         "type": "scatter",
         "uid": "bf01aa20-c53d-4846-8d6b-22e90b15622d",
         "x": [
          "2017-10-16",
          "2017-10-20"
         ],
         "y": [
          2,
          2
         ]
        },
        {
         "marker": {
          "color": "white"
         },
         "name": "",
         "type": "scatter",
         "uid": "f42b2d84-4792-42e9-a44b-59e8bc331b9a",
         "x": [
          "2017-10-20",
          "2017-10-23"
         ],
         "y": [
          2,
          2
         ]
        },
        {
         "marker": {
          "color": "white"
         },
         "name": "",
         "type": "scatter",
         "uid": "ef6b75e2-5a54-4196-8920-fe7d9abaf2ba",
         "x": [
          "2017-10-23",
          "2017-10-27"
         ],
         "y": [
          2,
          2
         ]
        },
        {
         "marker": {
          "color": "white"
         },
         "name": "",
         "type": "scatter",
         "uid": "f0499d1f-5a36-49c3-a4c1-8da55141daaa",
         "x": [
          "2017-10-27",
          "2017-10-30"
         ],
         "y": [
          2,
          2
         ]
        },
        {
         "marker": {
          "color": "white"
         },
         "name": "",
         "type": "scatter",
         "uid": "129e7935-d8ef-44f8-ae75-53181de4460f",
         "x": [
          "2017-10-30",
          "2017-11-01"
         ],
         "y": [
          2,
          2
         ]
        },
        {
         "marker": {
          "color": "white"
         },
         "name": "",
         "type": "scatter",
         "uid": "9f589933-d315-4c77-a365-d9c9363b5170",
         "x": [
          "2017-11-01",
          "2017-11-03"
         ],
         "y": [
          2,
          2
         ]
        },
        {
         "marker": {
          "color": "white"
         },
         "name": "",
         "type": "scatter",
         "uid": "c0ffd070-94f3-445c-ae5d-70e05cda0cd0",
         "x": [
          "2017-11-03",
          "2017-11-08"
         ],
         "y": [
          2,
          2
         ]
        },
        {
         "marker": {
          "color": "white"
         },
         "name": "",
         "type": "scatter",
         "uid": "f350bd2c-914e-4f20-b408-d219b01b8d52",
         "x": [
          "2017-11-08",
          "2017-11-10"
         ],
         "y": [
          2,
          2
         ]
        },
        {
         "marker": {
          "color": "white"
         },
         "name": "",
         "type": "scatter",
         "uid": "7fd976d8-8e97-4356-90c1-a19153ceda28",
         "x": [
          "2017-11-10",
          "2017-11-16"
         ],
         "y": [
          2,
          2
         ]
        },
        {
         "marker": {
          "color": "white"
         },
         "name": "",
         "type": "scatter",
         "uid": "462f83c1-c038-4557-8589-a701cea2b528",
         "x": [
          "2017-11-16",
          "2017-11-20"
         ],
         "y": [
          2,
          2
         ]
        },
        {
         "marker": {
          "color": "white"
         },
         "name": "",
         "type": "scatter",
         "uid": "9f59018e-6c10-494f-b0b1-91e9e6e15b88",
         "x": [
          "2017-11-20",
          "2017-11-25"
         ],
         "y": [
          2,
          2
         ]
        },
        {
         "marker": {
          "color": "white"
         },
         "name": "",
         "type": "scatter",
         "uid": "21e48134-b829-466b-b7c6-7873219b0496",
         "x": [
          "2017-11-25",
          "2017-12-03"
         ],
         "y": [
          2,
          2
         ]
        },
        {
         "marker": {
          "color": "white"
         },
         "name": "",
         "type": "scatter",
         "uid": "adce68af-b40e-430d-b660-f5ad5cb9be8e",
         "x": [
          "2011-01-15",
          "2011-02-07"
         ],
         "y": [
          1,
          1
         ]
        },
        {
         "marker": {
          "color": "white"
         },
         "name": "",
         "type": "scatter",
         "uid": "6f059e80-ccbd-4aa9-a535-8bac593d9c7e",
         "x": [
          "2011-02-07",
          "2011-02-14"
         ],
         "y": [
          1,
          1
         ]
        },
        {
         "marker": {
          "color": "white"
         },
         "name": "",
         "type": "scatter",
         "uid": "b8f14029-33b2-492b-83a0-691c48319187",
         "x": [
          "2011-02-14",
          "2011-02-20"
         ],
         "y": [
          1,
          1
         ]
        },
        {
         "marker": {
          "color": "white"
         },
         "name": "",
         "type": "scatter",
         "uid": "13e2c886-68b9-467e-9e61-39dfbfe5bf8f",
         "x": [
          "2011-02-20",
          "2011-02-23"
         ],
         "y": [
          1,
          1
         ]
        },
        {
         "marker": {
          "color": "white"
         },
         "name": "",
         "type": "scatter",
         "uid": "da0fef44-569b-48df-99ad-156cc7d39d7f",
         "x": [
          "2011-02-23",
          "2011-02-24"
         ],
         "y": [
          1,
          1
         ]
        },
        {
         "marker": {
          "color": "white"
         },
         "name": "",
         "type": "scatter",
         "uid": "51f4ef79-af94-4943-8f7b-65c4644b4077",
         "x": [
          "2011-02-24",
          "2011-03-03"
         ],
         "y": [
          1,
          1
         ]
        },
        {
         "marker": {
          "color": "white"
         },
         "name": "",
         "type": "scatter",
         "uid": "41a66680-b3fc-4682-b798-e7b920c81381",
         "x": [
          "2011-03-03",
          "2011-03-03"
         ],
         "y": [
          1,
          1
         ]
        },
        {
         "marker": {
          "color": "white"
         },
         "name": "",
         "type": "scatter",
         "uid": "4617d820-3969-41ae-90f0-663091dd07c9",
         "x": [
          "2011-03-03",
          "2011-03-06"
         ],
         "y": [
          1,
          1
         ]
        },
        {
         "marker": {
          "color": "white"
         },
         "name": "",
         "type": "scatter",
         "uid": "5189edd7-3cf1-4a7f-9241-4f26475bcb97",
         "x": [
          "2011-03-06",
          "2011-03-09"
         ],
         "y": [
          1,
          1
         ]
        },
        {
         "marker": {
          "color": "white"
         },
         "name": "",
         "type": "scatter",
         "uid": "b342c366-ad6f-499c-966a-035b34cf9040",
         "x": [
          "2011-03-09",
          "2011-03-13"
         ],
         "y": [
          1,
          1
         ]
        },
        {
         "marker": {
          "color": "white"
         },
         "name": "",
         "type": "scatter",
         "uid": "51d7bc85-b088-4670-abf4-4931e0ec100a",
         "x": [
          "2011-03-13",
          "2011-03-15"
         ],
         "y": [
          1,
          1
         ]
        },
        {
         "marker": {
          "color": "white"
         },
         "name": "",
         "type": "scatter",
         "uid": "9ac51e39-88fe-4a92-b2dc-31a4138dd8d5",
         "x": [
          "2011-03-15",
          "2011-03-17"
         ],
         "y": [
          1,
          1
         ]
        },
        {
         "marker": {
          "color": "white"
         },
         "name": "",
         "type": "scatter",
         "uid": "c17b66e3-a183-4920-b2c9-a71821105a43",
         "x": [
          "2011-03-17",
          "2011-03-22"
         ],
         "y": [
          1,
          1
         ]
        },
        {
         "marker": {
          "color": "white"
         },
         "name": "",
         "type": "scatter",
         "uid": "b02cdb09-25cd-4800-9b5c-6f82096a705f",
         "x": [
          "2011-03-22",
          "2011-03-25"
         ],
         "y": [
          1,
          1
         ]
        },
        {
         "marker": {
          "color": "white"
         },
         "name": "",
         "type": "scatter",
         "uid": "effd68e2-42fa-4976-88ec-ce884994b881",
         "x": [
          "2011-03-25",
          "2011-03-31"
         ],
         "y": [
          1,
          1
         ]
        },
        {
         "marker": {
          "color": "white"
         },
         "name": "",
         "type": "scatter",
         "uid": "83cc6c00-b603-44dd-96ff-4a27e778e984",
         "x": [
          "2011-03-31",
          "2011-04-05"
         ],
         "y": [
          1,
          1
         ]
        },
        {
         "marker": {
          "color": "white"
         },
         "name": "",
         "type": "scatter",
         "uid": "caa71231-45ad-4dc2-892a-fbaff0e70377",
         "x": [
          "2011-04-05",
          "2011-04-09"
         ],
         "y": [
          0,
          0
         ]
        },
        {
         "marker": {
          "color": "white"
         },
         "name": "",
         "type": "scatter",
         "uid": "c8fefed0-33b2-412a-926f-40508773247d",
         "x": [
          "2011-04-09",
          "2011-04-12"
         ],
         "y": [
          0,
          0
         ]
        },
        {
         "marker": {
          "color": "white"
         },
         "name": "",
         "type": "scatter",
         "uid": "5456ffb3-addd-4ee8-b991-bdbe71c8c2c6",
         "x": [
          "2011-04-12",
          "2011-04-14"
         ],
         "y": [
          0,
          0
         ]
        },
        {
         "marker": {
          "color": "white"
         },
         "name": "",
         "type": "scatter",
         "uid": "02e6e1be-36b5-47be-9c28-c0db2149113a",
         "x": [
          "2011-04-14",
          "2011-04-18"
         ],
         "y": [
          0,
          0
         ]
        },
        {
         "marker": {
          "color": "white"
         },
         "name": "",
         "type": "scatter",
         "uid": "719a823e-3033-4adc-b8c7-67482f001aa8",
         "x": [
          "2011-04-18",
          "2011-04-20"
         ],
         "y": [
          0,
          0
         ]
        },
        {
         "marker": {
          "color": "white"
         },
         "name": "",
         "type": "scatter",
         "uid": "4ca4d012-15a0-46af-ae52-d790be81e6b6",
         "x": [
          "2011-04-20",
          "2011-04-25"
         ],
         "y": [
          0,
          0
         ]
        },
        {
         "marker": {
          "color": "white"
         },
         "name": "",
         "type": "scatter",
         "uid": "9a898aa2-d95a-4512-91df-c9755997dfbc",
         "x": [
          "2011-04-25",
          "2011-05-02"
         ],
         "y": [
          0,
          0
         ]
        },
        {
         "marker": {
          "color": "white"
         },
         "name": "",
         "type": "scatter",
         "uid": "77e71a73-7013-41e9-9de2-6f1d3dec3414",
         "x": [
          "2011-05-02",
          "2011-05-05"
         ],
         "y": [
          0,
          0
         ]
        },
        {
         "marker": {
          "color": "white"
         },
         "name": "",
         "type": "scatter",
         "uid": "4e025cc6-f148-411a-8eae-38ace39fed46",
         "x": [
          "2011-05-05",
          "2011-05-06"
         ],
         "y": [
          0,
          0
         ]
        },
        {
         "marker": {
          "color": "white"
         },
         "name": "",
         "type": "scatter",
         "uid": "6a86553e-f2be-460e-97b5-8f818d008f08",
         "x": [
          "2011-05-06",
          "2011-06-18"
         ],
         "y": [
          0,
          0
         ]
        },
        {
         "marker": {
          "color": "white"
         },
         "name": "",
         "type": "scatter",
         "uid": "53919a09-79b7-4f9c-bc14-208d9378c41f",
         "x": [
          "2011-06-18",
          "2011-06-21"
         ],
         "y": [
          0,
          0
         ]
        },
        {
         "marker": {
          "color": "white"
         },
         "name": "",
         "type": "scatter",
         "uid": "324146b0-e2e3-4ee5-929d-7025cba55d38",
         "x": [
          "2011-06-21",
          "2011-06-25"
         ],
         "y": [
          0,
          0
         ]
        },
        {
         "marker": {
          "color": "white"
         },
         "name": "",
         "type": "scatter",
         "uid": "e3c8c996-f134-41ee-bc57-167be86c4547",
         "x": [
          "2011-06-25",
          "2011-06-28"
         ],
         "y": [
          0,
          0
         ]
        },
        {
         "marker": {
          "color": "white"
         },
         "name": "",
         "type": "scatter",
         "uid": "879eb19f-69d1-45a4-b03b-cb945ca67501",
         "x": [
          "2011-06-28",
          "2011-06-29"
         ],
         "y": [
          0,
          0
         ]
        },
        {
         "marker": {
          "color": "white"
         },
         "name": "",
         "type": "scatter",
         "uid": "95eb8989-26a5-4f3c-aa57-7f11bd40a1f9",
         "x": [
          "2011-06-29",
          "2011-07-20"
         ],
         "y": [
          0,
          0
         ]
        },
        {
         "marker": {
          "color": "white"
         },
         "name": "",
         "type": "scatter",
         "uid": "09fb4d25-92c8-44d8-843e-6e0864ac15e4",
         "x": [
          "2011-07-20",
          "2011-07-22"
         ],
         "y": [
          2,
          2
         ]
        },
        {
         "marker": {
          "color": "white"
         },
         "name": "",
         "type": "scatter",
         "uid": "d9440aa7-fcc7-4aa2-8abc-4d41642e8ad2",
         "x": [
          "2011-07-22",
          "2011-07-23"
         ],
         "y": [
          2,
          2
         ]
        },
        {
         "marker": {
          "color": "white"
         },
         "name": "",
         "type": "scatter",
         "uid": "d36a0ac3-3302-4a75-8178-7135c961050b",
         "x": [
          "2011-07-23",
          "2011-07-24"
         ],
         "y": [
          2,
          2
         ]
        },
        {
         "marker": {
          "color": "white"
         },
         "name": "",
         "type": "scatter",
         "uid": "f49ad312-5796-416b-bc16-a627b67913fb",
         "x": [
          "2011-07-24",
          "2011-07-26"
         ],
         "y": [
          2,
          2
         ]
        },
        {
         "marker": {
          "color": "white"
         },
         "name": "",
         "type": "scatter",
         "uid": "4796d48a-8ed8-4154-ac94-68b03252dd5d",
         "x": [
          "2011-07-26",
          "2011-07-28"
         ],
         "y": [
          2,
          2
         ]
        },
        {
         "marker": {
          "color": "white"
         },
         "name": "",
         "type": "scatter",
         "uid": "39582bcd-22b1-4d2d-a684-c38901433e81",
         "x": [
          "2011-07-28",
          "2011-07-28"
         ],
         "y": [
          2,
          2
         ]
        },
        {
         "marker": {
          "color": "white"
         },
         "name": "",
         "type": "scatter",
         "uid": "63d0f583-6cb4-42cf-a65c-1b49530379a8",
         "x": [
          "2011-07-28",
          "2011-07-29"
         ],
         "y": [
          2,
          2
         ]
        },
        {
         "marker": {
          "color": "white"
         },
         "name": "",
         "type": "scatter",
         "uid": "7d1bcde1-24fb-4054-91ca-89f315ded07d",
         "x": [
          "2011-07-29",
          "2011-07-31"
         ],
         "y": [
          2,
          2
         ]
        },
        {
         "marker": {
          "color": "white"
         },
         "name": "",
         "type": "scatter",
         "uid": "83602740-2bb0-43ee-90d3-a71f139eb217",
         "x": [
          "2011-07-31",
          "2011-08-01"
         ],
         "y": [
          2,
          2
         ]
        },
        {
         "marker": {
          "color": "white"
         },
         "name": "",
         "type": "scatter",
         "uid": "170da01e-083a-47fc-9be3-c44fa51b57f3",
         "x": [
          "2011-08-01",
          "2011-08-03"
         ],
         "y": [
          2,
          2
         ]
        },
        {
         "marker": {
          "color": "white"
         },
         "name": "",
         "type": "scatter",
         "uid": "a476c1e9-40ec-4edd-a8f6-6e11cac62a74",
         "x": [
          "2011-08-03",
          "2011-08-04"
         ],
         "y": [
          2,
          2
         ]
        },
        {
         "marker": {
          "color": "white"
         },
         "name": "",
         "type": "scatter",
         "uid": "e46f7b4d-701c-4995-bae8-e132b80a5ebd",
         "x": [
          "2011-08-04",
          "2011-08-05"
         ],
         "y": [
          2,
          2
         ]
        },
        {
         "marker": {
          "color": "white"
         },
         "name": "",
         "type": "scatter",
         "uid": "428b7e05-29a3-464b-9071-56458fe192f0",
         "x": [
          "2011-08-05",
          "2011-08-06"
         ],
         "y": [
          2,
          2
         ]
        },
        {
         "marker": {
          "color": "white"
         },
         "name": "",
         "type": "scatter",
         "uid": "972ae724-3947-4d81-b8a6-5bb399983f1e",
         "x": [
          "2011-08-06",
          "2011-08-07"
         ],
         "y": [
          2,
          2
         ]
        },
        {
         "marker": {
          "color": "white"
         },
         "name": "",
         "type": "scatter",
         "uid": "4b908b02-208e-4f32-8b15-bd4fc9a8b1d0",
         "x": [
          "2011-08-07",
          "2011-08-08"
         ],
         "y": [
          2,
          2
         ]
        },
        {
         "marker": {
          "color": "white"
         },
         "name": "",
         "type": "scatter",
         "uid": "17a23237-2ea1-4472-9fb9-53398372449a",
         "x": [
          "2011-08-08",
          "2011-08-09"
         ],
         "y": [
          2,
          2
         ]
        },
        {
         "marker": {
          "color": "white"
         },
         "name": "",
         "type": "scatter",
         "uid": "f1a6df07-9cf7-4195-b775-a5731885039d",
         "x": [
          "2011-08-09",
          "2011-08-09"
         ],
         "y": [
          2,
          2
         ]
        },
        {
         "marker": {
          "color": "white"
         },
         "name": "",
         "type": "scatter",
         "uid": "f6915389-04e0-4cc3-9fd7-03021de2ffab",
         "x": [
          "2011-08-09",
          "2011-08-12"
         ],
         "y": [
          2,
          2
         ]
        },
        {
         "marker": {
          "color": "white"
         },
         "name": "",
         "type": "scatter",
         "uid": "9b94a770-b90d-4234-8a19-a55b8de51304",
         "x": [
          "2011-08-12",
          "2011-08-17"
         ],
         "y": [
          2,
          2
         ]
        },
        {
         "marker": {
          "color": "white"
         },
         "name": "",
         "type": "scatter",
         "uid": "531a891e-ac43-47b9-b73c-b5087fe070bd",
         "x": [
          "2011-08-17",
          "2011-08-19"
         ],
         "y": [
          2,
          2
         ]
        },
        {
         "marker": {
          "color": "white"
         },
         "name": "",
         "type": "scatter",
         "uid": "f2bcbcc9-2288-4c7f-b180-fae541db3f3b",
         "x": [
          "2011-08-19",
          "2011-08-20"
         ],
         "y": [
          2,
          2
         ]
        },
        {
         "marker": {
          "color": "white"
         },
         "name": "",
         "type": "scatter",
         "uid": "a8542f9c-327a-460c-be4c-498bc4f62dce",
         "x": [
          "2011-08-20",
          "2011-08-22"
         ],
         "y": [
          2,
          2
         ]
        },
        {
         "marker": {
          "color": "white"
         },
         "name": "",
         "type": "scatter",
         "uid": "7875b7ca-a4ff-48fc-ab70-be0965e09398",
         "x": [
          "2011-08-22",
          "2011-08-24"
         ],
         "y": [
          2,
          2
         ]
        },
        {
         "marker": {
          "color": "white"
         },
         "name": "",
         "type": "scatter",
         "uid": "9ab76ad2-679c-40ed-88fb-c1b65d6320b3",
         "x": [
          "2011-08-24",
          "2011-08-25"
         ],
         "y": [
          2,
          2
         ]
        },
        {
         "marker": {
          "color": "white"
         },
         "name": "",
         "type": "scatter",
         "uid": "59a626a7-f5a2-4448-b011-d5b4a9cd9f34",
         "x": [
          "2011-08-25",
          "2011-08-29"
         ],
         "y": [
          4,
          4
         ]
        },
        {
         "marker": {
          "color": "white"
         },
         "name": "",
         "type": "scatter",
         "uid": "7d755aad-a19f-4713-9428-52c43136608e",
         "x": [
          "2016-08-24",
          "2016-08-26"
         ],
         "y": [
          4,
          4
         ]
        },
        {
         "marker": {
          "color": "white"
         },
         "name": "",
         "type": "scatter",
         "uid": "321388f5-90ba-4591-8bad-8362acb15b69",
         "x": [
          "2016-08-26",
          "2016-08-27"
         ],
         "y": [
          4,
          4
         ]
        },
        {
         "marker": {
          "color": "white"
         },
         "name": "",
         "type": "scatter",
         "uid": "1b7b0400-13d7-404b-9de1-d8d31cfb849f",
         "x": [
          "2016-08-27",
          "2016-08-28"
         ],
         "y": [
          4,
          4
         ]
        },
        {
         "marker": {
          "color": "white"
         },
         "name": "",
         "type": "scatter",
         "uid": "a823f1ea-00cc-4744-a615-abf579d6fdd6",
         "x": [
          "2016-08-28",
          "2016-09-05"
         ],
         "y": [
          4,
          4
         ]
        },
        {
         "marker": {
          "color": "white"
         },
         "name": "",
         "type": "scatter",
         "uid": "37bf05c1-8bf4-4f2a-a1dc-9ffca8d447af",
         "x": [
          "2016-09-05",
          "2016-09-10"
         ],
         "y": [
          4,
          4
         ]
        },
        {
         "marker": {
          "color": "white"
         },
         "name": "",
         "type": "scatter",
         "uid": "239d3867-96ce-4db2-b819-722db2612db2",
         "x": [
          "2016-09-10",
          "2016-09-15"
         ],
         "y": [
          4,
          4
         ]
        },
        {
         "marker": {
          "color": "white"
         },
         "name": "",
         "type": "scatter",
         "uid": "796a0d3b-401f-4cd1-9edd-6b937cb5ea66",
         "x": [
          "2016-09-15",
          "2016-09-16"
         ],
         "y": [
          4,
          4
         ]
        },
        {
         "marker": {
          "color": "white"
         },
         "name": "",
         "type": "scatter",
         "uid": "89b622ce-5000-413a-98fe-60956c246cfe",
         "x": [
          "2016-09-16",
          "2016-09-17"
         ],
         "y": [
          4,
          4
         ]
        },
        {
         "marker": {
          "color": "white"
         },
         "name": "",
         "type": "scatter",
         "uid": "32301266-5710-4bce-9695-4ea981f0216a",
         "x": [
          "2016-09-17",
          "2016-09-24"
         ],
         "y": [
          4,
          4
         ]
        },
        {
         "marker": {
          "color": "white"
         },
         "name": "",
         "type": "scatter",
         "uid": "db53f878-d78f-4f55-ab09-db4aec715580",
         "x": [
          "2016-09-24",
          "2016-09-24"
         ],
         "y": [
          4,
          4
         ]
        },
        {
         "marker": {
          "color": "white"
         },
         "name": "",
         "type": "scatter",
         "uid": "94ad77f3-d6c6-49c5-b8fd-f2a82db41a8d",
         "x": [
          "2016-09-24",
          "2016-09-25"
         ],
         "y": [
          4,
          4
         ]
        },
        {
         "marker": {
          "color": "white"
         },
         "name": "",
         "type": "scatter",
         "uid": "b926cf51-0fc4-4511-a99d-dc47e8455456",
         "x": [
          "2016-09-25",
          "2016-09-27"
         ],
         "y": [
          4,
          4
         ]
        },
        {
         "marker": {
          "color": "white"
         },
         "name": "",
         "type": "scatter",
         "uid": "07537442-15c7-4a38-ac00-875dd1dd4cb7",
         "x": [
          "2016-09-27",
          "2016-09-29"
         ],
         "y": [
          2,
          2
         ]
        },
        {
         "marker": {
          "color": "white"
         },
         "name": "",
         "type": "scatter",
         "uid": "d1c693d6-126b-454a-ae52-1d7dc82996c2",
         "x": [
          "2014-07-19",
          "2014-07-21"
         ],
         "y": [
          4,
          4
         ]
        },
        {
         "marker": {
          "color": "white"
         },
         "name": "",
         "type": "scatter",
         "uid": "79ff5058-74df-4022-8811-2fafb2753719",
         "x": [
          "2014-07-21",
          "2014-07-21"
         ],
         "y": [
          4,
          4
         ]
        },
        {
         "marker": {
          "color": "white"
         },
         "name": "",
         "type": "scatter",
         "uid": "1a260b5f-0b62-4ac7-9ff3-4a316c13aac1",
         "x": [
          "2014-07-21",
          "2014-07-23"
         ],
         "y": [
          4,
          4
         ]
        },
        {
         "marker": {
          "color": "white"
         },
         "name": "",
         "type": "scatter",
         "uid": "a98ac195-91c2-4ec9-800b-78208c1ea5f2",
         "x": [
          "2014-07-23",
          "2014-07-26"
         ],
         "y": [
          4,
          4
         ]
        },
        {
         "marker": {
          "color": "white"
         },
         "name": "",
         "type": "scatter",
         "uid": "c5e1f759-7149-41d8-a38c-7067434f0a72",
         "x": [
          "2014-07-26",
          "2014-07-29"
         ],
         "y": [
          4,
          4
         ]
        },
        {
         "marker": {
          "color": "white"
         },
         "name": "",
         "type": "scatter",
         "uid": "c985dbf5-1cfe-4463-8fd3-a4ee96bb6c78",
         "x": [
          "2014-07-29",
          "2014-07-29"
         ],
         "y": [
          4,
          4
         ]
        },
        {
         "marker": {
          "color": "white"
         },
         "name": "",
         "type": "scatter",
         "uid": "897d58a4-0ad9-4093-b436-67edea8445de",
         "x": [
          "2014-07-29",
          "2014-07-29"
         ],
         "y": [
          4,
          4
         ]
        },
        {
         "marker": {
          "color": "white"
         },
         "name": "",
         "type": "scatter",
         "uid": "766112b4-4858-48bf-8d3a-9ea3121d54d5",
         "x": [
          "2014-07-29",
          "2014-08-02"
         ],
         "y": [
          4,
          4
         ]
        },
        {
         "marker": {
          "color": "white"
         },
         "name": "",
         "type": "scatter",
         "uid": "21f82b49-dfa5-4c01-bda4-433bafef76e7",
         "x": [
          "2014-08-02",
          "2014-08-05"
         ],
         "y": [
          4,
          4
         ]
        },
        {
         "marker": {
          "color": "white"
         },
         "name": "",
         "type": "scatter",
         "uid": "13f0dbd1-fed2-4dee-bcd9-ff5e014e3798",
         "x": [
          "2014-08-05",
          "2014-08-06"
         ],
         "y": [
          4,
          4
         ]
        },
        {
         "marker": {
          "color": "white"
         },
         "name": "",
         "type": "scatter",
         "uid": "07441bd4-14b9-4c5e-8a56-2525ac041be3",
         "x": [
          "2014-08-06",
          "2014-08-12"
         ],
         "y": [
          4,
          4
         ]
        },
        {
         "marker": {
          "color": "white"
         },
         "name": "",
         "type": "scatter",
         "uid": "1578ae2f-97c1-4477-9055-f08d3889398b",
         "x": [
          "2014-08-12",
          "2014-08-15"
         ],
         "y": [
          4,
          4
         ]
        },
        {
         "marker": {
          "color": "white"
         },
         "name": "",
         "type": "scatter",
         "uid": "02962e8f-1131-4374-8af5-a2805512b393",
         "x": [
          "2014-08-15",
          "2014-08-16"
         ],
         "y": [
          4,
          4
         ]
        },
        {
         "marker": {
          "color": "white"
         },
         "name": "",
         "type": "scatter",
         "uid": "1bfbbcfe-fe59-4430-a154-6d1ec9884df9",
         "x": [
          "2014-08-16",
          "2014-08-18"
         ],
         "y": [
          4,
          4
         ]
        },
        {
         "marker": {
          "color": "white"
         },
         "name": "",
         "type": "scatter",
         "uid": "9bfaa76e-f673-49a1-aab8-d94a08de4732",
         "x": [
          "2014-08-18",
          "2014-08-20"
         ],
         "y": [
          4,
          4
         ]
        },
        {
         "marker": {
          "color": "white"
         },
         "name": "",
         "type": "scatter",
         "uid": "b8ab7042-36da-408b-8755-336a83ae3203",
         "x": [
          "2014-08-20",
          "2014-08-22"
         ],
         "y": [
          4,
          4
         ]
        },
        {
         "marker": {
          "color": "white"
         },
         "name": "",
         "type": "scatter",
         "uid": "b3d070d5-d7e0-4ee0-9285-e78d22e7a239",
         "x": [
          "2014-08-22",
          "2014-08-22"
         ],
         "y": [
          4,
          4
         ]
        },
        {
         "marker": {
          "color": "white"
         },
         "name": "",
         "type": "scatter",
         "uid": "e12abc81-b844-4dea-9319-9aad5a65ed2e",
         "x": [
          "2014-08-22",
          "2014-08-25"
         ],
         "y": [
          4,
          4
         ]
        },
        {
         "marker": {
          "color": "white"
         },
         "name": "",
         "type": "scatter",
         "uid": "a125f8b0-2026-4543-8938-2f90d71711dc",
         "x": [
          "2014-08-25",
          "2014-08-26"
         ],
         "y": [
          4,
          4
         ]
        },
        {
         "marker": {
          "color": "white"
         },
         "name": "",
         "type": "scatter",
         "uid": "5433f018-8eb3-4014-bf89-ffe09822ada0",
         "x": [
          "2014-08-26",
          "2014-08-28"
         ],
         "y": [
          4,
          4
         ]
        },
        {
         "marker": {
          "color": "white"
         },
         "name": "",
         "type": "scatter",
         "uid": "d3cbe034-dd55-4d30-85b0-2b439c7d44bd",
         "x": [
          "2013-12-28",
          "2014-01-04"
         ],
         "y": [
          4,
          4
         ]
        },
        {
         "marker": {
          "color": "white"
         },
         "name": "",
         "type": "scatter",
         "uid": "80099400-45ba-4a97-97e6-49ee16ef3516",
         "x": [
          "2015-07-15",
          "2015-07-18"
         ],
         "y": [
          4,
          4
         ]
        },
        {
         "marker": {
          "color": "white"
         },
         "name": "",
         "type": "scatter",
         "uid": "60e6ea1b-9140-4900-bdc0-bd50262ea3e9",
         "x": [
          "2015-07-18",
          "2015-07-20"
         ],
         "y": [
          4,
          4
         ]
        },
        {
         "marker": {
          "color": "white"
         },
         "name": "",
         "type": "scatter",
         "uid": "1be7b6c7-89e7-4b77-9f0f-fe728dfacfb4",
         "x": [
          "2015-07-20",
          "2015-07-23"
         ],
         "y": [
          4,
          4
         ]
        },
        {
         "marker": {
          "color": "white"
         },
         "name": "",
         "type": "scatter",
         "uid": "7acef206-6862-42c9-893b-7dbb055be826",
         "x": [
          "2015-07-23",
          "2015-07-25"
         ],
         "y": [
          4,
          4
         ]
        },
        {
         "marker": {
          "color": "white"
         },
         "name": "",
         "type": "scatter",
         "uid": "69f2d2d4-4e43-425b-a41e-8f4de002a541",
         "x": [
          "2015-07-25",
          "2015-08-01"
         ],
         "y": [
          4,
          4
         ]
        },
        {
         "marker": {
          "color": "white"
         },
         "name": "",
         "type": "scatter",
         "uid": "a9124503-0f59-4823-8218-a5d530001eb1",
         "x": [
          "2015-08-01",
          "2015-08-02"
         ],
         "y": [
          4,
          4
         ]
        },
        {
         "marker": {
          "color": "white"
         },
         "name": "",
         "type": "scatter",
         "uid": "92e6c44c-bf44-4114-8af4-6471c7007dea",
         "x": [
          "2014-12-27",
          "2015-01-03"
         ],
         "y": [
          4,
          4
         ]
        },
        {
         "marker": {
          "color": "white"
         },
         "name": "",
         "type": "scatter",
         "uid": "561a3b8c-065a-4a33-aa11-4bfac44e5d3a",
         "x": [
          "2015-01-18",
          "2015-01-23"
         ],
         "y": [
          4,
          4
         ]
        },
        {
         "marker": {
          "color": "white"
         },
         "name": "",
         "type": "scatter",
         "uid": "3198d0df-7236-47a3-ab7c-4fb8d956854a",
         "x": [
          "2017-05-26",
          "2017-05-26"
         ],
         "y": [
          2,
          2
         ]
        },
        {
         "marker": {
          "color": "white"
         },
         "name": "",
         "type": "scatter",
         "uid": "7e267be0-2221-460b-b542-1c35555d8a79",
         "x": [
          "2017-05-26",
          "2017-05-31"
         ],
         "y": [
          2,
          2
         ]
        },
        {
         "marker": {
          "color": "white"
         },
         "name": "",
         "type": "scatter",
         "uid": "782c0d79-ddc9-4b9d-9776-d7eb9f23eb70",
         "x": [
          "2017-05-31",
          "2017-06-03"
         ],
         "y": [
          2,
          2
         ]
        },
        {
         "marker": {
          "color": "white"
         },
         "name": "",
         "type": "scatter",
         "uid": "0b4aea84-8880-47dc-802c-10199b0348c6",
         "x": [
          "2017-06-03",
          "2017-06-05"
         ],
         "y": [
          2,
          2
         ]
        },
        {
         "marker": {
          "color": "white"
         },
         "name": "",
         "type": "scatter",
         "uid": "3f8e29db-c388-4a9a-822f-e2dbb8dfc204",
         "x": [
          "2017-06-05",
          "2017-06-08"
         ],
         "y": [
          2,
          2
         ]
        },
        {
         "marker": {
          "color": "white"
         },
         "name": "",
         "type": "scatter",
         "uid": "d4413403-bc3a-4d22-94df-db77157ae492",
         "x": [
          "2017-06-08",
          "2017-06-10"
         ],
         "y": [
          2,
          2
         ]
        },
        {
         "marker": {
          "color": "white"
         },
         "name": "",
         "type": "scatter",
         "uid": "f9a3d2ad-2f38-4fc6-a7d2-a7d4fd482e71",
         "x": [
          "2017-06-10",
          "2017-06-11"
         ],
         "y": [
          2,
          2
         ]
        },
        {
         "marker": {
          "color": "white"
         },
         "name": "",
         "type": "scatter",
         "uid": "b7ba3e7c-d921-46b0-881f-58c52dfb4752",
         "x": [
          "2017-06-11",
          "2017-06-11"
         ],
         "y": [
          2,
          2
         ]
        },
        {
         "marker": {
          "color": "white"
         },
         "name": "",
         "type": "scatter",
         "uid": "74e042a9-07fc-4beb-87f2-43c6fd4d910c",
         "x": [
          "2017-06-11",
          "2017-06-12"
         ],
         "y": [
          2,
          2
         ]
        },
        {
         "marker": {
          "color": "white"
         },
         "name": "",
         "type": "scatter",
         "uid": "4503a80f-a6ae-4cf0-b474-dfb4f855c4c3",
         "x": [
          "2018-03-17",
          "2018-03-24"
         ],
         "y": [
          4,
          4
         ]
        },
        {
         "marker": {
          "color": "white"
         },
         "name": "",
         "type": "scatter",
         "uid": "130eb4ee-68d8-4582-a4dd-cbc65d17e1c1",
         "x": [
          "2017-12-27",
          "2017-12-27"
         ],
         "y": [
          4,
          4
         ]
        },
        {
         "marker": {
          "color": "white"
         },
         "name": "",
         "type": "scatter",
         "uid": "2f393909-130d-405b-a60c-cea6c279ab07",
         "x": [
          "2017-12-27",
          "2017-12-28"
         ],
         "y": [
          4,
          4
         ]
        },
        {
         "marker": {
          "color": "white"
         },
         "name": "",
         "type": "scatter",
         "uid": "4993db2c-73e8-4e3e-b412-f0441e3589c9",
         "x": [
          "2017-12-28",
          "2017-12-29"
         ],
         "y": [
          4,
          4
         ]
        },
        {
         "marker": {
          "color": "white"
         },
         "name": "",
         "type": "scatter",
         "uid": "d68f1ace-9ddd-4393-b0ce-adeb8399a865",
         "x": [
          "2017-12-29",
          "2017-12-30"
         ],
         "y": [
          4,
          4
         ]
        },
        {
         "marker": {
          "color": "white"
         },
         "name": "",
         "type": "scatter",
         "uid": "e0cdd992-a855-44f7-9482-d3d8afaa1092",
         "x": [
          "2017-12-30",
          "2017-12-31"
         ],
         "y": [
          4,
          4
         ]
        },
        {
         "marker": {
          "color": "white"
         },
         "name": "",
         "type": "scatter",
         "uid": "e8c1d3ce-1934-4e4f-b3d6-bf59bf8ec554",
         "x": [
          "2017-12-31",
          "2018-01-01"
         ],
         "y": [
          4,
          4
         ]
        },
        {
         "marker": {
          "color": "white"
         },
         "name": "",
         "type": "scatter",
         "uid": "521e091d-e7c9-4720-ae67-0eb4f8c7619d",
         "x": [
          "2018-01-01",
          "2018-01-02"
         ],
         "y": [
          4,
          4
         ]
        },
        {
         "marker": {
          "color": "white"
         },
         "name": "",
         "type": "scatter",
         "uid": "431ed70b-9504-46b1-8b73-fe48334fff73",
         "x": [
          "2018-01-02",
          "2018-01-02"
         ],
         "y": [
          4,
          4
         ]
        },
        {
         "marker": {
          "color": "white"
         },
         "name": "",
         "type": "scatter",
         "uid": "4ada94dd-41be-4a03-a0ec-60c6a1084b82",
         "x": [
          "2018-01-02",
          "2018-01-03"
         ],
         "y": [
          4,
          4
         ]
        },
        {
         "marker": {
          "color": "white"
         },
         "name": "",
         "type": "scatter",
         "uid": "60272528-b367-4515-bf07-4d266bc32e21",
         "x": [
          "2018-01-03",
          "2018-01-03"
         ],
         "y": [
          4,
          4
         ]
        },
        {
         "marker": {
          "color": "white"
         },
         "name": "",
         "type": "scatter",
         "uid": "666d263b-dffb-4bb4-a8df-56875c76792e",
         "x": [
          "2018-01-03",
          "2018-01-04"
         ],
         "y": [
          4,
          4
         ]
        },
        {
         "marker": {
          "color": "white"
         },
         "name": "",
         "type": "scatter",
         "uid": "b219daa6-e389-4026-a2ca-eb7f422eef84",
         "x": [
          "2018-01-04",
          "2018-01-04"
         ],
         "y": [
          4,
          4
         ]
        },
        {
         "marker": {
          "color": "white"
         },
         "name": "",
         "type": "scatter",
         "uid": "b74aa02d-9b46-48a8-9854-aa3740cb5484",
         "x": [
          "2018-01-04",
          "2018-01-05"
         ],
         "y": [
          4,
          4
         ]
        },
        {
         "marker": {
          "color": "white"
         },
         "name": "",
         "type": "scatter",
         "uid": "6404e2b3-2607-4f9f-baa1-3af44fbd5ee0",
         "x": [
          "2018-01-05",
          "2018-01-05"
         ],
         "y": [
          4,
          4
         ]
        },
        {
         "marker": {
          "color": "white"
         },
         "name": "",
         "type": "scatter",
         "uid": "966c93c0-786b-4a53-943e-e240e2a97d76",
         "x": [
          "2018-01-05",
          "2018-01-06"
         ],
         "y": [
          4,
          4
         ]
        },
        {
         "marker": {
          "color": "white"
         },
         "name": "",
         "type": "scatter",
         "uid": "116e2434-a065-4e13-9467-0aecda8135de",
         "x": [
          "2018-01-06",
          "2018-01-06"
         ],
         "y": [
          4,
          4
         ]
        },
        {
         "marker": {
          "color": "white"
         },
         "name": "",
         "type": "scatter",
         "uid": "58981050-6d6e-405d-ac11-61769f75df10",
         "x": [
          "2018-01-06",
          "2018-01-07"
         ],
         "y": [
          4,
          4
         ]
        }
       ],
       "layout": {
        "height": 600,
        "hovermode": "closest",
        "shapes": [
         {
          "fillcolor": "rgb(214, 39, 40)",
          "line": {
           "width": 0
          },
          "opacity": 1,
          "type": "rect",
          "x0": "2019-03-02",
          "x1": "2019-03-09",
          "xref": "x",
          "y0": 3.8,
          "y1": 4.2,
          "yref": "y"
         },
         {
          "fillcolor": "rgb(214, 39, 40)",
          "line": {
           "width": 0
          },
          "opacity": 1,
          "type": "rect",
          "x0": "2018-06-17",
          "x1": "2018-06-19",
          "xref": "x",
          "y0": 3.8,
          "y1": 4.2,
          "yref": "y"
         },
         {
          "fillcolor": "rgb(214, 39, 40)",
          "line": {
           "width": 0
          },
          "opacity": 1,
          "type": "rect",
          "x0": "2018-06-19",
          "x1": "2018-06-25",
          "xref": "x",
          "y0": 3.8,
          "y1": 4.2,
          "yref": "y"
         },
         {
          "fillcolor": "rgb(214, 39, 40)",
          "line": {
           "width": 0
          },
          "opacity": 1,
          "type": "rect",
          "x0": "2018-06-25",
          "x1": "2018-06-30",
          "xref": "x",
          "y0": 3.8,
          "y1": 4.2,
          "yref": "y"
         },
         {
          "fillcolor": "rgb(214, 39, 40)",
          "line": {
           "width": 0
          },
          "opacity": 1,
          "type": "rect",
          "x0": "2018-06-30",
          "x1": "2018-07-01",
          "xref": "x",
          "y0": 3.8,
          "y1": 4.2,
          "yref": "y"
         },
         {
          "fillcolor": "rgb(214, 39, 40)",
          "line": {
           "width": 0
          },
          "opacity": 1,
          "type": "rect",
          "x0": "2018-07-01",
          "x1": "2018-07-03",
          "xref": "x",
          "y0": 3.8,
          "y1": 4.2,
          "yref": "y"
         },
         {
          "fillcolor": "rgb(214, 39, 40)",
          "line": {
           "width": 0
          },
          "opacity": 1,
          "type": "rect",
          "x0": "2018-07-03",
          "x1": "2018-07-06",
          "xref": "x",
          "y0": 3.8,
          "y1": 4.2,
          "yref": "y"
         },
         {
          "fillcolor": "rgb(214, 39, 40)",
          "line": {
           "width": 0
          },
          "opacity": 1,
          "type": "rect",
          "x0": "2018-07-06",
          "x1": "2018-07-06",
          "xref": "x",
          "y0": 3.8,
          "y1": 4.2,
          "yref": "y"
         },
         {
          "fillcolor": "rgb(214, 39, 40)",
          "line": {
           "width": 0
          },
          "opacity": 1,
          "type": "rect",
          "x0": "2018-07-06",
          "x1": "2018-07-07",
          "xref": "x",
          "y0": 3.8,
          "y1": 4.2,
          "yref": "y"
         },
         {
          "fillcolor": "rgb(214, 39, 40)",
          "line": {
           "width": 0
          },
          "opacity": 1,
          "type": "rect",
          "x0": "2018-07-07",
          "x1": "2018-07-08",
          "xref": "x",
          "y0": 3.8,
          "y1": 4.2,
          "yref": "y"
         },
         {
          "fillcolor": "rgb(214, 39, 40)",
          "line": {
           "width": 0
          },
          "opacity": 1,
          "type": "rect",
          "x0": "2018-07-08",
          "x1": "2018-07-12",
          "xref": "x",
          "y0": 3.8,
          "y1": 4.2,
          "yref": "y"
         },
         {
          "fillcolor": "rgb(214, 39, 40)",
          "line": {
           "width": 0
          },
          "opacity": 1,
          "type": "rect",
          "x0": "2018-07-12",
          "x1": "2018-07-15",
          "xref": "x",
          "y0": 3.8,
          "y1": 4.2,
          "yref": "y"
         },
         {
          "fillcolor": "rgb(214, 39, 40)",
          "line": {
           "width": 0
          },
          "opacity": 1,
          "type": "rect",
          "x0": "2018-07-15",
          "x1": "2018-07-17",
          "xref": "x",
          "y0": 3.8,
          "y1": 4.2,
          "yref": "y"
         },
         {
          "fillcolor": "rgb(214, 39, 40)",
          "line": {
           "width": 0
          },
          "opacity": 1,
          "type": "rect",
          "x0": "2018-07-17",
          "x1": "2018-07-18",
          "xref": "x",
          "y0": 3.8,
          "y1": 4.2,
          "yref": "y"
         },
         {
          "fillcolor": "rgb(214, 39, 40)",
          "line": {
           "width": 0
          },
          "opacity": 1,
          "type": "rect",
          "x0": "2018-07-18",
          "x1": "2018-07-20",
          "xref": "x",
          "y0": 3.8,
          "y1": 4.2,
          "yref": "y"
         },
         {
          "fillcolor": "rgb(214, 39, 40)",
          "line": {
           "width": 0
          },
          "opacity": 1,
          "type": "rect",
          "x0": "2018-07-20",
          "x1": "2018-07-24",
          "xref": "x",
          "y0": 3.8,
          "y1": 4.2,
          "yref": "y"
         },
         {
          "fillcolor": "rgb(214, 39, 40)",
          "line": {
           "width": 0
          },
          "opacity": 1,
          "type": "rect",
          "x0": "2018-07-24",
          "x1": "2018-07-27",
          "xref": "x",
          "y0": 3.8,
          "y1": 4.2,
          "yref": "y"
         },
         {
          "fillcolor": "rgb(214, 39, 40)",
          "line": {
           "width": 0
          },
          "opacity": 1,
          "type": "rect",
          "x0": "2018-07-27",
          "x1": "2018-07-29",
          "xref": "x",
          "y0": 3.8,
          "y1": 4.2,
          "yref": "y"
         },
         {
          "fillcolor": "rgb(214, 39, 40)",
          "line": {
           "width": 0
          },
          "opacity": 1,
          "type": "rect",
          "x0": "2018-07-29",
          "x1": "2018-08-01",
          "xref": "x",
          "y0": 3.8,
          "y1": 4.2,
          "yref": "y"
         },
         {
          "fillcolor": "rgb(214, 39, 40)",
          "line": {
           "width": 0
          },
          "opacity": 1,
          "type": "rect",
          "x0": "2018-08-01",
          "x1": "2018-08-04",
          "xref": "x",
          "y0": 3.8,
          "y1": 4.2,
          "yref": "y"
         },
         {
          "fillcolor": "rgb(214, 39, 40)",
          "line": {
           "width": 0
          },
          "opacity": 1,
          "type": "rect",
          "x0": "2018-08-04",
          "x1": "2018-08-08",
          "xref": "x",
          "y0": 3.8,
          "y1": 4.2,
          "yref": "y"
         },
         {
          "fillcolor": "rgb(214, 39, 40)",
          "line": {
           "width": 0
          },
          "opacity": 1,
          "type": "rect",
          "x0": "2018-08-08",
          "x1": "2018-08-12",
          "xref": "x",
          "y0": 3.8,
          "y1": 4.2,
          "yref": "y"
         },
         {
          "fillcolor": "rgb(214, 39, 40)",
          "line": {
           "width": 0
          },
          "opacity": 1,
          "type": "rect",
          "x0": "2018-08-12",
          "x1": "2018-08-13",
          "xref": "x",
          "y0": 3.8,
          "y1": 4.2,
          "yref": "y"
         },
         {
          "fillcolor": "rgb(214, 39, 40)",
          "line": {
           "width": 0
          },
          "opacity": 1,
          "type": "rect",
          "x0": "2018-08-13",
          "x1": "2018-08-20",
          "xref": "x",
          "y0": 3.8,
          "y1": 4.2,
          "yref": "y"
         },
         {
          "fillcolor": "rgb(214, 39, 40)",
          "line": {
           "width": 0
          },
          "opacity": 1,
          "type": "rect",
          "x0": "2018-08-20",
          "x1": "2018-08-22",
          "xref": "x",
          "y0": 3.8,
          "y1": 4.2,
          "yref": "y"
         },
         {
          "fillcolor": "rgb(214, 39, 40)",
          "line": {
           "width": 0
          },
          "opacity": 1,
          "type": "rect",
          "x0": "2018-08-22",
          "x1": "2018-08-30",
          "xref": "x",
          "y0": 3.8,
          "y1": 4.2,
          "yref": "y"
         },
         {
          "fillcolor": "rgb(214, 39, 40)",
          "line": {
           "width": 0
          },
          "opacity": 1,
          "type": "rect",
          "x0": "2018-08-30",
          "x1": "2018-09-01",
          "xref": "x",
          "y0": 3.8,
          "y1": 4.2,
          "yref": "y"
         },
         {
          "fillcolor": "rgb(214, 39, 40)",
          "line": {
           "width": 0
          },
          "opacity": 1,
          "type": "rect",
          "x0": "2018-09-01",
          "x1": "2018-09-17",
          "xref": "x",
          "y0": 3.8,
          "y1": 4.2,
          "yref": "y"
         },
         {
          "fillcolor": "rgb(214, 39, 40)",
          "line": {
           "width": 0
          },
          "opacity": 1,
          "type": "rect",
          "x0": "2018-09-17",
          "x1": "2018-09-18",
          "xref": "x",
          "y0": 3.8,
          "y1": 4.2,
          "yref": "y"
         },
         {
          "fillcolor": "rgb(214, 39, 40)",
          "line": {
           "width": 0
          },
          "opacity": 1,
          "type": "rect",
          "x0": "2018-09-18",
          "x1": "2018-09-23",
          "xref": "x",
          "y0": 3.8,
          "y1": 4.2,
          "yref": "y"
         },
         {
          "fillcolor": "rgb(214, 39, 40)",
          "line": {
           "width": 0
          },
          "opacity": 1,
          "type": "rect",
          "x0": "2018-09-23",
          "x1": "2018-09-27",
          "xref": "x",
          "y0": 3.8,
          "y1": 4.2,
          "yref": "y"
         },
         {
          "fillcolor": "rgb(214, 39, 40)",
          "line": {
           "width": 0
          },
          "opacity": 1,
          "type": "rect",
          "x0": "2018-09-27",
          "x1": "2018-09-29",
          "xref": "x",
          "y0": 3.8,
          "y1": 4.2,
          "yref": "y"
         },
         {
          "fillcolor": "rgb(214, 39, 40)",
          "line": {
           "width": 0
          },
          "opacity": 1,
          "type": "rect",
          "x0": "2018-09-29",
          "x1": "2018-09-30",
          "xref": "x",
          "y0": 3.8,
          "y1": 4.2,
          "yref": "y"
         },
         {
          "fillcolor": "rgb(214, 39, 40)",
          "line": {
           "width": 0
          },
          "opacity": 1,
          "type": "rect",
          "x0": "2018-09-30",
          "x1": "2018-10-01",
          "xref": "x",
          "y0": 3.8,
          "y1": 4.2,
          "yref": "y"
         },
         {
          "fillcolor": "rgb(214, 39, 40)",
          "line": {
           "width": 0
          },
          "opacity": 1,
          "type": "rect",
          "x0": "2018-10-01",
          "x1": "2018-10-03",
          "xref": "x",
          "y0": 3.8,
          "y1": 4.2,
          "yref": "y"
         },
         {
          "fillcolor": "rgb(214, 39, 40)",
          "line": {
           "width": 0
          },
          "opacity": 1,
          "type": "rect",
          "x0": "2018-10-03",
          "x1": "2018-10-04",
          "xref": "x",
          "y0": 3.8,
          "y1": 4.2,
          "yref": "y"
         },
         {
          "fillcolor": "rgb(214, 39, 40)",
          "line": {
           "width": 0
          },
          "opacity": 1,
          "type": "rect",
          "x0": "2018-10-04",
          "x1": "2018-10-05",
          "xref": "x",
          "y0": 3.8,
          "y1": 4.2,
          "yref": "y"
         },
         {
          "fillcolor": "rgb(214, 39, 40)",
          "line": {
           "width": 0
          },
          "opacity": 1,
          "type": "rect",
          "x0": "2018-10-05",
          "x1": "2018-10-06",
          "xref": "x",
          "y0": 3.8,
          "y1": 4.2,
          "yref": "y"
         },
         {
          "fillcolor": "rgb(214, 39, 40)",
          "line": {
           "width": 0
          },
          "opacity": 1,
          "type": "rect",
          "x0": "2018-10-06",
          "x1": "2018-10-09",
          "xref": "x",
          "y0": 3.8,
          "y1": 4.2,
          "yref": "y"
         },
         {
          "fillcolor": "rgb(214, 39, 40)",
          "line": {
           "width": 0
          },
          "opacity": 1,
          "type": "rect",
          "x0": "2018-10-09",
          "x1": "2018-10-12",
          "xref": "x",
          "y0": 3.8,
          "y1": 4.2,
          "yref": "y"
         },
         {
          "fillcolor": "rgb(214, 39, 40)",
          "line": {
           "width": 0
          },
          "opacity": 1,
          "type": "rect",
          "x0": "2018-10-12",
          "x1": "2018-10-14",
          "xref": "x",
          "y0": 3.8,
          "y1": 4.2,
          "yref": "y"
         },
         {
          "fillcolor": "rgb(214, 39, 40)",
          "line": {
           "width": 0
          },
          "opacity": 1,
          "type": "rect",
          "x0": "2018-10-14",
          "x1": "2018-10-16",
          "xref": "x",
          "y0": 3.8,
          "y1": 4.2,
          "yref": "y"
         },
         {
          "fillcolor": "rgb(214, 39, 40)",
          "line": {
           "width": 0
          },
          "opacity": 1,
          "type": "rect",
          "x0": "2018-10-16",
          "x1": "2018-10-19",
          "xref": "x",
          "y0": 3.8,
          "y1": 4.2,
          "yref": "y"
         },
         {
          "fillcolor": "rgb(214, 39, 40)",
          "line": {
           "width": 0
          },
          "opacity": 1,
          "type": "rect",
          "x0": "2018-10-19",
          "x1": "2018-10-20",
          "xref": "x",
          "y0": 3.8,
          "y1": 4.2,
          "yref": "y"
         },
         {
          "fillcolor": "rgb(214, 39, 40)",
          "line": {
           "width": 0
          },
          "opacity": 1,
          "type": "rect",
          "x0": "2018-10-20",
          "x1": "2018-10-21",
          "xref": "x",
          "y0": 3.8,
          "y1": 4.2,
          "yref": "y"
         },
         {
          "fillcolor": "rgb(214, 39, 40)",
          "line": {
           "width": 0
          },
          "opacity": 1,
          "type": "rect",
          "x0": "2018-10-21",
          "x1": "2018-10-23",
          "xref": "x",
          "y0": 3.8,
          "y1": 4.2,
          "yref": "y"
         },
         {
          "fillcolor": "rgb(214, 39, 40)",
          "line": {
           "width": 0
          },
          "opacity": 1,
          "type": "rect",
          "x0": "2018-10-23",
          "x1": "2018-10-26",
          "xref": "x",
          "y0": 3.8,
          "y1": 4.2,
          "yref": "y"
         },
         {
          "fillcolor": "rgb(31, 119, 180)",
          "line": {
           "width": 0
          },
          "opacity": 1,
          "type": "rect",
          "x0": "2018-11-26",
          "x1": "2018-11-27",
          "xref": "x",
          "y0": 2.8,
          "y1": 3.2,
          "yref": "y"
         },
         {
          "fillcolor": "rgb(31, 119, 180)",
          "line": {
           "width": 0
          },
          "opacity": 1,
          "type": "rect",
          "x0": "2018-11-27",
          "x1": "2018-11-28",
          "xref": "x",
          "y0": 2.8,
          "y1": 3.2,
          "yref": "y"
         },
         {
          "fillcolor": "rgb(31, 119, 180)",
          "line": {
           "width": 0
          },
          "opacity": 1,
          "type": "rect",
          "x0": "2018-11-28",
          "x1": "2018-12-01",
          "xref": "x",
          "y0": 2.8,
          "y1": 3.2,
          "yref": "y"
         },
         {
          "fillcolor": "rgb(214, 39, 40)",
          "line": {
           "width": 0
          },
          "opacity": 1,
          "type": "rect",
          "x0": "2010-08-01",
          "x1": "2010-08-16",
          "xref": "x",
          "y0": 3.8,
          "y1": 4.2,
          "yref": "y"
         },
         {
          "fillcolor": "rgb(214, 39, 40)",
          "line": {
           "width": 0
          },
          "opacity": 1,
          "type": "rect",
          "x0": "2003-08-10",
          "x1": "2003-08-25",
          "xref": "x",
          "y0": 3.8,
          "y1": 4.2,
          "yref": "y"
         },
         {
          "fillcolor": "rgb(214, 39, 40)",
          "line": {
           "width": 0
          },
          "opacity": 1,
          "type": "rect",
          "x0": "2004-08-14",
          "x1": "2004-08-15",
          "xref": "x",
          "y0": 3.8,
          "y1": 4.2,
          "yref": "y"
         },
         {
          "fillcolor": "rgb(214, 39, 40)",
          "line": {
           "width": 0
          },
          "opacity": 1,
          "type": "rect",
          "x0": "2004-08-15",
          "x1": "2004-08-28",
          "xref": "x",
          "y0": 3.8,
          "y1": 4.2,
          "yref": "y"
         },
         {
          "fillcolor": "rgb(214, 39, 40)",
          "line": {
           "width": 0
          },
          "opacity": 1,
          "type": "rect",
          "x0": "2005-08-13",
          "x1": "2005-08-27",
          "xref": "x",
          "y0": 3.8,
          "y1": 4.2,
          "yref": "y"
         },
         {
          "fillcolor": "rgb(214, 39, 40)",
          "line": {
           "width": 0
          },
          "opacity": 1,
          "type": "rect",
          "x0": "2006-08-13",
          "x1": "2006-08-26",
          "xref": "x",
          "y0": 3.8,
          "y1": 4.2,
          "yref": "y"
         },
         {
          "fillcolor": "rgb(214, 39, 40)",
          "line": {
           "width": 0
          },
          "opacity": 1,
          "type": "rect",
          "x0": "2008-03-22",
          "x1": "2008-04-02",
          "xref": "x",
          "y0": 3.8,
          "y1": 4.2,
          "yref": "y"
         },
         {
          "fillcolor": "rgb(214, 39, 40)",
          "line": {
           "width": 0
          },
          "opacity": 1,
          "type": "rect",
          "x0": "2007-04-07",
          "x1": "2007-04-15",
          "xref": "x",
          "y0": 3.8,
          "y1": 4.2,
          "yref": "y"
         },
         {
          "fillcolor": "rgb(214, 39, 40)",
          "line": {
           "width": 0
          },
          "opacity": 1,
          "type": "rect",
          "x0": "2006-02-11",
          "x1": "2006-02-19",
          "xref": "x",
          "y0": 3.8,
          "y1": 4.2,
          "yref": "y"
         },
         {
          "fillcolor": "rgb(214, 39, 40)",
          "line": {
           "width": 0
          },
          "opacity": 1,
          "type": "rect",
          "x0": "2005-03-26",
          "x1": "2005-04-02",
          "xref": "x",
          "y0": 3.8,
          "y1": 4.2,
          "yref": "y"
         },
         {
          "fillcolor": "rgb(214, 39, 40)",
          "line": {
           "width": 0
          },
          "opacity": 1,
          "type": "rect",
          "x0": "2001-08-11",
          "x1": "2001-08-15",
          "xref": "x",
          "y0": 3.8,
          "y1": 4.2,
          "yref": "y"
         },
         {
          "fillcolor": "rgb(214, 39, 40)",
          "line": {
           "width": 0
          },
          "opacity": 1,
          "type": "rect",
          "x0": "2001-08-15",
          "x1": "2001-08-18",
          "xref": "x",
          "y0": 3.8,
          "y1": 4.2,
          "yref": "y"
         },
         {
          "fillcolor": "rgb(214, 39, 40)",
          "line": {
           "width": 0
          },
          "opacity": 1,
          "type": "rect",
          "x0": "2001-08-18",
          "x1": "2001-08-26",
          "xref": "x",
          "y0": 3.8,
          "y1": 4.2,
          "yref": "y"
         },
         {
          "fillcolor": "rgb(214, 39, 40)",
          "line": {
           "width": 0
          },
          "opacity": 1,
          "type": "rect",
          "x0": "2002-08-25",
          "x1": "2002-09-01",
          "xref": "x",
          "y0": 3.8,
          "y1": 4.2,
          "yref": "y"
         },
         {
          "fillcolor": "rgb(255, 127, 14)",
          "line": {
           "width": 0
          },
          "opacity": 1,
          "type": "rect",
          "x0": "2007-08-12",
          "x1": "2007-08-13",
          "xref": "x",
          "y0": 1.8,
          "y1": 2.2,
          "yref": "y"
         },
         {
          "fillcolor": "rgb(255, 127, 14)",
          "line": {
           "width": 0
          },
          "opacity": 1,
          "type": "rect",
          "x0": "2007-08-13",
          "x1": "2007-08-17",
          "xref": "x",
          "y0": 1.8,
          "y1": 2.2,
          "yref": "y"
         },
         {
          "fillcolor": "rgb(255, 127, 14)",
          "line": {
           "width": 0
          },
          "opacity": 1,
          "type": "rect",
          "x0": "2007-08-17",
          "x1": "2007-08-18",
          "xref": "x",
          "y0": 1.8,
          "y1": 2.2,
          "yref": "y"
         },
         {
          "fillcolor": "rgb(255, 127, 14)",
          "line": {
           "width": 0
          },
          "opacity": 1,
          "type": "rect",
          "x0": "2007-08-18",
          "x1": "2007-08-20",
          "xref": "x",
          "y0": 1.8,
          "y1": 2.2,
          "yref": "y"
         },
         {
          "fillcolor": "rgb(255, 127, 14)",
          "line": {
           "width": 0
          },
          "opacity": 1,
          "type": "rect",
          "x0": "2007-08-20",
          "x1": "2007-08-27",
          "xref": "x",
          "y0": 1.8,
          "y1": 2.2,
          "yref": "y"
         },
         {
          "fillcolor": "rgb(214, 39, 40)",
          "line": {
           "width": 0
          },
          "opacity": 1,
          "type": "rect",
          "x0": "2008-08-01",
          "x1": "2008-08-07",
          "xref": "x",
          "y0": 3.8,
          "y1": 4.2,
          "yref": "y"
         },
         {
          "fillcolor": "rgb(214, 39, 40)",
          "line": {
           "width": 0
          },
          "opacity": 1,
          "type": "rect",
          "x0": "2008-08-07",
          "x1": "2008-08-13",
          "xref": "x",
          "y0": 3.8,
          "y1": 4.2,
          "yref": "y"
         },
         {
          "fillcolor": "rgb(214, 39, 40)",
          "line": {
           "width": 0
          },
          "opacity": 1,
          "type": "rect",
          "x0": "2008-08-13",
          "x1": "2008-08-16",
          "xref": "x",
          "y0": 3.8,
          "y1": 4.2,
          "yref": "y"
         },
         {
          "fillcolor": "rgb(214, 39, 40)",
          "line": {
           "width": 0
          },
          "opacity": 1,
          "type": "rect",
          "x0": "2009-07-26",
          "x1": "2009-08-08",
          "xref": "x",
          "y0": 3.8,
          "y1": 4.2,
          "yref": "y"
         },
         {
          "fillcolor": "rgb(214, 39, 40)",
          "line": {
           "width": 0
          },
          "opacity": 1,
          "type": "rect",
          "x0": "2010-02-14",
          "x1": "2010-02-15",
          "xref": "x",
          "y0": 3.8,
          "y1": 4.2,
          "yref": "y"
         },
         {
          "fillcolor": "rgb(214, 39, 40)",
          "line": {
           "width": 0
          },
          "opacity": 1,
          "type": "rect",
          "x0": "2013-07-28",
          "x1": "2013-07-30",
          "xref": "x",
          "y0": 3.8,
          "y1": 4.2,
          "yref": "y"
         },
         {
          "fillcolor": "rgb(214, 39, 40)",
          "line": {
           "width": 0
          },
          "opacity": 1,
          "type": "rect",
          "x0": "2013-07-30",
          "x1": "2013-08-01",
          "xref": "x",
          "y0": 3.8,
          "y1": 4.2,
          "yref": "y"
         },
         {
          "fillcolor": "rgb(214, 39, 40)",
          "line": {
           "width": 0
          },
          "opacity": 1,
          "type": "rect",
          "x0": "2013-08-01",
          "x1": "2013-08-03",
          "xref": "x",
          "y0": 3.8,
          "y1": 4.2,
          "yref": "y"
         },
         {
          "fillcolor": "rgb(214, 39, 40)",
          "line": {
           "width": 0
          },
          "opacity": 1,
          "type": "rect",
          "x0": "2013-08-03",
          "x1": "2013-08-10",
          "xref": "x",
          "y0": 3.8,
          "y1": 4.2,
          "yref": "y"
         },
         {
          "fillcolor": "rgb(214, 39, 40)",
          "line": {
           "width": 0
          },
          "opacity": 1,
          "type": "rect",
          "x0": "2013-07-04",
          "x1": "2013-07-05",
          "xref": "x",
          "y0": 3.8,
          "y1": 4.2,
          "yref": "y"
         },
         {
          "fillcolor": "rgb(214, 39, 40)",
          "line": {
           "width": 0
          },
          "opacity": 1,
          "type": "rect",
          "x0": "2013-03-31",
          "x1": "2013-04-07",
          "xref": "x",
          "y0": 3.8,
          "y1": 4.2,
          "yref": "y"
         },
         {
          "fillcolor": "rgb(214, 39, 40)",
          "line": {
           "width": 0
          },
          "opacity": 1,
          "type": "rect",
          "x0": "2006-10-21",
          "x1": "2006-10-23",
          "xref": "x",
          "y0": 3.8,
          "y1": 4.2,
          "yref": "y"
         },
         {
          "fillcolor": "rgb(214, 39, 40)",
          "line": {
           "width": 0
          },
          "opacity": 1,
          "type": "rect",
          "x0": "2006-10-23",
          "x1": "2006-10-24",
          "xref": "x",
          "y0": 3.8,
          "y1": 4.2,
          "yref": "y"
         },
         {
          "fillcolor": "rgb(214, 39, 40)",
          "line": {
           "width": 0
          },
          "opacity": 1,
          "type": "rect",
          "x0": "2006-10-24",
          "x1": "2006-10-25",
          "xref": "x",
          "y0": 3.8,
          "y1": 4.2,
          "yref": "y"
         },
         {
          "fillcolor": "rgb(255, 127, 14)",
          "line": {
           "width": 0
          },
          "opacity": 1,
          "type": "rect",
          "x0": "2017-10-16",
          "x1": "2017-10-16",
          "xref": "x",
          "y0": 1.8,
          "y1": 2.2,
          "yref": "y"
         },
         {
          "fillcolor": "rgb(255, 127, 14)",
          "line": {
           "width": 0
          },
          "opacity": 1,
          "type": "rect",
          "x0": "2017-10-16",
          "x1": "2017-10-16",
          "xref": "x",
          "y0": 1.8,
          "y1": 2.2,
          "yref": "y"
         },
         {
          "fillcolor": "rgb(255, 127, 14)",
          "line": {
           "width": 0
          },
          "opacity": 1,
          "type": "rect",
          "x0": "2017-10-16",
          "x1": "2017-10-20",
          "xref": "x",
          "y0": 1.8,
          "y1": 2.2,
          "yref": "y"
         },
         {
          "fillcolor": "rgb(255, 127, 14)",
          "line": {
           "width": 0
          },
          "opacity": 1,
          "type": "rect",
          "x0": "2017-10-20",
          "x1": "2017-10-23",
          "xref": "x",
          "y0": 1.8,
          "y1": 2.2,
          "yref": "y"
         },
         {
          "fillcolor": "rgb(255, 127, 14)",
          "line": {
           "width": 0
          },
          "opacity": 1,
          "type": "rect",
          "x0": "2017-10-23",
          "x1": "2017-10-27",
          "xref": "x",
          "y0": 1.8,
          "y1": 2.2,
          "yref": "y"
         },
         {
          "fillcolor": "rgb(255, 127, 14)",
          "line": {
           "width": 0
          },
          "opacity": 1,
          "type": "rect",
          "x0": "2017-10-27",
          "x1": "2017-10-30",
          "xref": "x",
          "y0": 1.8,
          "y1": 2.2,
          "yref": "y"
         },
         {
          "fillcolor": "rgb(255, 127, 14)",
          "line": {
           "width": 0
          },
          "opacity": 1,
          "type": "rect",
          "x0": "2017-10-30",
          "x1": "2017-11-01",
          "xref": "x",
          "y0": 1.8,
          "y1": 2.2,
          "yref": "y"
         },
         {
          "fillcolor": "rgb(255, 127, 14)",
          "line": {
           "width": 0
          },
          "opacity": 1,
          "type": "rect",
          "x0": "2017-11-01",
          "x1": "2017-11-03",
          "xref": "x",
          "y0": 1.8,
          "y1": 2.2,
          "yref": "y"
         },
         {
          "fillcolor": "rgb(255, 127, 14)",
          "line": {
           "width": 0
          },
          "opacity": 1,
          "type": "rect",
          "x0": "2017-11-03",
          "x1": "2017-11-08",
          "xref": "x",
          "y0": 1.8,
          "y1": 2.2,
          "yref": "y"
         },
         {
          "fillcolor": "rgb(255, 127, 14)",
          "line": {
           "width": 0
          },
          "opacity": 1,
          "type": "rect",
          "x0": "2017-11-08",
          "x1": "2017-11-10",
          "xref": "x",
          "y0": 1.8,
          "y1": 2.2,
          "yref": "y"
         },
         {
          "fillcolor": "rgb(255, 127, 14)",
          "line": {
           "width": 0
          },
          "opacity": 1,
          "type": "rect",
          "x0": "2017-11-10",
          "x1": "2017-11-16",
          "xref": "x",
          "y0": 1.8,
          "y1": 2.2,
          "yref": "y"
         },
         {
          "fillcolor": "rgb(255, 127, 14)",
          "line": {
           "width": 0
          },
          "opacity": 1,
          "type": "rect",
          "x0": "2017-11-16",
          "x1": "2017-11-20",
          "xref": "x",
          "y0": 1.8,
          "y1": 2.2,
          "yref": "y"
         },
         {
          "fillcolor": "rgb(255, 127, 14)",
          "line": {
           "width": 0
          },
          "opacity": 1,
          "type": "rect",
          "x0": "2017-11-20",
          "x1": "2017-11-25",
          "xref": "x",
          "y0": 1.8,
          "y1": 2.2,
          "yref": "y"
         },
         {
          "fillcolor": "rgb(255, 127, 14)",
          "line": {
           "width": 0
          },
          "opacity": 1,
          "type": "rect",
          "x0": "2017-11-25",
          "x1": "2017-12-03",
          "xref": "x",
          "y0": 1.8,
          "y1": 2.2,
          "yref": "y"
         },
         {
          "fillcolor": "rgb(44, 160, 44)",
          "line": {
           "width": 0
          },
          "opacity": 1,
          "type": "rect",
          "x0": "2011-01-15",
          "x1": "2011-02-07",
          "xref": "x",
          "y0": 0.8,
          "y1": 1.2,
          "yref": "y"
         },
         {
          "fillcolor": "rgb(44, 160, 44)",
          "line": {
           "width": 0
          },
          "opacity": 1,
          "type": "rect",
          "x0": "2011-02-07",
          "x1": "2011-02-14",
          "xref": "x",
          "y0": 0.8,
          "y1": 1.2,
          "yref": "y"
         },
         {
          "fillcolor": "rgb(44, 160, 44)",
          "line": {
           "width": 0
          },
          "opacity": 1,
          "type": "rect",
          "x0": "2011-02-14",
          "x1": "2011-02-20",
          "xref": "x",
          "y0": 0.8,
          "y1": 1.2,
          "yref": "y"
         },
         {
          "fillcolor": "rgb(44, 160, 44)",
          "line": {
           "width": 0
          },
          "opacity": 1,
          "type": "rect",
          "x0": "2011-02-20",
          "x1": "2011-02-23",
          "xref": "x",
          "y0": 0.8,
          "y1": 1.2,
          "yref": "y"
         },
         {
          "fillcolor": "rgb(44, 160, 44)",
          "line": {
           "width": 0
          },
          "opacity": 1,
          "type": "rect",
          "x0": "2011-02-23",
          "x1": "2011-02-24",
          "xref": "x",
          "y0": 0.8,
          "y1": 1.2,
          "yref": "y"
         },
         {
          "fillcolor": "rgb(44, 160, 44)",
          "line": {
           "width": 0
          },
          "opacity": 1,
          "type": "rect",
          "x0": "2011-02-24",
          "x1": "2011-03-03",
          "xref": "x",
          "y0": 0.8,
          "y1": 1.2,
          "yref": "y"
         },
         {
          "fillcolor": "rgb(44, 160, 44)",
          "line": {
           "width": 0
          },
          "opacity": 1,
          "type": "rect",
          "x0": "2011-03-03",
          "x1": "2011-03-03",
          "xref": "x",
          "y0": 0.8,
          "y1": 1.2,
          "yref": "y"
         },
         {
          "fillcolor": "rgb(44, 160, 44)",
          "line": {
           "width": 0
          },
          "opacity": 1,
          "type": "rect",
          "x0": "2011-03-03",
          "x1": "2011-03-06",
          "xref": "x",
          "y0": 0.8,
          "y1": 1.2,
          "yref": "y"
         },
         {
          "fillcolor": "rgb(44, 160, 44)",
          "line": {
           "width": 0
          },
          "opacity": 1,
          "type": "rect",
          "x0": "2011-03-06",
          "x1": "2011-03-09",
          "xref": "x",
          "y0": 0.8,
          "y1": 1.2,
          "yref": "y"
         },
         {
          "fillcolor": "rgb(44, 160, 44)",
          "line": {
           "width": 0
          },
          "opacity": 1,
          "type": "rect",
          "x0": "2011-03-09",
          "x1": "2011-03-13",
          "xref": "x",
          "y0": 0.8,
          "y1": 1.2,
          "yref": "y"
         },
         {
          "fillcolor": "rgb(44, 160, 44)",
          "line": {
           "width": 0
          },
          "opacity": 1,
          "type": "rect",
          "x0": "2011-03-13",
          "x1": "2011-03-15",
          "xref": "x",
          "y0": 0.8,
          "y1": 1.2,
          "yref": "y"
         },
         {
          "fillcolor": "rgb(44, 160, 44)",
          "line": {
           "width": 0
          },
          "opacity": 1,
          "type": "rect",
          "x0": "2011-03-15",
          "x1": "2011-03-17",
          "xref": "x",
          "y0": 0.8,
          "y1": 1.2,
          "yref": "y"
         },
         {
          "fillcolor": "rgb(44, 160, 44)",
          "line": {
           "width": 0
          },
          "opacity": 1,
          "type": "rect",
          "x0": "2011-03-17",
          "x1": "2011-03-22",
          "xref": "x",
          "y0": 0.8,
          "y1": 1.2,
          "yref": "y"
         },
         {
          "fillcolor": "rgb(44, 160, 44)",
          "line": {
           "width": 0
          },
          "opacity": 1,
          "type": "rect",
          "x0": "2011-03-22",
          "x1": "2011-03-25",
          "xref": "x",
          "y0": 0.8,
          "y1": 1.2,
          "yref": "y"
         },
         {
          "fillcolor": "rgb(44, 160, 44)",
          "line": {
           "width": 0
          },
          "opacity": 1,
          "type": "rect",
          "x0": "2011-03-25",
          "x1": "2011-03-31",
          "xref": "x",
          "y0": 0.8,
          "y1": 1.2,
          "yref": "y"
         },
         {
          "fillcolor": "rgb(44, 160, 44)",
          "line": {
           "width": 0
          },
          "opacity": 1,
          "type": "rect",
          "x0": "2011-03-31",
          "x1": "2011-04-05",
          "xref": "x",
          "y0": 0.8,
          "y1": 1.2,
          "yref": "y"
         },
         {
          "fillcolor": "rgb(148, 103, 189)",
          "line": {
           "width": 0
          },
          "opacity": 1,
          "type": "rect",
          "x0": "2011-04-05",
          "x1": "2011-04-09",
          "xref": "x",
          "y0": -0.2,
          "y1": 0.2,
          "yref": "y"
         },
         {
          "fillcolor": "rgb(148, 103, 189)",
          "line": {
           "width": 0
          },
          "opacity": 1,
          "type": "rect",
          "x0": "2011-04-09",
          "x1": "2011-04-12",
          "xref": "x",
          "y0": -0.2,
          "y1": 0.2,
          "yref": "y"
         },
         {
          "fillcolor": "rgb(148, 103, 189)",
          "line": {
           "width": 0
          },
          "opacity": 1,
          "type": "rect",
          "x0": "2011-04-12",
          "x1": "2011-04-14",
          "xref": "x",
          "y0": -0.2,
          "y1": 0.2,
          "yref": "y"
         },
         {
          "fillcolor": "rgb(148, 103, 189)",
          "line": {
           "width": 0
          },
          "opacity": 1,
          "type": "rect",
          "x0": "2011-04-14",
          "x1": "2011-04-18",
          "xref": "x",
          "y0": -0.2,
          "y1": 0.2,
          "yref": "y"
         },
         {
          "fillcolor": "rgb(148, 103, 189)",
          "line": {
           "width": 0
          },
          "opacity": 1,
          "type": "rect",
          "x0": "2011-04-18",
          "x1": "2011-04-20",
          "xref": "x",
          "y0": -0.2,
          "y1": 0.2,
          "yref": "y"
         },
         {
          "fillcolor": "rgb(148, 103, 189)",
          "line": {
           "width": 0
          },
          "opacity": 1,
          "type": "rect",
          "x0": "2011-04-20",
          "x1": "2011-04-25",
          "xref": "x",
          "y0": -0.2,
          "y1": 0.2,
          "yref": "y"
         },
         {
          "fillcolor": "rgb(148, 103, 189)",
          "line": {
           "width": 0
          },
          "opacity": 1,
          "type": "rect",
          "x0": "2011-04-25",
          "x1": "2011-05-02",
          "xref": "x",
          "y0": -0.2,
          "y1": 0.2,
          "yref": "y"
         },
         {
          "fillcolor": "rgb(148, 103, 189)",
          "line": {
           "width": 0
          },
          "opacity": 1,
          "type": "rect",
          "x0": "2011-05-02",
          "x1": "2011-05-05",
          "xref": "x",
          "y0": -0.2,
          "y1": 0.2,
          "yref": "y"
         },
         {
          "fillcolor": "rgb(148, 103, 189)",
          "line": {
           "width": 0
          },
          "opacity": 1,
          "type": "rect",
          "x0": "2011-05-05",
          "x1": "2011-05-06",
          "xref": "x",
          "y0": -0.2,
          "y1": 0.2,
          "yref": "y"
         },
         {
          "fillcolor": "rgb(148, 103, 189)",
          "line": {
           "width": 0
          },
          "opacity": 1,
          "type": "rect",
          "x0": "2011-05-06",
          "x1": "2011-06-18",
          "xref": "x",
          "y0": -0.2,
          "y1": 0.2,
          "yref": "y"
         },
         {
          "fillcolor": "rgb(148, 103, 189)",
          "line": {
           "width": 0
          },
          "opacity": 1,
          "type": "rect",
          "x0": "2011-06-18",
          "x1": "2011-06-21",
          "xref": "x",
          "y0": -0.2,
          "y1": 0.2,
          "yref": "y"
         },
         {
          "fillcolor": "rgb(148, 103, 189)",
          "line": {
           "width": 0
          },
          "opacity": 1,
          "type": "rect",
          "x0": "2011-06-21",
          "x1": "2011-06-25",
          "xref": "x",
          "y0": -0.2,
          "y1": 0.2,
          "yref": "y"
         },
         {
          "fillcolor": "rgb(148, 103, 189)",
          "line": {
           "width": 0
          },
          "opacity": 1,
          "type": "rect",
          "x0": "2011-06-25",
          "x1": "2011-06-28",
          "xref": "x",
          "y0": -0.2,
          "y1": 0.2,
          "yref": "y"
         },
         {
          "fillcolor": "rgb(148, 103, 189)",
          "line": {
           "width": 0
          },
          "opacity": 1,
          "type": "rect",
          "x0": "2011-06-28",
          "x1": "2011-06-29",
          "xref": "x",
          "y0": -0.2,
          "y1": 0.2,
          "yref": "y"
         },
         {
          "fillcolor": "rgb(148, 103, 189)",
          "line": {
           "width": 0
          },
          "opacity": 1,
          "type": "rect",
          "x0": "2011-06-29",
          "x1": "2011-07-20",
          "xref": "x",
          "y0": -0.2,
          "y1": 0.2,
          "yref": "y"
         },
         {
          "fillcolor": "rgb(255, 127, 14)",
          "line": {
           "width": 0
          },
          "opacity": 1,
          "type": "rect",
          "x0": "2011-07-20",
          "x1": "2011-07-22",
          "xref": "x",
          "y0": 1.8,
          "y1": 2.2,
          "yref": "y"
         },
         {
          "fillcolor": "rgb(255, 127, 14)",
          "line": {
           "width": 0
          },
          "opacity": 1,
          "type": "rect",
          "x0": "2011-07-22",
          "x1": "2011-07-23",
          "xref": "x",
          "y0": 1.8,
          "y1": 2.2,
          "yref": "y"
         },
         {
          "fillcolor": "rgb(255, 127, 14)",
          "line": {
           "width": 0
          },
          "opacity": 1,
          "type": "rect",
          "x0": "2011-07-23",
          "x1": "2011-07-24",
          "xref": "x",
          "y0": 1.8,
          "y1": 2.2,
          "yref": "y"
         },
         {
          "fillcolor": "rgb(255, 127, 14)",
          "line": {
           "width": 0
          },
          "opacity": 1,
          "type": "rect",
          "x0": "2011-07-24",
          "x1": "2011-07-26",
          "xref": "x",
          "y0": 1.8,
          "y1": 2.2,
          "yref": "y"
         },
         {
          "fillcolor": "rgb(255, 127, 14)",
          "line": {
           "width": 0
          },
          "opacity": 1,
          "type": "rect",
          "x0": "2011-07-26",
          "x1": "2011-07-28",
          "xref": "x",
          "y0": 1.8,
          "y1": 2.2,
          "yref": "y"
         },
         {
          "fillcolor": "rgb(255, 127, 14)",
          "line": {
           "width": 0
          },
          "opacity": 1,
          "type": "rect",
          "x0": "2011-07-28",
          "x1": "2011-07-28",
          "xref": "x",
          "y0": 1.8,
          "y1": 2.2,
          "yref": "y"
         },
         {
          "fillcolor": "rgb(255, 127, 14)",
          "line": {
           "width": 0
          },
          "opacity": 1,
          "type": "rect",
          "x0": "2011-07-28",
          "x1": "2011-07-29",
          "xref": "x",
          "y0": 1.8,
          "y1": 2.2,
          "yref": "y"
         },
         {
          "fillcolor": "rgb(255, 127, 14)",
          "line": {
           "width": 0
          },
          "opacity": 1,
          "type": "rect",
          "x0": "2011-07-29",
          "x1": "2011-07-31",
          "xref": "x",
          "y0": 1.8,
          "y1": 2.2,
          "yref": "y"
         },
         {
          "fillcolor": "rgb(255, 127, 14)",
          "line": {
           "width": 0
          },
          "opacity": 1,
          "type": "rect",
          "x0": "2011-07-31",
          "x1": "2011-08-01",
          "xref": "x",
          "y0": 1.8,
          "y1": 2.2,
          "yref": "y"
         },
         {
          "fillcolor": "rgb(255, 127, 14)",
          "line": {
           "width": 0
          },
          "opacity": 1,
          "type": "rect",
          "x0": "2011-08-01",
          "x1": "2011-08-03",
          "xref": "x",
          "y0": 1.8,
          "y1": 2.2,
          "yref": "y"
         },
         {
          "fillcolor": "rgb(255, 127, 14)",
          "line": {
           "width": 0
          },
          "opacity": 1,
          "type": "rect",
          "x0": "2011-08-03",
          "x1": "2011-08-04",
          "xref": "x",
          "y0": 1.8,
          "y1": 2.2,
          "yref": "y"
         },
         {
          "fillcolor": "rgb(255, 127, 14)",
          "line": {
           "width": 0
          },
          "opacity": 1,
          "type": "rect",
          "x0": "2011-08-04",
          "x1": "2011-08-05",
          "xref": "x",
          "y0": 1.8,
          "y1": 2.2,
          "yref": "y"
         },
         {
          "fillcolor": "rgb(255, 127, 14)",
          "line": {
           "width": 0
          },
          "opacity": 1,
          "type": "rect",
          "x0": "2011-08-05",
          "x1": "2011-08-06",
          "xref": "x",
          "y0": 1.8,
          "y1": 2.2,
          "yref": "y"
         },
         {
          "fillcolor": "rgb(255, 127, 14)",
          "line": {
           "width": 0
          },
          "opacity": 1,
          "type": "rect",
          "x0": "2011-08-06",
          "x1": "2011-08-07",
          "xref": "x",
          "y0": 1.8,
          "y1": 2.2,
          "yref": "y"
         },
         {
          "fillcolor": "rgb(255, 127, 14)",
          "line": {
           "width": 0
          },
          "opacity": 1,
          "type": "rect",
          "x0": "2011-08-07",
          "x1": "2011-08-08",
          "xref": "x",
          "y0": 1.8,
          "y1": 2.2,
          "yref": "y"
         },
         {
          "fillcolor": "rgb(255, 127, 14)",
          "line": {
           "width": 0
          },
          "opacity": 1,
          "type": "rect",
          "x0": "2011-08-08",
          "x1": "2011-08-09",
          "xref": "x",
          "y0": 1.8,
          "y1": 2.2,
          "yref": "y"
         },
         {
          "fillcolor": "rgb(255, 127, 14)",
          "line": {
           "width": 0
          },
          "opacity": 1,
          "type": "rect",
          "x0": "2011-08-09",
          "x1": "2011-08-09",
          "xref": "x",
          "y0": 1.8,
          "y1": 2.2,
          "yref": "y"
         },
         {
          "fillcolor": "rgb(255, 127, 14)",
          "line": {
           "width": 0
          },
          "opacity": 1,
          "type": "rect",
          "x0": "2011-08-09",
          "x1": "2011-08-12",
          "xref": "x",
          "y0": 1.8,
          "y1": 2.2,
          "yref": "y"
         },
         {
          "fillcolor": "rgb(255, 127, 14)",
          "line": {
           "width": 0
          },
          "opacity": 1,
          "type": "rect",
          "x0": "2011-08-12",
          "x1": "2011-08-17",
          "xref": "x",
          "y0": 1.8,
          "y1": 2.2,
          "yref": "y"
         },
         {
          "fillcolor": "rgb(255, 127, 14)",
          "line": {
           "width": 0
          },
          "opacity": 1,
          "type": "rect",
          "x0": "2011-08-17",
          "x1": "2011-08-19",
          "xref": "x",
          "y0": 1.8,
          "y1": 2.2,
          "yref": "y"
         },
         {
          "fillcolor": "rgb(255, 127, 14)",
          "line": {
           "width": 0
          },
          "opacity": 1,
          "type": "rect",
          "x0": "2011-08-19",
          "x1": "2011-08-20",
          "xref": "x",
          "y0": 1.8,
          "y1": 2.2,
          "yref": "y"
         },
         {
          "fillcolor": "rgb(255, 127, 14)",
          "line": {
           "width": 0
          },
          "opacity": 1,
          "type": "rect",
          "x0": "2011-08-20",
          "x1": "2011-08-22",
          "xref": "x",
          "y0": 1.8,
          "y1": 2.2,
          "yref": "y"
         },
         {
          "fillcolor": "rgb(255, 127, 14)",
          "line": {
           "width": 0
          },
          "opacity": 1,
          "type": "rect",
          "x0": "2011-08-22",
          "x1": "2011-08-24",
          "xref": "x",
          "y0": 1.8,
          "y1": 2.2,
          "yref": "y"
         },
         {
          "fillcolor": "rgb(255, 127, 14)",
          "line": {
           "width": 0
          },
          "opacity": 1,
          "type": "rect",
          "x0": "2011-08-24",
          "x1": "2011-08-25",
          "xref": "x",
          "y0": 1.8,
          "y1": 2.2,
          "yref": "y"
         },
         {
          "fillcolor": "rgb(214, 39, 40)",
          "line": {
           "width": 0
          },
          "opacity": 1,
          "type": "rect",
          "x0": "2011-08-25",
          "x1": "2011-08-29",
          "xref": "x",
          "y0": 3.8,
          "y1": 4.2,
          "yref": "y"
         },
         {
          "fillcolor": "rgb(214, 39, 40)",
          "line": {
           "width": 0
          },
          "opacity": 1,
          "type": "rect",
          "x0": "2016-08-24",
          "x1": "2016-08-26",
          "xref": "x",
          "y0": 3.8,
          "y1": 4.2,
          "yref": "y"
         },
         {
          "fillcolor": "rgb(214, 39, 40)",
          "line": {
           "width": 0
          },
          "opacity": 1,
          "type": "rect",
          "x0": "2016-08-26",
          "x1": "2016-08-27",
          "xref": "x",
          "y0": 3.8,
          "y1": 4.2,
          "yref": "y"
         },
         {
          "fillcolor": "rgb(214, 39, 40)",
          "line": {
           "width": 0
          },
          "opacity": 1,
          "type": "rect",
          "x0": "2016-08-27",
          "x1": "2016-08-28",
          "xref": "x",
          "y0": 3.8,
          "y1": 4.2,
          "yref": "y"
         },
         {
          "fillcolor": "rgb(214, 39, 40)",
          "line": {
           "width": 0
          },
          "opacity": 1,
          "type": "rect",
          "x0": "2016-08-28",
          "x1": "2016-09-05",
          "xref": "x",
          "y0": 3.8,
          "y1": 4.2,
          "yref": "y"
         },
         {
          "fillcolor": "rgb(214, 39, 40)",
          "line": {
           "width": 0
          },
          "opacity": 1,
          "type": "rect",
          "x0": "2016-09-05",
          "x1": "2016-09-10",
          "xref": "x",
          "y0": 3.8,
          "y1": 4.2,
          "yref": "y"
         },
         {
          "fillcolor": "rgb(214, 39, 40)",
          "line": {
           "width": 0
          },
          "opacity": 1,
          "type": "rect",
          "x0": "2016-09-10",
          "x1": "2016-09-15",
          "xref": "x",
          "y0": 3.8,
          "y1": 4.2,
          "yref": "y"
         },
         {
          "fillcolor": "rgb(214, 39, 40)",
          "line": {
           "width": 0
          },
          "opacity": 1,
          "type": "rect",
          "x0": "2016-09-15",
          "x1": "2016-09-16",
          "xref": "x",
          "y0": 3.8,
          "y1": 4.2,
          "yref": "y"
         },
         {
          "fillcolor": "rgb(214, 39, 40)",
          "line": {
           "width": 0
          },
          "opacity": 1,
          "type": "rect",
          "x0": "2016-09-16",
          "x1": "2016-09-17",
          "xref": "x",
          "y0": 3.8,
          "y1": 4.2,
          "yref": "y"
         },
         {
          "fillcolor": "rgb(214, 39, 40)",
          "line": {
           "width": 0
          },
          "opacity": 1,
          "type": "rect",
          "x0": "2016-09-17",
          "x1": "2016-09-24",
          "xref": "x",
          "y0": 3.8,
          "y1": 4.2,
          "yref": "y"
         },
         {
          "fillcolor": "rgb(214, 39, 40)",
          "line": {
           "width": 0
          },
          "opacity": 1,
          "type": "rect",
          "x0": "2016-09-24",
          "x1": "2016-09-24",
          "xref": "x",
          "y0": 3.8,
          "y1": 4.2,
          "yref": "y"
         },
         {
          "fillcolor": "rgb(214, 39, 40)",
          "line": {
           "width": 0
          },
          "opacity": 1,
          "type": "rect",
          "x0": "2016-09-24",
          "x1": "2016-09-25",
          "xref": "x",
          "y0": 3.8,
          "y1": 4.2,
          "yref": "y"
         },
         {
          "fillcolor": "rgb(214, 39, 40)",
          "line": {
           "width": 0
          },
          "opacity": 1,
          "type": "rect",
          "x0": "2016-09-25",
          "x1": "2016-09-27",
          "xref": "x",
          "y0": 3.8,
          "y1": 4.2,
          "yref": "y"
         },
         {
          "fillcolor": "rgb(255, 127, 14)",
          "line": {
           "width": 0
          },
          "opacity": 1,
          "type": "rect",
          "x0": "2016-09-27",
          "x1": "2016-09-29",
          "xref": "x",
          "y0": 1.8,
          "y1": 2.2,
          "yref": "y"
         },
         {
          "fillcolor": "rgb(214, 39, 40)",
          "line": {
           "width": 0
          },
          "opacity": 1,
          "type": "rect",
          "x0": "2014-07-19",
          "x1": "2014-07-21",
          "xref": "x",
          "y0": 3.8,
          "y1": 4.2,
          "yref": "y"
         },
         {
          "fillcolor": "rgb(214, 39, 40)",
          "line": {
           "width": 0
          },
          "opacity": 1,
          "type": "rect",
          "x0": "2014-07-21",
          "x1": "2014-07-21",
          "xref": "x",
          "y0": 3.8,
          "y1": 4.2,
          "yref": "y"
         },
         {
          "fillcolor": "rgb(214, 39, 40)",
          "line": {
           "width": 0
          },
          "opacity": 1,
          "type": "rect",
          "x0": "2014-07-21",
          "x1": "2014-07-23",
          "xref": "x",
          "y0": 3.8,
          "y1": 4.2,
          "yref": "y"
         },
         {
          "fillcolor": "rgb(214, 39, 40)",
          "line": {
           "width": 0
          },
          "opacity": 1,
          "type": "rect",
          "x0": "2014-07-23",
          "x1": "2014-07-26",
          "xref": "x",
          "y0": 3.8,
          "y1": 4.2,
          "yref": "y"
         },
         {
          "fillcolor": "rgb(214, 39, 40)",
          "line": {
           "width": 0
          },
          "opacity": 1,
          "type": "rect",
          "x0": "2014-07-26",
          "x1": "2014-07-29",
          "xref": "x",
          "y0": 3.8,
          "y1": 4.2,
          "yref": "y"
         },
         {
          "fillcolor": "rgb(214, 39, 40)",
          "line": {
           "width": 0
          },
          "opacity": 1,
          "type": "rect",
          "x0": "2014-07-29",
          "x1": "2014-07-29",
          "xref": "x",
          "y0": 3.8,
          "y1": 4.2,
          "yref": "y"
         },
         {
          "fillcolor": "rgb(214, 39, 40)",
          "line": {
           "width": 0
          },
          "opacity": 1,
          "type": "rect",
          "x0": "2014-07-29",
          "x1": "2014-07-29",
          "xref": "x",
          "y0": 3.8,
          "y1": 4.2,
          "yref": "y"
         },
         {
          "fillcolor": "rgb(214, 39, 40)",
          "line": {
           "width": 0
          },
          "opacity": 1,
          "type": "rect",
          "x0": "2014-07-29",
          "x1": "2014-08-02",
          "xref": "x",
          "y0": 3.8,
          "y1": 4.2,
          "yref": "y"
         },
         {
          "fillcolor": "rgb(214, 39, 40)",
          "line": {
           "width": 0
          },
          "opacity": 1,
          "type": "rect",
          "x0": "2014-08-02",
          "x1": "2014-08-05",
          "xref": "x",
          "y0": 3.8,
          "y1": 4.2,
          "yref": "y"
         },
         {
          "fillcolor": "rgb(214, 39, 40)",
          "line": {
           "width": 0
          },
          "opacity": 1,
          "type": "rect",
          "x0": "2014-08-05",
          "x1": "2014-08-06",
          "xref": "x",
          "y0": 3.8,
          "y1": 4.2,
          "yref": "y"
         },
         {
          "fillcolor": "rgb(214, 39, 40)",
          "line": {
           "width": 0
          },
          "opacity": 1,
          "type": "rect",
          "x0": "2014-08-06",
          "x1": "2014-08-12",
          "xref": "x",
          "y0": 3.8,
          "y1": 4.2,
          "yref": "y"
         },
         {
          "fillcolor": "rgb(214, 39, 40)",
          "line": {
           "width": 0
          },
          "opacity": 1,
          "type": "rect",
          "x0": "2014-08-12",
          "x1": "2014-08-15",
          "xref": "x",
          "y0": 3.8,
          "y1": 4.2,
          "yref": "y"
         },
         {
          "fillcolor": "rgb(214, 39, 40)",
          "line": {
           "width": 0
          },
          "opacity": 1,
          "type": "rect",
          "x0": "2014-08-15",
          "x1": "2014-08-16",
          "xref": "x",
          "y0": 3.8,
          "y1": 4.2,
          "yref": "y"
         },
         {
          "fillcolor": "rgb(214, 39, 40)",
          "line": {
           "width": 0
          },
          "opacity": 1,
          "type": "rect",
          "x0": "2014-08-16",
          "x1": "2014-08-18",
          "xref": "x",
          "y0": 3.8,
          "y1": 4.2,
          "yref": "y"
         },
         {
          "fillcolor": "rgb(214, 39, 40)",
          "line": {
           "width": 0
          },
          "opacity": 1,
          "type": "rect",
          "x0": "2014-08-18",
          "x1": "2014-08-20",
          "xref": "x",
          "y0": 3.8,
          "y1": 4.2,
          "yref": "y"
         },
         {
          "fillcolor": "rgb(214, 39, 40)",
          "line": {
           "width": 0
          },
          "opacity": 1,
          "type": "rect",
          "x0": "2014-08-20",
          "x1": "2014-08-22",
          "xref": "x",
          "y0": 3.8,
          "y1": 4.2,
          "yref": "y"
         },
         {
          "fillcolor": "rgb(214, 39, 40)",
          "line": {
           "width": 0
          },
          "opacity": 1,
          "type": "rect",
          "x0": "2014-08-22",
          "x1": "2014-08-22",
          "xref": "x",
          "y0": 3.8,
          "y1": 4.2,
          "yref": "y"
         },
         {
          "fillcolor": "rgb(214, 39, 40)",
          "line": {
           "width": 0
          },
          "opacity": 1,
          "type": "rect",
          "x0": "2014-08-22",
          "x1": "2014-08-25",
          "xref": "x",
          "y0": 3.8,
          "y1": 4.2,
          "yref": "y"
         },
         {
          "fillcolor": "rgb(214, 39, 40)",
          "line": {
           "width": 0
          },
          "opacity": 1,
          "type": "rect",
          "x0": "2014-08-25",
          "x1": "2014-08-26",
          "xref": "x",
          "y0": 3.8,
          "y1": 4.2,
          "yref": "y"
         },
         {
          "fillcolor": "rgb(214, 39, 40)",
          "line": {
           "width": 0
          },
          "opacity": 1,
          "type": "rect",
          "x0": "2014-08-26",
          "x1": "2014-08-28",
          "xref": "x",
          "y0": 3.8,
          "y1": 4.2,
          "yref": "y"
         },
         {
          "fillcolor": "rgb(214, 39, 40)",
          "line": {
           "width": 0
          },
          "opacity": 1,
          "type": "rect",
          "x0": "2013-12-28",
          "x1": "2014-01-04",
          "xref": "x",
          "y0": 3.8,
          "y1": 4.2,
          "yref": "y"
         },
         {
          "fillcolor": "rgb(214, 39, 40)",
          "line": {
           "width": 0
          },
          "opacity": 1,
          "type": "rect",
          "x0": "2015-07-15",
          "x1": "2015-07-18",
          "xref": "x",
          "y0": 3.8,
          "y1": 4.2,
          "yref": "y"
         },
         {
          "fillcolor": "rgb(214, 39, 40)",
          "line": {
           "width": 0
          },
          "opacity": 1,
          "type": "rect",
          "x0": "2015-07-18",
          "x1": "2015-07-20",
          "xref": "x",
          "y0": 3.8,
          "y1": 4.2,
          "yref": "y"
         },
         {
          "fillcolor": "rgb(214, 39, 40)",
          "line": {
           "width": 0
          },
          "opacity": 1,
          "type": "rect",
          "x0": "2015-07-20",
          "x1": "2015-07-23",
          "xref": "x",
          "y0": 3.8,
          "y1": 4.2,
          "yref": "y"
         },
         {
          "fillcolor": "rgb(214, 39, 40)",
          "line": {
           "width": 0
          },
          "opacity": 1,
          "type": "rect",
          "x0": "2015-07-23",
          "x1": "2015-07-25",
          "xref": "x",
          "y0": 3.8,
          "y1": 4.2,
          "yref": "y"
         },
         {
          "fillcolor": "rgb(214, 39, 40)",
          "line": {
           "width": 0
          },
          "opacity": 1,
          "type": "rect",
          "x0": "2015-07-25",
          "x1": "2015-08-01",
          "xref": "x",
          "y0": 3.8,
          "y1": 4.2,
          "yref": "y"
         },
         {
          "fillcolor": "rgb(214, 39, 40)",
          "line": {
           "width": 0
          },
          "opacity": 1,
          "type": "rect",
          "x0": "2015-08-01",
          "x1": "2015-08-02",
          "xref": "x",
          "y0": 3.8,
          "y1": 4.2,
          "yref": "y"
         },
         {
          "fillcolor": "rgb(214, 39, 40)",
          "line": {
           "width": 0
          },
          "opacity": 1,
          "type": "rect",
          "x0": "2014-12-27",
          "x1": "2015-01-03",
          "xref": "x",
          "y0": 3.8,
          "y1": 4.2,
          "yref": "y"
         },
         {
          "fillcolor": "rgb(214, 39, 40)",
          "line": {
           "width": 0
          },
          "opacity": 1,
          "type": "rect",
          "x0": "2015-01-18",
          "x1": "2015-01-23",
          "xref": "x",
          "y0": 3.8,
          "y1": 4.2,
          "yref": "y"
         },
         {
          "fillcolor": "rgb(255, 127, 14)",
          "line": {
           "width": 0
          },
          "opacity": 1,
          "type": "rect",
          "x0": "2017-05-26",
          "x1": "2017-05-26",
          "xref": "x",
          "y0": 1.8,
          "y1": 2.2,
          "yref": "y"
         },
         {
          "fillcolor": "rgb(255, 127, 14)",
          "line": {
           "width": 0
          },
          "opacity": 1,
          "type": "rect",
          "x0": "2017-05-26",
          "x1": "2017-05-31",
          "xref": "x",
          "y0": 1.8,
          "y1": 2.2,
          "yref": "y"
         },
         {
          "fillcolor": "rgb(255, 127, 14)",
          "line": {
           "width": 0
          },
          "opacity": 1,
          "type": "rect",
          "x0": "2017-05-31",
          "x1": "2017-06-03",
          "xref": "x",
          "y0": 1.8,
          "y1": 2.2,
          "yref": "y"
         },
         {
          "fillcolor": "rgb(255, 127, 14)",
          "line": {
           "width": 0
          },
          "opacity": 1,
          "type": "rect",
          "x0": "2017-06-03",
          "x1": "2017-06-05",
          "xref": "x",
          "y0": 1.8,
          "y1": 2.2,
          "yref": "y"
         },
         {
          "fillcolor": "rgb(255, 127, 14)",
          "line": {
           "width": 0
          },
          "opacity": 1,
          "type": "rect",
          "x0": "2017-06-05",
          "x1": "2017-06-08",
          "xref": "x",
          "y0": 1.8,
          "y1": 2.2,
          "yref": "y"
         },
         {
          "fillcolor": "rgb(255, 127, 14)",
          "line": {
           "width": 0
          },
          "opacity": 1,
          "type": "rect",
          "x0": "2017-06-08",
          "x1": "2017-06-10",
          "xref": "x",
          "y0": 1.8,
          "y1": 2.2,
          "yref": "y"
         },
         {
          "fillcolor": "rgb(255, 127, 14)",
          "line": {
           "width": 0
          },
          "opacity": 1,
          "type": "rect",
          "x0": "2017-06-10",
          "x1": "2017-06-11",
          "xref": "x",
          "y0": 1.8,
          "y1": 2.2,
          "yref": "y"
         },
         {
          "fillcolor": "rgb(255, 127, 14)",
          "line": {
           "width": 0
          },
          "opacity": 1,
          "type": "rect",
          "x0": "2017-06-11",
          "x1": "2017-06-11",
          "xref": "x",
          "y0": 1.8,
          "y1": 2.2,
          "yref": "y"
         },
         {
          "fillcolor": "rgb(255, 127, 14)",
          "line": {
           "width": 0
          },
          "opacity": 1,
          "type": "rect",
          "x0": "2017-06-11",
          "x1": "2017-06-12",
          "xref": "x",
          "y0": 1.8,
          "y1": 2.2,
          "yref": "y"
         },
         {
          "fillcolor": "rgb(214, 39, 40)",
          "line": {
           "width": 0
          },
          "opacity": 1,
          "type": "rect",
          "x0": "2018-03-17",
          "x1": "2018-03-24",
          "xref": "x",
          "y0": 3.8,
          "y1": 4.2,
          "yref": "y"
         },
         {
          "fillcolor": "rgb(214, 39, 40)",
          "line": {
           "width": 0
          },
          "opacity": 1,
          "type": "rect",
          "x0": "2017-12-27",
          "x1": "2017-12-27",
          "xref": "x",
          "y0": 3.8,
          "y1": 4.2,
          "yref": "y"
         },
         {
          "fillcolor": "rgb(214, 39, 40)",
          "line": {
           "width": 0
          },
          "opacity": 1,
          "type": "rect",
          "x0": "2017-12-27",
          "x1": "2017-12-28",
          "xref": "x",
          "y0": 3.8,
          "y1": 4.2,
          "yref": "y"
         },
         {
          "fillcolor": "rgb(214, 39, 40)",
          "line": {
           "width": 0
          },
          "opacity": 1,
          "type": "rect",
          "x0": "2017-12-28",
          "x1": "2017-12-29",
          "xref": "x",
          "y0": 3.8,
          "y1": 4.2,
          "yref": "y"
         },
         {
          "fillcolor": "rgb(214, 39, 40)",
          "line": {
           "width": 0
          },
          "opacity": 1,
          "type": "rect",
          "x0": "2017-12-29",
          "x1": "2017-12-30",
          "xref": "x",
          "y0": 3.8,
          "y1": 4.2,
          "yref": "y"
         },
         {
          "fillcolor": "rgb(214, 39, 40)",
          "line": {
           "width": 0
          },
          "opacity": 1,
          "type": "rect",
          "x0": "2017-12-30",
          "x1": "2017-12-31",
          "xref": "x",
          "y0": 3.8,
          "y1": 4.2,
          "yref": "y"
         },
         {
          "fillcolor": "rgb(214, 39, 40)",
          "line": {
           "width": 0
          },
          "opacity": 1,
          "type": "rect",
          "x0": "2017-12-31",
          "x1": "2018-01-01",
          "xref": "x",
          "y0": 3.8,
          "y1": 4.2,
          "yref": "y"
         },
         {
          "fillcolor": "rgb(214, 39, 40)",
          "line": {
           "width": 0
          },
          "opacity": 1,
          "type": "rect",
          "x0": "2018-01-01",
          "x1": "2018-01-02",
          "xref": "x",
          "y0": 3.8,
          "y1": 4.2,
          "yref": "y"
         },
         {
          "fillcolor": "rgb(214, 39, 40)",
          "line": {
           "width": 0
          },
          "opacity": 1,
          "type": "rect",
          "x0": "2018-01-02",
          "x1": "2018-01-02",
          "xref": "x",
          "y0": 3.8,
          "y1": 4.2,
          "yref": "y"
         },
         {
          "fillcolor": "rgb(214, 39, 40)",
          "line": {
           "width": 0
          },
          "opacity": 1,
          "type": "rect",
          "x0": "2018-01-02",
          "x1": "2018-01-03",
          "xref": "x",
          "y0": 3.8,
          "y1": 4.2,
          "yref": "y"
         },
         {
          "fillcolor": "rgb(214, 39, 40)",
          "line": {
           "width": 0
          },
          "opacity": 1,
          "type": "rect",
          "x0": "2018-01-03",
          "x1": "2018-01-03",
          "xref": "x",
          "y0": 3.8,
          "y1": 4.2,
          "yref": "y"
         },
         {
          "fillcolor": "rgb(214, 39, 40)",
          "line": {
           "width": 0
          },
          "opacity": 1,
          "type": "rect",
          "x0": "2018-01-03",
          "x1": "2018-01-04",
          "xref": "x",
          "y0": 3.8,
          "y1": 4.2,
          "yref": "y"
         },
         {
          "fillcolor": "rgb(214, 39, 40)",
          "line": {
           "width": 0
          },
          "opacity": 1,
          "type": "rect",
          "x0": "2018-01-04",
          "x1": "2018-01-04",
          "xref": "x",
          "y0": 3.8,
          "y1": 4.2,
          "yref": "y"
         },
         {
          "fillcolor": "rgb(214, 39, 40)",
          "line": {
           "width": 0
          },
          "opacity": 1,
          "type": "rect",
          "x0": "2018-01-04",
          "x1": "2018-01-05",
          "xref": "x",
          "y0": 3.8,
          "y1": 4.2,
          "yref": "y"
         },
         {
          "fillcolor": "rgb(214, 39, 40)",
          "line": {
           "width": 0
          },
          "opacity": 1,
          "type": "rect",
          "x0": "2018-01-05",
          "x1": "2018-01-05",
          "xref": "x",
          "y0": 3.8,
          "y1": 4.2,
          "yref": "y"
         },
         {
          "fillcolor": "rgb(214, 39, 40)",
          "line": {
           "width": 0
          },
          "opacity": 1,
          "type": "rect",
          "x0": "2018-01-05",
          "x1": "2018-01-06",
          "xref": "x",
          "y0": 3.8,
          "y1": 4.2,
          "yref": "y"
         },
         {
          "fillcolor": "rgb(214, 39, 40)",
          "line": {
           "width": 0
          },
          "opacity": 1,
          "type": "rect",
          "x0": "2018-01-06",
          "x1": "2018-01-06",
          "xref": "x",
          "y0": 3.8,
          "y1": 4.2,
          "yref": "y"
         },
         {
          "fillcolor": "rgb(214, 39, 40)",
          "line": {
           "width": 0
          },
          "opacity": 1,
          "type": "rect",
          "x0": "2018-01-06",
          "x1": "2018-01-07",
          "xref": "x",
          "y0": 3.8,
          "y1": 4.2,
          "yref": "y"
         }
        ],
        "showlegend": false,
        "title": {
         "text": "Patrick's Holidays"
        },
        "width": 900,
        "xaxis": {
         "rangeselector": {
          "buttons": [
           {
            "count": 7,
            "label": "1w",
            "step": "day",
            "stepmode": "backward"
           },
           {
            "count": 1,
            "label": "1m",
            "step": "month",
            "stepmode": "backward"
           },
           {
            "count": 6,
            "label": "6m",
            "step": "month",
            "stepmode": "backward"
           },
           {
            "count": 1,
            "label": "YTD",
            "step": "year",
            "stepmode": "todate"
           },
           {
            "count": 1,
            "label": "1y",
            "step": "year",
            "stepmode": "backward"
           },
           {
            "step": "all"
           }
          ]
         },
         "showgrid": true,
         "type": "date",
         "zeroline": false
        },
        "yaxis": {
         "autorange": false,
         "range": [
          -1,
          6
         ],
         "showgrid": true,
         "ticktext": [
          "Oceania",
          "Asia",
          "Americas",
          "Africa",
          "Europe"
         ],
         "tickvals": [
          0,
          1,
          2,
          3,
          4
         ],
         "zeroline": false
        }
       }
      },
      "text/html": [
       "<div id=\"c2c3525c-c922-49cc-aacf-2384bc3689e2\" style=\"height: 600px; width: 900px;\" class=\"plotly-graph-div\"></div><script type=\"text/javascript\">require([\"plotly\"], function(Plotly) { window.PLOTLYENV=window.PLOTLYENV || {};window.PLOTLYENV.BASE_URL=\"https://plot.ly\";\n",
       "if (document.getElementById(\"c2c3525c-c922-49cc-aacf-2384bc3689e2\")) {\n",
       "    Plotly.newPlot(\"c2c3525c-c922-49cc-aacf-2384bc3689e2\", [{\"marker\": {\"color\": \"white\"}, \"name\": \"\", \"x\": [\"2019-03-02\", \"2019-03-09\"], \"y\": [4, 4], \"type\": \"scatter\", \"uid\": \"8a20a5fe-e170-433d-a82b-44d22d758450\"}, {\"marker\": {\"color\": \"white\"}, \"name\": \"\", \"x\": [\"2018-06-17\", \"2018-06-19\"], \"y\": [4, 4], \"type\": \"scatter\", \"uid\": \"91e61e23-d04b-4f15-a1ad-c91ed576a973\"}, {\"marker\": {\"color\": \"white\"}, \"name\": \"\", \"x\": [\"2018-06-19\", \"2018-06-25\"], \"y\": [4, 4], \"type\": \"scatter\", \"uid\": \"04d8ae9c-e7ab-41c0-87b1-42431c53d49f\"}, {\"marker\": {\"color\": \"white\"}, \"name\": \"\", \"x\": [\"2018-06-25\", \"2018-06-30\"], \"y\": [4, 4], \"type\": \"scatter\", \"uid\": \"34b25928-fa06-4727-ac0a-3c3331483fba\"}, {\"marker\": {\"color\": \"white\"}, \"name\": \"\", \"x\": [\"2018-06-30\", \"2018-07-01\"], \"y\": [4, 4], \"type\": \"scatter\", \"uid\": \"cade77d5-77af-44e5-a18f-1658f133f16d\"}, {\"marker\": {\"color\": \"white\"}, \"name\": \"\", \"x\": [\"2018-07-01\", \"2018-07-03\"], \"y\": [4, 4], \"type\": \"scatter\", \"uid\": \"b6be5e25-6365-4c6e-893c-715d5a9b788f\"}, {\"marker\": {\"color\": \"white\"}, \"name\": \"\", \"x\": [\"2018-07-03\", \"2018-07-06\"], \"y\": [4, 4], \"type\": \"scatter\", \"uid\": \"7a1de1f4-c45a-45e2-9e5f-f2a759015750\"}, {\"marker\": {\"color\": \"white\"}, \"name\": \"\", \"x\": [\"2018-07-06\", \"2018-07-06\"], \"y\": [4, 4], \"type\": \"scatter\", \"uid\": \"9ee63bd0-1349-4285-bdb4-62de7ecf970b\"}, {\"marker\": {\"color\": \"white\"}, \"name\": \"\", \"x\": [\"2018-07-06\", \"2018-07-07\"], \"y\": [4, 4], \"type\": \"scatter\", \"uid\": \"992e9dab-fca5-4353-a7be-018bf5c6cbe7\"}, {\"marker\": {\"color\": \"white\"}, \"name\": \"\", \"x\": [\"2018-07-07\", \"2018-07-08\"], \"y\": [4, 4], \"type\": \"scatter\", \"uid\": \"4a339f1f-d8f4-402c-a5f5-868aef705a07\"}, {\"marker\": {\"color\": \"white\"}, \"name\": \"\", \"x\": [\"2018-07-08\", \"2018-07-12\"], \"y\": [4, 4], \"type\": \"scatter\", \"uid\": \"0a8c4ed3-a38e-4d10-a67a-6f0571eb6f1a\"}, {\"marker\": {\"color\": \"white\"}, \"name\": \"\", \"x\": [\"2018-07-12\", \"2018-07-15\"], \"y\": [4, 4], \"type\": \"scatter\", \"uid\": \"f91b0ac7-fe76-47e9-a766-43735f04f01f\"}, {\"marker\": {\"color\": \"white\"}, \"name\": \"\", \"x\": [\"2018-07-15\", \"2018-07-17\"], \"y\": [4, 4], \"type\": \"scatter\", \"uid\": \"9079c277-c317-4f88-9471-c7a8004ef793\"}, {\"marker\": {\"color\": \"white\"}, \"name\": \"\", \"x\": [\"2018-07-17\", \"2018-07-18\"], \"y\": [4, 4], \"type\": \"scatter\", \"uid\": \"998e32df-dfe9-44f7-bfd3-51e52fd6ee0e\"}, {\"marker\": {\"color\": \"white\"}, \"name\": \"\", \"x\": [\"2018-07-18\", \"2018-07-20\"], \"y\": [4, 4], \"type\": \"scatter\", \"uid\": \"391f0378-2cfc-425d-9346-8e2d5eb0a899\"}, {\"marker\": {\"color\": \"white\"}, \"name\": \"\", \"x\": [\"2018-07-20\", \"2018-07-24\"], \"y\": [4, 4], \"type\": \"scatter\", \"uid\": \"8fef96f1-d6fb-4faf-a6d0-a0eff88c2511\"}, {\"marker\": {\"color\": \"white\"}, \"name\": \"\", \"x\": [\"2018-07-24\", \"2018-07-27\"], \"y\": [4, 4], \"type\": \"scatter\", \"uid\": \"b079687f-7c0d-47df-9da6-f31a6077a7e1\"}, {\"marker\": {\"color\": \"white\"}, \"name\": \"\", \"x\": [\"2018-07-27\", \"2018-07-29\"], \"y\": [4, 4], \"type\": \"scatter\", \"uid\": \"e3a58df5-c171-4f41-8789-1b40a4d82a5f\"}, {\"marker\": {\"color\": \"white\"}, \"name\": \"\", \"x\": [\"2018-07-29\", \"2018-08-01\"], \"y\": [4, 4], \"type\": \"scatter\", \"uid\": \"8ce40a62-8964-4470-949e-9fd4927deb9a\"}, {\"marker\": {\"color\": \"white\"}, \"name\": \"\", \"x\": [\"2018-08-01\", \"2018-08-04\"], \"y\": [4, 4], \"type\": \"scatter\", \"uid\": \"b7eb2f86-ac75-4cb7-99eb-77a1524ae75b\"}, {\"marker\": {\"color\": \"white\"}, \"name\": \"\", \"x\": [\"2018-08-04\", \"2018-08-08\"], \"y\": [4, 4], \"type\": \"scatter\", \"uid\": \"4cacfc7b-c3f3-46db-aae9-f04b2c182266\"}, {\"marker\": {\"color\": \"white\"}, \"name\": \"\", \"x\": [\"2018-08-08\", \"2018-08-12\"], \"y\": [4, 4], \"type\": \"scatter\", \"uid\": \"45bfba07-e2b6-4956-a6c9-1199963497a4\"}, {\"marker\": {\"color\": \"white\"}, \"name\": \"\", \"x\": [\"2018-08-12\", \"2018-08-13\"], \"y\": [4, 4], \"type\": \"scatter\", \"uid\": \"577c6bae-7136-4770-b19b-6925c5f90cd6\"}, {\"marker\": {\"color\": \"white\"}, \"name\": \"\", \"x\": [\"2018-08-13\", \"2018-08-20\"], \"y\": [4, 4], \"type\": \"scatter\", \"uid\": \"264da186-3616-4dea-934b-7ab37db49f4f\"}, {\"marker\": {\"color\": \"white\"}, \"name\": \"\", \"x\": [\"2018-08-20\", \"2018-08-22\"], \"y\": [4, 4], \"type\": \"scatter\", \"uid\": \"fb637c2a-275c-445b-b306-ae214586e0b0\"}, {\"marker\": {\"color\": \"white\"}, \"name\": \"\", \"x\": [\"2018-08-22\", \"2018-08-30\"], \"y\": [4, 4], \"type\": \"scatter\", \"uid\": \"7e2c53fa-4fd4-41ce-a377-48c2dcb9993d\"}, {\"marker\": {\"color\": \"white\"}, \"name\": \"\", \"x\": [\"2018-08-30\", \"2018-09-01\"], \"y\": [4, 4], \"type\": \"scatter\", \"uid\": \"8d7dd286-4f6b-46e6-baed-6edb2de1cea1\"}, {\"marker\": {\"color\": \"white\"}, \"name\": \"\", \"x\": [\"2018-09-01\", \"2018-09-17\"], \"y\": [4, 4], \"type\": \"scatter\", \"uid\": \"4f09b6b0-ad3c-4954-b6ca-ff57ebb02ee1\"}, {\"marker\": {\"color\": \"white\"}, \"name\": \"\", \"x\": [\"2018-09-17\", \"2018-09-18\"], \"y\": [4, 4], \"type\": \"scatter\", \"uid\": \"24456fb2-c0bf-448e-a8e7-90711c7e8240\"}, {\"marker\": {\"color\": \"white\"}, \"name\": \"\", \"x\": [\"2018-09-18\", \"2018-09-23\"], \"y\": [4, 4], \"type\": \"scatter\", \"uid\": \"1b0f2d9f-6dba-424c-8226-9be7e47ec87d\"}, {\"marker\": {\"color\": \"white\"}, \"name\": \"\", \"x\": [\"2018-09-23\", \"2018-09-27\"], \"y\": [4, 4], \"type\": \"scatter\", \"uid\": \"733cf1dc-1b35-4ac8-9be0-957793df1765\"}, {\"marker\": {\"color\": \"white\"}, \"name\": \"\", \"x\": [\"2018-09-27\", \"2018-09-29\"], \"y\": [4, 4], \"type\": \"scatter\", \"uid\": \"3dd8860d-e00a-4f2f-8af6-a55711ff6781\"}, {\"marker\": {\"color\": \"white\"}, \"name\": \"\", \"x\": [\"2018-09-29\", \"2018-09-30\"], \"y\": [4, 4], \"type\": \"scatter\", \"uid\": \"2bc23ec0-1bc5-46e5-a938-6f8716a753c3\"}, {\"marker\": {\"color\": \"white\"}, \"name\": \"\", \"x\": [\"2018-09-30\", \"2018-10-01\"], \"y\": [4, 4], \"type\": \"scatter\", \"uid\": \"2f43f489-97a4-445e-902e-39bb2f4b321d\"}, {\"marker\": {\"color\": \"white\"}, \"name\": \"\", \"x\": [\"2018-10-01\", \"2018-10-03\"], \"y\": [4, 4], \"type\": \"scatter\", \"uid\": \"e8cd5970-a181-4f70-891a-77811cabfaed\"}, {\"marker\": {\"color\": \"white\"}, \"name\": \"\", \"x\": [\"2018-10-03\", \"2018-10-04\"], \"y\": [4, 4], \"type\": \"scatter\", \"uid\": \"3fb1ff5a-3673-440d-bab5-f034f032b2e4\"}, {\"marker\": {\"color\": \"white\"}, \"name\": \"\", \"x\": [\"2018-10-04\", \"2018-10-05\"], \"y\": [4, 4], \"type\": \"scatter\", \"uid\": \"09db85e0-c15d-4979-b8d4-f0c41bd31877\"}, {\"marker\": {\"color\": \"white\"}, \"name\": \"\", \"x\": [\"2018-10-05\", \"2018-10-06\"], \"y\": [4, 4], \"type\": \"scatter\", \"uid\": \"e59827b0-6c1d-4de5-ad09-7db566ac53d2\"}, {\"marker\": {\"color\": \"white\"}, \"name\": \"\", \"x\": [\"2018-10-06\", \"2018-10-09\"], \"y\": [4, 4], \"type\": \"scatter\", \"uid\": \"3a5dd2d1-e31e-4657-90be-984d8a9da5d0\"}, {\"marker\": {\"color\": \"white\"}, \"name\": \"\", \"x\": [\"2018-10-09\", \"2018-10-12\"], \"y\": [4, 4], \"type\": \"scatter\", \"uid\": \"adbc652b-479f-4300-a6e7-27169ead2f34\"}, {\"marker\": {\"color\": \"white\"}, \"name\": \"\", \"x\": [\"2018-10-12\", \"2018-10-14\"], \"y\": [4, 4], \"type\": \"scatter\", \"uid\": \"30425b1e-d37d-47ac-b14a-2eca161493e4\"}, {\"marker\": {\"color\": \"white\"}, \"name\": \"\", \"x\": [\"2018-10-14\", \"2018-10-16\"], \"y\": [4, 4], \"type\": \"scatter\", \"uid\": \"d3866e46-ef9e-47de-96d1-ea1719b778c6\"}, {\"marker\": {\"color\": \"white\"}, \"name\": \"\", \"x\": [\"2018-10-16\", \"2018-10-19\"], \"y\": [4, 4], \"type\": \"scatter\", \"uid\": \"26a7e84f-82cd-434a-8f00-c6bcd9c5a083\"}, {\"marker\": {\"color\": \"white\"}, \"name\": \"\", \"x\": [\"2018-10-19\", \"2018-10-20\"], \"y\": [4, 4], \"type\": \"scatter\", \"uid\": \"7542e0b1-0be7-4a4f-8325-758e25d850e1\"}, {\"marker\": {\"color\": \"white\"}, \"name\": \"\", \"x\": [\"2018-10-20\", \"2018-10-21\"], \"y\": [4, 4], \"type\": \"scatter\", \"uid\": \"b8a2c73b-fabd-45a4-a4f0-e4d09a0e7a09\"}, {\"marker\": {\"color\": \"white\"}, \"name\": \"\", \"x\": [\"2018-10-21\", \"2018-10-23\"], \"y\": [4, 4], \"type\": \"scatter\", \"uid\": \"da465259-c156-4a78-b359-cc23f946a7aa\"}, {\"marker\": {\"color\": \"white\"}, \"name\": \"\", \"x\": [\"2018-10-23\", \"2018-10-26\"], \"y\": [4, 4], \"type\": \"scatter\", \"uid\": \"0e96e4db-e044-4f5a-9896-4f79d454f1f3\"}, {\"marker\": {\"color\": \"white\"}, \"name\": \"\", \"x\": [\"2018-11-26\", \"2018-11-27\"], \"y\": [3, 3], \"type\": \"scatter\", \"uid\": \"3cb29067-6536-4051-adea-43ab9b7b3189\"}, {\"marker\": {\"color\": \"white\"}, \"name\": \"\", \"x\": [\"2018-11-27\", \"2018-11-28\"], \"y\": [3, 3], \"type\": \"scatter\", \"uid\": \"60f101c9-5835-4cae-ad54-b9f895da8c1d\"}, {\"marker\": {\"color\": \"white\"}, \"name\": \"\", \"x\": [\"2018-11-28\", \"2018-12-01\"], \"y\": [3, 3], \"type\": \"scatter\", \"uid\": \"f9e8f108-736f-4208-be76-a88f33e25dcf\"}, {\"marker\": {\"color\": \"white\"}, \"name\": \"\", \"x\": [\"2010-08-01\", \"2010-08-16\"], \"y\": [4, 4], \"type\": \"scatter\", \"uid\": \"2bcf0a1e-a2cf-44f7-a940-13027ef0ccb1\"}, {\"marker\": {\"color\": \"white\"}, \"name\": \"\", \"x\": [\"2003-08-10\", \"2003-08-25\"], \"y\": [4, 4], \"type\": \"scatter\", \"uid\": \"74f80d51-3e84-44a1-9ee8-5d8fbeaef9f5\"}, {\"marker\": {\"color\": \"white\"}, \"name\": \"\", \"x\": [\"2004-08-14\", \"2004-08-15\"], \"y\": [4, 4], \"type\": \"scatter\", \"uid\": \"63dba169-6819-4226-b3cb-3de92d06cb22\"}, {\"marker\": {\"color\": \"white\"}, \"name\": \"\", \"x\": [\"2004-08-15\", \"2004-08-28\"], \"y\": [4, 4], \"type\": \"scatter\", \"uid\": \"887138a6-3b16-43d3-b9c0-c87b60a1b88d\"}, {\"marker\": {\"color\": \"white\"}, \"name\": \"\", \"x\": [\"2005-08-13\", \"2005-08-27\"], \"y\": [4, 4], \"type\": \"scatter\", \"uid\": \"ac7f4673-3e65-479b-8781-9f5e21ec536d\"}, {\"marker\": {\"color\": \"white\"}, \"name\": \"\", \"x\": [\"2006-08-13\", \"2006-08-26\"], \"y\": [4, 4], \"type\": \"scatter\", \"uid\": \"e82bb88c-f280-46f8-be3f-a3e339c2f3a4\"}, {\"marker\": {\"color\": \"white\"}, \"name\": \"\", \"x\": [\"2008-03-22\", \"2008-04-02\"], \"y\": [4, 4], \"type\": \"scatter\", \"uid\": \"7bddd75a-0673-4508-a183-c24d144fd4e4\"}, {\"marker\": {\"color\": \"white\"}, \"name\": \"\", \"x\": [\"2007-04-07\", \"2007-04-15\"], \"y\": [4, 4], \"type\": \"scatter\", \"uid\": \"034b49a5-336d-4ced-b9fd-6254c8c9b843\"}, {\"marker\": {\"color\": \"white\"}, \"name\": \"\", \"x\": [\"2006-02-11\", \"2006-02-19\"], \"y\": [4, 4], \"type\": \"scatter\", \"uid\": \"7fce9c6e-ccb1-4a5f-9beb-c01467dd27fc\"}, {\"marker\": {\"color\": \"white\"}, \"name\": \"\", \"x\": [\"2005-03-26\", \"2005-04-02\"], \"y\": [4, 4], \"type\": \"scatter\", \"uid\": \"ab197bd6-6ccd-4d1f-ac1d-a05a99b2b05e\"}, {\"marker\": {\"color\": \"white\"}, \"name\": \"\", \"x\": [\"2001-08-11\", \"2001-08-15\"], \"y\": [4, 4], \"type\": \"scatter\", \"uid\": \"54bfcab1-552c-4e1a-a71a-2b762b87754f\"}, {\"marker\": {\"color\": \"white\"}, \"name\": \"\", \"x\": [\"2001-08-15\", \"2001-08-18\"], \"y\": [4, 4], \"type\": \"scatter\", \"uid\": \"3e779791-6c08-4b57-9b7b-5ee50377fa5a\"}, {\"marker\": {\"color\": \"white\"}, \"name\": \"\", \"x\": [\"2001-08-18\", \"2001-08-26\"], \"y\": [4, 4], \"type\": \"scatter\", \"uid\": \"379cf1f1-f34f-4878-aedc-a5ac12a59090\"}, {\"marker\": {\"color\": \"white\"}, \"name\": \"\", \"x\": [\"2002-08-25\", \"2002-09-01\"], \"y\": [4, 4], \"type\": \"scatter\", \"uid\": \"576d29aa-0f8f-47d5-b4ae-de0452a6f85e\"}, {\"marker\": {\"color\": \"white\"}, \"name\": \"\", \"x\": [\"2007-08-12\", \"2007-08-13\"], \"y\": [2, 2], \"type\": \"scatter\", \"uid\": \"4eabe823-a609-484e-a107-5615fea2f07b\"}, {\"marker\": {\"color\": \"white\"}, \"name\": \"\", \"x\": [\"2007-08-13\", \"2007-08-17\"], \"y\": [2, 2], \"type\": \"scatter\", \"uid\": \"6f5d849b-bdaf-4a5a-8420-670fb62a809f\"}, {\"marker\": {\"color\": \"white\"}, \"name\": \"\", \"x\": [\"2007-08-17\", \"2007-08-18\"], \"y\": [2, 2], \"type\": \"scatter\", \"uid\": \"5ca0d430-4207-4a1e-9761-1d24fcc94875\"}, {\"marker\": {\"color\": \"white\"}, \"name\": \"\", \"x\": [\"2007-08-18\", \"2007-08-20\"], \"y\": [2, 2], \"type\": \"scatter\", \"uid\": \"5c0320e9-4e46-4898-af53-f448ba947bb4\"}, {\"marker\": {\"color\": \"white\"}, \"name\": \"\", \"x\": [\"2007-08-20\", \"2007-08-27\"], \"y\": [2, 2], \"type\": \"scatter\", \"uid\": \"00fe1d06-4f34-41c5-8b61-a8b427aa24b2\"}, {\"marker\": {\"color\": \"white\"}, \"name\": \"\", \"x\": [\"2008-08-01\", \"2008-08-07\"], \"y\": [4, 4], \"type\": \"scatter\", \"uid\": \"464d15c8-ea13-497b-82e0-d79b29e4f89e\"}, {\"marker\": {\"color\": \"white\"}, \"name\": \"\", \"x\": [\"2008-08-07\", \"2008-08-13\"], \"y\": [4, 4], \"type\": \"scatter\", \"uid\": \"a0dc7f9e-76f2-4406-88a1-4f3069194d8d\"}, {\"marker\": {\"color\": \"white\"}, \"name\": \"\", \"x\": [\"2008-08-13\", \"2008-08-16\"], \"y\": [4, 4], \"type\": \"scatter\", \"uid\": \"663a2185-a4f6-440c-9b34-92df85ebe6e5\"}, {\"marker\": {\"color\": \"white\"}, \"name\": \"\", \"x\": [\"2009-07-26\", \"2009-08-08\"], \"y\": [4, 4], \"type\": \"scatter\", \"uid\": \"0c1cce47-61b4-40de-af3f-d5c29bfad170\"}, {\"marker\": {\"color\": \"white\"}, \"name\": \"\", \"x\": [\"2010-02-14\", \"2010-02-15\"], \"y\": [4, 4], \"type\": \"scatter\", \"uid\": \"daa9b01f-ce77-4366-b85e-75861fc080a0\"}, {\"marker\": {\"color\": \"white\"}, \"name\": \"\", \"x\": [\"2013-07-28\", \"2013-07-30\"], \"y\": [4, 4], \"type\": \"scatter\", \"uid\": \"74c9d534-26c7-4d5a-8b13-868c993872ac\"}, {\"marker\": {\"color\": \"white\"}, \"name\": \"\", \"x\": [\"2013-07-30\", \"2013-08-01\"], \"y\": [4, 4], \"type\": \"scatter\", \"uid\": \"1638b01c-f909-40e9-9f00-55521cd98ce7\"}, {\"marker\": {\"color\": \"white\"}, \"name\": \"\", \"x\": [\"2013-08-01\", \"2013-08-03\"], \"y\": [4, 4], \"type\": \"scatter\", \"uid\": \"887f9fc5-3722-4067-a32f-b997008fe373\"}, {\"marker\": {\"color\": \"white\"}, \"name\": \"\", \"x\": [\"2013-08-03\", \"2013-08-10\"], \"y\": [4, 4], \"type\": \"scatter\", \"uid\": \"59ddaa7a-ba04-43fa-bef3-6b342085abea\"}, {\"marker\": {\"color\": \"white\"}, \"name\": \"\", \"x\": [\"2013-07-04\", \"2013-07-05\"], \"y\": [4, 4], \"type\": \"scatter\", \"uid\": \"80690305-ffd4-4b4b-bc5f-db0ea3b05ac4\"}, {\"marker\": {\"color\": \"white\"}, \"name\": \"\", \"x\": [\"2013-03-31\", \"2013-04-07\"], \"y\": [4, 4], \"type\": \"scatter\", \"uid\": \"a40fbf92-b2ec-47f3-8071-3c26546d2e44\"}, {\"marker\": {\"color\": \"white\"}, \"name\": \"\", \"x\": [\"2006-10-21\", \"2006-10-23\"], \"y\": [4, 4], \"type\": \"scatter\", \"uid\": \"839a606f-20b8-40ac-a66a-7ef85ca705b9\"}, {\"marker\": {\"color\": \"white\"}, \"name\": \"\", \"x\": [\"2006-10-23\", \"2006-10-24\"], \"y\": [4, 4], \"type\": \"scatter\", \"uid\": \"123ec022-24f2-47d2-8394-e338a9e845a4\"}, {\"marker\": {\"color\": \"white\"}, \"name\": \"\", \"x\": [\"2006-10-24\", \"2006-10-25\"], \"y\": [4, 4], \"type\": \"scatter\", \"uid\": \"0a7918ea-57a6-4e91-b6dc-f29eaa7eaad6\"}, {\"marker\": {\"color\": \"white\"}, \"name\": \"\", \"x\": [\"2017-10-16\", \"2017-10-16\"], \"y\": [2, 2], \"type\": \"scatter\", \"uid\": \"b18aa94d-d6e1-4692-b8c3-0b5ee5788bf5\"}, {\"marker\": {\"color\": \"white\"}, \"name\": \"\", \"x\": [\"2017-10-16\", \"2017-10-16\"], \"y\": [2, 2], \"type\": \"scatter\", \"uid\": \"e604d171-6b7f-44d6-aacb-0517b3816f1c\"}, {\"marker\": {\"color\": \"white\"}, \"name\": \"\", \"x\": [\"2017-10-16\", \"2017-10-20\"], \"y\": [2, 2], \"type\": \"scatter\", \"uid\": \"21a83b6a-fa37-4f28-a103-3d30b537acaa\"}, {\"marker\": {\"color\": \"white\"}, \"name\": \"\", \"x\": [\"2017-10-20\", \"2017-10-23\"], \"y\": [2, 2], \"type\": \"scatter\", \"uid\": \"170dcda0-6532-48db-90f6-18fce1732ec7\"}, {\"marker\": {\"color\": \"white\"}, \"name\": \"\", \"x\": [\"2017-10-23\", \"2017-10-27\"], \"y\": [2, 2], \"type\": \"scatter\", \"uid\": \"3ea5f8e4-0b1d-4049-a7b1-e55f0d212493\"}, {\"marker\": {\"color\": \"white\"}, \"name\": \"\", \"x\": [\"2017-10-27\", \"2017-10-30\"], \"y\": [2, 2], \"type\": \"scatter\", \"uid\": \"31cba55f-7f16-44b0-8329-96649f0c98f1\"}, {\"marker\": {\"color\": \"white\"}, \"name\": \"\", \"x\": [\"2017-10-30\", \"2017-11-01\"], \"y\": [2, 2], \"type\": \"scatter\", \"uid\": \"1d8a7841-d2d3-4a6a-91c4-534948923f57\"}, {\"marker\": {\"color\": \"white\"}, \"name\": \"\", \"x\": [\"2017-11-01\", \"2017-11-03\"], \"y\": [2, 2], \"type\": \"scatter\", \"uid\": \"d8919f6c-18bd-44de-830f-467b67e6c3bf\"}, {\"marker\": {\"color\": \"white\"}, \"name\": \"\", \"x\": [\"2017-11-03\", \"2017-11-08\"], \"y\": [2, 2], \"type\": \"scatter\", \"uid\": \"7c863f76-3d7f-4cda-92ad-feed709e0c37\"}, {\"marker\": {\"color\": \"white\"}, \"name\": \"\", \"x\": [\"2017-11-08\", \"2017-11-10\"], \"y\": [2, 2], \"type\": \"scatter\", \"uid\": \"ba453cd0-70ea-419d-ad22-e5e711782c1b\"}, {\"marker\": {\"color\": \"white\"}, \"name\": \"\", \"x\": [\"2017-11-10\", \"2017-11-16\"], \"y\": [2, 2], \"type\": \"scatter\", \"uid\": \"9adfc7f3-3ec7-4e08-a8ba-8f7c9c9ce199\"}, {\"marker\": {\"color\": \"white\"}, \"name\": \"\", \"x\": [\"2017-11-16\", \"2017-11-20\"], \"y\": [2, 2], \"type\": \"scatter\", \"uid\": \"878ee2dd-d097-40ab-840e-2655dd688992\"}, {\"marker\": {\"color\": \"white\"}, \"name\": \"\", \"x\": [\"2017-11-20\", \"2017-11-25\"], \"y\": [2, 2], \"type\": \"scatter\", \"uid\": \"d1cb5f08-bb2a-4965-877a-1cea37503ffe\"}, {\"marker\": {\"color\": \"white\"}, \"name\": \"\", \"x\": [\"2017-11-25\", \"2017-12-03\"], \"y\": [2, 2], \"type\": \"scatter\", \"uid\": \"d1be6d25-7eb0-45c9-b223-3e656a02f328\"}, {\"marker\": {\"color\": \"white\"}, \"name\": \"\", \"x\": [\"2011-01-15\", \"2011-02-07\"], \"y\": [1, 1], \"type\": \"scatter\", \"uid\": \"bb842777-37fa-40cb-a59e-0701e5e4a04c\"}, {\"marker\": {\"color\": \"white\"}, \"name\": \"\", \"x\": [\"2011-02-07\", \"2011-02-14\"], \"y\": [1, 1], \"type\": \"scatter\", \"uid\": \"7aa55c19-8cf0-438b-9f03-0a793e058b12\"}, {\"marker\": {\"color\": \"white\"}, \"name\": \"\", \"x\": [\"2011-02-14\", \"2011-02-20\"], \"y\": [1, 1], \"type\": \"scatter\", \"uid\": \"0808398d-2e7e-4f99-9b44-14bf7f8d6a51\"}, {\"marker\": {\"color\": \"white\"}, \"name\": \"\", \"x\": [\"2011-02-20\", \"2011-02-23\"], \"y\": [1, 1], \"type\": \"scatter\", \"uid\": \"0c703399-b210-42a9-8732-8e1421968a75\"}, {\"marker\": {\"color\": \"white\"}, \"name\": \"\", \"x\": [\"2011-02-23\", \"2011-02-24\"], \"y\": [1, 1], \"type\": \"scatter\", \"uid\": \"a1d88301-adc9-441e-a371-1cd310e26299\"}, {\"marker\": {\"color\": \"white\"}, \"name\": \"\", \"x\": [\"2011-02-24\", \"2011-03-03\"], \"y\": [1, 1], \"type\": \"scatter\", \"uid\": \"ab41a31e-97b1-44b7-b5ce-a8a7151735fe\"}, {\"marker\": {\"color\": \"white\"}, \"name\": \"\", \"x\": [\"2011-03-03\", \"2011-03-03\"], \"y\": [1, 1], \"type\": \"scatter\", \"uid\": \"cc595744-f751-4963-aa56-403265a280d4\"}, {\"marker\": {\"color\": \"white\"}, \"name\": \"\", \"x\": [\"2011-03-03\", \"2011-03-06\"], \"y\": [1, 1], \"type\": \"scatter\", \"uid\": \"fbb3e2dd-ff4a-48f9-be78-9aa41f85626b\"}, {\"marker\": {\"color\": \"white\"}, \"name\": \"\", \"x\": [\"2011-03-06\", \"2011-03-09\"], \"y\": [1, 1], \"type\": \"scatter\", \"uid\": \"e8788be7-4c1f-436d-a65c-384200bdbef2\"}, {\"marker\": {\"color\": \"white\"}, \"name\": \"\", \"x\": [\"2011-03-09\", \"2011-03-13\"], \"y\": [1, 1], \"type\": \"scatter\", \"uid\": \"67510438-e227-41c0-b1fe-bcd175ac0f80\"}, {\"marker\": {\"color\": \"white\"}, \"name\": \"\", \"x\": [\"2011-03-13\", \"2011-03-15\"], \"y\": [1, 1], \"type\": \"scatter\", \"uid\": \"420f1c19-8e87-4eb5-b311-d7579173e759\"}, {\"marker\": {\"color\": \"white\"}, \"name\": \"\", \"x\": [\"2011-03-15\", \"2011-03-17\"], \"y\": [1, 1], \"type\": \"scatter\", \"uid\": \"33a4484c-30de-45ee-ab88-1ad9020c8fc8\"}, {\"marker\": {\"color\": \"white\"}, \"name\": \"\", \"x\": [\"2011-03-17\", \"2011-03-22\"], \"y\": [1, 1], \"type\": \"scatter\", \"uid\": \"1f2e24f2-7388-4992-8fd4-8dfaae9c221b\"}, {\"marker\": {\"color\": \"white\"}, \"name\": \"\", \"x\": [\"2011-03-22\", \"2011-03-25\"], \"y\": [1, 1], \"type\": \"scatter\", \"uid\": \"acd6a26f-faba-4914-aa8c-5619478a17d7\"}, {\"marker\": {\"color\": \"white\"}, \"name\": \"\", \"x\": [\"2011-03-25\", \"2011-03-31\"], \"y\": [1, 1], \"type\": \"scatter\", \"uid\": \"2335ca2e-5ffa-46d7-9af8-817212ba1267\"}, {\"marker\": {\"color\": \"white\"}, \"name\": \"\", \"x\": [\"2011-03-31\", \"2011-04-05\"], \"y\": [1, 1], \"type\": \"scatter\", \"uid\": \"5b52ebcb-8c9a-4603-8469-98a3ea09400c\"}, {\"marker\": {\"color\": \"white\"}, \"name\": \"\", \"x\": [\"2011-04-05\", \"2011-04-09\"], \"y\": [0, 0], \"type\": \"scatter\", \"uid\": \"74c3b024-745c-4bbd-80fe-871c69ba1728\"}, {\"marker\": {\"color\": \"white\"}, \"name\": \"\", \"x\": [\"2011-04-09\", \"2011-04-12\"], \"y\": [0, 0], \"type\": \"scatter\", \"uid\": \"7d31b922-a4b0-4025-b922-8992c59d0fde\"}, {\"marker\": {\"color\": \"white\"}, \"name\": \"\", \"x\": [\"2011-04-12\", \"2011-04-14\"], \"y\": [0, 0], \"type\": \"scatter\", \"uid\": \"4e267251-3dd2-4fa1-8347-fec97fba86c5\"}, {\"marker\": {\"color\": \"white\"}, \"name\": \"\", \"x\": [\"2011-04-14\", \"2011-04-18\"], \"y\": [0, 0], \"type\": \"scatter\", \"uid\": \"68c75744-4424-46a0-9edb-4f2201f84705\"}, {\"marker\": {\"color\": \"white\"}, \"name\": \"\", \"x\": [\"2011-04-18\", \"2011-04-20\"], \"y\": [0, 0], \"type\": \"scatter\", \"uid\": \"5a559cae-f73f-4cab-8a43-e2b1640c7f9b\"}, {\"marker\": {\"color\": \"white\"}, \"name\": \"\", \"x\": [\"2011-04-20\", \"2011-04-25\"], \"y\": [0, 0], \"type\": \"scatter\", \"uid\": \"d4051a4b-8891-4e50-83dc-6378080725d2\"}, {\"marker\": {\"color\": \"white\"}, \"name\": \"\", \"x\": [\"2011-04-25\", \"2011-05-02\"], \"y\": [0, 0], \"type\": \"scatter\", \"uid\": \"4fd176e2-7a7d-4254-a3b1-a66597b9f226\"}, {\"marker\": {\"color\": \"white\"}, \"name\": \"\", \"x\": [\"2011-05-02\", \"2011-05-05\"], \"y\": [0, 0], \"type\": \"scatter\", \"uid\": \"c7f81ee3-c6a4-4021-a1cd-4049ba3f0d20\"}, {\"marker\": {\"color\": \"white\"}, \"name\": \"\", \"x\": [\"2011-05-05\", \"2011-05-06\"], \"y\": [0, 0], \"type\": \"scatter\", \"uid\": \"73e23a82-2427-402e-aabb-0497a14b3f10\"}, {\"marker\": {\"color\": \"white\"}, \"name\": \"\", \"x\": [\"2011-05-06\", \"2011-06-18\"], \"y\": [0, 0], \"type\": \"scatter\", \"uid\": \"8bfbec26-f5cf-4e52-95ec-77abc78320d6\"}, {\"marker\": {\"color\": \"white\"}, \"name\": \"\", \"x\": [\"2011-06-18\", \"2011-06-21\"], \"y\": [0, 0], \"type\": \"scatter\", \"uid\": \"db6184e1-6621-4036-9f2f-29f29d01bb57\"}, {\"marker\": {\"color\": \"white\"}, \"name\": \"\", \"x\": [\"2011-06-21\", \"2011-06-25\"], \"y\": [0, 0], \"type\": \"scatter\", \"uid\": \"58ab633d-81ae-425d-9727-9a31813d88a7\"}, {\"marker\": {\"color\": \"white\"}, \"name\": \"\", \"x\": [\"2011-06-25\", \"2011-06-28\"], \"y\": [0, 0], \"type\": \"scatter\", \"uid\": \"8f304038-03b1-4f4c-8a15-d84e1b3ceee6\"}, {\"marker\": {\"color\": \"white\"}, \"name\": \"\", \"x\": [\"2011-06-28\", \"2011-06-29\"], \"y\": [0, 0], \"type\": \"scatter\", \"uid\": \"ddb88dc9-bf60-428b-b5b7-502ee47c1e66\"}, {\"marker\": {\"color\": \"white\"}, \"name\": \"\", \"x\": [\"2011-06-29\", \"2011-07-20\"], \"y\": [0, 0], \"type\": \"scatter\", \"uid\": \"c5758ed2-4cdb-4c8e-825a-804dcb20268d\"}, {\"marker\": {\"color\": \"white\"}, \"name\": \"\", \"x\": [\"2011-07-20\", \"2011-07-22\"], \"y\": [2, 2], \"type\": \"scatter\", \"uid\": \"f09301fe-3637-428b-9b7a-808b3e7b5cf1\"}, {\"marker\": {\"color\": \"white\"}, \"name\": \"\", \"x\": [\"2011-07-22\", \"2011-07-23\"], \"y\": [2, 2], \"type\": \"scatter\", \"uid\": \"1f1e085a-b2b4-4b37-b9de-3fc818eb083b\"}, {\"marker\": {\"color\": \"white\"}, \"name\": \"\", \"x\": [\"2011-07-23\", \"2011-07-24\"], \"y\": [2, 2], \"type\": \"scatter\", \"uid\": \"ea8942d2-fbb0-4244-a93a-295a3cda838f\"}, {\"marker\": {\"color\": \"white\"}, \"name\": \"\", \"x\": [\"2011-07-24\", \"2011-07-26\"], \"y\": [2, 2], \"type\": \"scatter\", \"uid\": \"6013ce1f-f96e-4c4e-a650-a1e77bd3f047\"}, {\"marker\": {\"color\": \"white\"}, \"name\": \"\", \"x\": [\"2011-07-26\", \"2011-07-28\"], \"y\": [2, 2], \"type\": \"scatter\", \"uid\": \"6b96b8f6-c50a-4e04-b2ba-3d1014ed312d\"}, {\"marker\": {\"color\": \"white\"}, \"name\": \"\", \"x\": [\"2011-07-28\", \"2011-07-28\"], \"y\": [2, 2], \"type\": \"scatter\", \"uid\": \"3a538b99-3e43-4027-80b6-1dca3484ef8d\"}, {\"marker\": {\"color\": \"white\"}, \"name\": \"\", \"x\": [\"2011-07-28\", \"2011-07-29\"], \"y\": [2, 2], \"type\": \"scatter\", \"uid\": \"2eba53e3-9152-40b4-a5b3-da32e4c4ae3c\"}, {\"marker\": {\"color\": \"white\"}, \"name\": \"\", \"x\": [\"2011-07-29\", \"2011-07-31\"], \"y\": [2, 2], \"type\": \"scatter\", \"uid\": \"5dfa9f57-9ee2-4410-b1e5-280802ea6ed7\"}, {\"marker\": {\"color\": \"white\"}, \"name\": \"\", \"x\": [\"2011-07-31\", \"2011-08-01\"], \"y\": [2, 2], \"type\": \"scatter\", \"uid\": \"5ae8d15f-4f5d-45b6-bf24-83fdcd7da157\"}, {\"marker\": {\"color\": \"white\"}, \"name\": \"\", \"x\": [\"2011-08-01\", \"2011-08-03\"], \"y\": [2, 2], \"type\": \"scatter\", \"uid\": \"1abe1e34-f0ef-47c1-998b-fa9e2bce5726\"}, {\"marker\": {\"color\": \"white\"}, \"name\": \"\", \"x\": [\"2011-08-03\", \"2011-08-04\"], \"y\": [2, 2], \"type\": \"scatter\", \"uid\": \"9ab1e728-b50a-4061-832d-875ef83607f2\"}, {\"marker\": {\"color\": \"white\"}, \"name\": \"\", \"x\": [\"2011-08-04\", \"2011-08-05\"], \"y\": [2, 2], \"type\": \"scatter\", \"uid\": \"9031678e-8a78-4469-b0af-a2f18fc419d5\"}, {\"marker\": {\"color\": \"white\"}, \"name\": \"\", \"x\": [\"2011-08-05\", \"2011-08-06\"], \"y\": [2, 2], \"type\": \"scatter\", \"uid\": \"966698cc-bca2-4932-8a11-81242116f1ac\"}, {\"marker\": {\"color\": \"white\"}, \"name\": \"\", \"x\": [\"2011-08-06\", \"2011-08-07\"], \"y\": [2, 2], \"type\": \"scatter\", \"uid\": \"627e3a8d-9ed1-4200-ae9e-d2bcf3534390\"}, {\"marker\": {\"color\": \"white\"}, \"name\": \"\", \"x\": [\"2011-08-07\", \"2011-08-08\"], \"y\": [2, 2], \"type\": \"scatter\", \"uid\": \"7853fd5b-bd4b-4c9c-be2e-49292fb64282\"}, {\"marker\": {\"color\": \"white\"}, \"name\": \"\", \"x\": [\"2011-08-08\", \"2011-08-09\"], \"y\": [2, 2], \"type\": \"scatter\", \"uid\": \"b825de13-14e3-4a62-8868-f8703b8627df\"}, {\"marker\": {\"color\": \"white\"}, \"name\": \"\", \"x\": [\"2011-08-09\", \"2011-08-09\"], \"y\": [2, 2], \"type\": \"scatter\", \"uid\": \"46763201-e599-485c-9559-177ade1b0d8a\"}, {\"marker\": {\"color\": \"white\"}, \"name\": \"\", \"x\": [\"2011-08-09\", \"2011-08-12\"], \"y\": [2, 2], \"type\": \"scatter\", \"uid\": \"10f2f0b5-10c3-49ab-a014-0438ffd20a51\"}, {\"marker\": {\"color\": \"white\"}, \"name\": \"\", \"x\": [\"2011-08-12\", \"2011-08-17\"], \"y\": [2, 2], \"type\": \"scatter\", \"uid\": \"f9bf75b0-f9d8-47e4-9946-e31a1de96c52\"}, {\"marker\": {\"color\": \"white\"}, \"name\": \"\", \"x\": [\"2011-08-17\", \"2011-08-19\"], \"y\": [2, 2], \"type\": \"scatter\", \"uid\": \"d14c64cb-6754-4417-8ffd-1dfd9d3df6d9\"}, {\"marker\": {\"color\": \"white\"}, \"name\": \"\", \"x\": [\"2011-08-19\", \"2011-08-20\"], \"y\": [2, 2], \"type\": \"scatter\", \"uid\": \"60164be5-a750-4980-bdb4-019341e9e545\"}, {\"marker\": {\"color\": \"white\"}, \"name\": \"\", \"x\": [\"2011-08-20\", \"2011-08-22\"], \"y\": [2, 2], \"type\": \"scatter\", \"uid\": \"123c9906-64f5-4fcd-b0d5-b5929147354f\"}, {\"marker\": {\"color\": \"white\"}, \"name\": \"\", \"x\": [\"2011-08-22\", \"2011-08-24\"], \"y\": [2, 2], \"type\": \"scatter\", \"uid\": \"8f59dbc4-08f8-4600-aa10-fe913fb2e5f1\"}, {\"marker\": {\"color\": \"white\"}, \"name\": \"\", \"x\": [\"2011-08-24\", \"2011-08-25\"], \"y\": [2, 2], \"type\": \"scatter\", \"uid\": \"6b08cdf0-0a3e-4134-bb87-f0291a9113a3\"}, {\"marker\": {\"color\": \"white\"}, \"name\": \"\", \"x\": [\"2011-08-25\", \"2011-08-29\"], \"y\": [4, 4], \"type\": \"scatter\", \"uid\": \"b607795e-9513-4632-b3d8-0e28e0a5272e\"}, {\"marker\": {\"color\": \"white\"}, \"name\": \"\", \"x\": [\"2016-08-24\", \"2016-08-26\"], \"y\": [4, 4], \"type\": \"scatter\", \"uid\": \"efaed672-3e3c-43fd-9f64-467d4ac0231c\"}, {\"marker\": {\"color\": \"white\"}, \"name\": \"\", \"x\": [\"2016-08-26\", \"2016-08-27\"], \"y\": [4, 4], \"type\": \"scatter\", \"uid\": \"a2827782-9e4d-4c05-8539-b0e840aad88d\"}, {\"marker\": {\"color\": \"white\"}, \"name\": \"\", \"x\": [\"2016-08-27\", \"2016-08-28\"], \"y\": [4, 4], \"type\": \"scatter\", \"uid\": \"302477d8-32ab-4ce4-b9e6-a10863aa3587\"}, {\"marker\": {\"color\": \"white\"}, \"name\": \"\", \"x\": [\"2016-08-28\", \"2016-09-05\"], \"y\": [4, 4], \"type\": \"scatter\", \"uid\": \"813327ec-265b-43b3-820e-b2296fbaff91\"}, {\"marker\": {\"color\": \"white\"}, \"name\": \"\", \"x\": [\"2016-09-05\", \"2016-09-10\"], \"y\": [4, 4], \"type\": \"scatter\", \"uid\": \"cc24a1fa-4675-44d2-b8fb-6c8b4c266e1a\"}, {\"marker\": {\"color\": \"white\"}, \"name\": \"\", \"x\": [\"2016-09-10\", \"2016-09-15\"], \"y\": [4, 4], \"type\": \"scatter\", \"uid\": \"2dd5ce99-b12f-49ce-bdbf-eb0e9f0671d3\"}, {\"marker\": {\"color\": \"white\"}, \"name\": \"\", \"x\": [\"2016-09-15\", \"2016-09-16\"], \"y\": [4, 4], \"type\": \"scatter\", \"uid\": \"3f55e768-837d-497b-bdad-bf4bd700ca8b\"}, {\"marker\": {\"color\": \"white\"}, \"name\": \"\", \"x\": [\"2016-09-16\", \"2016-09-17\"], \"y\": [4, 4], \"type\": \"scatter\", \"uid\": \"bc856363-ff71-4768-b131-619e3b1b94cc\"}, {\"marker\": {\"color\": \"white\"}, \"name\": \"\", \"x\": [\"2016-09-17\", \"2016-09-24\"], \"y\": [4, 4], \"type\": \"scatter\", \"uid\": \"4547b690-9a16-4c7a-9957-158a63c610d5\"}, {\"marker\": {\"color\": \"white\"}, \"name\": \"\", \"x\": [\"2016-09-24\", \"2016-09-24\"], \"y\": [4, 4], \"type\": \"scatter\", \"uid\": \"79669fc1-c03c-4998-99d4-d0309db29e0f\"}, {\"marker\": {\"color\": \"white\"}, \"name\": \"\", \"x\": [\"2016-09-24\", \"2016-09-25\"], \"y\": [4, 4], \"type\": \"scatter\", \"uid\": \"a50ecbb4-26bb-4e35-934a-1364fcc03412\"}, {\"marker\": {\"color\": \"white\"}, \"name\": \"\", \"x\": [\"2016-09-25\", \"2016-09-27\"], \"y\": [4, 4], \"type\": \"scatter\", \"uid\": \"be07ff71-7d62-480b-aa74-824152f34efa\"}, {\"marker\": {\"color\": \"white\"}, \"name\": \"\", \"x\": [\"2016-09-27\", \"2016-09-29\"], \"y\": [2, 2], \"type\": \"scatter\", \"uid\": \"c7c5733c-94e7-4524-b203-4a2e3dbd8cc9\"}, {\"marker\": {\"color\": \"white\"}, \"name\": \"\", \"x\": [\"2014-07-19\", \"2014-07-21\"], \"y\": [4, 4], \"type\": \"scatter\", \"uid\": \"ace5f5ad-1f24-47a9-81e7-7fb4e9551c6c\"}, {\"marker\": {\"color\": \"white\"}, \"name\": \"\", \"x\": [\"2014-07-21\", \"2014-07-21\"], \"y\": [4, 4], \"type\": \"scatter\", \"uid\": \"f1707b19-9b19-4564-aba4-4a4f562cac4e\"}, {\"marker\": {\"color\": \"white\"}, \"name\": \"\", \"x\": [\"2014-07-21\", \"2014-07-23\"], \"y\": [4, 4], \"type\": \"scatter\", \"uid\": \"759b4a43-4077-404b-b1ca-1b2a108da9e7\"}, {\"marker\": {\"color\": \"white\"}, \"name\": \"\", \"x\": [\"2014-07-23\", \"2014-07-26\"], \"y\": [4, 4], \"type\": \"scatter\", \"uid\": \"9d59ad1f-022f-4664-9fea-0c4fa1ab0d9b\"}, {\"marker\": {\"color\": \"white\"}, \"name\": \"\", \"x\": [\"2014-07-26\", \"2014-07-29\"], \"y\": [4, 4], \"type\": \"scatter\", \"uid\": \"81907015-9d2b-419e-b554-f2a9c216e879\"}, {\"marker\": {\"color\": \"white\"}, \"name\": \"\", \"x\": [\"2014-07-29\", \"2014-07-29\"], \"y\": [4, 4], \"type\": \"scatter\", \"uid\": \"d6fedf69-3edc-44b5-bf29-f9ed1c3b97b6\"}, {\"marker\": {\"color\": \"white\"}, \"name\": \"\", \"x\": [\"2014-07-29\", \"2014-07-29\"], \"y\": [4, 4], \"type\": \"scatter\", \"uid\": \"a920f27a-215d-4f31-8b51-01bbddef9718\"}, {\"marker\": {\"color\": \"white\"}, \"name\": \"\", \"x\": [\"2014-07-29\", \"2014-08-02\"], \"y\": [4, 4], \"type\": \"scatter\", \"uid\": \"1198db89-bb1f-474b-8d19-11ef523b631a\"}, {\"marker\": {\"color\": \"white\"}, \"name\": \"\", \"x\": [\"2014-08-02\", \"2014-08-05\"], \"y\": [4, 4], \"type\": \"scatter\", \"uid\": \"f85cb4fd-47cc-41fd-a2ec-65ee90d388ba\"}, {\"marker\": {\"color\": \"white\"}, \"name\": \"\", \"x\": [\"2014-08-05\", \"2014-08-06\"], \"y\": [4, 4], \"type\": \"scatter\", \"uid\": \"98d4637f-4f79-44b6-99cd-ee9738c797b1\"}, {\"marker\": {\"color\": \"white\"}, \"name\": \"\", \"x\": [\"2014-08-06\", \"2014-08-12\"], \"y\": [4, 4], \"type\": \"scatter\", \"uid\": \"9afa4708-17ba-4435-8a29-84e9ceab035d\"}, {\"marker\": {\"color\": \"white\"}, \"name\": \"\", \"x\": [\"2014-08-12\", \"2014-08-15\"], \"y\": [4, 4], \"type\": \"scatter\", \"uid\": \"68e94835-5fb5-4aab-b14a-be2908f69b51\"}, {\"marker\": {\"color\": \"white\"}, \"name\": \"\", \"x\": [\"2014-08-15\", \"2014-08-16\"], \"y\": [4, 4], \"type\": \"scatter\", \"uid\": \"c86751d7-c070-46af-87d7-83bca1c6c30b\"}, {\"marker\": {\"color\": \"white\"}, \"name\": \"\", \"x\": [\"2014-08-16\", \"2014-08-18\"], \"y\": [4, 4], \"type\": \"scatter\", \"uid\": \"c99d8b38-23d4-4545-b6a6-e2462f39aa95\"}, {\"marker\": {\"color\": \"white\"}, \"name\": \"\", \"x\": [\"2014-08-18\", \"2014-08-20\"], \"y\": [4, 4], \"type\": \"scatter\", \"uid\": \"a8e0653a-f275-433f-b93d-73968a422c73\"}, {\"marker\": {\"color\": \"white\"}, \"name\": \"\", \"x\": [\"2014-08-20\", \"2014-08-22\"], \"y\": [4, 4], \"type\": \"scatter\", \"uid\": \"06f32587-a017-47d1-9af3-6692c7391534\"}, {\"marker\": {\"color\": \"white\"}, \"name\": \"\", \"x\": [\"2014-08-22\", \"2014-08-22\"], \"y\": [4, 4], \"type\": \"scatter\", \"uid\": \"c4a4efac-6473-4896-ae90-0ac94f0c2a1f\"}, {\"marker\": {\"color\": \"white\"}, \"name\": \"\", \"x\": [\"2014-08-22\", \"2014-08-25\"], \"y\": [4, 4], \"type\": \"scatter\", \"uid\": \"1a40f0b3-dc2f-4042-a02d-5b2dfe39347a\"}, {\"marker\": {\"color\": \"white\"}, \"name\": \"\", \"x\": [\"2014-08-25\", \"2014-08-26\"], \"y\": [4, 4], \"type\": \"scatter\", \"uid\": \"880323d0-e2b2-4389-8a8e-f6a0844538e9\"}, {\"marker\": {\"color\": \"white\"}, \"name\": \"\", \"x\": [\"2014-08-26\", \"2014-08-28\"], \"y\": [4, 4], \"type\": \"scatter\", \"uid\": \"f40d3350-df81-48a6-8302-afb972edfd2c\"}, {\"marker\": {\"color\": \"white\"}, \"name\": \"\", \"x\": [\"2013-12-28\", \"2014-01-04\"], \"y\": [4, 4], \"type\": \"scatter\", \"uid\": \"89035bbb-f909-46eb-8ee5-8057f9043834\"}, {\"marker\": {\"color\": \"white\"}, \"name\": \"\", \"x\": [\"2015-07-15\", \"2015-07-18\"], \"y\": [4, 4], \"type\": \"scatter\", \"uid\": \"6fafc87f-ae2e-4e92-888e-7004af4cbd1c\"}, {\"marker\": {\"color\": \"white\"}, \"name\": \"\", \"x\": [\"2015-07-18\", \"2015-07-20\"], \"y\": [4, 4], \"type\": \"scatter\", \"uid\": \"78005fec-6a78-47e4-b751-7546deb24a58\"}, {\"marker\": {\"color\": \"white\"}, \"name\": \"\", \"x\": [\"2015-07-20\", \"2015-07-23\"], \"y\": [4, 4], \"type\": \"scatter\", \"uid\": \"93624dd2-cf07-4657-9d76-bd4aa7f3950e\"}, {\"marker\": {\"color\": \"white\"}, \"name\": \"\", \"x\": [\"2015-07-23\", \"2015-07-25\"], \"y\": [4, 4], \"type\": \"scatter\", \"uid\": \"d4fe3352-f4a8-47e7-9ebc-186788dc9ce4\"}, {\"marker\": {\"color\": \"white\"}, \"name\": \"\", \"x\": [\"2015-07-25\", \"2015-08-01\"], \"y\": [4, 4], \"type\": \"scatter\", \"uid\": \"29c309ea-af3c-405a-9b03-9cf58da24a6a\"}, {\"marker\": {\"color\": \"white\"}, \"name\": \"\", \"x\": [\"2015-08-01\", \"2015-08-02\"], \"y\": [4, 4], \"type\": \"scatter\", \"uid\": \"838dd491-b882-4844-95a7-11e920e80b0a\"}, {\"marker\": {\"color\": \"white\"}, \"name\": \"\", \"x\": [\"2014-12-27\", \"2015-01-03\"], \"y\": [4, 4], \"type\": \"scatter\", \"uid\": \"34a2b0f0-d8ee-43d2-8de4-ee9bc844d3ee\"}, {\"marker\": {\"color\": \"white\"}, \"name\": \"\", \"x\": [\"2015-01-18\", \"2015-01-23\"], \"y\": [4, 4], \"type\": \"scatter\", \"uid\": \"2c7eaf0d-dd06-43d8-a351-fb70343ff551\"}, {\"marker\": {\"color\": \"white\"}, \"name\": \"\", \"x\": [\"2017-05-26\", \"2017-05-26\"], \"y\": [2, 2], \"type\": \"scatter\", \"uid\": \"e7dfea6c-a306-46fc-b1c2-56cf4d60c968\"}, {\"marker\": {\"color\": \"white\"}, \"name\": \"\", \"x\": [\"2017-05-26\", \"2017-05-31\"], \"y\": [2, 2], \"type\": \"scatter\", \"uid\": \"3bd60851-ab22-4b98-b235-589473e58927\"}, {\"marker\": {\"color\": \"white\"}, \"name\": \"\", \"x\": [\"2017-05-31\", \"2017-06-03\"], \"y\": [2, 2], \"type\": \"scatter\", \"uid\": \"f298a60c-8438-49a8-83cd-94ab1e61ea29\"}, {\"marker\": {\"color\": \"white\"}, \"name\": \"\", \"x\": [\"2017-06-03\", \"2017-06-05\"], \"y\": [2, 2], \"type\": \"scatter\", \"uid\": \"5750b360-b3ca-4bb9-90c9-bdce54f34300\"}, {\"marker\": {\"color\": \"white\"}, \"name\": \"\", \"x\": [\"2017-06-05\", \"2017-06-08\"], \"y\": [2, 2], \"type\": \"scatter\", \"uid\": \"2f69482b-8ce5-4c4d-96f0-5c3d9775a3bc\"}, {\"marker\": {\"color\": \"white\"}, \"name\": \"\", \"x\": [\"2017-06-08\", \"2017-06-10\"], \"y\": [2, 2], \"type\": \"scatter\", \"uid\": \"ccba7ca3-9ec3-430d-b64e-8c17f0a4ba4d\"}, {\"marker\": {\"color\": \"white\"}, \"name\": \"\", \"x\": [\"2017-06-10\", \"2017-06-11\"], \"y\": [2, 2], \"type\": \"scatter\", \"uid\": \"9e56dd3f-ade0-4922-8493-1340552d8642\"}, {\"marker\": {\"color\": \"white\"}, \"name\": \"\", \"x\": [\"2017-06-11\", \"2017-06-11\"], \"y\": [2, 2], \"type\": \"scatter\", \"uid\": \"65a44a41-ddfc-4f7d-bd35-673a4b14f85d\"}, {\"marker\": {\"color\": \"white\"}, \"name\": \"\", \"x\": [\"2017-06-11\", \"2017-06-12\"], \"y\": [2, 2], \"type\": \"scatter\", \"uid\": \"227a3ddf-d666-48e6-823a-b36d12d18b79\"}, {\"marker\": {\"color\": \"white\"}, \"name\": \"\", \"x\": [\"2018-03-17\", \"2018-03-24\"], \"y\": [4, 4], \"type\": \"scatter\", \"uid\": \"c6f99291-67e4-4182-846f-e7ab77e0cfd0\"}, {\"marker\": {\"color\": \"white\"}, \"name\": \"\", \"x\": [\"2017-12-27\", \"2017-12-27\"], \"y\": [4, 4], \"type\": \"scatter\", \"uid\": \"dfe5c677-bbc0-4b7e-ba0f-3b7c94522e5b\"}, {\"marker\": {\"color\": \"white\"}, \"name\": \"\", \"x\": [\"2017-12-27\", \"2017-12-28\"], \"y\": [4, 4], \"type\": \"scatter\", \"uid\": \"8f165eb3-e71e-43f7-a238-ce96eeb9881a\"}, {\"marker\": {\"color\": \"white\"}, \"name\": \"\", \"x\": [\"2017-12-28\", \"2017-12-29\"], \"y\": [4, 4], \"type\": \"scatter\", \"uid\": \"526c2e05-35bc-49cc-ac97-01408bc00dec\"}, {\"marker\": {\"color\": \"white\"}, \"name\": \"\", \"x\": [\"2017-12-29\", \"2017-12-30\"], \"y\": [4, 4], \"type\": \"scatter\", \"uid\": \"b0a20779-17c2-41a1-9ea1-6a2e044492dd\"}, {\"marker\": {\"color\": \"white\"}, \"name\": \"\", \"x\": [\"2017-12-30\", \"2017-12-31\"], \"y\": [4, 4], \"type\": \"scatter\", \"uid\": \"4be665ed-4efc-4663-b587-44f88c560c16\"}, {\"marker\": {\"color\": \"white\"}, \"name\": \"\", \"x\": [\"2017-12-31\", \"2018-01-01\"], \"y\": [4, 4], \"type\": \"scatter\", \"uid\": \"4a079ce8-25bd-48fc-81ee-aa68d8de3d59\"}, {\"marker\": {\"color\": \"white\"}, \"name\": \"\", \"x\": [\"2018-01-01\", \"2018-01-02\"], \"y\": [4, 4], \"type\": \"scatter\", \"uid\": \"ba10ea82-ea11-4a23-931d-16a756be766d\"}, {\"marker\": {\"color\": \"white\"}, \"name\": \"\", \"x\": [\"2018-01-02\", \"2018-01-02\"], \"y\": [4, 4], \"type\": \"scatter\", \"uid\": \"6a28c3a9-6f16-475d-8805-14917864df3c\"}, {\"marker\": {\"color\": \"white\"}, \"name\": \"\", \"x\": [\"2018-01-02\", \"2018-01-03\"], \"y\": [4, 4], \"type\": \"scatter\", \"uid\": \"2db7dffc-cab7-446c-a77f-285bc69d7e69\"}, {\"marker\": {\"color\": \"white\"}, \"name\": \"\", \"x\": [\"2018-01-03\", \"2018-01-03\"], \"y\": [4, 4], \"type\": \"scatter\", \"uid\": \"bbf2bb42-89a2-4e58-a081-c53889ccddc4\"}, {\"marker\": {\"color\": \"white\"}, \"name\": \"\", \"x\": [\"2018-01-03\", \"2018-01-04\"], \"y\": [4, 4], \"type\": \"scatter\", \"uid\": \"5c69a729-fcb6-40db-b6de-4c263ce86319\"}, {\"marker\": {\"color\": \"white\"}, \"name\": \"\", \"x\": [\"2018-01-04\", \"2018-01-04\"], \"y\": [4, 4], \"type\": \"scatter\", \"uid\": \"9ed6bc85-135b-42f4-8fb9-a8fe273f0813\"}, {\"marker\": {\"color\": \"white\"}, \"name\": \"\", \"x\": [\"2018-01-04\", \"2018-01-05\"], \"y\": [4, 4], \"type\": \"scatter\", \"uid\": \"cbdc3094-51ad-4390-be33-fd4e8b38da37\"}, {\"marker\": {\"color\": \"white\"}, \"name\": \"\", \"x\": [\"2018-01-05\", \"2018-01-05\"], \"y\": [4, 4], \"type\": \"scatter\", \"uid\": \"ce70aef1-b7f4-410b-996a-18873233cda7\"}, {\"marker\": {\"color\": \"white\"}, \"name\": \"\", \"x\": [\"2018-01-05\", \"2018-01-06\"], \"y\": [4, 4], \"type\": \"scatter\", \"uid\": \"ee9568f0-67b5-48f0-9945-d98b7014bba2\"}, {\"marker\": {\"color\": \"white\"}, \"name\": \"\", \"x\": [\"2018-01-06\", \"2018-01-06\"], \"y\": [4, 4], \"type\": \"scatter\", \"uid\": \"a94b5153-82dc-4cd6-89c6-4a46c37dceb9\"}, {\"marker\": {\"color\": \"white\"}, \"name\": \"\", \"x\": [\"2018-01-06\", \"2018-01-07\"], \"y\": [4, 4], \"type\": \"scatter\", \"uid\": \"e6d5e226-29df-422f-b0e7-42eecff8072b\"}], {\"height\": 600, \"hovermode\": \"closest\", \"shapes\": [{\"fillcolor\": \"rgb(214, 39, 40)\", \"line\": {\"width\": 0}, \"opacity\": 1, \"type\": \"rect\", \"x0\": \"2019-03-02\", \"x1\": \"2019-03-09\", \"xref\": \"x\", \"y0\": 3.8, \"y1\": 4.2, \"yref\": \"y\"}, {\"fillcolor\": \"rgb(214, 39, 40)\", \"line\": {\"width\": 0}, \"opacity\": 1, \"type\": \"rect\", \"x0\": \"2018-06-17\", \"x1\": \"2018-06-19\", \"xref\": \"x\", \"y0\": 3.8, \"y1\": 4.2, \"yref\": \"y\"}, {\"fillcolor\": \"rgb(214, 39, 40)\", \"line\": {\"width\": 0}, \"opacity\": 1, \"type\": \"rect\", \"x0\": \"2018-06-19\", \"x1\": \"2018-06-25\", \"xref\": \"x\", \"y0\": 3.8, \"y1\": 4.2, \"yref\": \"y\"}, {\"fillcolor\": \"rgb(214, 39, 40)\", \"line\": {\"width\": 0}, \"opacity\": 1, \"type\": \"rect\", \"x0\": \"2018-06-25\", \"x1\": \"2018-06-30\", \"xref\": \"x\", \"y0\": 3.8, \"y1\": 4.2, \"yref\": \"y\"}, {\"fillcolor\": \"rgb(214, 39, 40)\", \"line\": {\"width\": 0}, \"opacity\": 1, \"type\": \"rect\", \"x0\": \"2018-06-30\", \"x1\": \"2018-07-01\", \"xref\": \"x\", \"y0\": 3.8, \"y1\": 4.2, \"yref\": \"y\"}, {\"fillcolor\": \"rgb(214, 39, 40)\", \"line\": {\"width\": 0}, \"opacity\": 1, \"type\": \"rect\", \"x0\": \"2018-07-01\", \"x1\": \"2018-07-03\", \"xref\": \"x\", \"y0\": 3.8, \"y1\": 4.2, \"yref\": \"y\"}, {\"fillcolor\": \"rgb(214, 39, 40)\", \"line\": {\"width\": 0}, \"opacity\": 1, \"type\": \"rect\", \"x0\": \"2018-07-03\", \"x1\": \"2018-07-06\", \"xref\": \"x\", \"y0\": 3.8, \"y1\": 4.2, \"yref\": \"y\"}, {\"fillcolor\": \"rgb(214, 39, 40)\", \"line\": {\"width\": 0}, \"opacity\": 1, \"type\": \"rect\", \"x0\": \"2018-07-06\", \"x1\": \"2018-07-06\", \"xref\": \"x\", \"y0\": 3.8, \"y1\": 4.2, \"yref\": \"y\"}, {\"fillcolor\": \"rgb(214, 39, 40)\", \"line\": {\"width\": 0}, \"opacity\": 1, \"type\": \"rect\", \"x0\": \"2018-07-06\", \"x1\": \"2018-07-07\", \"xref\": \"x\", \"y0\": 3.8, \"y1\": 4.2, \"yref\": \"y\"}, {\"fillcolor\": \"rgb(214, 39, 40)\", \"line\": {\"width\": 0}, \"opacity\": 1, \"type\": \"rect\", \"x0\": \"2018-07-07\", \"x1\": \"2018-07-08\", \"xref\": \"x\", \"y0\": 3.8, \"y1\": 4.2, \"yref\": \"y\"}, {\"fillcolor\": \"rgb(214, 39, 40)\", \"line\": {\"width\": 0}, \"opacity\": 1, \"type\": \"rect\", \"x0\": \"2018-07-08\", \"x1\": \"2018-07-12\", \"xref\": \"x\", \"y0\": 3.8, \"y1\": 4.2, \"yref\": \"y\"}, {\"fillcolor\": \"rgb(214, 39, 40)\", \"line\": {\"width\": 0}, \"opacity\": 1, \"type\": \"rect\", \"x0\": \"2018-07-12\", \"x1\": \"2018-07-15\", \"xref\": \"x\", \"y0\": 3.8, \"y1\": 4.2, \"yref\": \"y\"}, {\"fillcolor\": \"rgb(214, 39, 40)\", \"line\": {\"width\": 0}, \"opacity\": 1, \"type\": \"rect\", \"x0\": \"2018-07-15\", \"x1\": \"2018-07-17\", \"xref\": \"x\", \"y0\": 3.8, \"y1\": 4.2, \"yref\": \"y\"}, {\"fillcolor\": \"rgb(214, 39, 40)\", \"line\": {\"width\": 0}, \"opacity\": 1, \"type\": \"rect\", \"x0\": \"2018-07-17\", \"x1\": \"2018-07-18\", \"xref\": \"x\", \"y0\": 3.8, \"y1\": 4.2, \"yref\": \"y\"}, {\"fillcolor\": \"rgb(214, 39, 40)\", \"line\": {\"width\": 0}, \"opacity\": 1, \"type\": \"rect\", \"x0\": \"2018-07-18\", \"x1\": \"2018-07-20\", \"xref\": \"x\", \"y0\": 3.8, \"y1\": 4.2, \"yref\": \"y\"}, {\"fillcolor\": \"rgb(214, 39, 40)\", \"line\": {\"width\": 0}, \"opacity\": 1, \"type\": \"rect\", \"x0\": \"2018-07-20\", \"x1\": \"2018-07-24\", \"xref\": \"x\", \"y0\": 3.8, \"y1\": 4.2, \"yref\": \"y\"}, {\"fillcolor\": \"rgb(214, 39, 40)\", \"line\": {\"width\": 0}, \"opacity\": 1, \"type\": \"rect\", \"x0\": \"2018-07-24\", \"x1\": \"2018-07-27\", \"xref\": \"x\", \"y0\": 3.8, \"y1\": 4.2, \"yref\": \"y\"}, {\"fillcolor\": \"rgb(214, 39, 40)\", \"line\": {\"width\": 0}, \"opacity\": 1, \"type\": \"rect\", \"x0\": \"2018-07-27\", \"x1\": \"2018-07-29\", \"xref\": \"x\", \"y0\": 3.8, \"y1\": 4.2, \"yref\": \"y\"}, {\"fillcolor\": \"rgb(214, 39, 40)\", \"line\": {\"width\": 0}, \"opacity\": 1, \"type\": \"rect\", \"x0\": \"2018-07-29\", \"x1\": \"2018-08-01\", \"xref\": \"x\", \"y0\": 3.8, \"y1\": 4.2, \"yref\": \"y\"}, {\"fillcolor\": \"rgb(214, 39, 40)\", \"line\": {\"width\": 0}, \"opacity\": 1, \"type\": \"rect\", \"x0\": \"2018-08-01\", \"x1\": \"2018-08-04\", \"xref\": \"x\", \"y0\": 3.8, \"y1\": 4.2, \"yref\": \"y\"}, {\"fillcolor\": \"rgb(214, 39, 40)\", \"line\": {\"width\": 0}, \"opacity\": 1, \"type\": \"rect\", \"x0\": \"2018-08-04\", \"x1\": \"2018-08-08\", \"xref\": \"x\", \"y0\": 3.8, \"y1\": 4.2, \"yref\": \"y\"}, {\"fillcolor\": \"rgb(214, 39, 40)\", \"line\": {\"width\": 0}, \"opacity\": 1, \"type\": \"rect\", \"x0\": \"2018-08-08\", \"x1\": \"2018-08-12\", \"xref\": \"x\", \"y0\": 3.8, \"y1\": 4.2, \"yref\": \"y\"}, {\"fillcolor\": \"rgb(214, 39, 40)\", \"line\": {\"width\": 0}, \"opacity\": 1, \"type\": \"rect\", \"x0\": \"2018-08-12\", \"x1\": \"2018-08-13\", \"xref\": \"x\", \"y0\": 3.8, \"y1\": 4.2, \"yref\": \"y\"}, {\"fillcolor\": \"rgb(214, 39, 40)\", \"line\": {\"width\": 0}, \"opacity\": 1, \"type\": \"rect\", \"x0\": \"2018-08-13\", \"x1\": \"2018-08-20\", \"xref\": \"x\", \"y0\": 3.8, \"y1\": 4.2, \"yref\": \"y\"}, {\"fillcolor\": \"rgb(214, 39, 40)\", \"line\": {\"width\": 0}, \"opacity\": 1, \"type\": \"rect\", \"x0\": \"2018-08-20\", \"x1\": \"2018-08-22\", \"xref\": \"x\", \"y0\": 3.8, \"y1\": 4.2, \"yref\": \"y\"}, {\"fillcolor\": \"rgb(214, 39, 40)\", \"line\": {\"width\": 0}, \"opacity\": 1, \"type\": \"rect\", \"x0\": \"2018-08-22\", \"x1\": \"2018-08-30\", \"xref\": \"x\", \"y0\": 3.8, \"y1\": 4.2, \"yref\": \"y\"}, {\"fillcolor\": \"rgb(214, 39, 40)\", \"line\": {\"width\": 0}, \"opacity\": 1, \"type\": \"rect\", \"x0\": \"2018-08-30\", \"x1\": \"2018-09-01\", \"xref\": \"x\", \"y0\": 3.8, \"y1\": 4.2, \"yref\": \"y\"}, {\"fillcolor\": \"rgb(214, 39, 40)\", \"line\": {\"width\": 0}, \"opacity\": 1, \"type\": \"rect\", \"x0\": \"2018-09-01\", \"x1\": \"2018-09-17\", \"xref\": \"x\", \"y0\": 3.8, \"y1\": 4.2, \"yref\": \"y\"}, {\"fillcolor\": \"rgb(214, 39, 40)\", \"line\": {\"width\": 0}, \"opacity\": 1, \"type\": \"rect\", \"x0\": \"2018-09-17\", \"x1\": \"2018-09-18\", \"xref\": \"x\", \"y0\": 3.8, \"y1\": 4.2, \"yref\": \"y\"}, {\"fillcolor\": \"rgb(214, 39, 40)\", \"line\": {\"width\": 0}, \"opacity\": 1, \"type\": \"rect\", \"x0\": \"2018-09-18\", \"x1\": \"2018-09-23\", \"xref\": \"x\", \"y0\": 3.8, \"y1\": 4.2, \"yref\": \"y\"}, {\"fillcolor\": \"rgb(214, 39, 40)\", \"line\": {\"width\": 0}, \"opacity\": 1, \"type\": \"rect\", \"x0\": \"2018-09-23\", \"x1\": \"2018-09-27\", \"xref\": \"x\", \"y0\": 3.8, \"y1\": 4.2, \"yref\": \"y\"}, {\"fillcolor\": \"rgb(214, 39, 40)\", \"line\": {\"width\": 0}, \"opacity\": 1, \"type\": \"rect\", \"x0\": \"2018-09-27\", \"x1\": \"2018-09-29\", \"xref\": \"x\", \"y0\": 3.8, \"y1\": 4.2, \"yref\": \"y\"}, {\"fillcolor\": \"rgb(214, 39, 40)\", \"line\": {\"width\": 0}, \"opacity\": 1, \"type\": \"rect\", \"x0\": \"2018-09-29\", \"x1\": \"2018-09-30\", \"xref\": \"x\", \"y0\": 3.8, \"y1\": 4.2, \"yref\": \"y\"}, {\"fillcolor\": \"rgb(214, 39, 40)\", \"line\": {\"width\": 0}, \"opacity\": 1, \"type\": \"rect\", \"x0\": \"2018-09-30\", \"x1\": \"2018-10-01\", \"xref\": \"x\", \"y0\": 3.8, \"y1\": 4.2, \"yref\": \"y\"}, {\"fillcolor\": \"rgb(214, 39, 40)\", \"line\": {\"width\": 0}, \"opacity\": 1, \"type\": \"rect\", \"x0\": \"2018-10-01\", \"x1\": \"2018-10-03\", \"xref\": \"x\", \"y0\": 3.8, \"y1\": 4.2, \"yref\": \"y\"}, {\"fillcolor\": \"rgb(214, 39, 40)\", \"line\": {\"width\": 0}, \"opacity\": 1, \"type\": \"rect\", \"x0\": \"2018-10-03\", \"x1\": \"2018-10-04\", \"xref\": \"x\", \"y0\": 3.8, \"y1\": 4.2, \"yref\": \"y\"}, {\"fillcolor\": \"rgb(214, 39, 40)\", \"line\": {\"width\": 0}, \"opacity\": 1, \"type\": \"rect\", \"x0\": \"2018-10-04\", \"x1\": \"2018-10-05\", \"xref\": \"x\", \"y0\": 3.8, \"y1\": 4.2, \"yref\": \"y\"}, {\"fillcolor\": \"rgb(214, 39, 40)\", \"line\": {\"width\": 0}, \"opacity\": 1, \"type\": \"rect\", \"x0\": \"2018-10-05\", \"x1\": \"2018-10-06\", \"xref\": \"x\", \"y0\": 3.8, \"y1\": 4.2, \"yref\": \"y\"}, {\"fillcolor\": \"rgb(214, 39, 40)\", \"line\": {\"width\": 0}, \"opacity\": 1, \"type\": \"rect\", \"x0\": \"2018-10-06\", \"x1\": \"2018-10-09\", \"xref\": \"x\", \"y0\": 3.8, \"y1\": 4.2, \"yref\": \"y\"}, {\"fillcolor\": \"rgb(214, 39, 40)\", \"line\": {\"width\": 0}, \"opacity\": 1, \"type\": \"rect\", \"x0\": \"2018-10-09\", \"x1\": \"2018-10-12\", \"xref\": \"x\", \"y0\": 3.8, \"y1\": 4.2, \"yref\": \"y\"}, {\"fillcolor\": \"rgb(214, 39, 40)\", \"line\": {\"width\": 0}, \"opacity\": 1, \"type\": \"rect\", \"x0\": \"2018-10-12\", \"x1\": \"2018-10-14\", \"xref\": \"x\", \"y0\": 3.8, \"y1\": 4.2, \"yref\": \"y\"}, {\"fillcolor\": \"rgb(214, 39, 40)\", \"line\": {\"width\": 0}, \"opacity\": 1, \"type\": \"rect\", \"x0\": \"2018-10-14\", \"x1\": \"2018-10-16\", \"xref\": \"x\", \"y0\": 3.8, \"y1\": 4.2, \"yref\": \"y\"}, {\"fillcolor\": \"rgb(214, 39, 40)\", \"line\": {\"width\": 0}, \"opacity\": 1, \"type\": \"rect\", \"x0\": \"2018-10-16\", \"x1\": \"2018-10-19\", \"xref\": \"x\", \"y0\": 3.8, \"y1\": 4.2, \"yref\": \"y\"}, {\"fillcolor\": \"rgb(214, 39, 40)\", \"line\": {\"width\": 0}, \"opacity\": 1, \"type\": \"rect\", \"x0\": \"2018-10-19\", \"x1\": \"2018-10-20\", \"xref\": \"x\", \"y0\": 3.8, \"y1\": 4.2, \"yref\": \"y\"}, {\"fillcolor\": \"rgb(214, 39, 40)\", \"line\": {\"width\": 0}, \"opacity\": 1, \"type\": \"rect\", \"x0\": \"2018-10-20\", \"x1\": \"2018-10-21\", \"xref\": \"x\", \"y0\": 3.8, \"y1\": 4.2, \"yref\": \"y\"}, {\"fillcolor\": \"rgb(214, 39, 40)\", \"line\": {\"width\": 0}, \"opacity\": 1, \"type\": \"rect\", \"x0\": \"2018-10-21\", \"x1\": \"2018-10-23\", \"xref\": \"x\", \"y0\": 3.8, \"y1\": 4.2, \"yref\": \"y\"}, {\"fillcolor\": \"rgb(214, 39, 40)\", \"line\": {\"width\": 0}, \"opacity\": 1, \"type\": \"rect\", \"x0\": \"2018-10-23\", \"x1\": \"2018-10-26\", \"xref\": \"x\", \"y0\": 3.8, \"y1\": 4.2, \"yref\": \"y\"}, {\"fillcolor\": \"rgb(31, 119, 180)\", \"line\": {\"width\": 0}, \"opacity\": 1, \"type\": \"rect\", \"x0\": \"2018-11-26\", \"x1\": \"2018-11-27\", \"xref\": \"x\", \"y0\": 2.8, \"y1\": 3.2, \"yref\": \"y\"}, {\"fillcolor\": \"rgb(31, 119, 180)\", \"line\": {\"width\": 0}, \"opacity\": 1, \"type\": \"rect\", \"x0\": \"2018-11-27\", \"x1\": \"2018-11-28\", \"xref\": \"x\", \"y0\": 2.8, \"y1\": 3.2, \"yref\": \"y\"}, {\"fillcolor\": \"rgb(31, 119, 180)\", \"line\": {\"width\": 0}, \"opacity\": 1, \"type\": \"rect\", \"x0\": \"2018-11-28\", \"x1\": \"2018-12-01\", \"xref\": \"x\", \"y0\": 2.8, \"y1\": 3.2, \"yref\": \"y\"}, {\"fillcolor\": \"rgb(214, 39, 40)\", \"line\": {\"width\": 0}, \"opacity\": 1, \"type\": \"rect\", \"x0\": \"2010-08-01\", \"x1\": \"2010-08-16\", \"xref\": \"x\", \"y0\": 3.8, \"y1\": 4.2, \"yref\": \"y\"}, {\"fillcolor\": \"rgb(214, 39, 40)\", \"line\": {\"width\": 0}, \"opacity\": 1, \"type\": \"rect\", \"x0\": \"2003-08-10\", \"x1\": \"2003-08-25\", \"xref\": \"x\", \"y0\": 3.8, \"y1\": 4.2, \"yref\": \"y\"}, {\"fillcolor\": \"rgb(214, 39, 40)\", \"line\": {\"width\": 0}, \"opacity\": 1, \"type\": \"rect\", \"x0\": \"2004-08-14\", \"x1\": \"2004-08-15\", \"xref\": \"x\", \"y0\": 3.8, \"y1\": 4.2, \"yref\": \"y\"}, {\"fillcolor\": \"rgb(214, 39, 40)\", \"line\": {\"width\": 0}, \"opacity\": 1, \"type\": \"rect\", \"x0\": \"2004-08-15\", \"x1\": \"2004-08-28\", \"xref\": \"x\", \"y0\": 3.8, \"y1\": 4.2, \"yref\": \"y\"}, {\"fillcolor\": \"rgb(214, 39, 40)\", \"line\": {\"width\": 0}, \"opacity\": 1, \"type\": \"rect\", \"x0\": \"2005-08-13\", \"x1\": \"2005-08-27\", \"xref\": \"x\", \"y0\": 3.8, \"y1\": 4.2, \"yref\": \"y\"}, {\"fillcolor\": \"rgb(214, 39, 40)\", \"line\": {\"width\": 0}, \"opacity\": 1, \"type\": \"rect\", \"x0\": \"2006-08-13\", \"x1\": \"2006-08-26\", \"xref\": \"x\", \"y0\": 3.8, \"y1\": 4.2, \"yref\": \"y\"}, {\"fillcolor\": \"rgb(214, 39, 40)\", \"line\": {\"width\": 0}, \"opacity\": 1, \"type\": \"rect\", \"x0\": \"2008-03-22\", \"x1\": \"2008-04-02\", \"xref\": \"x\", \"y0\": 3.8, \"y1\": 4.2, \"yref\": \"y\"}, {\"fillcolor\": \"rgb(214, 39, 40)\", \"line\": {\"width\": 0}, \"opacity\": 1, \"type\": \"rect\", \"x0\": \"2007-04-07\", \"x1\": \"2007-04-15\", \"xref\": \"x\", \"y0\": 3.8, \"y1\": 4.2, \"yref\": \"y\"}, {\"fillcolor\": \"rgb(214, 39, 40)\", \"line\": {\"width\": 0}, \"opacity\": 1, \"type\": \"rect\", \"x0\": \"2006-02-11\", \"x1\": \"2006-02-19\", \"xref\": \"x\", \"y0\": 3.8, \"y1\": 4.2, \"yref\": \"y\"}, {\"fillcolor\": \"rgb(214, 39, 40)\", \"line\": {\"width\": 0}, \"opacity\": 1, \"type\": \"rect\", \"x0\": \"2005-03-26\", \"x1\": \"2005-04-02\", \"xref\": \"x\", \"y0\": 3.8, \"y1\": 4.2, \"yref\": \"y\"}, {\"fillcolor\": \"rgb(214, 39, 40)\", \"line\": {\"width\": 0}, \"opacity\": 1, \"type\": \"rect\", \"x0\": \"2001-08-11\", \"x1\": \"2001-08-15\", \"xref\": \"x\", \"y0\": 3.8, \"y1\": 4.2, \"yref\": \"y\"}, {\"fillcolor\": \"rgb(214, 39, 40)\", \"line\": {\"width\": 0}, \"opacity\": 1, \"type\": \"rect\", \"x0\": \"2001-08-15\", \"x1\": \"2001-08-18\", \"xref\": \"x\", \"y0\": 3.8, \"y1\": 4.2, \"yref\": \"y\"}, {\"fillcolor\": \"rgb(214, 39, 40)\", \"line\": {\"width\": 0}, \"opacity\": 1, \"type\": \"rect\", \"x0\": \"2001-08-18\", \"x1\": \"2001-08-26\", \"xref\": \"x\", \"y0\": 3.8, \"y1\": 4.2, \"yref\": \"y\"}, {\"fillcolor\": \"rgb(214, 39, 40)\", \"line\": {\"width\": 0}, \"opacity\": 1, \"type\": \"rect\", \"x0\": \"2002-08-25\", \"x1\": \"2002-09-01\", \"xref\": \"x\", \"y0\": 3.8, \"y1\": 4.2, \"yref\": \"y\"}, {\"fillcolor\": \"rgb(255, 127, 14)\", \"line\": {\"width\": 0}, \"opacity\": 1, \"type\": \"rect\", \"x0\": \"2007-08-12\", \"x1\": \"2007-08-13\", \"xref\": \"x\", \"y0\": 1.8, \"y1\": 2.2, \"yref\": \"y\"}, {\"fillcolor\": \"rgb(255, 127, 14)\", \"line\": {\"width\": 0}, \"opacity\": 1, \"type\": \"rect\", \"x0\": \"2007-08-13\", \"x1\": \"2007-08-17\", \"xref\": \"x\", \"y0\": 1.8, \"y1\": 2.2, \"yref\": \"y\"}, {\"fillcolor\": \"rgb(255, 127, 14)\", \"line\": {\"width\": 0}, \"opacity\": 1, \"type\": \"rect\", \"x0\": \"2007-08-17\", \"x1\": \"2007-08-18\", \"xref\": \"x\", \"y0\": 1.8, \"y1\": 2.2, \"yref\": \"y\"}, {\"fillcolor\": \"rgb(255, 127, 14)\", \"line\": {\"width\": 0}, \"opacity\": 1, \"type\": \"rect\", \"x0\": \"2007-08-18\", \"x1\": \"2007-08-20\", \"xref\": \"x\", \"y0\": 1.8, \"y1\": 2.2, \"yref\": \"y\"}, {\"fillcolor\": \"rgb(255, 127, 14)\", \"line\": {\"width\": 0}, \"opacity\": 1, \"type\": \"rect\", \"x0\": \"2007-08-20\", \"x1\": \"2007-08-27\", \"xref\": \"x\", \"y0\": 1.8, \"y1\": 2.2, \"yref\": \"y\"}, {\"fillcolor\": \"rgb(214, 39, 40)\", \"line\": {\"width\": 0}, \"opacity\": 1, \"type\": \"rect\", \"x0\": \"2008-08-01\", \"x1\": \"2008-08-07\", \"xref\": \"x\", \"y0\": 3.8, \"y1\": 4.2, \"yref\": \"y\"}, {\"fillcolor\": \"rgb(214, 39, 40)\", \"line\": {\"width\": 0}, \"opacity\": 1, \"type\": \"rect\", \"x0\": \"2008-08-07\", \"x1\": \"2008-08-13\", \"xref\": \"x\", \"y0\": 3.8, \"y1\": 4.2, \"yref\": \"y\"}, {\"fillcolor\": \"rgb(214, 39, 40)\", \"line\": {\"width\": 0}, \"opacity\": 1, \"type\": \"rect\", \"x0\": \"2008-08-13\", \"x1\": \"2008-08-16\", \"xref\": \"x\", \"y0\": 3.8, \"y1\": 4.2, \"yref\": \"y\"}, {\"fillcolor\": \"rgb(214, 39, 40)\", \"line\": {\"width\": 0}, \"opacity\": 1, \"type\": \"rect\", \"x0\": \"2009-07-26\", \"x1\": \"2009-08-08\", \"xref\": \"x\", \"y0\": 3.8, \"y1\": 4.2, \"yref\": \"y\"}, {\"fillcolor\": \"rgb(214, 39, 40)\", \"line\": {\"width\": 0}, \"opacity\": 1, \"type\": \"rect\", \"x0\": \"2010-02-14\", \"x1\": \"2010-02-15\", \"xref\": \"x\", \"y0\": 3.8, \"y1\": 4.2, \"yref\": \"y\"}, {\"fillcolor\": \"rgb(214, 39, 40)\", \"line\": {\"width\": 0}, \"opacity\": 1, \"type\": \"rect\", \"x0\": \"2013-07-28\", \"x1\": \"2013-07-30\", \"xref\": \"x\", \"y0\": 3.8, \"y1\": 4.2, \"yref\": \"y\"}, {\"fillcolor\": \"rgb(214, 39, 40)\", \"line\": {\"width\": 0}, \"opacity\": 1, \"type\": \"rect\", \"x0\": \"2013-07-30\", \"x1\": \"2013-08-01\", \"xref\": \"x\", \"y0\": 3.8, \"y1\": 4.2, \"yref\": \"y\"}, {\"fillcolor\": \"rgb(214, 39, 40)\", \"line\": {\"width\": 0}, \"opacity\": 1, \"type\": \"rect\", \"x0\": \"2013-08-01\", \"x1\": \"2013-08-03\", \"xref\": \"x\", \"y0\": 3.8, \"y1\": 4.2, \"yref\": \"y\"}, {\"fillcolor\": \"rgb(214, 39, 40)\", \"line\": {\"width\": 0}, \"opacity\": 1, \"type\": \"rect\", \"x0\": \"2013-08-03\", \"x1\": \"2013-08-10\", \"xref\": \"x\", \"y0\": 3.8, \"y1\": 4.2, \"yref\": \"y\"}, {\"fillcolor\": \"rgb(214, 39, 40)\", \"line\": {\"width\": 0}, \"opacity\": 1, \"type\": \"rect\", \"x0\": \"2013-07-04\", \"x1\": \"2013-07-05\", \"xref\": \"x\", \"y0\": 3.8, \"y1\": 4.2, \"yref\": \"y\"}, {\"fillcolor\": \"rgb(214, 39, 40)\", \"line\": {\"width\": 0}, \"opacity\": 1, \"type\": \"rect\", \"x0\": \"2013-03-31\", \"x1\": \"2013-04-07\", \"xref\": \"x\", \"y0\": 3.8, \"y1\": 4.2, \"yref\": \"y\"}, {\"fillcolor\": \"rgb(214, 39, 40)\", \"line\": {\"width\": 0}, \"opacity\": 1, \"type\": \"rect\", \"x0\": \"2006-10-21\", \"x1\": \"2006-10-23\", \"xref\": \"x\", \"y0\": 3.8, \"y1\": 4.2, \"yref\": \"y\"}, {\"fillcolor\": \"rgb(214, 39, 40)\", \"line\": {\"width\": 0}, \"opacity\": 1, \"type\": \"rect\", \"x0\": \"2006-10-23\", \"x1\": \"2006-10-24\", \"xref\": \"x\", \"y0\": 3.8, \"y1\": 4.2, \"yref\": \"y\"}, {\"fillcolor\": \"rgb(214, 39, 40)\", \"line\": {\"width\": 0}, \"opacity\": 1, \"type\": \"rect\", \"x0\": \"2006-10-24\", \"x1\": \"2006-10-25\", \"xref\": \"x\", \"y0\": 3.8, \"y1\": 4.2, \"yref\": \"y\"}, {\"fillcolor\": \"rgb(255, 127, 14)\", \"line\": {\"width\": 0}, \"opacity\": 1, \"type\": \"rect\", \"x0\": \"2017-10-16\", \"x1\": \"2017-10-16\", \"xref\": \"x\", \"y0\": 1.8, \"y1\": 2.2, \"yref\": \"y\"}, {\"fillcolor\": \"rgb(255, 127, 14)\", \"line\": {\"width\": 0}, \"opacity\": 1, \"type\": \"rect\", \"x0\": \"2017-10-16\", \"x1\": \"2017-10-16\", \"xref\": \"x\", \"y0\": 1.8, \"y1\": 2.2, \"yref\": \"y\"}, {\"fillcolor\": \"rgb(255, 127, 14)\", \"line\": {\"width\": 0}, \"opacity\": 1, \"type\": \"rect\", \"x0\": \"2017-10-16\", \"x1\": \"2017-10-20\", \"xref\": \"x\", \"y0\": 1.8, \"y1\": 2.2, \"yref\": \"y\"}, {\"fillcolor\": \"rgb(255, 127, 14)\", \"line\": {\"width\": 0}, \"opacity\": 1, \"type\": \"rect\", \"x0\": \"2017-10-20\", \"x1\": \"2017-10-23\", \"xref\": \"x\", \"y0\": 1.8, \"y1\": 2.2, \"yref\": \"y\"}, {\"fillcolor\": \"rgb(255, 127, 14)\", \"line\": {\"width\": 0}, \"opacity\": 1, \"type\": \"rect\", \"x0\": \"2017-10-23\", \"x1\": \"2017-10-27\", \"xref\": \"x\", \"y0\": 1.8, \"y1\": 2.2, \"yref\": \"y\"}, {\"fillcolor\": \"rgb(255, 127, 14)\", \"line\": {\"width\": 0}, \"opacity\": 1, \"type\": \"rect\", \"x0\": \"2017-10-27\", \"x1\": \"2017-10-30\", \"xref\": \"x\", \"y0\": 1.8, \"y1\": 2.2, \"yref\": \"y\"}, {\"fillcolor\": \"rgb(255, 127, 14)\", \"line\": {\"width\": 0}, \"opacity\": 1, \"type\": \"rect\", \"x0\": \"2017-10-30\", \"x1\": \"2017-11-01\", \"xref\": \"x\", \"y0\": 1.8, \"y1\": 2.2, \"yref\": \"y\"}, {\"fillcolor\": \"rgb(255, 127, 14)\", \"line\": {\"width\": 0}, \"opacity\": 1, \"type\": \"rect\", \"x0\": \"2017-11-01\", \"x1\": \"2017-11-03\", \"xref\": \"x\", \"y0\": 1.8, \"y1\": 2.2, \"yref\": \"y\"}, {\"fillcolor\": \"rgb(255, 127, 14)\", \"line\": {\"width\": 0}, \"opacity\": 1, \"type\": \"rect\", \"x0\": \"2017-11-03\", \"x1\": \"2017-11-08\", \"xref\": \"x\", \"y0\": 1.8, \"y1\": 2.2, \"yref\": \"y\"}, {\"fillcolor\": \"rgb(255, 127, 14)\", \"line\": {\"width\": 0}, \"opacity\": 1, \"type\": \"rect\", \"x0\": \"2017-11-08\", \"x1\": \"2017-11-10\", \"xref\": \"x\", \"y0\": 1.8, \"y1\": 2.2, \"yref\": \"y\"}, {\"fillcolor\": \"rgb(255, 127, 14)\", \"line\": {\"width\": 0}, \"opacity\": 1, \"type\": \"rect\", \"x0\": \"2017-11-10\", \"x1\": \"2017-11-16\", \"xref\": \"x\", \"y0\": 1.8, \"y1\": 2.2, \"yref\": \"y\"}, {\"fillcolor\": \"rgb(255, 127, 14)\", \"line\": {\"width\": 0}, \"opacity\": 1, \"type\": \"rect\", \"x0\": \"2017-11-16\", \"x1\": \"2017-11-20\", \"xref\": \"x\", \"y0\": 1.8, \"y1\": 2.2, \"yref\": \"y\"}, {\"fillcolor\": \"rgb(255, 127, 14)\", \"line\": {\"width\": 0}, \"opacity\": 1, \"type\": \"rect\", \"x0\": \"2017-11-20\", \"x1\": \"2017-11-25\", \"xref\": \"x\", \"y0\": 1.8, \"y1\": 2.2, \"yref\": \"y\"}, {\"fillcolor\": \"rgb(255, 127, 14)\", \"line\": {\"width\": 0}, \"opacity\": 1, \"type\": \"rect\", \"x0\": \"2017-11-25\", \"x1\": \"2017-12-03\", \"xref\": \"x\", \"y0\": 1.8, \"y1\": 2.2, \"yref\": \"y\"}, {\"fillcolor\": \"rgb(44, 160, 44)\", \"line\": {\"width\": 0}, \"opacity\": 1, \"type\": \"rect\", \"x0\": \"2011-01-15\", \"x1\": \"2011-02-07\", \"xref\": \"x\", \"y0\": 0.8, \"y1\": 1.2, \"yref\": \"y\"}, {\"fillcolor\": \"rgb(44, 160, 44)\", \"line\": {\"width\": 0}, \"opacity\": 1, \"type\": \"rect\", \"x0\": \"2011-02-07\", \"x1\": \"2011-02-14\", \"xref\": \"x\", \"y0\": 0.8, \"y1\": 1.2, \"yref\": \"y\"}, {\"fillcolor\": \"rgb(44, 160, 44)\", \"line\": {\"width\": 0}, \"opacity\": 1, \"type\": \"rect\", \"x0\": \"2011-02-14\", \"x1\": \"2011-02-20\", \"xref\": \"x\", \"y0\": 0.8, \"y1\": 1.2, \"yref\": \"y\"}, {\"fillcolor\": \"rgb(44, 160, 44)\", \"line\": {\"width\": 0}, \"opacity\": 1, \"type\": \"rect\", \"x0\": \"2011-02-20\", \"x1\": \"2011-02-23\", \"xref\": \"x\", \"y0\": 0.8, \"y1\": 1.2, \"yref\": \"y\"}, {\"fillcolor\": \"rgb(44, 160, 44)\", \"line\": {\"width\": 0}, \"opacity\": 1, \"type\": \"rect\", \"x0\": \"2011-02-23\", \"x1\": \"2011-02-24\", \"xref\": \"x\", \"y0\": 0.8, \"y1\": 1.2, \"yref\": \"y\"}, {\"fillcolor\": \"rgb(44, 160, 44)\", \"line\": {\"width\": 0}, \"opacity\": 1, \"type\": \"rect\", \"x0\": \"2011-02-24\", \"x1\": \"2011-03-03\", \"xref\": \"x\", \"y0\": 0.8, \"y1\": 1.2, \"yref\": \"y\"}, {\"fillcolor\": \"rgb(44, 160, 44)\", \"line\": {\"width\": 0}, \"opacity\": 1, \"type\": \"rect\", \"x0\": \"2011-03-03\", \"x1\": \"2011-03-03\", \"xref\": \"x\", \"y0\": 0.8, \"y1\": 1.2, \"yref\": \"y\"}, {\"fillcolor\": \"rgb(44, 160, 44)\", \"line\": {\"width\": 0}, \"opacity\": 1, \"type\": \"rect\", \"x0\": \"2011-03-03\", \"x1\": \"2011-03-06\", \"xref\": \"x\", \"y0\": 0.8, \"y1\": 1.2, \"yref\": \"y\"}, {\"fillcolor\": \"rgb(44, 160, 44)\", \"line\": {\"width\": 0}, \"opacity\": 1, \"type\": \"rect\", \"x0\": \"2011-03-06\", \"x1\": \"2011-03-09\", \"xref\": \"x\", \"y0\": 0.8, \"y1\": 1.2, \"yref\": \"y\"}, {\"fillcolor\": \"rgb(44, 160, 44)\", \"line\": {\"width\": 0}, \"opacity\": 1, \"type\": \"rect\", \"x0\": \"2011-03-09\", \"x1\": \"2011-03-13\", \"xref\": \"x\", \"y0\": 0.8, \"y1\": 1.2, \"yref\": \"y\"}, {\"fillcolor\": \"rgb(44, 160, 44)\", \"line\": {\"width\": 0}, \"opacity\": 1, \"type\": \"rect\", \"x0\": \"2011-03-13\", \"x1\": \"2011-03-15\", \"xref\": \"x\", \"y0\": 0.8, \"y1\": 1.2, \"yref\": \"y\"}, {\"fillcolor\": \"rgb(44, 160, 44)\", \"line\": {\"width\": 0}, \"opacity\": 1, \"type\": \"rect\", \"x0\": \"2011-03-15\", \"x1\": \"2011-03-17\", \"xref\": \"x\", \"y0\": 0.8, \"y1\": 1.2, \"yref\": \"y\"}, {\"fillcolor\": \"rgb(44, 160, 44)\", \"line\": {\"width\": 0}, \"opacity\": 1, \"type\": \"rect\", \"x0\": \"2011-03-17\", \"x1\": \"2011-03-22\", \"xref\": \"x\", \"y0\": 0.8, \"y1\": 1.2, \"yref\": \"y\"}, {\"fillcolor\": \"rgb(44, 160, 44)\", \"line\": {\"width\": 0}, \"opacity\": 1, \"type\": \"rect\", \"x0\": \"2011-03-22\", \"x1\": \"2011-03-25\", \"xref\": \"x\", \"y0\": 0.8, \"y1\": 1.2, \"yref\": \"y\"}, {\"fillcolor\": \"rgb(44, 160, 44)\", \"line\": {\"width\": 0}, \"opacity\": 1, \"type\": \"rect\", \"x0\": \"2011-03-25\", \"x1\": \"2011-03-31\", \"xref\": \"x\", \"y0\": 0.8, \"y1\": 1.2, \"yref\": \"y\"}, {\"fillcolor\": \"rgb(44, 160, 44)\", \"line\": {\"width\": 0}, \"opacity\": 1, \"type\": \"rect\", \"x0\": \"2011-03-31\", \"x1\": \"2011-04-05\", \"xref\": \"x\", \"y0\": 0.8, \"y1\": 1.2, \"yref\": \"y\"}, {\"fillcolor\": \"rgb(148, 103, 189)\", \"line\": {\"width\": 0}, \"opacity\": 1, \"type\": \"rect\", \"x0\": \"2011-04-05\", \"x1\": \"2011-04-09\", \"xref\": \"x\", \"y0\": -0.2, \"y1\": 0.2, \"yref\": \"y\"}, {\"fillcolor\": \"rgb(148, 103, 189)\", \"line\": {\"width\": 0}, \"opacity\": 1, \"type\": \"rect\", \"x0\": \"2011-04-09\", \"x1\": \"2011-04-12\", \"xref\": \"x\", \"y0\": -0.2, \"y1\": 0.2, \"yref\": \"y\"}, {\"fillcolor\": \"rgb(148, 103, 189)\", \"line\": {\"width\": 0}, \"opacity\": 1, \"type\": \"rect\", \"x0\": \"2011-04-12\", \"x1\": \"2011-04-14\", \"xref\": \"x\", \"y0\": -0.2, \"y1\": 0.2, \"yref\": \"y\"}, {\"fillcolor\": \"rgb(148, 103, 189)\", \"line\": {\"width\": 0}, \"opacity\": 1, \"type\": \"rect\", \"x0\": \"2011-04-14\", \"x1\": \"2011-04-18\", \"xref\": \"x\", \"y0\": -0.2, \"y1\": 0.2, \"yref\": \"y\"}, {\"fillcolor\": \"rgb(148, 103, 189)\", \"line\": {\"width\": 0}, \"opacity\": 1, \"type\": \"rect\", \"x0\": \"2011-04-18\", \"x1\": \"2011-04-20\", \"xref\": \"x\", \"y0\": -0.2, \"y1\": 0.2, \"yref\": \"y\"}, {\"fillcolor\": \"rgb(148, 103, 189)\", \"line\": {\"width\": 0}, \"opacity\": 1, \"type\": \"rect\", \"x0\": \"2011-04-20\", \"x1\": \"2011-04-25\", \"xref\": \"x\", \"y0\": -0.2, \"y1\": 0.2, \"yref\": \"y\"}, {\"fillcolor\": \"rgb(148, 103, 189)\", \"line\": {\"width\": 0}, \"opacity\": 1, \"type\": \"rect\", \"x0\": \"2011-04-25\", \"x1\": \"2011-05-02\", \"xref\": \"x\", \"y0\": -0.2, \"y1\": 0.2, \"yref\": \"y\"}, {\"fillcolor\": \"rgb(148, 103, 189)\", \"line\": {\"width\": 0}, \"opacity\": 1, \"type\": \"rect\", \"x0\": \"2011-05-02\", \"x1\": \"2011-05-05\", \"xref\": \"x\", \"y0\": -0.2, \"y1\": 0.2, \"yref\": \"y\"}, {\"fillcolor\": \"rgb(148, 103, 189)\", \"line\": {\"width\": 0}, \"opacity\": 1, \"type\": \"rect\", \"x0\": \"2011-05-05\", \"x1\": \"2011-05-06\", \"xref\": \"x\", \"y0\": -0.2, \"y1\": 0.2, \"yref\": \"y\"}, {\"fillcolor\": \"rgb(148, 103, 189)\", \"line\": {\"width\": 0}, \"opacity\": 1, \"type\": \"rect\", \"x0\": \"2011-05-06\", \"x1\": \"2011-06-18\", \"xref\": \"x\", \"y0\": -0.2, \"y1\": 0.2, \"yref\": \"y\"}, {\"fillcolor\": \"rgb(148, 103, 189)\", \"line\": {\"width\": 0}, \"opacity\": 1, \"type\": \"rect\", \"x0\": \"2011-06-18\", \"x1\": \"2011-06-21\", \"xref\": \"x\", \"y0\": -0.2, \"y1\": 0.2, \"yref\": \"y\"}, {\"fillcolor\": \"rgb(148, 103, 189)\", \"line\": {\"width\": 0}, \"opacity\": 1, \"type\": \"rect\", \"x0\": \"2011-06-21\", \"x1\": \"2011-06-25\", \"xref\": \"x\", \"y0\": -0.2, \"y1\": 0.2, \"yref\": \"y\"}, {\"fillcolor\": \"rgb(148, 103, 189)\", \"line\": {\"width\": 0}, \"opacity\": 1, \"type\": \"rect\", \"x0\": \"2011-06-25\", \"x1\": \"2011-06-28\", \"xref\": \"x\", \"y0\": -0.2, \"y1\": 0.2, \"yref\": \"y\"}, {\"fillcolor\": \"rgb(148, 103, 189)\", \"line\": {\"width\": 0}, \"opacity\": 1, \"type\": \"rect\", \"x0\": \"2011-06-28\", \"x1\": \"2011-06-29\", \"xref\": \"x\", \"y0\": -0.2, \"y1\": 0.2, \"yref\": \"y\"}, {\"fillcolor\": \"rgb(148, 103, 189)\", \"line\": {\"width\": 0}, \"opacity\": 1, \"type\": \"rect\", \"x0\": \"2011-06-29\", \"x1\": \"2011-07-20\", \"xref\": \"x\", \"y0\": -0.2, \"y1\": 0.2, \"yref\": \"y\"}, {\"fillcolor\": \"rgb(255, 127, 14)\", \"line\": {\"width\": 0}, \"opacity\": 1, \"type\": \"rect\", \"x0\": \"2011-07-20\", \"x1\": \"2011-07-22\", \"xref\": \"x\", \"y0\": 1.8, \"y1\": 2.2, \"yref\": \"y\"}, {\"fillcolor\": \"rgb(255, 127, 14)\", \"line\": {\"width\": 0}, \"opacity\": 1, \"type\": \"rect\", \"x0\": \"2011-07-22\", \"x1\": \"2011-07-23\", \"xref\": \"x\", \"y0\": 1.8, \"y1\": 2.2, \"yref\": \"y\"}, {\"fillcolor\": \"rgb(255, 127, 14)\", \"line\": {\"width\": 0}, \"opacity\": 1, \"type\": \"rect\", \"x0\": \"2011-07-23\", \"x1\": \"2011-07-24\", \"xref\": \"x\", \"y0\": 1.8, \"y1\": 2.2, \"yref\": \"y\"}, {\"fillcolor\": \"rgb(255, 127, 14)\", \"line\": {\"width\": 0}, \"opacity\": 1, \"type\": \"rect\", \"x0\": \"2011-07-24\", \"x1\": \"2011-07-26\", \"xref\": \"x\", \"y0\": 1.8, \"y1\": 2.2, \"yref\": \"y\"}, {\"fillcolor\": \"rgb(255, 127, 14)\", \"line\": {\"width\": 0}, \"opacity\": 1, \"type\": \"rect\", \"x0\": \"2011-07-26\", \"x1\": \"2011-07-28\", \"xref\": \"x\", \"y0\": 1.8, \"y1\": 2.2, \"yref\": \"y\"}, {\"fillcolor\": \"rgb(255, 127, 14)\", \"line\": {\"width\": 0}, \"opacity\": 1, \"type\": \"rect\", \"x0\": \"2011-07-28\", \"x1\": \"2011-07-28\", \"xref\": \"x\", \"y0\": 1.8, \"y1\": 2.2, \"yref\": \"y\"}, {\"fillcolor\": \"rgb(255, 127, 14)\", \"line\": {\"width\": 0}, \"opacity\": 1, \"type\": \"rect\", \"x0\": \"2011-07-28\", \"x1\": \"2011-07-29\", \"xref\": \"x\", \"y0\": 1.8, \"y1\": 2.2, \"yref\": \"y\"}, {\"fillcolor\": \"rgb(255, 127, 14)\", \"line\": {\"width\": 0}, \"opacity\": 1, \"type\": \"rect\", \"x0\": \"2011-07-29\", \"x1\": \"2011-07-31\", \"xref\": \"x\", \"y0\": 1.8, \"y1\": 2.2, \"yref\": \"y\"}, {\"fillcolor\": \"rgb(255, 127, 14)\", \"line\": {\"width\": 0}, \"opacity\": 1, \"type\": \"rect\", \"x0\": \"2011-07-31\", \"x1\": \"2011-08-01\", \"xref\": \"x\", \"y0\": 1.8, \"y1\": 2.2, \"yref\": \"y\"}, {\"fillcolor\": \"rgb(255, 127, 14)\", \"line\": {\"width\": 0}, \"opacity\": 1, \"type\": \"rect\", \"x0\": \"2011-08-01\", \"x1\": \"2011-08-03\", \"xref\": \"x\", \"y0\": 1.8, \"y1\": 2.2, \"yref\": \"y\"}, {\"fillcolor\": \"rgb(255, 127, 14)\", \"line\": {\"width\": 0}, \"opacity\": 1, \"type\": \"rect\", \"x0\": \"2011-08-03\", \"x1\": \"2011-08-04\", \"xref\": \"x\", \"y0\": 1.8, \"y1\": 2.2, \"yref\": \"y\"}, {\"fillcolor\": \"rgb(255, 127, 14)\", \"line\": {\"width\": 0}, \"opacity\": 1, \"type\": \"rect\", \"x0\": \"2011-08-04\", \"x1\": \"2011-08-05\", \"xref\": \"x\", \"y0\": 1.8, \"y1\": 2.2, \"yref\": \"y\"}, {\"fillcolor\": \"rgb(255, 127, 14)\", \"line\": {\"width\": 0}, \"opacity\": 1, \"type\": \"rect\", \"x0\": \"2011-08-05\", \"x1\": \"2011-08-06\", \"xref\": \"x\", \"y0\": 1.8, \"y1\": 2.2, \"yref\": \"y\"}, {\"fillcolor\": \"rgb(255, 127, 14)\", \"line\": {\"width\": 0}, \"opacity\": 1, \"type\": \"rect\", \"x0\": \"2011-08-06\", \"x1\": \"2011-08-07\", \"xref\": \"x\", \"y0\": 1.8, \"y1\": 2.2, \"yref\": \"y\"}, {\"fillcolor\": \"rgb(255, 127, 14)\", \"line\": {\"width\": 0}, \"opacity\": 1, \"type\": \"rect\", \"x0\": \"2011-08-07\", \"x1\": \"2011-08-08\", \"xref\": \"x\", \"y0\": 1.8, \"y1\": 2.2, \"yref\": \"y\"}, {\"fillcolor\": \"rgb(255, 127, 14)\", \"line\": {\"width\": 0}, \"opacity\": 1, \"type\": \"rect\", \"x0\": \"2011-08-08\", \"x1\": \"2011-08-09\", \"xref\": \"x\", \"y0\": 1.8, \"y1\": 2.2, \"yref\": \"y\"}, {\"fillcolor\": \"rgb(255, 127, 14)\", \"line\": {\"width\": 0}, \"opacity\": 1, \"type\": \"rect\", \"x0\": \"2011-08-09\", \"x1\": \"2011-08-09\", \"xref\": \"x\", \"y0\": 1.8, \"y1\": 2.2, \"yref\": \"y\"}, {\"fillcolor\": \"rgb(255, 127, 14)\", \"line\": {\"width\": 0}, \"opacity\": 1, \"type\": \"rect\", \"x0\": \"2011-08-09\", \"x1\": \"2011-08-12\", \"xref\": \"x\", \"y0\": 1.8, \"y1\": 2.2, \"yref\": \"y\"}, {\"fillcolor\": \"rgb(255, 127, 14)\", \"line\": {\"width\": 0}, \"opacity\": 1, \"type\": \"rect\", \"x0\": \"2011-08-12\", \"x1\": \"2011-08-17\", \"xref\": \"x\", \"y0\": 1.8, \"y1\": 2.2, \"yref\": \"y\"}, {\"fillcolor\": \"rgb(255, 127, 14)\", \"line\": {\"width\": 0}, \"opacity\": 1, \"type\": \"rect\", \"x0\": \"2011-08-17\", \"x1\": \"2011-08-19\", \"xref\": \"x\", \"y0\": 1.8, \"y1\": 2.2, \"yref\": \"y\"}, {\"fillcolor\": \"rgb(255, 127, 14)\", \"line\": {\"width\": 0}, \"opacity\": 1, \"type\": \"rect\", \"x0\": \"2011-08-19\", \"x1\": \"2011-08-20\", \"xref\": \"x\", \"y0\": 1.8, \"y1\": 2.2, \"yref\": \"y\"}, {\"fillcolor\": \"rgb(255, 127, 14)\", \"line\": {\"width\": 0}, \"opacity\": 1, \"type\": \"rect\", \"x0\": \"2011-08-20\", \"x1\": \"2011-08-22\", \"xref\": \"x\", \"y0\": 1.8, \"y1\": 2.2, \"yref\": \"y\"}, {\"fillcolor\": \"rgb(255, 127, 14)\", \"line\": {\"width\": 0}, \"opacity\": 1, \"type\": \"rect\", \"x0\": \"2011-08-22\", \"x1\": \"2011-08-24\", \"xref\": \"x\", \"y0\": 1.8, \"y1\": 2.2, \"yref\": \"y\"}, {\"fillcolor\": \"rgb(255, 127, 14)\", \"line\": {\"width\": 0}, \"opacity\": 1, \"type\": \"rect\", \"x0\": \"2011-08-24\", \"x1\": \"2011-08-25\", \"xref\": \"x\", \"y0\": 1.8, \"y1\": 2.2, \"yref\": \"y\"}, {\"fillcolor\": \"rgb(214, 39, 40)\", \"line\": {\"width\": 0}, \"opacity\": 1, \"type\": \"rect\", \"x0\": \"2011-08-25\", \"x1\": \"2011-08-29\", \"xref\": \"x\", \"y0\": 3.8, \"y1\": 4.2, \"yref\": \"y\"}, {\"fillcolor\": \"rgb(214, 39, 40)\", \"line\": {\"width\": 0}, \"opacity\": 1, \"type\": \"rect\", \"x0\": \"2016-08-24\", \"x1\": \"2016-08-26\", \"xref\": \"x\", \"y0\": 3.8, \"y1\": 4.2, \"yref\": \"y\"}, {\"fillcolor\": \"rgb(214, 39, 40)\", \"line\": {\"width\": 0}, \"opacity\": 1, \"type\": \"rect\", \"x0\": \"2016-08-26\", \"x1\": \"2016-08-27\", \"xref\": \"x\", \"y0\": 3.8, \"y1\": 4.2, \"yref\": \"y\"}, {\"fillcolor\": \"rgb(214, 39, 40)\", \"line\": {\"width\": 0}, \"opacity\": 1, \"type\": \"rect\", \"x0\": \"2016-08-27\", \"x1\": \"2016-08-28\", \"xref\": \"x\", \"y0\": 3.8, \"y1\": 4.2, \"yref\": \"y\"}, {\"fillcolor\": \"rgb(214, 39, 40)\", \"line\": {\"width\": 0}, \"opacity\": 1, \"type\": \"rect\", \"x0\": \"2016-08-28\", \"x1\": \"2016-09-05\", \"xref\": \"x\", \"y0\": 3.8, \"y1\": 4.2, \"yref\": \"y\"}, {\"fillcolor\": \"rgb(214, 39, 40)\", \"line\": {\"width\": 0}, \"opacity\": 1, \"type\": \"rect\", \"x0\": \"2016-09-05\", \"x1\": \"2016-09-10\", \"xref\": \"x\", \"y0\": 3.8, \"y1\": 4.2, \"yref\": \"y\"}, {\"fillcolor\": \"rgb(214, 39, 40)\", \"line\": {\"width\": 0}, \"opacity\": 1, \"type\": \"rect\", \"x0\": \"2016-09-10\", \"x1\": \"2016-09-15\", \"xref\": \"x\", \"y0\": 3.8, \"y1\": 4.2, \"yref\": \"y\"}, {\"fillcolor\": \"rgb(214, 39, 40)\", \"line\": {\"width\": 0}, \"opacity\": 1, \"type\": \"rect\", \"x0\": \"2016-09-15\", \"x1\": \"2016-09-16\", \"xref\": \"x\", \"y0\": 3.8, \"y1\": 4.2, \"yref\": \"y\"}, {\"fillcolor\": \"rgb(214, 39, 40)\", \"line\": {\"width\": 0}, \"opacity\": 1, \"type\": \"rect\", \"x0\": \"2016-09-16\", \"x1\": \"2016-09-17\", \"xref\": \"x\", \"y0\": 3.8, \"y1\": 4.2, \"yref\": \"y\"}, {\"fillcolor\": \"rgb(214, 39, 40)\", \"line\": {\"width\": 0}, \"opacity\": 1, \"type\": \"rect\", \"x0\": \"2016-09-17\", \"x1\": \"2016-09-24\", \"xref\": \"x\", \"y0\": 3.8, \"y1\": 4.2, \"yref\": \"y\"}, {\"fillcolor\": \"rgb(214, 39, 40)\", \"line\": {\"width\": 0}, \"opacity\": 1, \"type\": \"rect\", \"x0\": \"2016-09-24\", \"x1\": \"2016-09-24\", \"xref\": \"x\", \"y0\": 3.8, \"y1\": 4.2, \"yref\": \"y\"}, {\"fillcolor\": \"rgb(214, 39, 40)\", \"line\": {\"width\": 0}, \"opacity\": 1, \"type\": \"rect\", \"x0\": \"2016-09-24\", \"x1\": \"2016-09-25\", \"xref\": \"x\", \"y0\": 3.8, \"y1\": 4.2, \"yref\": \"y\"}, {\"fillcolor\": \"rgb(214, 39, 40)\", \"line\": {\"width\": 0}, \"opacity\": 1, \"type\": \"rect\", \"x0\": \"2016-09-25\", \"x1\": \"2016-09-27\", \"xref\": \"x\", \"y0\": 3.8, \"y1\": 4.2, \"yref\": \"y\"}, {\"fillcolor\": \"rgb(255, 127, 14)\", \"line\": {\"width\": 0}, \"opacity\": 1, \"type\": \"rect\", \"x0\": \"2016-09-27\", \"x1\": \"2016-09-29\", \"xref\": \"x\", \"y0\": 1.8, \"y1\": 2.2, \"yref\": \"y\"}, {\"fillcolor\": \"rgb(214, 39, 40)\", \"line\": {\"width\": 0}, \"opacity\": 1, \"type\": \"rect\", \"x0\": \"2014-07-19\", \"x1\": \"2014-07-21\", \"xref\": \"x\", \"y0\": 3.8, \"y1\": 4.2, \"yref\": \"y\"}, {\"fillcolor\": \"rgb(214, 39, 40)\", \"line\": {\"width\": 0}, \"opacity\": 1, \"type\": \"rect\", \"x0\": \"2014-07-21\", \"x1\": \"2014-07-21\", \"xref\": \"x\", \"y0\": 3.8, \"y1\": 4.2, \"yref\": \"y\"}, {\"fillcolor\": \"rgb(214, 39, 40)\", \"line\": {\"width\": 0}, \"opacity\": 1, \"type\": \"rect\", \"x0\": \"2014-07-21\", \"x1\": \"2014-07-23\", \"xref\": \"x\", \"y0\": 3.8, \"y1\": 4.2, \"yref\": \"y\"}, {\"fillcolor\": \"rgb(214, 39, 40)\", \"line\": {\"width\": 0}, \"opacity\": 1, \"type\": \"rect\", \"x0\": \"2014-07-23\", \"x1\": \"2014-07-26\", \"xref\": \"x\", \"y0\": 3.8, \"y1\": 4.2, \"yref\": \"y\"}, {\"fillcolor\": \"rgb(214, 39, 40)\", \"line\": {\"width\": 0}, \"opacity\": 1, \"type\": \"rect\", \"x0\": \"2014-07-26\", \"x1\": \"2014-07-29\", \"xref\": \"x\", \"y0\": 3.8, \"y1\": 4.2, \"yref\": \"y\"}, {\"fillcolor\": \"rgb(214, 39, 40)\", \"line\": {\"width\": 0}, \"opacity\": 1, \"type\": \"rect\", \"x0\": \"2014-07-29\", \"x1\": \"2014-07-29\", \"xref\": \"x\", \"y0\": 3.8, \"y1\": 4.2, \"yref\": \"y\"}, {\"fillcolor\": \"rgb(214, 39, 40)\", \"line\": {\"width\": 0}, \"opacity\": 1, \"type\": \"rect\", \"x0\": \"2014-07-29\", \"x1\": \"2014-07-29\", \"xref\": \"x\", \"y0\": 3.8, \"y1\": 4.2, \"yref\": \"y\"}, {\"fillcolor\": \"rgb(214, 39, 40)\", \"line\": {\"width\": 0}, \"opacity\": 1, \"type\": \"rect\", \"x0\": \"2014-07-29\", \"x1\": \"2014-08-02\", \"xref\": \"x\", \"y0\": 3.8, \"y1\": 4.2, \"yref\": \"y\"}, {\"fillcolor\": \"rgb(214, 39, 40)\", \"line\": {\"width\": 0}, \"opacity\": 1, \"type\": \"rect\", \"x0\": \"2014-08-02\", \"x1\": \"2014-08-05\", \"xref\": \"x\", \"y0\": 3.8, \"y1\": 4.2, \"yref\": \"y\"}, {\"fillcolor\": \"rgb(214, 39, 40)\", \"line\": {\"width\": 0}, \"opacity\": 1, \"type\": \"rect\", \"x0\": \"2014-08-05\", \"x1\": \"2014-08-06\", \"xref\": \"x\", \"y0\": 3.8, \"y1\": 4.2, \"yref\": \"y\"}, {\"fillcolor\": \"rgb(214, 39, 40)\", \"line\": {\"width\": 0}, \"opacity\": 1, \"type\": \"rect\", \"x0\": \"2014-08-06\", \"x1\": \"2014-08-12\", \"xref\": \"x\", \"y0\": 3.8, \"y1\": 4.2, \"yref\": \"y\"}, {\"fillcolor\": \"rgb(214, 39, 40)\", \"line\": {\"width\": 0}, \"opacity\": 1, \"type\": \"rect\", \"x0\": \"2014-08-12\", \"x1\": \"2014-08-15\", \"xref\": \"x\", \"y0\": 3.8, \"y1\": 4.2, \"yref\": \"y\"}, {\"fillcolor\": \"rgb(214, 39, 40)\", \"line\": {\"width\": 0}, \"opacity\": 1, \"type\": \"rect\", \"x0\": \"2014-08-15\", \"x1\": \"2014-08-16\", \"xref\": \"x\", \"y0\": 3.8, \"y1\": 4.2, \"yref\": \"y\"}, {\"fillcolor\": \"rgb(214, 39, 40)\", \"line\": {\"width\": 0}, \"opacity\": 1, \"type\": \"rect\", \"x0\": \"2014-08-16\", \"x1\": \"2014-08-18\", \"xref\": \"x\", \"y0\": 3.8, \"y1\": 4.2, \"yref\": \"y\"}, {\"fillcolor\": \"rgb(214, 39, 40)\", \"line\": {\"width\": 0}, \"opacity\": 1, \"type\": \"rect\", \"x0\": \"2014-08-18\", \"x1\": \"2014-08-20\", \"xref\": \"x\", \"y0\": 3.8, \"y1\": 4.2, \"yref\": \"y\"}, {\"fillcolor\": \"rgb(214, 39, 40)\", \"line\": {\"width\": 0}, \"opacity\": 1, \"type\": \"rect\", \"x0\": \"2014-08-20\", \"x1\": \"2014-08-22\", \"xref\": \"x\", \"y0\": 3.8, \"y1\": 4.2, \"yref\": \"y\"}, {\"fillcolor\": \"rgb(214, 39, 40)\", \"line\": {\"width\": 0}, \"opacity\": 1, \"type\": \"rect\", \"x0\": \"2014-08-22\", \"x1\": \"2014-08-22\", \"xref\": \"x\", \"y0\": 3.8, \"y1\": 4.2, \"yref\": \"y\"}, {\"fillcolor\": \"rgb(214, 39, 40)\", \"line\": {\"width\": 0}, \"opacity\": 1, \"type\": \"rect\", \"x0\": \"2014-08-22\", \"x1\": \"2014-08-25\", \"xref\": \"x\", \"y0\": 3.8, \"y1\": 4.2, \"yref\": \"y\"}, {\"fillcolor\": \"rgb(214, 39, 40)\", \"line\": {\"width\": 0}, \"opacity\": 1, \"type\": \"rect\", \"x0\": \"2014-08-25\", \"x1\": \"2014-08-26\", \"xref\": \"x\", \"y0\": 3.8, \"y1\": 4.2, \"yref\": \"y\"}, {\"fillcolor\": \"rgb(214, 39, 40)\", \"line\": {\"width\": 0}, \"opacity\": 1, \"type\": \"rect\", \"x0\": \"2014-08-26\", \"x1\": \"2014-08-28\", \"xref\": \"x\", \"y0\": 3.8, \"y1\": 4.2, \"yref\": \"y\"}, {\"fillcolor\": \"rgb(214, 39, 40)\", \"line\": {\"width\": 0}, \"opacity\": 1, \"type\": \"rect\", \"x0\": \"2013-12-28\", \"x1\": \"2014-01-04\", \"xref\": \"x\", \"y0\": 3.8, \"y1\": 4.2, \"yref\": \"y\"}, {\"fillcolor\": \"rgb(214, 39, 40)\", \"line\": {\"width\": 0}, \"opacity\": 1, \"type\": \"rect\", \"x0\": \"2015-07-15\", \"x1\": \"2015-07-18\", \"xref\": \"x\", \"y0\": 3.8, \"y1\": 4.2, \"yref\": \"y\"}, {\"fillcolor\": \"rgb(214, 39, 40)\", \"line\": {\"width\": 0}, \"opacity\": 1, \"type\": \"rect\", \"x0\": \"2015-07-18\", \"x1\": \"2015-07-20\", \"xref\": \"x\", \"y0\": 3.8, \"y1\": 4.2, \"yref\": \"y\"}, {\"fillcolor\": \"rgb(214, 39, 40)\", \"line\": {\"width\": 0}, \"opacity\": 1, \"type\": \"rect\", \"x0\": \"2015-07-20\", \"x1\": \"2015-07-23\", \"xref\": \"x\", \"y0\": 3.8, \"y1\": 4.2, \"yref\": \"y\"}, {\"fillcolor\": \"rgb(214, 39, 40)\", \"line\": {\"width\": 0}, \"opacity\": 1, \"type\": \"rect\", \"x0\": \"2015-07-23\", \"x1\": \"2015-07-25\", \"xref\": \"x\", \"y0\": 3.8, \"y1\": 4.2, \"yref\": \"y\"}, {\"fillcolor\": \"rgb(214, 39, 40)\", \"line\": {\"width\": 0}, \"opacity\": 1, \"type\": \"rect\", \"x0\": \"2015-07-25\", \"x1\": \"2015-08-01\", \"xref\": \"x\", \"y0\": 3.8, \"y1\": 4.2, \"yref\": \"y\"}, {\"fillcolor\": \"rgb(214, 39, 40)\", \"line\": {\"width\": 0}, \"opacity\": 1, \"type\": \"rect\", \"x0\": \"2015-08-01\", \"x1\": \"2015-08-02\", \"xref\": \"x\", \"y0\": 3.8, \"y1\": 4.2, \"yref\": \"y\"}, {\"fillcolor\": \"rgb(214, 39, 40)\", \"line\": {\"width\": 0}, \"opacity\": 1, \"type\": \"rect\", \"x0\": \"2014-12-27\", \"x1\": \"2015-01-03\", \"xref\": \"x\", \"y0\": 3.8, \"y1\": 4.2, \"yref\": \"y\"}, {\"fillcolor\": \"rgb(214, 39, 40)\", \"line\": {\"width\": 0}, \"opacity\": 1, \"type\": \"rect\", \"x0\": \"2015-01-18\", \"x1\": \"2015-01-23\", \"xref\": \"x\", \"y0\": 3.8, \"y1\": 4.2, \"yref\": \"y\"}, {\"fillcolor\": \"rgb(255, 127, 14)\", \"line\": {\"width\": 0}, \"opacity\": 1, \"type\": \"rect\", \"x0\": \"2017-05-26\", \"x1\": \"2017-05-26\", \"xref\": \"x\", \"y0\": 1.8, \"y1\": 2.2, \"yref\": \"y\"}, {\"fillcolor\": \"rgb(255, 127, 14)\", \"line\": {\"width\": 0}, \"opacity\": 1, \"type\": \"rect\", \"x0\": \"2017-05-26\", \"x1\": \"2017-05-31\", \"xref\": \"x\", \"y0\": 1.8, \"y1\": 2.2, \"yref\": \"y\"}, {\"fillcolor\": \"rgb(255, 127, 14)\", \"line\": {\"width\": 0}, \"opacity\": 1, \"type\": \"rect\", \"x0\": \"2017-05-31\", \"x1\": \"2017-06-03\", \"xref\": \"x\", \"y0\": 1.8, \"y1\": 2.2, \"yref\": \"y\"}, {\"fillcolor\": \"rgb(255, 127, 14)\", \"line\": {\"width\": 0}, \"opacity\": 1, \"type\": \"rect\", \"x0\": \"2017-06-03\", \"x1\": \"2017-06-05\", \"xref\": \"x\", \"y0\": 1.8, \"y1\": 2.2, \"yref\": \"y\"}, {\"fillcolor\": \"rgb(255, 127, 14)\", \"line\": {\"width\": 0}, \"opacity\": 1, \"type\": \"rect\", \"x0\": \"2017-06-05\", \"x1\": \"2017-06-08\", \"xref\": \"x\", \"y0\": 1.8, \"y1\": 2.2, \"yref\": \"y\"}, {\"fillcolor\": \"rgb(255, 127, 14)\", \"line\": {\"width\": 0}, \"opacity\": 1, \"type\": \"rect\", \"x0\": \"2017-06-08\", \"x1\": \"2017-06-10\", \"xref\": \"x\", \"y0\": 1.8, \"y1\": 2.2, \"yref\": \"y\"}, {\"fillcolor\": \"rgb(255, 127, 14)\", \"line\": {\"width\": 0}, \"opacity\": 1, \"type\": \"rect\", \"x0\": \"2017-06-10\", \"x1\": \"2017-06-11\", \"xref\": \"x\", \"y0\": 1.8, \"y1\": 2.2, \"yref\": \"y\"}, {\"fillcolor\": \"rgb(255, 127, 14)\", \"line\": {\"width\": 0}, \"opacity\": 1, \"type\": \"rect\", \"x0\": \"2017-06-11\", \"x1\": \"2017-06-11\", \"xref\": \"x\", \"y0\": 1.8, \"y1\": 2.2, \"yref\": \"y\"}, {\"fillcolor\": \"rgb(255, 127, 14)\", \"line\": {\"width\": 0}, \"opacity\": 1, \"type\": \"rect\", \"x0\": \"2017-06-11\", \"x1\": \"2017-06-12\", \"xref\": \"x\", \"y0\": 1.8, \"y1\": 2.2, \"yref\": \"y\"}, {\"fillcolor\": \"rgb(214, 39, 40)\", \"line\": {\"width\": 0}, \"opacity\": 1, \"type\": \"rect\", \"x0\": \"2018-03-17\", \"x1\": \"2018-03-24\", \"xref\": \"x\", \"y0\": 3.8, \"y1\": 4.2, \"yref\": \"y\"}, {\"fillcolor\": \"rgb(214, 39, 40)\", \"line\": {\"width\": 0}, \"opacity\": 1, \"type\": \"rect\", \"x0\": \"2017-12-27\", \"x1\": \"2017-12-27\", \"xref\": \"x\", \"y0\": 3.8, \"y1\": 4.2, \"yref\": \"y\"}, {\"fillcolor\": \"rgb(214, 39, 40)\", \"line\": {\"width\": 0}, \"opacity\": 1, \"type\": \"rect\", \"x0\": \"2017-12-27\", \"x1\": \"2017-12-28\", \"xref\": \"x\", \"y0\": 3.8, \"y1\": 4.2, \"yref\": \"y\"}, {\"fillcolor\": \"rgb(214, 39, 40)\", \"line\": {\"width\": 0}, \"opacity\": 1, \"type\": \"rect\", \"x0\": \"2017-12-28\", \"x1\": \"2017-12-29\", \"xref\": \"x\", \"y0\": 3.8, \"y1\": 4.2, \"yref\": \"y\"}, {\"fillcolor\": \"rgb(214, 39, 40)\", \"line\": {\"width\": 0}, \"opacity\": 1, \"type\": \"rect\", \"x0\": \"2017-12-29\", \"x1\": \"2017-12-30\", \"xref\": \"x\", \"y0\": 3.8, \"y1\": 4.2, \"yref\": \"y\"}, {\"fillcolor\": \"rgb(214, 39, 40)\", \"line\": {\"width\": 0}, \"opacity\": 1, \"type\": \"rect\", \"x0\": \"2017-12-30\", \"x1\": \"2017-12-31\", \"xref\": \"x\", \"y0\": 3.8, \"y1\": 4.2, \"yref\": \"y\"}, {\"fillcolor\": \"rgb(214, 39, 40)\", \"line\": {\"width\": 0}, \"opacity\": 1, \"type\": \"rect\", \"x0\": \"2017-12-31\", \"x1\": \"2018-01-01\", \"xref\": \"x\", \"y0\": 3.8, \"y1\": 4.2, \"yref\": \"y\"}, {\"fillcolor\": \"rgb(214, 39, 40)\", \"line\": {\"width\": 0}, \"opacity\": 1, \"type\": \"rect\", \"x0\": \"2018-01-01\", \"x1\": \"2018-01-02\", \"xref\": \"x\", \"y0\": 3.8, \"y1\": 4.2, \"yref\": \"y\"}, {\"fillcolor\": \"rgb(214, 39, 40)\", \"line\": {\"width\": 0}, \"opacity\": 1, \"type\": \"rect\", \"x0\": \"2018-01-02\", \"x1\": \"2018-01-02\", \"xref\": \"x\", \"y0\": 3.8, \"y1\": 4.2, \"yref\": \"y\"}, {\"fillcolor\": \"rgb(214, 39, 40)\", \"line\": {\"width\": 0}, \"opacity\": 1, \"type\": \"rect\", \"x0\": \"2018-01-02\", \"x1\": \"2018-01-03\", \"xref\": \"x\", \"y0\": 3.8, \"y1\": 4.2, \"yref\": \"y\"}, {\"fillcolor\": \"rgb(214, 39, 40)\", \"line\": {\"width\": 0}, \"opacity\": 1, \"type\": \"rect\", \"x0\": \"2018-01-03\", \"x1\": \"2018-01-03\", \"xref\": \"x\", \"y0\": 3.8, \"y1\": 4.2, \"yref\": \"y\"}, {\"fillcolor\": \"rgb(214, 39, 40)\", \"line\": {\"width\": 0}, \"opacity\": 1, \"type\": \"rect\", \"x0\": \"2018-01-03\", \"x1\": \"2018-01-04\", \"xref\": \"x\", \"y0\": 3.8, \"y1\": 4.2, \"yref\": \"y\"}, {\"fillcolor\": \"rgb(214, 39, 40)\", \"line\": {\"width\": 0}, \"opacity\": 1, \"type\": \"rect\", \"x0\": \"2018-01-04\", \"x1\": \"2018-01-04\", \"xref\": \"x\", \"y0\": 3.8, \"y1\": 4.2, \"yref\": \"y\"}, {\"fillcolor\": \"rgb(214, 39, 40)\", \"line\": {\"width\": 0}, \"opacity\": 1, \"type\": \"rect\", \"x0\": \"2018-01-04\", \"x1\": \"2018-01-05\", \"xref\": \"x\", \"y0\": 3.8, \"y1\": 4.2, \"yref\": \"y\"}, {\"fillcolor\": \"rgb(214, 39, 40)\", \"line\": {\"width\": 0}, \"opacity\": 1, \"type\": \"rect\", \"x0\": \"2018-01-05\", \"x1\": \"2018-01-05\", \"xref\": \"x\", \"y0\": 3.8, \"y1\": 4.2, \"yref\": \"y\"}, {\"fillcolor\": \"rgb(214, 39, 40)\", \"line\": {\"width\": 0}, \"opacity\": 1, \"type\": \"rect\", \"x0\": \"2018-01-05\", \"x1\": \"2018-01-06\", \"xref\": \"x\", \"y0\": 3.8, \"y1\": 4.2, \"yref\": \"y\"}, {\"fillcolor\": \"rgb(214, 39, 40)\", \"line\": {\"width\": 0}, \"opacity\": 1, \"type\": \"rect\", \"x0\": \"2018-01-06\", \"x1\": \"2018-01-06\", \"xref\": \"x\", \"y0\": 3.8, \"y1\": 4.2, \"yref\": \"y\"}, {\"fillcolor\": \"rgb(214, 39, 40)\", \"line\": {\"width\": 0}, \"opacity\": 1, \"type\": \"rect\", \"x0\": \"2018-01-06\", \"x1\": \"2018-01-07\", \"xref\": \"x\", \"y0\": 3.8, \"y1\": 4.2, \"yref\": \"y\"}], \"showlegend\": false, \"title\": {\"text\": \"Patrick's Holidays\"}, \"width\": 900, \"xaxis\": {\"rangeselector\": {\"buttons\": [{\"count\": 7, \"label\": \"1w\", \"step\": \"day\", \"stepmode\": \"backward\"}, {\"count\": 1, \"label\": \"1m\", \"step\": \"month\", \"stepmode\": \"backward\"}, {\"count\": 6, \"label\": \"6m\", \"step\": \"month\", \"stepmode\": \"backward\"}, {\"count\": 1, \"label\": \"YTD\", \"step\": \"year\", \"stepmode\": \"todate\"}, {\"count\": 1, \"label\": \"1y\", \"step\": \"year\", \"stepmode\": \"backward\"}, {\"step\": \"all\"}]}, \"showgrid\": true, \"type\": \"date\", \"zeroline\": false}, \"yaxis\": {\"autorange\": false, \"range\": [-1, 6], \"showgrid\": true, \"ticktext\": [\"Oceania\", \"Asia\", \"Americas\", \"Africa\", \"Europe\"], \"tickvals\": [0, 1, 2, 3, 4], \"zeroline\": false}}, {\"showLink\": false, \"linkText\": \"Export to plot.ly\", \"plotlyServerURL\": \"https://plot.ly\"}); \n",
       "}\n",
       "});</script>"
      ],
      "text/vnd.plotly.v1+html": [
       "<div id=\"c2c3525c-c922-49cc-aacf-2384bc3689e2\" style=\"height: 600px; width: 900px;\" class=\"plotly-graph-div\"></div><script type=\"text/javascript\">require([\"plotly\"], function(Plotly) { window.PLOTLYENV=window.PLOTLYENV || {};window.PLOTLYENV.BASE_URL=\"https://plot.ly\";\n",
       "if (document.getElementById(\"c2c3525c-c922-49cc-aacf-2384bc3689e2\")) {\n",
       "    Plotly.newPlot(\"c2c3525c-c922-49cc-aacf-2384bc3689e2\", [{\"marker\": {\"color\": \"white\"}, \"name\": \"\", \"x\": [\"2019-03-02\", \"2019-03-09\"], \"y\": [4, 4], \"type\": \"scatter\", \"uid\": \"8a20a5fe-e170-433d-a82b-44d22d758450\"}, {\"marker\": {\"color\": \"white\"}, \"name\": \"\", \"x\": [\"2018-06-17\", \"2018-06-19\"], \"y\": [4, 4], \"type\": \"scatter\", \"uid\": \"91e61e23-d04b-4f15-a1ad-c91ed576a973\"}, {\"marker\": {\"color\": \"white\"}, \"name\": \"\", \"x\": [\"2018-06-19\", \"2018-06-25\"], \"y\": [4, 4], \"type\": \"scatter\", \"uid\": \"04d8ae9c-e7ab-41c0-87b1-42431c53d49f\"}, {\"marker\": {\"color\": \"white\"}, \"name\": \"\", \"x\": [\"2018-06-25\", \"2018-06-30\"], \"y\": [4, 4], \"type\": \"scatter\", \"uid\": \"34b25928-fa06-4727-ac0a-3c3331483fba\"}, {\"marker\": {\"color\": \"white\"}, \"name\": \"\", \"x\": [\"2018-06-30\", \"2018-07-01\"], \"y\": [4, 4], \"type\": \"scatter\", \"uid\": \"cade77d5-77af-44e5-a18f-1658f133f16d\"}, {\"marker\": {\"color\": \"white\"}, \"name\": \"\", \"x\": [\"2018-07-01\", \"2018-07-03\"], \"y\": [4, 4], \"type\": \"scatter\", \"uid\": \"b6be5e25-6365-4c6e-893c-715d5a9b788f\"}, {\"marker\": {\"color\": \"white\"}, \"name\": \"\", \"x\": [\"2018-07-03\", \"2018-07-06\"], \"y\": [4, 4], \"type\": \"scatter\", \"uid\": \"7a1de1f4-c45a-45e2-9e5f-f2a759015750\"}, {\"marker\": {\"color\": \"white\"}, \"name\": \"\", \"x\": [\"2018-07-06\", \"2018-07-06\"], \"y\": [4, 4], \"type\": \"scatter\", \"uid\": \"9ee63bd0-1349-4285-bdb4-62de7ecf970b\"}, {\"marker\": {\"color\": \"white\"}, \"name\": \"\", \"x\": [\"2018-07-06\", \"2018-07-07\"], \"y\": [4, 4], \"type\": \"scatter\", \"uid\": \"992e9dab-fca5-4353-a7be-018bf5c6cbe7\"}, {\"marker\": {\"color\": \"white\"}, \"name\": \"\", \"x\": [\"2018-07-07\", \"2018-07-08\"], \"y\": [4, 4], \"type\": \"scatter\", \"uid\": \"4a339f1f-d8f4-402c-a5f5-868aef705a07\"}, {\"marker\": {\"color\": \"white\"}, \"name\": \"\", \"x\": [\"2018-07-08\", \"2018-07-12\"], \"y\": [4, 4], \"type\": \"scatter\", \"uid\": \"0a8c4ed3-a38e-4d10-a67a-6f0571eb6f1a\"}, {\"marker\": {\"color\": \"white\"}, \"name\": \"\", \"x\": [\"2018-07-12\", \"2018-07-15\"], \"y\": [4, 4], \"type\": \"scatter\", \"uid\": \"f91b0ac7-fe76-47e9-a766-43735f04f01f\"}, {\"marker\": {\"color\": \"white\"}, \"name\": \"\", \"x\": [\"2018-07-15\", \"2018-07-17\"], \"y\": [4, 4], \"type\": \"scatter\", \"uid\": \"9079c277-c317-4f88-9471-c7a8004ef793\"}, {\"marker\": {\"color\": \"white\"}, \"name\": \"\", \"x\": [\"2018-07-17\", \"2018-07-18\"], \"y\": [4, 4], \"type\": \"scatter\", \"uid\": \"998e32df-dfe9-44f7-bfd3-51e52fd6ee0e\"}, {\"marker\": {\"color\": \"white\"}, \"name\": \"\", \"x\": [\"2018-07-18\", \"2018-07-20\"], \"y\": [4, 4], \"type\": \"scatter\", \"uid\": \"391f0378-2cfc-425d-9346-8e2d5eb0a899\"}, {\"marker\": {\"color\": \"white\"}, \"name\": \"\", \"x\": [\"2018-07-20\", \"2018-07-24\"], \"y\": [4, 4], \"type\": \"scatter\", \"uid\": \"8fef96f1-d6fb-4faf-a6d0-a0eff88c2511\"}, {\"marker\": {\"color\": \"white\"}, \"name\": \"\", \"x\": [\"2018-07-24\", \"2018-07-27\"], \"y\": [4, 4], \"type\": \"scatter\", \"uid\": \"b079687f-7c0d-47df-9da6-f31a6077a7e1\"}, {\"marker\": {\"color\": \"white\"}, \"name\": \"\", \"x\": [\"2018-07-27\", \"2018-07-29\"], \"y\": [4, 4], \"type\": \"scatter\", \"uid\": \"e3a58df5-c171-4f41-8789-1b40a4d82a5f\"}, {\"marker\": {\"color\": \"white\"}, \"name\": \"\", \"x\": [\"2018-07-29\", \"2018-08-01\"], \"y\": [4, 4], \"type\": \"scatter\", \"uid\": \"8ce40a62-8964-4470-949e-9fd4927deb9a\"}, {\"marker\": {\"color\": \"white\"}, \"name\": \"\", \"x\": [\"2018-08-01\", \"2018-08-04\"], \"y\": [4, 4], \"type\": \"scatter\", \"uid\": \"b7eb2f86-ac75-4cb7-99eb-77a1524ae75b\"}, {\"marker\": {\"color\": \"white\"}, \"name\": \"\", \"x\": [\"2018-08-04\", \"2018-08-08\"], \"y\": [4, 4], \"type\": \"scatter\", \"uid\": \"4cacfc7b-c3f3-46db-aae9-f04b2c182266\"}, {\"marker\": {\"color\": \"white\"}, \"name\": \"\", \"x\": [\"2018-08-08\", \"2018-08-12\"], \"y\": [4, 4], \"type\": \"scatter\", \"uid\": \"45bfba07-e2b6-4956-a6c9-1199963497a4\"}, {\"marker\": {\"color\": \"white\"}, \"name\": \"\", \"x\": [\"2018-08-12\", \"2018-08-13\"], \"y\": [4, 4], \"type\": \"scatter\", \"uid\": \"577c6bae-7136-4770-b19b-6925c5f90cd6\"}, {\"marker\": {\"color\": \"white\"}, \"name\": \"\", \"x\": [\"2018-08-13\", \"2018-08-20\"], \"y\": [4, 4], \"type\": \"scatter\", \"uid\": \"264da186-3616-4dea-934b-7ab37db49f4f\"}, {\"marker\": {\"color\": \"white\"}, \"name\": \"\", \"x\": [\"2018-08-20\", \"2018-08-22\"], \"y\": [4, 4], \"type\": \"scatter\", \"uid\": \"fb637c2a-275c-445b-b306-ae214586e0b0\"}, {\"marker\": {\"color\": \"white\"}, \"name\": \"\", \"x\": [\"2018-08-22\", \"2018-08-30\"], \"y\": [4, 4], \"type\": \"scatter\", \"uid\": \"7e2c53fa-4fd4-41ce-a377-48c2dcb9993d\"}, {\"marker\": {\"color\": \"white\"}, \"name\": \"\", \"x\": [\"2018-08-30\", \"2018-09-01\"], \"y\": [4, 4], \"type\": \"scatter\", \"uid\": \"8d7dd286-4f6b-46e6-baed-6edb2de1cea1\"}, {\"marker\": {\"color\": \"white\"}, \"name\": \"\", \"x\": [\"2018-09-01\", \"2018-09-17\"], \"y\": [4, 4], \"type\": \"scatter\", \"uid\": \"4f09b6b0-ad3c-4954-b6ca-ff57ebb02ee1\"}, {\"marker\": {\"color\": \"white\"}, \"name\": \"\", \"x\": [\"2018-09-17\", \"2018-09-18\"], \"y\": [4, 4], \"type\": \"scatter\", \"uid\": \"24456fb2-c0bf-448e-a8e7-90711c7e8240\"}, {\"marker\": {\"color\": \"white\"}, \"name\": \"\", \"x\": [\"2018-09-18\", \"2018-09-23\"], \"y\": [4, 4], \"type\": \"scatter\", \"uid\": \"1b0f2d9f-6dba-424c-8226-9be7e47ec87d\"}, {\"marker\": {\"color\": \"white\"}, \"name\": \"\", \"x\": [\"2018-09-23\", \"2018-09-27\"], \"y\": [4, 4], \"type\": \"scatter\", \"uid\": \"733cf1dc-1b35-4ac8-9be0-957793df1765\"}, {\"marker\": {\"color\": \"white\"}, \"name\": \"\", \"x\": [\"2018-09-27\", \"2018-09-29\"], \"y\": [4, 4], \"type\": \"scatter\", \"uid\": \"3dd8860d-e00a-4f2f-8af6-a55711ff6781\"}, {\"marker\": {\"color\": \"white\"}, \"name\": \"\", \"x\": [\"2018-09-29\", \"2018-09-30\"], \"y\": [4, 4], \"type\": \"scatter\", \"uid\": \"2bc23ec0-1bc5-46e5-a938-6f8716a753c3\"}, {\"marker\": {\"color\": \"white\"}, \"name\": \"\", \"x\": [\"2018-09-30\", \"2018-10-01\"], \"y\": [4, 4], \"type\": \"scatter\", \"uid\": \"2f43f489-97a4-445e-902e-39bb2f4b321d\"}, {\"marker\": {\"color\": \"white\"}, \"name\": \"\", \"x\": [\"2018-10-01\", \"2018-10-03\"], \"y\": [4, 4], \"type\": \"scatter\", \"uid\": \"e8cd5970-a181-4f70-891a-77811cabfaed\"}, {\"marker\": {\"color\": \"white\"}, \"name\": \"\", \"x\": [\"2018-10-03\", \"2018-10-04\"], \"y\": [4, 4], \"type\": \"scatter\", \"uid\": \"3fb1ff5a-3673-440d-bab5-f034f032b2e4\"}, {\"marker\": {\"color\": \"white\"}, \"name\": \"\", \"x\": [\"2018-10-04\", \"2018-10-05\"], \"y\": [4, 4], \"type\": \"scatter\", \"uid\": \"09db85e0-c15d-4979-b8d4-f0c41bd31877\"}, {\"marker\": {\"color\": \"white\"}, \"name\": \"\", \"x\": [\"2018-10-05\", \"2018-10-06\"], \"y\": [4, 4], \"type\": \"scatter\", \"uid\": \"e59827b0-6c1d-4de5-ad09-7db566ac53d2\"}, {\"marker\": {\"color\": \"white\"}, \"name\": \"\", \"x\": [\"2018-10-06\", \"2018-10-09\"], \"y\": [4, 4], \"type\": \"scatter\", \"uid\": \"3a5dd2d1-e31e-4657-90be-984d8a9da5d0\"}, {\"marker\": {\"color\": \"white\"}, \"name\": \"\", \"x\": [\"2018-10-09\", \"2018-10-12\"], \"y\": [4, 4], \"type\": \"scatter\", \"uid\": \"adbc652b-479f-4300-a6e7-27169ead2f34\"}, {\"marker\": {\"color\": \"white\"}, \"name\": \"\", \"x\": [\"2018-10-12\", \"2018-10-14\"], \"y\": [4, 4], \"type\": \"scatter\", \"uid\": \"30425b1e-d37d-47ac-b14a-2eca161493e4\"}, {\"marker\": {\"color\": \"white\"}, \"name\": \"\", \"x\": [\"2018-10-14\", \"2018-10-16\"], \"y\": [4, 4], \"type\": \"scatter\", \"uid\": \"d3866e46-ef9e-47de-96d1-ea1719b778c6\"}, {\"marker\": {\"color\": \"white\"}, \"name\": \"\", \"x\": [\"2018-10-16\", \"2018-10-19\"], \"y\": [4, 4], \"type\": \"scatter\", \"uid\": \"26a7e84f-82cd-434a-8f00-c6bcd9c5a083\"}, {\"marker\": {\"color\": \"white\"}, \"name\": \"\", \"x\": [\"2018-10-19\", \"2018-10-20\"], \"y\": [4, 4], \"type\": \"scatter\", \"uid\": \"7542e0b1-0be7-4a4f-8325-758e25d850e1\"}, {\"marker\": {\"color\": \"white\"}, \"name\": \"\", \"x\": [\"2018-10-20\", \"2018-10-21\"], \"y\": [4, 4], \"type\": \"scatter\", \"uid\": \"b8a2c73b-fabd-45a4-a4f0-e4d09a0e7a09\"}, {\"marker\": {\"color\": \"white\"}, \"name\": \"\", \"x\": [\"2018-10-21\", \"2018-10-23\"], \"y\": [4, 4], \"type\": \"scatter\", \"uid\": \"da465259-c156-4a78-b359-cc23f946a7aa\"}, {\"marker\": {\"color\": \"white\"}, \"name\": \"\", \"x\": [\"2018-10-23\", \"2018-10-26\"], \"y\": [4, 4], \"type\": \"scatter\", \"uid\": \"0e96e4db-e044-4f5a-9896-4f79d454f1f3\"}, {\"marker\": {\"color\": \"white\"}, \"name\": \"\", \"x\": [\"2018-11-26\", \"2018-11-27\"], \"y\": [3, 3], \"type\": \"scatter\", \"uid\": \"3cb29067-6536-4051-adea-43ab9b7b3189\"}, {\"marker\": {\"color\": \"white\"}, \"name\": \"\", \"x\": [\"2018-11-27\", \"2018-11-28\"], \"y\": [3, 3], \"type\": \"scatter\", \"uid\": \"60f101c9-5835-4cae-ad54-b9f895da8c1d\"}, {\"marker\": {\"color\": \"white\"}, \"name\": \"\", \"x\": [\"2018-11-28\", \"2018-12-01\"], \"y\": [3, 3], \"type\": \"scatter\", \"uid\": \"f9e8f108-736f-4208-be76-a88f33e25dcf\"}, {\"marker\": {\"color\": \"white\"}, \"name\": \"\", \"x\": [\"2010-08-01\", \"2010-08-16\"], \"y\": [4, 4], \"type\": \"scatter\", \"uid\": \"2bcf0a1e-a2cf-44f7-a940-13027ef0ccb1\"}, {\"marker\": {\"color\": \"white\"}, \"name\": \"\", \"x\": [\"2003-08-10\", \"2003-08-25\"], \"y\": [4, 4], \"type\": \"scatter\", \"uid\": \"74f80d51-3e84-44a1-9ee8-5d8fbeaef9f5\"}, {\"marker\": {\"color\": \"white\"}, \"name\": \"\", \"x\": [\"2004-08-14\", \"2004-08-15\"], \"y\": [4, 4], \"type\": \"scatter\", \"uid\": \"63dba169-6819-4226-b3cb-3de92d06cb22\"}, {\"marker\": {\"color\": \"white\"}, \"name\": \"\", \"x\": [\"2004-08-15\", \"2004-08-28\"], \"y\": [4, 4], \"type\": \"scatter\", \"uid\": \"887138a6-3b16-43d3-b9c0-c87b60a1b88d\"}, {\"marker\": {\"color\": \"white\"}, \"name\": \"\", \"x\": [\"2005-08-13\", \"2005-08-27\"], \"y\": [4, 4], \"type\": \"scatter\", \"uid\": \"ac7f4673-3e65-479b-8781-9f5e21ec536d\"}, {\"marker\": {\"color\": \"white\"}, \"name\": \"\", \"x\": [\"2006-08-13\", \"2006-08-26\"], \"y\": [4, 4], \"type\": \"scatter\", \"uid\": \"e82bb88c-f280-46f8-be3f-a3e339c2f3a4\"}, {\"marker\": {\"color\": \"white\"}, \"name\": \"\", \"x\": [\"2008-03-22\", \"2008-04-02\"], \"y\": [4, 4], \"type\": \"scatter\", \"uid\": \"7bddd75a-0673-4508-a183-c24d144fd4e4\"}, {\"marker\": {\"color\": \"white\"}, \"name\": \"\", \"x\": [\"2007-04-07\", \"2007-04-15\"], \"y\": [4, 4], \"type\": \"scatter\", \"uid\": \"034b49a5-336d-4ced-b9fd-6254c8c9b843\"}, {\"marker\": {\"color\": \"white\"}, \"name\": \"\", \"x\": [\"2006-02-11\", \"2006-02-19\"], \"y\": [4, 4], \"type\": \"scatter\", \"uid\": \"7fce9c6e-ccb1-4a5f-9beb-c01467dd27fc\"}, {\"marker\": {\"color\": \"white\"}, \"name\": \"\", \"x\": [\"2005-03-26\", \"2005-04-02\"], \"y\": [4, 4], \"type\": \"scatter\", \"uid\": \"ab197bd6-6ccd-4d1f-ac1d-a05a99b2b05e\"}, {\"marker\": {\"color\": \"white\"}, \"name\": \"\", \"x\": [\"2001-08-11\", \"2001-08-15\"], \"y\": [4, 4], \"type\": \"scatter\", \"uid\": \"54bfcab1-552c-4e1a-a71a-2b762b87754f\"}, {\"marker\": {\"color\": \"white\"}, \"name\": \"\", \"x\": [\"2001-08-15\", \"2001-08-18\"], \"y\": [4, 4], \"type\": \"scatter\", \"uid\": \"3e779791-6c08-4b57-9b7b-5ee50377fa5a\"}, {\"marker\": {\"color\": \"white\"}, \"name\": \"\", \"x\": [\"2001-08-18\", \"2001-08-26\"], \"y\": [4, 4], \"type\": \"scatter\", \"uid\": \"379cf1f1-f34f-4878-aedc-a5ac12a59090\"}, {\"marker\": {\"color\": \"white\"}, \"name\": \"\", \"x\": [\"2002-08-25\", \"2002-09-01\"], \"y\": [4, 4], \"type\": \"scatter\", \"uid\": \"576d29aa-0f8f-47d5-b4ae-de0452a6f85e\"}, {\"marker\": {\"color\": \"white\"}, \"name\": \"\", \"x\": [\"2007-08-12\", \"2007-08-13\"], \"y\": [2, 2], \"type\": \"scatter\", \"uid\": \"4eabe823-a609-484e-a107-5615fea2f07b\"}, {\"marker\": {\"color\": \"white\"}, \"name\": \"\", \"x\": [\"2007-08-13\", \"2007-08-17\"], \"y\": [2, 2], \"type\": \"scatter\", \"uid\": \"6f5d849b-bdaf-4a5a-8420-670fb62a809f\"}, {\"marker\": {\"color\": \"white\"}, \"name\": \"\", \"x\": [\"2007-08-17\", \"2007-08-18\"], \"y\": [2, 2], \"type\": \"scatter\", \"uid\": \"5ca0d430-4207-4a1e-9761-1d24fcc94875\"}, {\"marker\": {\"color\": \"white\"}, \"name\": \"\", \"x\": [\"2007-08-18\", \"2007-08-20\"], \"y\": [2, 2], \"type\": \"scatter\", \"uid\": \"5c0320e9-4e46-4898-af53-f448ba947bb4\"}, {\"marker\": {\"color\": \"white\"}, \"name\": \"\", \"x\": [\"2007-08-20\", \"2007-08-27\"], \"y\": [2, 2], \"type\": \"scatter\", \"uid\": \"00fe1d06-4f34-41c5-8b61-a8b427aa24b2\"}, {\"marker\": {\"color\": \"white\"}, \"name\": \"\", \"x\": [\"2008-08-01\", \"2008-08-07\"], \"y\": [4, 4], \"type\": \"scatter\", \"uid\": \"464d15c8-ea13-497b-82e0-d79b29e4f89e\"}, {\"marker\": {\"color\": \"white\"}, \"name\": \"\", \"x\": [\"2008-08-07\", \"2008-08-13\"], \"y\": [4, 4], \"type\": \"scatter\", \"uid\": \"a0dc7f9e-76f2-4406-88a1-4f3069194d8d\"}, {\"marker\": {\"color\": \"white\"}, \"name\": \"\", \"x\": [\"2008-08-13\", \"2008-08-16\"], \"y\": [4, 4], \"type\": \"scatter\", \"uid\": \"663a2185-a4f6-440c-9b34-92df85ebe6e5\"}, {\"marker\": {\"color\": \"white\"}, \"name\": \"\", \"x\": [\"2009-07-26\", \"2009-08-08\"], \"y\": [4, 4], \"type\": \"scatter\", \"uid\": \"0c1cce47-61b4-40de-af3f-d5c29bfad170\"}, {\"marker\": {\"color\": \"white\"}, \"name\": \"\", \"x\": [\"2010-02-14\", \"2010-02-15\"], \"y\": [4, 4], \"type\": \"scatter\", \"uid\": \"daa9b01f-ce77-4366-b85e-75861fc080a0\"}, {\"marker\": {\"color\": \"white\"}, \"name\": \"\", \"x\": [\"2013-07-28\", \"2013-07-30\"], \"y\": [4, 4], \"type\": \"scatter\", \"uid\": \"74c9d534-26c7-4d5a-8b13-868c993872ac\"}, {\"marker\": {\"color\": \"white\"}, \"name\": \"\", \"x\": [\"2013-07-30\", \"2013-08-01\"], \"y\": [4, 4], \"type\": \"scatter\", \"uid\": \"1638b01c-f909-40e9-9f00-55521cd98ce7\"}, {\"marker\": {\"color\": \"white\"}, \"name\": \"\", \"x\": [\"2013-08-01\", \"2013-08-03\"], \"y\": [4, 4], \"type\": \"scatter\", \"uid\": \"887f9fc5-3722-4067-a32f-b997008fe373\"}, {\"marker\": {\"color\": \"white\"}, \"name\": \"\", \"x\": [\"2013-08-03\", \"2013-08-10\"], \"y\": [4, 4], \"type\": \"scatter\", \"uid\": \"59ddaa7a-ba04-43fa-bef3-6b342085abea\"}, {\"marker\": {\"color\": \"white\"}, \"name\": \"\", \"x\": [\"2013-07-04\", \"2013-07-05\"], \"y\": [4, 4], \"type\": \"scatter\", \"uid\": \"80690305-ffd4-4b4b-bc5f-db0ea3b05ac4\"}, {\"marker\": {\"color\": \"white\"}, \"name\": \"\", \"x\": [\"2013-03-31\", \"2013-04-07\"], \"y\": [4, 4], \"type\": \"scatter\", \"uid\": \"a40fbf92-b2ec-47f3-8071-3c26546d2e44\"}, {\"marker\": {\"color\": \"white\"}, \"name\": \"\", \"x\": [\"2006-10-21\", \"2006-10-23\"], \"y\": [4, 4], \"type\": \"scatter\", \"uid\": \"839a606f-20b8-40ac-a66a-7ef85ca705b9\"}, {\"marker\": {\"color\": \"white\"}, \"name\": \"\", \"x\": [\"2006-10-23\", \"2006-10-24\"], \"y\": [4, 4], \"type\": \"scatter\", \"uid\": \"123ec022-24f2-47d2-8394-e338a9e845a4\"}, {\"marker\": {\"color\": \"white\"}, \"name\": \"\", \"x\": [\"2006-10-24\", \"2006-10-25\"], \"y\": [4, 4], \"type\": \"scatter\", \"uid\": \"0a7918ea-57a6-4e91-b6dc-f29eaa7eaad6\"}, {\"marker\": {\"color\": \"white\"}, \"name\": \"\", \"x\": [\"2017-10-16\", \"2017-10-16\"], \"y\": [2, 2], \"type\": \"scatter\", \"uid\": \"b18aa94d-d6e1-4692-b8c3-0b5ee5788bf5\"}, {\"marker\": {\"color\": \"white\"}, \"name\": \"\", \"x\": [\"2017-10-16\", \"2017-10-16\"], \"y\": [2, 2], \"type\": \"scatter\", \"uid\": \"e604d171-6b7f-44d6-aacb-0517b3816f1c\"}, {\"marker\": {\"color\": \"white\"}, \"name\": \"\", \"x\": [\"2017-10-16\", \"2017-10-20\"], \"y\": [2, 2], \"type\": \"scatter\", \"uid\": \"21a83b6a-fa37-4f28-a103-3d30b537acaa\"}, {\"marker\": {\"color\": \"white\"}, \"name\": \"\", \"x\": [\"2017-10-20\", \"2017-10-23\"], \"y\": [2, 2], \"type\": \"scatter\", \"uid\": \"170dcda0-6532-48db-90f6-18fce1732ec7\"}, {\"marker\": {\"color\": \"white\"}, \"name\": \"\", \"x\": [\"2017-10-23\", \"2017-10-27\"], \"y\": [2, 2], \"type\": \"scatter\", \"uid\": \"3ea5f8e4-0b1d-4049-a7b1-e55f0d212493\"}, {\"marker\": {\"color\": \"white\"}, \"name\": \"\", \"x\": [\"2017-10-27\", \"2017-10-30\"], \"y\": [2, 2], \"type\": \"scatter\", \"uid\": \"31cba55f-7f16-44b0-8329-96649f0c98f1\"}, {\"marker\": {\"color\": \"white\"}, \"name\": \"\", \"x\": [\"2017-10-30\", \"2017-11-01\"], \"y\": [2, 2], \"type\": \"scatter\", \"uid\": \"1d8a7841-d2d3-4a6a-91c4-534948923f57\"}, {\"marker\": {\"color\": \"white\"}, \"name\": \"\", \"x\": [\"2017-11-01\", \"2017-11-03\"], \"y\": [2, 2], \"type\": \"scatter\", \"uid\": \"d8919f6c-18bd-44de-830f-467b67e6c3bf\"}, {\"marker\": {\"color\": \"white\"}, \"name\": \"\", \"x\": [\"2017-11-03\", \"2017-11-08\"], \"y\": [2, 2], \"type\": \"scatter\", \"uid\": \"7c863f76-3d7f-4cda-92ad-feed709e0c37\"}, {\"marker\": {\"color\": \"white\"}, \"name\": \"\", \"x\": [\"2017-11-08\", \"2017-11-10\"], \"y\": [2, 2], \"type\": \"scatter\", \"uid\": \"ba453cd0-70ea-419d-ad22-e5e711782c1b\"}, {\"marker\": {\"color\": \"white\"}, \"name\": \"\", \"x\": [\"2017-11-10\", \"2017-11-16\"], \"y\": [2, 2], \"type\": \"scatter\", \"uid\": \"9adfc7f3-3ec7-4e08-a8ba-8f7c9c9ce199\"}, {\"marker\": {\"color\": \"white\"}, \"name\": \"\", \"x\": [\"2017-11-16\", \"2017-11-20\"], \"y\": [2, 2], \"type\": \"scatter\", \"uid\": \"878ee2dd-d097-40ab-840e-2655dd688992\"}, {\"marker\": {\"color\": \"white\"}, \"name\": \"\", \"x\": [\"2017-11-20\", \"2017-11-25\"], \"y\": [2, 2], \"type\": \"scatter\", \"uid\": \"d1cb5f08-bb2a-4965-877a-1cea37503ffe\"}, {\"marker\": {\"color\": \"white\"}, \"name\": \"\", \"x\": [\"2017-11-25\", \"2017-12-03\"], \"y\": [2, 2], \"type\": \"scatter\", \"uid\": \"d1be6d25-7eb0-45c9-b223-3e656a02f328\"}, {\"marker\": {\"color\": \"white\"}, \"name\": \"\", \"x\": [\"2011-01-15\", \"2011-02-07\"], \"y\": [1, 1], \"type\": \"scatter\", \"uid\": \"bb842777-37fa-40cb-a59e-0701e5e4a04c\"}, {\"marker\": {\"color\": \"white\"}, \"name\": \"\", \"x\": [\"2011-02-07\", \"2011-02-14\"], \"y\": [1, 1], \"type\": \"scatter\", \"uid\": \"7aa55c19-8cf0-438b-9f03-0a793e058b12\"}, {\"marker\": {\"color\": \"white\"}, \"name\": \"\", \"x\": [\"2011-02-14\", \"2011-02-20\"], \"y\": [1, 1], \"type\": \"scatter\", \"uid\": \"0808398d-2e7e-4f99-9b44-14bf7f8d6a51\"}, {\"marker\": {\"color\": \"white\"}, \"name\": \"\", \"x\": [\"2011-02-20\", \"2011-02-23\"], \"y\": [1, 1], \"type\": \"scatter\", \"uid\": \"0c703399-b210-42a9-8732-8e1421968a75\"}, {\"marker\": {\"color\": \"white\"}, \"name\": \"\", \"x\": [\"2011-02-23\", \"2011-02-24\"], \"y\": [1, 1], \"type\": \"scatter\", \"uid\": \"a1d88301-adc9-441e-a371-1cd310e26299\"}, {\"marker\": {\"color\": \"white\"}, \"name\": \"\", \"x\": [\"2011-02-24\", \"2011-03-03\"], \"y\": [1, 1], \"type\": \"scatter\", \"uid\": \"ab41a31e-97b1-44b7-b5ce-a8a7151735fe\"}, {\"marker\": {\"color\": \"white\"}, \"name\": \"\", \"x\": [\"2011-03-03\", \"2011-03-03\"], \"y\": [1, 1], \"type\": \"scatter\", \"uid\": \"cc595744-f751-4963-aa56-403265a280d4\"}, {\"marker\": {\"color\": \"white\"}, \"name\": \"\", \"x\": [\"2011-03-03\", \"2011-03-06\"], \"y\": [1, 1], \"type\": \"scatter\", \"uid\": \"fbb3e2dd-ff4a-48f9-be78-9aa41f85626b\"}, {\"marker\": {\"color\": \"white\"}, \"name\": \"\", \"x\": [\"2011-03-06\", \"2011-03-09\"], \"y\": [1, 1], \"type\": \"scatter\", \"uid\": \"e8788be7-4c1f-436d-a65c-384200bdbef2\"}, {\"marker\": {\"color\": \"white\"}, \"name\": \"\", \"x\": [\"2011-03-09\", \"2011-03-13\"], \"y\": [1, 1], \"type\": \"scatter\", \"uid\": \"67510438-e227-41c0-b1fe-bcd175ac0f80\"}, {\"marker\": {\"color\": \"white\"}, \"name\": \"\", \"x\": [\"2011-03-13\", \"2011-03-15\"], \"y\": [1, 1], \"type\": \"scatter\", \"uid\": \"420f1c19-8e87-4eb5-b311-d7579173e759\"}, {\"marker\": {\"color\": \"white\"}, \"name\": \"\", \"x\": [\"2011-03-15\", \"2011-03-17\"], \"y\": [1, 1], \"type\": \"scatter\", \"uid\": \"33a4484c-30de-45ee-ab88-1ad9020c8fc8\"}, {\"marker\": {\"color\": \"white\"}, \"name\": \"\", \"x\": [\"2011-03-17\", \"2011-03-22\"], \"y\": [1, 1], \"type\": \"scatter\", \"uid\": \"1f2e24f2-7388-4992-8fd4-8dfaae9c221b\"}, {\"marker\": {\"color\": \"white\"}, \"name\": \"\", \"x\": [\"2011-03-22\", \"2011-03-25\"], \"y\": [1, 1], \"type\": \"scatter\", \"uid\": \"acd6a26f-faba-4914-aa8c-5619478a17d7\"}, {\"marker\": {\"color\": \"white\"}, \"name\": \"\", \"x\": [\"2011-03-25\", \"2011-03-31\"], \"y\": [1, 1], \"type\": \"scatter\", \"uid\": \"2335ca2e-5ffa-46d7-9af8-817212ba1267\"}, {\"marker\": {\"color\": \"white\"}, \"name\": \"\", \"x\": [\"2011-03-31\", \"2011-04-05\"], \"y\": [1, 1], \"type\": \"scatter\", \"uid\": \"5b52ebcb-8c9a-4603-8469-98a3ea09400c\"}, {\"marker\": {\"color\": \"white\"}, \"name\": \"\", \"x\": [\"2011-04-05\", \"2011-04-09\"], \"y\": [0, 0], \"type\": \"scatter\", \"uid\": \"74c3b024-745c-4bbd-80fe-871c69ba1728\"}, {\"marker\": {\"color\": \"white\"}, \"name\": \"\", \"x\": [\"2011-04-09\", \"2011-04-12\"], \"y\": [0, 0], \"type\": \"scatter\", \"uid\": \"7d31b922-a4b0-4025-b922-8992c59d0fde\"}, {\"marker\": {\"color\": \"white\"}, \"name\": \"\", \"x\": [\"2011-04-12\", \"2011-04-14\"], \"y\": [0, 0], \"type\": \"scatter\", \"uid\": \"4e267251-3dd2-4fa1-8347-fec97fba86c5\"}, {\"marker\": {\"color\": \"white\"}, \"name\": \"\", \"x\": [\"2011-04-14\", \"2011-04-18\"], \"y\": [0, 0], \"type\": \"scatter\", \"uid\": \"68c75744-4424-46a0-9edb-4f2201f84705\"}, {\"marker\": {\"color\": \"white\"}, \"name\": \"\", \"x\": [\"2011-04-18\", \"2011-04-20\"], \"y\": [0, 0], \"type\": \"scatter\", \"uid\": \"5a559cae-f73f-4cab-8a43-e2b1640c7f9b\"}, {\"marker\": {\"color\": \"white\"}, \"name\": \"\", \"x\": [\"2011-04-20\", \"2011-04-25\"], \"y\": [0, 0], \"type\": \"scatter\", \"uid\": \"d4051a4b-8891-4e50-83dc-6378080725d2\"}, {\"marker\": {\"color\": \"white\"}, \"name\": \"\", \"x\": [\"2011-04-25\", \"2011-05-02\"], \"y\": [0, 0], \"type\": \"scatter\", \"uid\": \"4fd176e2-7a7d-4254-a3b1-a66597b9f226\"}, {\"marker\": {\"color\": \"white\"}, \"name\": \"\", \"x\": [\"2011-05-02\", \"2011-05-05\"], \"y\": [0, 0], \"type\": \"scatter\", \"uid\": \"c7f81ee3-c6a4-4021-a1cd-4049ba3f0d20\"}, {\"marker\": {\"color\": \"white\"}, \"name\": \"\", \"x\": [\"2011-05-05\", \"2011-05-06\"], \"y\": [0, 0], \"type\": \"scatter\", \"uid\": \"73e23a82-2427-402e-aabb-0497a14b3f10\"}, {\"marker\": {\"color\": \"white\"}, \"name\": \"\", \"x\": [\"2011-05-06\", \"2011-06-18\"], \"y\": [0, 0], \"type\": \"scatter\", \"uid\": \"8bfbec26-f5cf-4e52-95ec-77abc78320d6\"}, {\"marker\": {\"color\": \"white\"}, \"name\": \"\", \"x\": [\"2011-06-18\", \"2011-06-21\"], \"y\": [0, 0], \"type\": \"scatter\", \"uid\": \"db6184e1-6621-4036-9f2f-29f29d01bb57\"}, {\"marker\": {\"color\": \"white\"}, \"name\": \"\", \"x\": [\"2011-06-21\", \"2011-06-25\"], \"y\": [0, 0], \"type\": \"scatter\", \"uid\": \"58ab633d-81ae-425d-9727-9a31813d88a7\"}, {\"marker\": {\"color\": \"white\"}, \"name\": \"\", \"x\": [\"2011-06-25\", \"2011-06-28\"], \"y\": [0, 0], \"type\": \"scatter\", \"uid\": \"8f304038-03b1-4f4c-8a15-d84e1b3ceee6\"}, {\"marker\": {\"color\": \"white\"}, \"name\": \"\", \"x\": [\"2011-06-28\", \"2011-06-29\"], \"y\": [0, 0], \"type\": \"scatter\", \"uid\": \"ddb88dc9-bf60-428b-b5b7-502ee47c1e66\"}, {\"marker\": {\"color\": \"white\"}, \"name\": \"\", \"x\": [\"2011-06-29\", \"2011-07-20\"], \"y\": [0, 0], \"type\": \"scatter\", \"uid\": \"c5758ed2-4cdb-4c8e-825a-804dcb20268d\"}, {\"marker\": {\"color\": \"white\"}, \"name\": \"\", \"x\": [\"2011-07-20\", \"2011-07-22\"], \"y\": [2, 2], \"type\": \"scatter\", \"uid\": \"f09301fe-3637-428b-9b7a-808b3e7b5cf1\"}, {\"marker\": {\"color\": \"white\"}, \"name\": \"\", \"x\": [\"2011-07-22\", \"2011-07-23\"], \"y\": [2, 2], \"type\": \"scatter\", \"uid\": \"1f1e085a-b2b4-4b37-b9de-3fc818eb083b\"}, {\"marker\": {\"color\": \"white\"}, \"name\": \"\", \"x\": [\"2011-07-23\", \"2011-07-24\"], \"y\": [2, 2], \"type\": \"scatter\", \"uid\": \"ea8942d2-fbb0-4244-a93a-295a3cda838f\"}, {\"marker\": {\"color\": \"white\"}, \"name\": \"\", \"x\": [\"2011-07-24\", \"2011-07-26\"], \"y\": [2, 2], \"type\": \"scatter\", \"uid\": \"6013ce1f-f96e-4c4e-a650-a1e77bd3f047\"}, {\"marker\": {\"color\": \"white\"}, \"name\": \"\", \"x\": [\"2011-07-26\", \"2011-07-28\"], \"y\": [2, 2], \"type\": \"scatter\", \"uid\": \"6b96b8f6-c50a-4e04-b2ba-3d1014ed312d\"}, {\"marker\": {\"color\": \"white\"}, \"name\": \"\", \"x\": [\"2011-07-28\", \"2011-07-28\"], \"y\": [2, 2], \"type\": \"scatter\", \"uid\": \"3a538b99-3e43-4027-80b6-1dca3484ef8d\"}, {\"marker\": {\"color\": \"white\"}, \"name\": \"\", \"x\": [\"2011-07-28\", \"2011-07-29\"], \"y\": [2, 2], \"type\": \"scatter\", \"uid\": \"2eba53e3-9152-40b4-a5b3-da32e4c4ae3c\"}, {\"marker\": {\"color\": \"white\"}, \"name\": \"\", \"x\": [\"2011-07-29\", \"2011-07-31\"], \"y\": [2, 2], \"type\": \"scatter\", \"uid\": \"5dfa9f57-9ee2-4410-b1e5-280802ea6ed7\"}, {\"marker\": {\"color\": \"white\"}, \"name\": \"\", \"x\": [\"2011-07-31\", \"2011-08-01\"], \"y\": [2, 2], \"type\": \"scatter\", \"uid\": \"5ae8d15f-4f5d-45b6-bf24-83fdcd7da157\"}, {\"marker\": {\"color\": \"white\"}, \"name\": \"\", \"x\": [\"2011-08-01\", \"2011-08-03\"], \"y\": [2, 2], \"type\": \"scatter\", \"uid\": \"1abe1e34-f0ef-47c1-998b-fa9e2bce5726\"}, {\"marker\": {\"color\": \"white\"}, \"name\": \"\", \"x\": [\"2011-08-03\", \"2011-08-04\"], \"y\": [2, 2], \"type\": \"scatter\", \"uid\": \"9ab1e728-b50a-4061-832d-875ef83607f2\"}, {\"marker\": {\"color\": \"white\"}, \"name\": \"\", \"x\": [\"2011-08-04\", \"2011-08-05\"], \"y\": [2, 2], \"type\": \"scatter\", \"uid\": \"9031678e-8a78-4469-b0af-a2f18fc419d5\"}, {\"marker\": {\"color\": \"white\"}, \"name\": \"\", \"x\": [\"2011-08-05\", \"2011-08-06\"], \"y\": [2, 2], \"type\": \"scatter\", \"uid\": \"966698cc-bca2-4932-8a11-81242116f1ac\"}, {\"marker\": {\"color\": \"white\"}, \"name\": \"\", \"x\": [\"2011-08-06\", \"2011-08-07\"], \"y\": [2, 2], \"type\": \"scatter\", \"uid\": \"627e3a8d-9ed1-4200-ae9e-d2bcf3534390\"}, {\"marker\": {\"color\": \"white\"}, \"name\": \"\", \"x\": [\"2011-08-07\", \"2011-08-08\"], \"y\": [2, 2], \"type\": \"scatter\", \"uid\": \"7853fd5b-bd4b-4c9c-be2e-49292fb64282\"}, {\"marker\": {\"color\": \"white\"}, \"name\": \"\", \"x\": [\"2011-08-08\", \"2011-08-09\"], \"y\": [2, 2], \"type\": \"scatter\", \"uid\": \"b825de13-14e3-4a62-8868-f8703b8627df\"}, {\"marker\": {\"color\": \"white\"}, \"name\": \"\", \"x\": [\"2011-08-09\", \"2011-08-09\"], \"y\": [2, 2], \"type\": \"scatter\", \"uid\": \"46763201-e599-485c-9559-177ade1b0d8a\"}, {\"marker\": {\"color\": \"white\"}, \"name\": \"\", \"x\": [\"2011-08-09\", \"2011-08-12\"], \"y\": [2, 2], \"type\": \"scatter\", \"uid\": \"10f2f0b5-10c3-49ab-a014-0438ffd20a51\"}, {\"marker\": {\"color\": \"white\"}, \"name\": \"\", \"x\": [\"2011-08-12\", \"2011-08-17\"], \"y\": [2, 2], \"type\": \"scatter\", \"uid\": \"f9bf75b0-f9d8-47e4-9946-e31a1de96c52\"}, {\"marker\": {\"color\": \"white\"}, \"name\": \"\", \"x\": [\"2011-08-17\", \"2011-08-19\"], \"y\": [2, 2], \"type\": \"scatter\", \"uid\": \"d14c64cb-6754-4417-8ffd-1dfd9d3df6d9\"}, {\"marker\": {\"color\": \"white\"}, \"name\": \"\", \"x\": [\"2011-08-19\", \"2011-08-20\"], \"y\": [2, 2], \"type\": \"scatter\", \"uid\": \"60164be5-a750-4980-bdb4-019341e9e545\"}, {\"marker\": {\"color\": \"white\"}, \"name\": \"\", \"x\": [\"2011-08-20\", \"2011-08-22\"], \"y\": [2, 2], \"type\": \"scatter\", \"uid\": \"123c9906-64f5-4fcd-b0d5-b5929147354f\"}, {\"marker\": {\"color\": \"white\"}, \"name\": \"\", \"x\": [\"2011-08-22\", \"2011-08-24\"], \"y\": [2, 2], \"type\": \"scatter\", \"uid\": \"8f59dbc4-08f8-4600-aa10-fe913fb2e5f1\"}, {\"marker\": {\"color\": \"white\"}, \"name\": \"\", \"x\": [\"2011-08-24\", \"2011-08-25\"], \"y\": [2, 2], \"type\": \"scatter\", \"uid\": \"6b08cdf0-0a3e-4134-bb87-f0291a9113a3\"}, {\"marker\": {\"color\": \"white\"}, \"name\": \"\", \"x\": [\"2011-08-25\", \"2011-08-29\"], \"y\": [4, 4], \"type\": \"scatter\", \"uid\": \"b607795e-9513-4632-b3d8-0e28e0a5272e\"}, {\"marker\": {\"color\": \"white\"}, \"name\": \"\", \"x\": [\"2016-08-24\", \"2016-08-26\"], \"y\": [4, 4], \"type\": \"scatter\", \"uid\": \"efaed672-3e3c-43fd-9f64-467d4ac0231c\"}, {\"marker\": {\"color\": \"white\"}, \"name\": \"\", \"x\": [\"2016-08-26\", \"2016-08-27\"], \"y\": [4, 4], \"type\": \"scatter\", \"uid\": \"a2827782-9e4d-4c05-8539-b0e840aad88d\"}, {\"marker\": {\"color\": \"white\"}, \"name\": \"\", \"x\": [\"2016-08-27\", \"2016-08-28\"], \"y\": [4, 4], \"type\": \"scatter\", \"uid\": \"302477d8-32ab-4ce4-b9e6-a10863aa3587\"}, {\"marker\": {\"color\": \"white\"}, \"name\": \"\", \"x\": [\"2016-08-28\", \"2016-09-05\"], \"y\": [4, 4], \"type\": \"scatter\", \"uid\": \"813327ec-265b-43b3-820e-b2296fbaff91\"}, {\"marker\": {\"color\": \"white\"}, \"name\": \"\", \"x\": [\"2016-09-05\", \"2016-09-10\"], \"y\": [4, 4], \"type\": \"scatter\", \"uid\": \"cc24a1fa-4675-44d2-b8fb-6c8b4c266e1a\"}, {\"marker\": {\"color\": \"white\"}, \"name\": \"\", \"x\": [\"2016-09-10\", \"2016-09-15\"], \"y\": [4, 4], \"type\": \"scatter\", \"uid\": \"2dd5ce99-b12f-49ce-bdbf-eb0e9f0671d3\"}, {\"marker\": {\"color\": \"white\"}, \"name\": \"\", \"x\": [\"2016-09-15\", \"2016-09-16\"], \"y\": [4, 4], \"type\": \"scatter\", \"uid\": \"3f55e768-837d-497b-bdad-bf4bd700ca8b\"}, {\"marker\": {\"color\": \"white\"}, \"name\": \"\", \"x\": [\"2016-09-16\", \"2016-09-17\"], \"y\": [4, 4], \"type\": \"scatter\", \"uid\": \"bc856363-ff71-4768-b131-619e3b1b94cc\"}, {\"marker\": {\"color\": \"white\"}, \"name\": \"\", \"x\": [\"2016-09-17\", \"2016-09-24\"], \"y\": [4, 4], \"type\": \"scatter\", \"uid\": \"4547b690-9a16-4c7a-9957-158a63c610d5\"}, {\"marker\": {\"color\": \"white\"}, \"name\": \"\", \"x\": [\"2016-09-24\", \"2016-09-24\"], \"y\": [4, 4], \"type\": \"scatter\", \"uid\": \"79669fc1-c03c-4998-99d4-d0309db29e0f\"}, {\"marker\": {\"color\": \"white\"}, \"name\": \"\", \"x\": [\"2016-09-24\", \"2016-09-25\"], \"y\": [4, 4], \"type\": \"scatter\", \"uid\": \"a50ecbb4-26bb-4e35-934a-1364fcc03412\"}, {\"marker\": {\"color\": \"white\"}, \"name\": \"\", \"x\": [\"2016-09-25\", \"2016-09-27\"], \"y\": [4, 4], \"type\": \"scatter\", \"uid\": \"be07ff71-7d62-480b-aa74-824152f34efa\"}, {\"marker\": {\"color\": \"white\"}, \"name\": \"\", \"x\": [\"2016-09-27\", \"2016-09-29\"], \"y\": [2, 2], \"type\": \"scatter\", \"uid\": \"c7c5733c-94e7-4524-b203-4a2e3dbd8cc9\"}, {\"marker\": {\"color\": \"white\"}, \"name\": \"\", \"x\": [\"2014-07-19\", \"2014-07-21\"], \"y\": [4, 4], \"type\": \"scatter\", \"uid\": \"ace5f5ad-1f24-47a9-81e7-7fb4e9551c6c\"}, {\"marker\": {\"color\": \"white\"}, \"name\": \"\", \"x\": [\"2014-07-21\", \"2014-07-21\"], \"y\": [4, 4], \"type\": \"scatter\", \"uid\": \"f1707b19-9b19-4564-aba4-4a4f562cac4e\"}, {\"marker\": {\"color\": \"white\"}, \"name\": \"\", \"x\": [\"2014-07-21\", \"2014-07-23\"], \"y\": [4, 4], \"type\": \"scatter\", \"uid\": \"759b4a43-4077-404b-b1ca-1b2a108da9e7\"}, {\"marker\": {\"color\": \"white\"}, \"name\": \"\", \"x\": [\"2014-07-23\", \"2014-07-26\"], \"y\": [4, 4], \"type\": \"scatter\", \"uid\": \"9d59ad1f-022f-4664-9fea-0c4fa1ab0d9b\"}, {\"marker\": {\"color\": \"white\"}, \"name\": \"\", \"x\": [\"2014-07-26\", \"2014-07-29\"], \"y\": [4, 4], \"type\": \"scatter\", \"uid\": \"81907015-9d2b-419e-b554-f2a9c216e879\"}, {\"marker\": {\"color\": \"white\"}, \"name\": \"\", \"x\": [\"2014-07-29\", \"2014-07-29\"], \"y\": [4, 4], \"type\": \"scatter\", \"uid\": \"d6fedf69-3edc-44b5-bf29-f9ed1c3b97b6\"}, {\"marker\": {\"color\": \"white\"}, \"name\": \"\", \"x\": [\"2014-07-29\", \"2014-07-29\"], \"y\": [4, 4], \"type\": \"scatter\", \"uid\": \"a920f27a-215d-4f31-8b51-01bbddef9718\"}, {\"marker\": {\"color\": \"white\"}, \"name\": \"\", \"x\": [\"2014-07-29\", \"2014-08-02\"], \"y\": [4, 4], \"type\": \"scatter\", \"uid\": \"1198db89-bb1f-474b-8d19-11ef523b631a\"}, {\"marker\": {\"color\": \"white\"}, \"name\": \"\", \"x\": [\"2014-08-02\", \"2014-08-05\"], \"y\": [4, 4], \"type\": \"scatter\", \"uid\": \"f85cb4fd-47cc-41fd-a2ec-65ee90d388ba\"}, {\"marker\": {\"color\": \"white\"}, \"name\": \"\", \"x\": [\"2014-08-05\", \"2014-08-06\"], \"y\": [4, 4], \"type\": \"scatter\", \"uid\": \"98d4637f-4f79-44b6-99cd-ee9738c797b1\"}, {\"marker\": {\"color\": \"white\"}, \"name\": \"\", \"x\": [\"2014-08-06\", \"2014-08-12\"], \"y\": [4, 4], \"type\": \"scatter\", \"uid\": \"9afa4708-17ba-4435-8a29-84e9ceab035d\"}, {\"marker\": {\"color\": \"white\"}, \"name\": \"\", \"x\": [\"2014-08-12\", \"2014-08-15\"], \"y\": [4, 4], \"type\": \"scatter\", \"uid\": \"68e94835-5fb5-4aab-b14a-be2908f69b51\"}, {\"marker\": {\"color\": \"white\"}, \"name\": \"\", \"x\": [\"2014-08-15\", \"2014-08-16\"], \"y\": [4, 4], \"type\": \"scatter\", \"uid\": \"c86751d7-c070-46af-87d7-83bca1c6c30b\"}, {\"marker\": {\"color\": \"white\"}, \"name\": \"\", \"x\": [\"2014-08-16\", \"2014-08-18\"], \"y\": [4, 4], \"type\": \"scatter\", \"uid\": \"c99d8b38-23d4-4545-b6a6-e2462f39aa95\"}, {\"marker\": {\"color\": \"white\"}, \"name\": \"\", \"x\": [\"2014-08-18\", \"2014-08-20\"], \"y\": [4, 4], \"type\": \"scatter\", \"uid\": \"a8e0653a-f275-433f-b93d-73968a422c73\"}, {\"marker\": {\"color\": \"white\"}, \"name\": \"\", \"x\": [\"2014-08-20\", \"2014-08-22\"], \"y\": [4, 4], \"type\": \"scatter\", \"uid\": \"06f32587-a017-47d1-9af3-6692c7391534\"}, {\"marker\": {\"color\": \"white\"}, \"name\": \"\", \"x\": [\"2014-08-22\", \"2014-08-22\"], \"y\": [4, 4], \"type\": \"scatter\", \"uid\": \"c4a4efac-6473-4896-ae90-0ac94f0c2a1f\"}, {\"marker\": {\"color\": \"white\"}, \"name\": \"\", \"x\": [\"2014-08-22\", \"2014-08-25\"], \"y\": [4, 4], \"type\": \"scatter\", \"uid\": \"1a40f0b3-dc2f-4042-a02d-5b2dfe39347a\"}, {\"marker\": {\"color\": \"white\"}, \"name\": \"\", \"x\": [\"2014-08-25\", \"2014-08-26\"], \"y\": [4, 4], \"type\": \"scatter\", \"uid\": \"880323d0-e2b2-4389-8a8e-f6a0844538e9\"}, {\"marker\": {\"color\": \"white\"}, \"name\": \"\", \"x\": [\"2014-08-26\", \"2014-08-28\"], \"y\": [4, 4], \"type\": \"scatter\", \"uid\": \"f40d3350-df81-48a6-8302-afb972edfd2c\"}, {\"marker\": {\"color\": \"white\"}, \"name\": \"\", \"x\": [\"2013-12-28\", \"2014-01-04\"], \"y\": [4, 4], \"type\": \"scatter\", \"uid\": \"89035bbb-f909-46eb-8ee5-8057f9043834\"}, {\"marker\": {\"color\": \"white\"}, \"name\": \"\", \"x\": [\"2015-07-15\", \"2015-07-18\"], \"y\": [4, 4], \"type\": \"scatter\", \"uid\": \"6fafc87f-ae2e-4e92-888e-7004af4cbd1c\"}, {\"marker\": {\"color\": \"white\"}, \"name\": \"\", \"x\": [\"2015-07-18\", \"2015-07-20\"], \"y\": [4, 4], \"type\": \"scatter\", \"uid\": \"78005fec-6a78-47e4-b751-7546deb24a58\"}, {\"marker\": {\"color\": \"white\"}, \"name\": \"\", \"x\": [\"2015-07-20\", \"2015-07-23\"], \"y\": [4, 4], \"type\": \"scatter\", \"uid\": \"93624dd2-cf07-4657-9d76-bd4aa7f3950e\"}, {\"marker\": {\"color\": \"white\"}, \"name\": \"\", \"x\": [\"2015-07-23\", \"2015-07-25\"], \"y\": [4, 4], \"type\": \"scatter\", \"uid\": \"d4fe3352-f4a8-47e7-9ebc-186788dc9ce4\"}, {\"marker\": {\"color\": \"white\"}, \"name\": \"\", \"x\": [\"2015-07-25\", \"2015-08-01\"], \"y\": [4, 4], \"type\": \"scatter\", \"uid\": \"29c309ea-af3c-405a-9b03-9cf58da24a6a\"}, {\"marker\": {\"color\": \"white\"}, \"name\": \"\", \"x\": [\"2015-08-01\", \"2015-08-02\"], \"y\": [4, 4], \"type\": \"scatter\", \"uid\": \"838dd491-b882-4844-95a7-11e920e80b0a\"}, {\"marker\": {\"color\": \"white\"}, \"name\": \"\", \"x\": [\"2014-12-27\", \"2015-01-03\"], \"y\": [4, 4], \"type\": \"scatter\", \"uid\": \"34a2b0f0-d8ee-43d2-8de4-ee9bc844d3ee\"}, {\"marker\": {\"color\": \"white\"}, \"name\": \"\", \"x\": [\"2015-01-18\", \"2015-01-23\"], \"y\": [4, 4], \"type\": \"scatter\", \"uid\": \"2c7eaf0d-dd06-43d8-a351-fb70343ff551\"}, {\"marker\": {\"color\": \"white\"}, \"name\": \"\", \"x\": [\"2017-05-26\", \"2017-05-26\"], \"y\": [2, 2], \"type\": \"scatter\", \"uid\": \"e7dfea6c-a306-46fc-b1c2-56cf4d60c968\"}, {\"marker\": {\"color\": \"white\"}, \"name\": \"\", \"x\": [\"2017-05-26\", \"2017-05-31\"], \"y\": [2, 2], \"type\": \"scatter\", \"uid\": \"3bd60851-ab22-4b98-b235-589473e58927\"}, {\"marker\": {\"color\": \"white\"}, \"name\": \"\", \"x\": [\"2017-05-31\", \"2017-06-03\"], \"y\": [2, 2], \"type\": \"scatter\", \"uid\": \"f298a60c-8438-49a8-83cd-94ab1e61ea29\"}, {\"marker\": {\"color\": \"white\"}, \"name\": \"\", \"x\": [\"2017-06-03\", \"2017-06-05\"], \"y\": [2, 2], \"type\": \"scatter\", \"uid\": \"5750b360-b3ca-4bb9-90c9-bdce54f34300\"}, {\"marker\": {\"color\": \"white\"}, \"name\": \"\", \"x\": [\"2017-06-05\", \"2017-06-08\"], \"y\": [2, 2], \"type\": \"scatter\", \"uid\": \"2f69482b-8ce5-4c4d-96f0-5c3d9775a3bc\"}, {\"marker\": {\"color\": \"white\"}, \"name\": \"\", \"x\": [\"2017-06-08\", \"2017-06-10\"], \"y\": [2, 2], \"type\": \"scatter\", \"uid\": \"ccba7ca3-9ec3-430d-b64e-8c17f0a4ba4d\"}, {\"marker\": {\"color\": \"white\"}, \"name\": \"\", \"x\": [\"2017-06-10\", \"2017-06-11\"], \"y\": [2, 2], \"type\": \"scatter\", \"uid\": \"9e56dd3f-ade0-4922-8493-1340552d8642\"}, {\"marker\": {\"color\": \"white\"}, \"name\": \"\", \"x\": [\"2017-06-11\", \"2017-06-11\"], \"y\": [2, 2], \"type\": \"scatter\", \"uid\": \"65a44a41-ddfc-4f7d-bd35-673a4b14f85d\"}, {\"marker\": {\"color\": \"white\"}, \"name\": \"\", \"x\": [\"2017-06-11\", \"2017-06-12\"], \"y\": [2, 2], \"type\": \"scatter\", \"uid\": \"227a3ddf-d666-48e6-823a-b36d12d18b79\"}, {\"marker\": {\"color\": \"white\"}, \"name\": \"\", \"x\": [\"2018-03-17\", \"2018-03-24\"], \"y\": [4, 4], \"type\": \"scatter\", \"uid\": \"c6f99291-67e4-4182-846f-e7ab77e0cfd0\"}, {\"marker\": {\"color\": \"white\"}, \"name\": \"\", \"x\": [\"2017-12-27\", \"2017-12-27\"], \"y\": [4, 4], \"type\": \"scatter\", \"uid\": \"dfe5c677-bbc0-4b7e-ba0f-3b7c94522e5b\"}, {\"marker\": {\"color\": \"white\"}, \"name\": \"\", \"x\": [\"2017-12-27\", \"2017-12-28\"], \"y\": [4, 4], \"type\": \"scatter\", \"uid\": \"8f165eb3-e71e-43f7-a238-ce96eeb9881a\"}, {\"marker\": {\"color\": \"white\"}, \"name\": \"\", \"x\": [\"2017-12-28\", \"2017-12-29\"], \"y\": [4, 4], \"type\": \"scatter\", \"uid\": \"526c2e05-35bc-49cc-ac97-01408bc00dec\"}, {\"marker\": {\"color\": \"white\"}, \"name\": \"\", \"x\": [\"2017-12-29\", \"2017-12-30\"], \"y\": [4, 4], \"type\": \"scatter\", \"uid\": \"b0a20779-17c2-41a1-9ea1-6a2e044492dd\"}, {\"marker\": {\"color\": \"white\"}, \"name\": \"\", \"x\": [\"2017-12-30\", \"2017-12-31\"], \"y\": [4, 4], \"type\": \"scatter\", \"uid\": \"4be665ed-4efc-4663-b587-44f88c560c16\"}, {\"marker\": {\"color\": \"white\"}, \"name\": \"\", \"x\": [\"2017-12-31\", \"2018-01-01\"], \"y\": [4, 4], \"type\": \"scatter\", \"uid\": \"4a079ce8-25bd-48fc-81ee-aa68d8de3d59\"}, {\"marker\": {\"color\": \"white\"}, \"name\": \"\", \"x\": [\"2018-01-01\", \"2018-01-02\"], \"y\": [4, 4], \"type\": \"scatter\", \"uid\": \"ba10ea82-ea11-4a23-931d-16a756be766d\"}, {\"marker\": {\"color\": \"white\"}, \"name\": \"\", \"x\": [\"2018-01-02\", \"2018-01-02\"], \"y\": [4, 4], \"type\": \"scatter\", \"uid\": \"6a28c3a9-6f16-475d-8805-14917864df3c\"}, {\"marker\": {\"color\": \"white\"}, \"name\": \"\", \"x\": [\"2018-01-02\", \"2018-01-03\"], \"y\": [4, 4], \"type\": \"scatter\", \"uid\": \"2db7dffc-cab7-446c-a77f-285bc69d7e69\"}, {\"marker\": {\"color\": \"white\"}, \"name\": \"\", \"x\": [\"2018-01-03\", \"2018-01-03\"], \"y\": [4, 4], \"type\": \"scatter\", \"uid\": \"bbf2bb42-89a2-4e58-a081-c53889ccddc4\"}, {\"marker\": {\"color\": \"white\"}, \"name\": \"\", \"x\": [\"2018-01-03\", \"2018-01-04\"], \"y\": [4, 4], \"type\": \"scatter\", \"uid\": \"5c69a729-fcb6-40db-b6de-4c263ce86319\"}, {\"marker\": {\"color\": \"white\"}, \"name\": \"\", \"x\": [\"2018-01-04\", \"2018-01-04\"], \"y\": [4, 4], \"type\": \"scatter\", \"uid\": \"9ed6bc85-135b-42f4-8fb9-a8fe273f0813\"}, {\"marker\": {\"color\": \"white\"}, \"name\": \"\", \"x\": [\"2018-01-04\", \"2018-01-05\"], \"y\": [4, 4], \"type\": \"scatter\", \"uid\": \"cbdc3094-51ad-4390-be33-fd4e8b38da37\"}, {\"marker\": {\"color\": \"white\"}, \"name\": \"\", \"x\": [\"2018-01-05\", \"2018-01-05\"], \"y\": [4, 4], \"type\": \"scatter\", \"uid\": \"ce70aef1-b7f4-410b-996a-18873233cda7\"}, {\"marker\": {\"color\": \"white\"}, \"name\": \"\", \"x\": [\"2018-01-05\", \"2018-01-06\"], \"y\": [4, 4], \"type\": \"scatter\", \"uid\": \"ee9568f0-67b5-48f0-9945-d98b7014bba2\"}, {\"marker\": {\"color\": \"white\"}, \"name\": \"\", \"x\": [\"2018-01-06\", \"2018-01-06\"], \"y\": [4, 4], \"type\": \"scatter\", \"uid\": \"a94b5153-82dc-4cd6-89c6-4a46c37dceb9\"}, {\"marker\": {\"color\": \"white\"}, \"name\": \"\", \"x\": [\"2018-01-06\", \"2018-01-07\"], \"y\": [4, 4], \"type\": \"scatter\", \"uid\": \"e6d5e226-29df-422f-b0e7-42eecff8072b\"}], {\"height\": 600, \"hovermode\": \"closest\", \"shapes\": [{\"fillcolor\": \"rgb(214, 39, 40)\", \"line\": {\"width\": 0}, \"opacity\": 1, \"type\": \"rect\", \"x0\": \"2019-03-02\", \"x1\": \"2019-03-09\", \"xref\": \"x\", \"y0\": 3.8, \"y1\": 4.2, \"yref\": \"y\"}, {\"fillcolor\": \"rgb(214, 39, 40)\", \"line\": {\"width\": 0}, \"opacity\": 1, \"type\": \"rect\", \"x0\": \"2018-06-17\", \"x1\": \"2018-06-19\", \"xref\": \"x\", \"y0\": 3.8, \"y1\": 4.2, \"yref\": \"y\"}, {\"fillcolor\": \"rgb(214, 39, 40)\", \"line\": {\"width\": 0}, \"opacity\": 1, \"type\": \"rect\", \"x0\": \"2018-06-19\", \"x1\": \"2018-06-25\", \"xref\": \"x\", \"y0\": 3.8, \"y1\": 4.2, \"yref\": \"y\"}, {\"fillcolor\": \"rgb(214, 39, 40)\", \"line\": {\"width\": 0}, \"opacity\": 1, \"type\": \"rect\", \"x0\": \"2018-06-25\", \"x1\": \"2018-06-30\", \"xref\": \"x\", \"y0\": 3.8, \"y1\": 4.2, \"yref\": \"y\"}, {\"fillcolor\": \"rgb(214, 39, 40)\", \"line\": {\"width\": 0}, \"opacity\": 1, \"type\": \"rect\", \"x0\": \"2018-06-30\", \"x1\": \"2018-07-01\", \"xref\": \"x\", \"y0\": 3.8, \"y1\": 4.2, \"yref\": \"y\"}, {\"fillcolor\": \"rgb(214, 39, 40)\", \"line\": {\"width\": 0}, \"opacity\": 1, \"type\": \"rect\", \"x0\": \"2018-07-01\", \"x1\": \"2018-07-03\", \"xref\": \"x\", \"y0\": 3.8, \"y1\": 4.2, \"yref\": \"y\"}, {\"fillcolor\": \"rgb(214, 39, 40)\", \"line\": {\"width\": 0}, \"opacity\": 1, \"type\": \"rect\", \"x0\": \"2018-07-03\", \"x1\": \"2018-07-06\", \"xref\": \"x\", \"y0\": 3.8, \"y1\": 4.2, \"yref\": \"y\"}, {\"fillcolor\": \"rgb(214, 39, 40)\", \"line\": {\"width\": 0}, \"opacity\": 1, \"type\": \"rect\", \"x0\": \"2018-07-06\", \"x1\": \"2018-07-06\", \"xref\": \"x\", \"y0\": 3.8, \"y1\": 4.2, \"yref\": \"y\"}, {\"fillcolor\": \"rgb(214, 39, 40)\", \"line\": {\"width\": 0}, \"opacity\": 1, \"type\": \"rect\", \"x0\": \"2018-07-06\", \"x1\": \"2018-07-07\", \"xref\": \"x\", \"y0\": 3.8, \"y1\": 4.2, \"yref\": \"y\"}, {\"fillcolor\": \"rgb(214, 39, 40)\", \"line\": {\"width\": 0}, \"opacity\": 1, \"type\": \"rect\", \"x0\": \"2018-07-07\", \"x1\": \"2018-07-08\", \"xref\": \"x\", \"y0\": 3.8, \"y1\": 4.2, \"yref\": \"y\"}, {\"fillcolor\": \"rgb(214, 39, 40)\", \"line\": {\"width\": 0}, \"opacity\": 1, \"type\": \"rect\", \"x0\": \"2018-07-08\", \"x1\": \"2018-07-12\", \"xref\": \"x\", \"y0\": 3.8, \"y1\": 4.2, \"yref\": \"y\"}, {\"fillcolor\": \"rgb(214, 39, 40)\", \"line\": {\"width\": 0}, \"opacity\": 1, \"type\": \"rect\", \"x0\": \"2018-07-12\", \"x1\": \"2018-07-15\", \"xref\": \"x\", \"y0\": 3.8, \"y1\": 4.2, \"yref\": \"y\"}, {\"fillcolor\": \"rgb(214, 39, 40)\", \"line\": {\"width\": 0}, \"opacity\": 1, \"type\": \"rect\", \"x0\": \"2018-07-15\", \"x1\": \"2018-07-17\", \"xref\": \"x\", \"y0\": 3.8, \"y1\": 4.2, \"yref\": \"y\"}, {\"fillcolor\": \"rgb(214, 39, 40)\", \"line\": {\"width\": 0}, \"opacity\": 1, \"type\": \"rect\", \"x0\": \"2018-07-17\", \"x1\": \"2018-07-18\", \"xref\": \"x\", \"y0\": 3.8, \"y1\": 4.2, \"yref\": \"y\"}, {\"fillcolor\": \"rgb(214, 39, 40)\", \"line\": {\"width\": 0}, \"opacity\": 1, \"type\": \"rect\", \"x0\": \"2018-07-18\", \"x1\": \"2018-07-20\", \"xref\": \"x\", \"y0\": 3.8, \"y1\": 4.2, \"yref\": \"y\"}, {\"fillcolor\": \"rgb(214, 39, 40)\", \"line\": {\"width\": 0}, \"opacity\": 1, \"type\": \"rect\", \"x0\": \"2018-07-20\", \"x1\": \"2018-07-24\", \"xref\": \"x\", \"y0\": 3.8, \"y1\": 4.2, \"yref\": \"y\"}, {\"fillcolor\": \"rgb(214, 39, 40)\", \"line\": {\"width\": 0}, \"opacity\": 1, \"type\": \"rect\", \"x0\": \"2018-07-24\", \"x1\": \"2018-07-27\", \"xref\": \"x\", \"y0\": 3.8, \"y1\": 4.2, \"yref\": \"y\"}, {\"fillcolor\": \"rgb(214, 39, 40)\", \"line\": {\"width\": 0}, \"opacity\": 1, \"type\": \"rect\", \"x0\": \"2018-07-27\", \"x1\": \"2018-07-29\", \"xref\": \"x\", \"y0\": 3.8, \"y1\": 4.2, \"yref\": \"y\"}, {\"fillcolor\": \"rgb(214, 39, 40)\", \"line\": {\"width\": 0}, \"opacity\": 1, \"type\": \"rect\", \"x0\": \"2018-07-29\", \"x1\": \"2018-08-01\", \"xref\": \"x\", \"y0\": 3.8, \"y1\": 4.2, \"yref\": \"y\"}, {\"fillcolor\": \"rgb(214, 39, 40)\", \"line\": {\"width\": 0}, \"opacity\": 1, \"type\": \"rect\", \"x0\": \"2018-08-01\", \"x1\": \"2018-08-04\", \"xref\": \"x\", \"y0\": 3.8, \"y1\": 4.2, \"yref\": \"y\"}, {\"fillcolor\": \"rgb(214, 39, 40)\", \"line\": {\"width\": 0}, \"opacity\": 1, \"type\": \"rect\", \"x0\": \"2018-08-04\", \"x1\": \"2018-08-08\", \"xref\": \"x\", \"y0\": 3.8, \"y1\": 4.2, \"yref\": \"y\"}, {\"fillcolor\": \"rgb(214, 39, 40)\", \"line\": {\"width\": 0}, \"opacity\": 1, \"type\": \"rect\", \"x0\": \"2018-08-08\", \"x1\": \"2018-08-12\", \"xref\": \"x\", \"y0\": 3.8, \"y1\": 4.2, \"yref\": \"y\"}, {\"fillcolor\": \"rgb(214, 39, 40)\", \"line\": {\"width\": 0}, \"opacity\": 1, \"type\": \"rect\", \"x0\": \"2018-08-12\", \"x1\": \"2018-08-13\", \"xref\": \"x\", \"y0\": 3.8, \"y1\": 4.2, \"yref\": \"y\"}, {\"fillcolor\": \"rgb(214, 39, 40)\", \"line\": {\"width\": 0}, \"opacity\": 1, \"type\": \"rect\", \"x0\": \"2018-08-13\", \"x1\": \"2018-08-20\", \"xref\": \"x\", \"y0\": 3.8, \"y1\": 4.2, \"yref\": \"y\"}, {\"fillcolor\": \"rgb(214, 39, 40)\", \"line\": {\"width\": 0}, \"opacity\": 1, \"type\": \"rect\", \"x0\": \"2018-08-20\", \"x1\": \"2018-08-22\", \"xref\": \"x\", \"y0\": 3.8, \"y1\": 4.2, \"yref\": \"y\"}, {\"fillcolor\": \"rgb(214, 39, 40)\", \"line\": {\"width\": 0}, \"opacity\": 1, \"type\": \"rect\", \"x0\": \"2018-08-22\", \"x1\": \"2018-08-30\", \"xref\": \"x\", \"y0\": 3.8, \"y1\": 4.2, \"yref\": \"y\"}, {\"fillcolor\": \"rgb(214, 39, 40)\", \"line\": {\"width\": 0}, \"opacity\": 1, \"type\": \"rect\", \"x0\": \"2018-08-30\", \"x1\": \"2018-09-01\", \"xref\": \"x\", \"y0\": 3.8, \"y1\": 4.2, \"yref\": \"y\"}, {\"fillcolor\": \"rgb(214, 39, 40)\", \"line\": {\"width\": 0}, \"opacity\": 1, \"type\": \"rect\", \"x0\": \"2018-09-01\", \"x1\": \"2018-09-17\", \"xref\": \"x\", \"y0\": 3.8, \"y1\": 4.2, \"yref\": \"y\"}, {\"fillcolor\": \"rgb(214, 39, 40)\", \"line\": {\"width\": 0}, \"opacity\": 1, \"type\": \"rect\", \"x0\": \"2018-09-17\", \"x1\": \"2018-09-18\", \"xref\": \"x\", \"y0\": 3.8, \"y1\": 4.2, \"yref\": \"y\"}, {\"fillcolor\": \"rgb(214, 39, 40)\", \"line\": {\"width\": 0}, \"opacity\": 1, \"type\": \"rect\", \"x0\": \"2018-09-18\", \"x1\": \"2018-09-23\", \"xref\": \"x\", \"y0\": 3.8, \"y1\": 4.2, \"yref\": \"y\"}, {\"fillcolor\": \"rgb(214, 39, 40)\", \"line\": {\"width\": 0}, \"opacity\": 1, \"type\": \"rect\", \"x0\": \"2018-09-23\", \"x1\": \"2018-09-27\", \"xref\": \"x\", \"y0\": 3.8, \"y1\": 4.2, \"yref\": \"y\"}, {\"fillcolor\": \"rgb(214, 39, 40)\", \"line\": {\"width\": 0}, \"opacity\": 1, \"type\": \"rect\", \"x0\": \"2018-09-27\", \"x1\": \"2018-09-29\", \"xref\": \"x\", \"y0\": 3.8, \"y1\": 4.2, \"yref\": \"y\"}, {\"fillcolor\": \"rgb(214, 39, 40)\", \"line\": {\"width\": 0}, \"opacity\": 1, \"type\": \"rect\", \"x0\": \"2018-09-29\", \"x1\": \"2018-09-30\", \"xref\": \"x\", \"y0\": 3.8, \"y1\": 4.2, \"yref\": \"y\"}, {\"fillcolor\": \"rgb(214, 39, 40)\", \"line\": {\"width\": 0}, \"opacity\": 1, \"type\": \"rect\", \"x0\": \"2018-09-30\", \"x1\": \"2018-10-01\", \"xref\": \"x\", \"y0\": 3.8, \"y1\": 4.2, \"yref\": \"y\"}, {\"fillcolor\": \"rgb(214, 39, 40)\", \"line\": {\"width\": 0}, \"opacity\": 1, \"type\": \"rect\", \"x0\": \"2018-10-01\", \"x1\": \"2018-10-03\", \"xref\": \"x\", \"y0\": 3.8, \"y1\": 4.2, \"yref\": \"y\"}, {\"fillcolor\": \"rgb(214, 39, 40)\", \"line\": {\"width\": 0}, \"opacity\": 1, \"type\": \"rect\", \"x0\": \"2018-10-03\", \"x1\": \"2018-10-04\", \"xref\": \"x\", \"y0\": 3.8, \"y1\": 4.2, \"yref\": \"y\"}, {\"fillcolor\": \"rgb(214, 39, 40)\", \"line\": {\"width\": 0}, \"opacity\": 1, \"type\": \"rect\", \"x0\": \"2018-10-04\", \"x1\": \"2018-10-05\", \"xref\": \"x\", \"y0\": 3.8, \"y1\": 4.2, \"yref\": \"y\"}, {\"fillcolor\": \"rgb(214, 39, 40)\", \"line\": {\"width\": 0}, \"opacity\": 1, \"type\": \"rect\", \"x0\": \"2018-10-05\", \"x1\": \"2018-10-06\", \"xref\": \"x\", \"y0\": 3.8, \"y1\": 4.2, \"yref\": \"y\"}, {\"fillcolor\": \"rgb(214, 39, 40)\", \"line\": {\"width\": 0}, \"opacity\": 1, \"type\": \"rect\", \"x0\": \"2018-10-06\", \"x1\": \"2018-10-09\", \"xref\": \"x\", \"y0\": 3.8, \"y1\": 4.2, \"yref\": \"y\"}, {\"fillcolor\": \"rgb(214, 39, 40)\", \"line\": {\"width\": 0}, \"opacity\": 1, \"type\": \"rect\", \"x0\": \"2018-10-09\", \"x1\": \"2018-10-12\", \"xref\": \"x\", \"y0\": 3.8, \"y1\": 4.2, \"yref\": \"y\"}, {\"fillcolor\": \"rgb(214, 39, 40)\", \"line\": {\"width\": 0}, \"opacity\": 1, \"type\": \"rect\", \"x0\": \"2018-10-12\", \"x1\": \"2018-10-14\", \"xref\": \"x\", \"y0\": 3.8, \"y1\": 4.2, \"yref\": \"y\"}, {\"fillcolor\": \"rgb(214, 39, 40)\", \"line\": {\"width\": 0}, \"opacity\": 1, \"type\": \"rect\", \"x0\": \"2018-10-14\", \"x1\": \"2018-10-16\", \"xref\": \"x\", \"y0\": 3.8, \"y1\": 4.2, \"yref\": \"y\"}, {\"fillcolor\": \"rgb(214, 39, 40)\", \"line\": {\"width\": 0}, \"opacity\": 1, \"type\": \"rect\", \"x0\": \"2018-10-16\", \"x1\": \"2018-10-19\", \"xref\": \"x\", \"y0\": 3.8, \"y1\": 4.2, \"yref\": \"y\"}, {\"fillcolor\": \"rgb(214, 39, 40)\", \"line\": {\"width\": 0}, \"opacity\": 1, \"type\": \"rect\", \"x0\": \"2018-10-19\", \"x1\": \"2018-10-20\", \"xref\": \"x\", \"y0\": 3.8, \"y1\": 4.2, \"yref\": \"y\"}, {\"fillcolor\": \"rgb(214, 39, 40)\", \"line\": {\"width\": 0}, \"opacity\": 1, \"type\": \"rect\", \"x0\": \"2018-10-20\", \"x1\": \"2018-10-21\", \"xref\": \"x\", \"y0\": 3.8, \"y1\": 4.2, \"yref\": \"y\"}, {\"fillcolor\": \"rgb(214, 39, 40)\", \"line\": {\"width\": 0}, \"opacity\": 1, \"type\": \"rect\", \"x0\": \"2018-10-21\", \"x1\": \"2018-10-23\", \"xref\": \"x\", \"y0\": 3.8, \"y1\": 4.2, \"yref\": \"y\"}, {\"fillcolor\": \"rgb(214, 39, 40)\", \"line\": {\"width\": 0}, \"opacity\": 1, \"type\": \"rect\", \"x0\": \"2018-10-23\", \"x1\": \"2018-10-26\", \"xref\": \"x\", \"y0\": 3.8, \"y1\": 4.2, \"yref\": \"y\"}, {\"fillcolor\": \"rgb(31, 119, 180)\", \"line\": {\"width\": 0}, \"opacity\": 1, \"type\": \"rect\", \"x0\": \"2018-11-26\", \"x1\": \"2018-11-27\", \"xref\": \"x\", \"y0\": 2.8, \"y1\": 3.2, \"yref\": \"y\"}, {\"fillcolor\": \"rgb(31, 119, 180)\", \"line\": {\"width\": 0}, \"opacity\": 1, \"type\": \"rect\", \"x0\": \"2018-11-27\", \"x1\": \"2018-11-28\", \"xref\": \"x\", \"y0\": 2.8, \"y1\": 3.2, \"yref\": \"y\"}, {\"fillcolor\": \"rgb(31, 119, 180)\", \"line\": {\"width\": 0}, \"opacity\": 1, \"type\": \"rect\", \"x0\": \"2018-11-28\", \"x1\": \"2018-12-01\", \"xref\": \"x\", \"y0\": 2.8, \"y1\": 3.2, \"yref\": \"y\"}, {\"fillcolor\": \"rgb(214, 39, 40)\", \"line\": {\"width\": 0}, \"opacity\": 1, \"type\": \"rect\", \"x0\": \"2010-08-01\", \"x1\": \"2010-08-16\", \"xref\": \"x\", \"y0\": 3.8, \"y1\": 4.2, \"yref\": \"y\"}, {\"fillcolor\": \"rgb(214, 39, 40)\", \"line\": {\"width\": 0}, \"opacity\": 1, \"type\": \"rect\", \"x0\": \"2003-08-10\", \"x1\": \"2003-08-25\", \"xref\": \"x\", \"y0\": 3.8, \"y1\": 4.2, \"yref\": \"y\"}, {\"fillcolor\": \"rgb(214, 39, 40)\", \"line\": {\"width\": 0}, \"opacity\": 1, \"type\": \"rect\", \"x0\": \"2004-08-14\", \"x1\": \"2004-08-15\", \"xref\": \"x\", \"y0\": 3.8, \"y1\": 4.2, \"yref\": \"y\"}, {\"fillcolor\": \"rgb(214, 39, 40)\", \"line\": {\"width\": 0}, \"opacity\": 1, \"type\": \"rect\", \"x0\": \"2004-08-15\", \"x1\": \"2004-08-28\", \"xref\": \"x\", \"y0\": 3.8, \"y1\": 4.2, \"yref\": \"y\"}, {\"fillcolor\": \"rgb(214, 39, 40)\", \"line\": {\"width\": 0}, \"opacity\": 1, \"type\": \"rect\", \"x0\": \"2005-08-13\", \"x1\": \"2005-08-27\", \"xref\": \"x\", \"y0\": 3.8, \"y1\": 4.2, \"yref\": \"y\"}, {\"fillcolor\": \"rgb(214, 39, 40)\", \"line\": {\"width\": 0}, \"opacity\": 1, \"type\": \"rect\", \"x0\": \"2006-08-13\", \"x1\": \"2006-08-26\", \"xref\": \"x\", \"y0\": 3.8, \"y1\": 4.2, \"yref\": \"y\"}, {\"fillcolor\": \"rgb(214, 39, 40)\", \"line\": {\"width\": 0}, \"opacity\": 1, \"type\": \"rect\", \"x0\": \"2008-03-22\", \"x1\": \"2008-04-02\", \"xref\": \"x\", \"y0\": 3.8, \"y1\": 4.2, \"yref\": \"y\"}, {\"fillcolor\": \"rgb(214, 39, 40)\", \"line\": {\"width\": 0}, \"opacity\": 1, \"type\": \"rect\", \"x0\": \"2007-04-07\", \"x1\": \"2007-04-15\", \"xref\": \"x\", \"y0\": 3.8, \"y1\": 4.2, \"yref\": \"y\"}, {\"fillcolor\": \"rgb(214, 39, 40)\", \"line\": {\"width\": 0}, \"opacity\": 1, \"type\": \"rect\", \"x0\": \"2006-02-11\", \"x1\": \"2006-02-19\", \"xref\": \"x\", \"y0\": 3.8, \"y1\": 4.2, \"yref\": \"y\"}, {\"fillcolor\": \"rgb(214, 39, 40)\", \"line\": {\"width\": 0}, \"opacity\": 1, \"type\": \"rect\", \"x0\": \"2005-03-26\", \"x1\": \"2005-04-02\", \"xref\": \"x\", \"y0\": 3.8, \"y1\": 4.2, \"yref\": \"y\"}, {\"fillcolor\": \"rgb(214, 39, 40)\", \"line\": {\"width\": 0}, \"opacity\": 1, \"type\": \"rect\", \"x0\": \"2001-08-11\", \"x1\": \"2001-08-15\", \"xref\": \"x\", \"y0\": 3.8, \"y1\": 4.2, \"yref\": \"y\"}, {\"fillcolor\": \"rgb(214, 39, 40)\", \"line\": {\"width\": 0}, \"opacity\": 1, \"type\": \"rect\", \"x0\": \"2001-08-15\", \"x1\": \"2001-08-18\", \"xref\": \"x\", \"y0\": 3.8, \"y1\": 4.2, \"yref\": \"y\"}, {\"fillcolor\": \"rgb(214, 39, 40)\", \"line\": {\"width\": 0}, \"opacity\": 1, \"type\": \"rect\", \"x0\": \"2001-08-18\", \"x1\": \"2001-08-26\", \"xref\": \"x\", \"y0\": 3.8, \"y1\": 4.2, \"yref\": \"y\"}, {\"fillcolor\": \"rgb(214, 39, 40)\", \"line\": {\"width\": 0}, \"opacity\": 1, \"type\": \"rect\", \"x0\": \"2002-08-25\", \"x1\": \"2002-09-01\", \"xref\": \"x\", \"y0\": 3.8, \"y1\": 4.2, \"yref\": \"y\"}, {\"fillcolor\": \"rgb(255, 127, 14)\", \"line\": {\"width\": 0}, \"opacity\": 1, \"type\": \"rect\", \"x0\": \"2007-08-12\", \"x1\": \"2007-08-13\", \"xref\": \"x\", \"y0\": 1.8, \"y1\": 2.2, \"yref\": \"y\"}, {\"fillcolor\": \"rgb(255, 127, 14)\", \"line\": {\"width\": 0}, \"opacity\": 1, \"type\": \"rect\", \"x0\": \"2007-08-13\", \"x1\": \"2007-08-17\", \"xref\": \"x\", \"y0\": 1.8, \"y1\": 2.2, \"yref\": \"y\"}, {\"fillcolor\": \"rgb(255, 127, 14)\", \"line\": {\"width\": 0}, \"opacity\": 1, \"type\": \"rect\", \"x0\": \"2007-08-17\", \"x1\": \"2007-08-18\", \"xref\": \"x\", \"y0\": 1.8, \"y1\": 2.2, \"yref\": \"y\"}, {\"fillcolor\": \"rgb(255, 127, 14)\", \"line\": {\"width\": 0}, \"opacity\": 1, \"type\": \"rect\", \"x0\": \"2007-08-18\", \"x1\": \"2007-08-20\", \"xref\": \"x\", \"y0\": 1.8, \"y1\": 2.2, \"yref\": \"y\"}, {\"fillcolor\": \"rgb(255, 127, 14)\", \"line\": {\"width\": 0}, \"opacity\": 1, \"type\": \"rect\", \"x0\": \"2007-08-20\", \"x1\": \"2007-08-27\", \"xref\": \"x\", \"y0\": 1.8, \"y1\": 2.2, \"yref\": \"y\"}, {\"fillcolor\": \"rgb(214, 39, 40)\", \"line\": {\"width\": 0}, \"opacity\": 1, \"type\": \"rect\", \"x0\": \"2008-08-01\", \"x1\": \"2008-08-07\", \"xref\": \"x\", \"y0\": 3.8, \"y1\": 4.2, \"yref\": \"y\"}, {\"fillcolor\": \"rgb(214, 39, 40)\", \"line\": {\"width\": 0}, \"opacity\": 1, \"type\": \"rect\", \"x0\": \"2008-08-07\", \"x1\": \"2008-08-13\", \"xref\": \"x\", \"y0\": 3.8, \"y1\": 4.2, \"yref\": \"y\"}, {\"fillcolor\": \"rgb(214, 39, 40)\", \"line\": {\"width\": 0}, \"opacity\": 1, \"type\": \"rect\", \"x0\": \"2008-08-13\", \"x1\": \"2008-08-16\", \"xref\": \"x\", \"y0\": 3.8, \"y1\": 4.2, \"yref\": \"y\"}, {\"fillcolor\": \"rgb(214, 39, 40)\", \"line\": {\"width\": 0}, \"opacity\": 1, \"type\": \"rect\", \"x0\": \"2009-07-26\", \"x1\": \"2009-08-08\", \"xref\": \"x\", \"y0\": 3.8, \"y1\": 4.2, \"yref\": \"y\"}, {\"fillcolor\": \"rgb(214, 39, 40)\", \"line\": {\"width\": 0}, \"opacity\": 1, \"type\": \"rect\", \"x0\": \"2010-02-14\", \"x1\": \"2010-02-15\", \"xref\": \"x\", \"y0\": 3.8, \"y1\": 4.2, \"yref\": \"y\"}, {\"fillcolor\": \"rgb(214, 39, 40)\", \"line\": {\"width\": 0}, \"opacity\": 1, \"type\": \"rect\", \"x0\": \"2013-07-28\", \"x1\": \"2013-07-30\", \"xref\": \"x\", \"y0\": 3.8, \"y1\": 4.2, \"yref\": \"y\"}, {\"fillcolor\": \"rgb(214, 39, 40)\", \"line\": {\"width\": 0}, \"opacity\": 1, \"type\": \"rect\", \"x0\": \"2013-07-30\", \"x1\": \"2013-08-01\", \"xref\": \"x\", \"y0\": 3.8, \"y1\": 4.2, \"yref\": \"y\"}, {\"fillcolor\": \"rgb(214, 39, 40)\", \"line\": {\"width\": 0}, \"opacity\": 1, \"type\": \"rect\", \"x0\": \"2013-08-01\", \"x1\": \"2013-08-03\", \"xref\": \"x\", \"y0\": 3.8, \"y1\": 4.2, \"yref\": \"y\"}, {\"fillcolor\": \"rgb(214, 39, 40)\", \"line\": {\"width\": 0}, \"opacity\": 1, \"type\": \"rect\", \"x0\": \"2013-08-03\", \"x1\": \"2013-08-10\", \"xref\": \"x\", \"y0\": 3.8, \"y1\": 4.2, \"yref\": \"y\"}, {\"fillcolor\": \"rgb(214, 39, 40)\", \"line\": {\"width\": 0}, \"opacity\": 1, \"type\": \"rect\", \"x0\": \"2013-07-04\", \"x1\": \"2013-07-05\", \"xref\": \"x\", \"y0\": 3.8, \"y1\": 4.2, \"yref\": \"y\"}, {\"fillcolor\": \"rgb(214, 39, 40)\", \"line\": {\"width\": 0}, \"opacity\": 1, \"type\": \"rect\", \"x0\": \"2013-03-31\", \"x1\": \"2013-04-07\", \"xref\": \"x\", \"y0\": 3.8, \"y1\": 4.2, \"yref\": \"y\"}, {\"fillcolor\": \"rgb(214, 39, 40)\", \"line\": {\"width\": 0}, \"opacity\": 1, \"type\": \"rect\", \"x0\": \"2006-10-21\", \"x1\": \"2006-10-23\", \"xref\": \"x\", \"y0\": 3.8, \"y1\": 4.2, \"yref\": \"y\"}, {\"fillcolor\": \"rgb(214, 39, 40)\", \"line\": {\"width\": 0}, \"opacity\": 1, \"type\": \"rect\", \"x0\": \"2006-10-23\", \"x1\": \"2006-10-24\", \"xref\": \"x\", \"y0\": 3.8, \"y1\": 4.2, \"yref\": \"y\"}, {\"fillcolor\": \"rgb(214, 39, 40)\", \"line\": {\"width\": 0}, \"opacity\": 1, \"type\": \"rect\", \"x0\": \"2006-10-24\", \"x1\": \"2006-10-25\", \"xref\": \"x\", \"y0\": 3.8, \"y1\": 4.2, \"yref\": \"y\"}, {\"fillcolor\": \"rgb(255, 127, 14)\", \"line\": {\"width\": 0}, \"opacity\": 1, \"type\": \"rect\", \"x0\": \"2017-10-16\", \"x1\": \"2017-10-16\", \"xref\": \"x\", \"y0\": 1.8, \"y1\": 2.2, \"yref\": \"y\"}, {\"fillcolor\": \"rgb(255, 127, 14)\", \"line\": {\"width\": 0}, \"opacity\": 1, \"type\": \"rect\", \"x0\": \"2017-10-16\", \"x1\": \"2017-10-16\", \"xref\": \"x\", \"y0\": 1.8, \"y1\": 2.2, \"yref\": \"y\"}, {\"fillcolor\": \"rgb(255, 127, 14)\", \"line\": {\"width\": 0}, \"opacity\": 1, \"type\": \"rect\", \"x0\": \"2017-10-16\", \"x1\": \"2017-10-20\", \"xref\": \"x\", \"y0\": 1.8, \"y1\": 2.2, \"yref\": \"y\"}, {\"fillcolor\": \"rgb(255, 127, 14)\", \"line\": {\"width\": 0}, \"opacity\": 1, \"type\": \"rect\", \"x0\": \"2017-10-20\", \"x1\": \"2017-10-23\", \"xref\": \"x\", \"y0\": 1.8, \"y1\": 2.2, \"yref\": \"y\"}, {\"fillcolor\": \"rgb(255, 127, 14)\", \"line\": {\"width\": 0}, \"opacity\": 1, \"type\": \"rect\", \"x0\": \"2017-10-23\", \"x1\": \"2017-10-27\", \"xref\": \"x\", \"y0\": 1.8, \"y1\": 2.2, \"yref\": \"y\"}, {\"fillcolor\": \"rgb(255, 127, 14)\", \"line\": {\"width\": 0}, \"opacity\": 1, \"type\": \"rect\", \"x0\": \"2017-10-27\", \"x1\": \"2017-10-30\", \"xref\": \"x\", \"y0\": 1.8, \"y1\": 2.2, \"yref\": \"y\"}, {\"fillcolor\": \"rgb(255, 127, 14)\", \"line\": {\"width\": 0}, \"opacity\": 1, \"type\": \"rect\", \"x0\": \"2017-10-30\", \"x1\": \"2017-11-01\", \"xref\": \"x\", \"y0\": 1.8, \"y1\": 2.2, \"yref\": \"y\"}, {\"fillcolor\": \"rgb(255, 127, 14)\", \"line\": {\"width\": 0}, \"opacity\": 1, \"type\": \"rect\", \"x0\": \"2017-11-01\", \"x1\": \"2017-11-03\", \"xref\": \"x\", \"y0\": 1.8, \"y1\": 2.2, \"yref\": \"y\"}, {\"fillcolor\": \"rgb(255, 127, 14)\", \"line\": {\"width\": 0}, \"opacity\": 1, \"type\": \"rect\", \"x0\": \"2017-11-03\", \"x1\": \"2017-11-08\", \"xref\": \"x\", \"y0\": 1.8, \"y1\": 2.2, \"yref\": \"y\"}, {\"fillcolor\": \"rgb(255, 127, 14)\", \"line\": {\"width\": 0}, \"opacity\": 1, \"type\": \"rect\", \"x0\": \"2017-11-08\", \"x1\": \"2017-11-10\", \"xref\": \"x\", \"y0\": 1.8, \"y1\": 2.2, \"yref\": \"y\"}, {\"fillcolor\": \"rgb(255, 127, 14)\", \"line\": {\"width\": 0}, \"opacity\": 1, \"type\": \"rect\", \"x0\": \"2017-11-10\", \"x1\": \"2017-11-16\", \"xref\": \"x\", \"y0\": 1.8, \"y1\": 2.2, \"yref\": \"y\"}, {\"fillcolor\": \"rgb(255, 127, 14)\", \"line\": {\"width\": 0}, \"opacity\": 1, \"type\": \"rect\", \"x0\": \"2017-11-16\", \"x1\": \"2017-11-20\", \"xref\": \"x\", \"y0\": 1.8, \"y1\": 2.2, \"yref\": \"y\"}, {\"fillcolor\": \"rgb(255, 127, 14)\", \"line\": {\"width\": 0}, \"opacity\": 1, \"type\": \"rect\", \"x0\": \"2017-11-20\", \"x1\": \"2017-11-25\", \"xref\": \"x\", \"y0\": 1.8, \"y1\": 2.2, \"yref\": \"y\"}, {\"fillcolor\": \"rgb(255, 127, 14)\", \"line\": {\"width\": 0}, \"opacity\": 1, \"type\": \"rect\", \"x0\": \"2017-11-25\", \"x1\": \"2017-12-03\", \"xref\": \"x\", \"y0\": 1.8, \"y1\": 2.2, \"yref\": \"y\"}, {\"fillcolor\": \"rgb(44, 160, 44)\", \"line\": {\"width\": 0}, \"opacity\": 1, \"type\": \"rect\", \"x0\": \"2011-01-15\", \"x1\": \"2011-02-07\", \"xref\": \"x\", \"y0\": 0.8, \"y1\": 1.2, \"yref\": \"y\"}, {\"fillcolor\": \"rgb(44, 160, 44)\", \"line\": {\"width\": 0}, \"opacity\": 1, \"type\": \"rect\", \"x0\": \"2011-02-07\", \"x1\": \"2011-02-14\", \"xref\": \"x\", \"y0\": 0.8, \"y1\": 1.2, \"yref\": \"y\"}, {\"fillcolor\": \"rgb(44, 160, 44)\", \"line\": {\"width\": 0}, \"opacity\": 1, \"type\": \"rect\", \"x0\": \"2011-02-14\", \"x1\": \"2011-02-20\", \"xref\": \"x\", \"y0\": 0.8, \"y1\": 1.2, \"yref\": \"y\"}, {\"fillcolor\": \"rgb(44, 160, 44)\", \"line\": {\"width\": 0}, \"opacity\": 1, \"type\": \"rect\", \"x0\": \"2011-02-20\", \"x1\": \"2011-02-23\", \"xref\": \"x\", \"y0\": 0.8, \"y1\": 1.2, \"yref\": \"y\"}, {\"fillcolor\": \"rgb(44, 160, 44)\", \"line\": {\"width\": 0}, \"opacity\": 1, \"type\": \"rect\", \"x0\": \"2011-02-23\", \"x1\": \"2011-02-24\", \"xref\": \"x\", \"y0\": 0.8, \"y1\": 1.2, \"yref\": \"y\"}, {\"fillcolor\": \"rgb(44, 160, 44)\", \"line\": {\"width\": 0}, \"opacity\": 1, \"type\": \"rect\", \"x0\": \"2011-02-24\", \"x1\": \"2011-03-03\", \"xref\": \"x\", \"y0\": 0.8, \"y1\": 1.2, \"yref\": \"y\"}, {\"fillcolor\": \"rgb(44, 160, 44)\", \"line\": {\"width\": 0}, \"opacity\": 1, \"type\": \"rect\", \"x0\": \"2011-03-03\", \"x1\": \"2011-03-03\", \"xref\": \"x\", \"y0\": 0.8, \"y1\": 1.2, \"yref\": \"y\"}, {\"fillcolor\": \"rgb(44, 160, 44)\", \"line\": {\"width\": 0}, \"opacity\": 1, \"type\": \"rect\", \"x0\": \"2011-03-03\", \"x1\": \"2011-03-06\", \"xref\": \"x\", \"y0\": 0.8, \"y1\": 1.2, \"yref\": \"y\"}, {\"fillcolor\": \"rgb(44, 160, 44)\", \"line\": {\"width\": 0}, \"opacity\": 1, \"type\": \"rect\", \"x0\": \"2011-03-06\", \"x1\": \"2011-03-09\", \"xref\": \"x\", \"y0\": 0.8, \"y1\": 1.2, \"yref\": \"y\"}, {\"fillcolor\": \"rgb(44, 160, 44)\", \"line\": {\"width\": 0}, \"opacity\": 1, \"type\": \"rect\", \"x0\": \"2011-03-09\", \"x1\": \"2011-03-13\", \"xref\": \"x\", \"y0\": 0.8, \"y1\": 1.2, \"yref\": \"y\"}, {\"fillcolor\": \"rgb(44, 160, 44)\", \"line\": {\"width\": 0}, \"opacity\": 1, \"type\": \"rect\", \"x0\": \"2011-03-13\", \"x1\": \"2011-03-15\", \"xref\": \"x\", \"y0\": 0.8, \"y1\": 1.2, \"yref\": \"y\"}, {\"fillcolor\": \"rgb(44, 160, 44)\", \"line\": {\"width\": 0}, \"opacity\": 1, \"type\": \"rect\", \"x0\": \"2011-03-15\", \"x1\": \"2011-03-17\", \"xref\": \"x\", \"y0\": 0.8, \"y1\": 1.2, \"yref\": \"y\"}, {\"fillcolor\": \"rgb(44, 160, 44)\", \"line\": {\"width\": 0}, \"opacity\": 1, \"type\": \"rect\", \"x0\": \"2011-03-17\", \"x1\": \"2011-03-22\", \"xref\": \"x\", \"y0\": 0.8, \"y1\": 1.2, \"yref\": \"y\"}, {\"fillcolor\": \"rgb(44, 160, 44)\", \"line\": {\"width\": 0}, \"opacity\": 1, \"type\": \"rect\", \"x0\": \"2011-03-22\", \"x1\": \"2011-03-25\", \"xref\": \"x\", \"y0\": 0.8, \"y1\": 1.2, \"yref\": \"y\"}, {\"fillcolor\": \"rgb(44, 160, 44)\", \"line\": {\"width\": 0}, \"opacity\": 1, \"type\": \"rect\", \"x0\": \"2011-03-25\", \"x1\": \"2011-03-31\", \"xref\": \"x\", \"y0\": 0.8, \"y1\": 1.2, \"yref\": \"y\"}, {\"fillcolor\": \"rgb(44, 160, 44)\", \"line\": {\"width\": 0}, \"opacity\": 1, \"type\": \"rect\", \"x0\": \"2011-03-31\", \"x1\": \"2011-04-05\", \"xref\": \"x\", \"y0\": 0.8, \"y1\": 1.2, \"yref\": \"y\"}, {\"fillcolor\": \"rgb(148, 103, 189)\", \"line\": {\"width\": 0}, \"opacity\": 1, \"type\": \"rect\", \"x0\": \"2011-04-05\", \"x1\": \"2011-04-09\", \"xref\": \"x\", \"y0\": -0.2, \"y1\": 0.2, \"yref\": \"y\"}, {\"fillcolor\": \"rgb(148, 103, 189)\", \"line\": {\"width\": 0}, \"opacity\": 1, \"type\": \"rect\", \"x0\": \"2011-04-09\", \"x1\": \"2011-04-12\", \"xref\": \"x\", \"y0\": -0.2, \"y1\": 0.2, \"yref\": \"y\"}, {\"fillcolor\": \"rgb(148, 103, 189)\", \"line\": {\"width\": 0}, \"opacity\": 1, \"type\": \"rect\", \"x0\": \"2011-04-12\", \"x1\": \"2011-04-14\", \"xref\": \"x\", \"y0\": -0.2, \"y1\": 0.2, \"yref\": \"y\"}, {\"fillcolor\": \"rgb(148, 103, 189)\", \"line\": {\"width\": 0}, \"opacity\": 1, \"type\": \"rect\", \"x0\": \"2011-04-14\", \"x1\": \"2011-04-18\", \"xref\": \"x\", \"y0\": -0.2, \"y1\": 0.2, \"yref\": \"y\"}, {\"fillcolor\": \"rgb(148, 103, 189)\", \"line\": {\"width\": 0}, \"opacity\": 1, \"type\": \"rect\", \"x0\": \"2011-04-18\", \"x1\": \"2011-04-20\", \"xref\": \"x\", \"y0\": -0.2, \"y1\": 0.2, \"yref\": \"y\"}, {\"fillcolor\": \"rgb(148, 103, 189)\", \"line\": {\"width\": 0}, \"opacity\": 1, \"type\": \"rect\", \"x0\": \"2011-04-20\", \"x1\": \"2011-04-25\", \"xref\": \"x\", \"y0\": -0.2, \"y1\": 0.2, \"yref\": \"y\"}, {\"fillcolor\": \"rgb(148, 103, 189)\", \"line\": {\"width\": 0}, \"opacity\": 1, \"type\": \"rect\", \"x0\": \"2011-04-25\", \"x1\": \"2011-05-02\", \"xref\": \"x\", \"y0\": -0.2, \"y1\": 0.2, \"yref\": \"y\"}, {\"fillcolor\": \"rgb(148, 103, 189)\", \"line\": {\"width\": 0}, \"opacity\": 1, \"type\": \"rect\", \"x0\": \"2011-05-02\", \"x1\": \"2011-05-05\", \"xref\": \"x\", \"y0\": -0.2, \"y1\": 0.2, \"yref\": \"y\"}, {\"fillcolor\": \"rgb(148, 103, 189)\", \"line\": {\"width\": 0}, \"opacity\": 1, \"type\": \"rect\", \"x0\": \"2011-05-05\", \"x1\": \"2011-05-06\", \"xref\": \"x\", \"y0\": -0.2, \"y1\": 0.2, \"yref\": \"y\"}, {\"fillcolor\": \"rgb(148, 103, 189)\", \"line\": {\"width\": 0}, \"opacity\": 1, \"type\": \"rect\", \"x0\": \"2011-05-06\", \"x1\": \"2011-06-18\", \"xref\": \"x\", \"y0\": -0.2, \"y1\": 0.2, \"yref\": \"y\"}, {\"fillcolor\": \"rgb(148, 103, 189)\", \"line\": {\"width\": 0}, \"opacity\": 1, \"type\": \"rect\", \"x0\": \"2011-06-18\", \"x1\": \"2011-06-21\", \"xref\": \"x\", \"y0\": -0.2, \"y1\": 0.2, \"yref\": \"y\"}, {\"fillcolor\": \"rgb(148, 103, 189)\", \"line\": {\"width\": 0}, \"opacity\": 1, \"type\": \"rect\", \"x0\": \"2011-06-21\", \"x1\": \"2011-06-25\", \"xref\": \"x\", \"y0\": -0.2, \"y1\": 0.2, \"yref\": \"y\"}, {\"fillcolor\": \"rgb(148, 103, 189)\", \"line\": {\"width\": 0}, \"opacity\": 1, \"type\": \"rect\", \"x0\": \"2011-06-25\", \"x1\": \"2011-06-28\", \"xref\": \"x\", \"y0\": -0.2, \"y1\": 0.2, \"yref\": \"y\"}, {\"fillcolor\": \"rgb(148, 103, 189)\", \"line\": {\"width\": 0}, \"opacity\": 1, \"type\": \"rect\", \"x0\": \"2011-06-28\", \"x1\": \"2011-06-29\", \"xref\": \"x\", \"y0\": -0.2, \"y1\": 0.2, \"yref\": \"y\"}, {\"fillcolor\": \"rgb(148, 103, 189)\", \"line\": {\"width\": 0}, \"opacity\": 1, \"type\": \"rect\", \"x0\": \"2011-06-29\", \"x1\": \"2011-07-20\", \"xref\": \"x\", \"y0\": -0.2, \"y1\": 0.2, \"yref\": \"y\"}, {\"fillcolor\": \"rgb(255, 127, 14)\", \"line\": {\"width\": 0}, \"opacity\": 1, \"type\": \"rect\", \"x0\": \"2011-07-20\", \"x1\": \"2011-07-22\", \"xref\": \"x\", \"y0\": 1.8, \"y1\": 2.2, \"yref\": \"y\"}, {\"fillcolor\": \"rgb(255, 127, 14)\", \"line\": {\"width\": 0}, \"opacity\": 1, \"type\": \"rect\", \"x0\": \"2011-07-22\", \"x1\": \"2011-07-23\", \"xref\": \"x\", \"y0\": 1.8, \"y1\": 2.2, \"yref\": \"y\"}, {\"fillcolor\": \"rgb(255, 127, 14)\", \"line\": {\"width\": 0}, \"opacity\": 1, \"type\": \"rect\", \"x0\": \"2011-07-23\", \"x1\": \"2011-07-24\", \"xref\": \"x\", \"y0\": 1.8, \"y1\": 2.2, \"yref\": \"y\"}, {\"fillcolor\": \"rgb(255, 127, 14)\", \"line\": {\"width\": 0}, \"opacity\": 1, \"type\": \"rect\", \"x0\": \"2011-07-24\", \"x1\": \"2011-07-26\", \"xref\": \"x\", \"y0\": 1.8, \"y1\": 2.2, \"yref\": \"y\"}, {\"fillcolor\": \"rgb(255, 127, 14)\", \"line\": {\"width\": 0}, \"opacity\": 1, \"type\": \"rect\", \"x0\": \"2011-07-26\", \"x1\": \"2011-07-28\", \"xref\": \"x\", \"y0\": 1.8, \"y1\": 2.2, \"yref\": \"y\"}, {\"fillcolor\": \"rgb(255, 127, 14)\", \"line\": {\"width\": 0}, \"opacity\": 1, \"type\": \"rect\", \"x0\": \"2011-07-28\", \"x1\": \"2011-07-28\", \"xref\": \"x\", \"y0\": 1.8, \"y1\": 2.2, \"yref\": \"y\"}, {\"fillcolor\": \"rgb(255, 127, 14)\", \"line\": {\"width\": 0}, \"opacity\": 1, \"type\": \"rect\", \"x0\": \"2011-07-28\", \"x1\": \"2011-07-29\", \"xref\": \"x\", \"y0\": 1.8, \"y1\": 2.2, \"yref\": \"y\"}, {\"fillcolor\": \"rgb(255, 127, 14)\", \"line\": {\"width\": 0}, \"opacity\": 1, \"type\": \"rect\", \"x0\": \"2011-07-29\", \"x1\": \"2011-07-31\", \"xref\": \"x\", \"y0\": 1.8, \"y1\": 2.2, \"yref\": \"y\"}, {\"fillcolor\": \"rgb(255, 127, 14)\", \"line\": {\"width\": 0}, \"opacity\": 1, \"type\": \"rect\", \"x0\": \"2011-07-31\", \"x1\": \"2011-08-01\", \"xref\": \"x\", \"y0\": 1.8, \"y1\": 2.2, \"yref\": \"y\"}, {\"fillcolor\": \"rgb(255, 127, 14)\", \"line\": {\"width\": 0}, \"opacity\": 1, \"type\": \"rect\", \"x0\": \"2011-08-01\", \"x1\": \"2011-08-03\", \"xref\": \"x\", \"y0\": 1.8, \"y1\": 2.2, \"yref\": \"y\"}, {\"fillcolor\": \"rgb(255, 127, 14)\", \"line\": {\"width\": 0}, \"opacity\": 1, \"type\": \"rect\", \"x0\": \"2011-08-03\", \"x1\": \"2011-08-04\", \"xref\": \"x\", \"y0\": 1.8, \"y1\": 2.2, \"yref\": \"y\"}, {\"fillcolor\": \"rgb(255, 127, 14)\", \"line\": {\"width\": 0}, \"opacity\": 1, \"type\": \"rect\", \"x0\": \"2011-08-04\", \"x1\": \"2011-08-05\", \"xref\": \"x\", \"y0\": 1.8, \"y1\": 2.2, \"yref\": \"y\"}, {\"fillcolor\": \"rgb(255, 127, 14)\", \"line\": {\"width\": 0}, \"opacity\": 1, \"type\": \"rect\", \"x0\": \"2011-08-05\", \"x1\": \"2011-08-06\", \"xref\": \"x\", \"y0\": 1.8, \"y1\": 2.2, \"yref\": \"y\"}, {\"fillcolor\": \"rgb(255, 127, 14)\", \"line\": {\"width\": 0}, \"opacity\": 1, \"type\": \"rect\", \"x0\": \"2011-08-06\", \"x1\": \"2011-08-07\", \"xref\": \"x\", \"y0\": 1.8, \"y1\": 2.2, \"yref\": \"y\"}, {\"fillcolor\": \"rgb(255, 127, 14)\", \"line\": {\"width\": 0}, \"opacity\": 1, \"type\": \"rect\", \"x0\": \"2011-08-07\", \"x1\": \"2011-08-08\", \"xref\": \"x\", \"y0\": 1.8, \"y1\": 2.2, \"yref\": \"y\"}, {\"fillcolor\": \"rgb(255, 127, 14)\", \"line\": {\"width\": 0}, \"opacity\": 1, \"type\": \"rect\", \"x0\": \"2011-08-08\", \"x1\": \"2011-08-09\", \"xref\": \"x\", \"y0\": 1.8, \"y1\": 2.2, \"yref\": \"y\"}, {\"fillcolor\": \"rgb(255, 127, 14)\", \"line\": {\"width\": 0}, \"opacity\": 1, \"type\": \"rect\", \"x0\": \"2011-08-09\", \"x1\": \"2011-08-09\", \"xref\": \"x\", \"y0\": 1.8, \"y1\": 2.2, \"yref\": \"y\"}, {\"fillcolor\": \"rgb(255, 127, 14)\", \"line\": {\"width\": 0}, \"opacity\": 1, \"type\": \"rect\", \"x0\": \"2011-08-09\", \"x1\": \"2011-08-12\", \"xref\": \"x\", \"y0\": 1.8, \"y1\": 2.2, \"yref\": \"y\"}, {\"fillcolor\": \"rgb(255, 127, 14)\", \"line\": {\"width\": 0}, \"opacity\": 1, \"type\": \"rect\", \"x0\": \"2011-08-12\", \"x1\": \"2011-08-17\", \"xref\": \"x\", \"y0\": 1.8, \"y1\": 2.2, \"yref\": \"y\"}, {\"fillcolor\": \"rgb(255, 127, 14)\", \"line\": {\"width\": 0}, \"opacity\": 1, \"type\": \"rect\", \"x0\": \"2011-08-17\", \"x1\": \"2011-08-19\", \"xref\": \"x\", \"y0\": 1.8, \"y1\": 2.2, \"yref\": \"y\"}, {\"fillcolor\": \"rgb(255, 127, 14)\", \"line\": {\"width\": 0}, \"opacity\": 1, \"type\": \"rect\", \"x0\": \"2011-08-19\", \"x1\": \"2011-08-20\", \"xref\": \"x\", \"y0\": 1.8, \"y1\": 2.2, \"yref\": \"y\"}, {\"fillcolor\": \"rgb(255, 127, 14)\", \"line\": {\"width\": 0}, \"opacity\": 1, \"type\": \"rect\", \"x0\": \"2011-08-20\", \"x1\": \"2011-08-22\", \"xref\": \"x\", \"y0\": 1.8, \"y1\": 2.2, \"yref\": \"y\"}, {\"fillcolor\": \"rgb(255, 127, 14)\", \"line\": {\"width\": 0}, \"opacity\": 1, \"type\": \"rect\", \"x0\": \"2011-08-22\", \"x1\": \"2011-08-24\", \"xref\": \"x\", \"y0\": 1.8, \"y1\": 2.2, \"yref\": \"y\"}, {\"fillcolor\": \"rgb(255, 127, 14)\", \"line\": {\"width\": 0}, \"opacity\": 1, \"type\": \"rect\", \"x0\": \"2011-08-24\", \"x1\": \"2011-08-25\", \"xref\": \"x\", \"y0\": 1.8, \"y1\": 2.2, \"yref\": \"y\"}, {\"fillcolor\": \"rgb(214, 39, 40)\", \"line\": {\"width\": 0}, \"opacity\": 1, \"type\": \"rect\", \"x0\": \"2011-08-25\", \"x1\": \"2011-08-29\", \"xref\": \"x\", \"y0\": 3.8, \"y1\": 4.2, \"yref\": \"y\"}, {\"fillcolor\": \"rgb(214, 39, 40)\", \"line\": {\"width\": 0}, \"opacity\": 1, \"type\": \"rect\", \"x0\": \"2016-08-24\", \"x1\": \"2016-08-26\", \"xref\": \"x\", \"y0\": 3.8, \"y1\": 4.2, \"yref\": \"y\"}, {\"fillcolor\": \"rgb(214, 39, 40)\", \"line\": {\"width\": 0}, \"opacity\": 1, \"type\": \"rect\", \"x0\": \"2016-08-26\", \"x1\": \"2016-08-27\", \"xref\": \"x\", \"y0\": 3.8, \"y1\": 4.2, \"yref\": \"y\"}, {\"fillcolor\": \"rgb(214, 39, 40)\", \"line\": {\"width\": 0}, \"opacity\": 1, \"type\": \"rect\", \"x0\": \"2016-08-27\", \"x1\": \"2016-08-28\", \"xref\": \"x\", \"y0\": 3.8, \"y1\": 4.2, \"yref\": \"y\"}, {\"fillcolor\": \"rgb(214, 39, 40)\", \"line\": {\"width\": 0}, \"opacity\": 1, \"type\": \"rect\", \"x0\": \"2016-08-28\", \"x1\": \"2016-09-05\", \"xref\": \"x\", \"y0\": 3.8, \"y1\": 4.2, \"yref\": \"y\"}, {\"fillcolor\": \"rgb(214, 39, 40)\", \"line\": {\"width\": 0}, \"opacity\": 1, \"type\": \"rect\", \"x0\": \"2016-09-05\", \"x1\": \"2016-09-10\", \"xref\": \"x\", \"y0\": 3.8, \"y1\": 4.2, \"yref\": \"y\"}, {\"fillcolor\": \"rgb(214, 39, 40)\", \"line\": {\"width\": 0}, \"opacity\": 1, \"type\": \"rect\", \"x0\": \"2016-09-10\", \"x1\": \"2016-09-15\", \"xref\": \"x\", \"y0\": 3.8, \"y1\": 4.2, \"yref\": \"y\"}, {\"fillcolor\": \"rgb(214, 39, 40)\", \"line\": {\"width\": 0}, \"opacity\": 1, \"type\": \"rect\", \"x0\": \"2016-09-15\", \"x1\": \"2016-09-16\", \"xref\": \"x\", \"y0\": 3.8, \"y1\": 4.2, \"yref\": \"y\"}, {\"fillcolor\": \"rgb(214, 39, 40)\", \"line\": {\"width\": 0}, \"opacity\": 1, \"type\": \"rect\", \"x0\": \"2016-09-16\", \"x1\": \"2016-09-17\", \"xref\": \"x\", \"y0\": 3.8, \"y1\": 4.2, \"yref\": \"y\"}, {\"fillcolor\": \"rgb(214, 39, 40)\", \"line\": {\"width\": 0}, \"opacity\": 1, \"type\": \"rect\", \"x0\": \"2016-09-17\", \"x1\": \"2016-09-24\", \"xref\": \"x\", \"y0\": 3.8, \"y1\": 4.2, \"yref\": \"y\"}, {\"fillcolor\": \"rgb(214, 39, 40)\", \"line\": {\"width\": 0}, \"opacity\": 1, \"type\": \"rect\", \"x0\": \"2016-09-24\", \"x1\": \"2016-09-24\", \"xref\": \"x\", \"y0\": 3.8, \"y1\": 4.2, \"yref\": \"y\"}, {\"fillcolor\": \"rgb(214, 39, 40)\", \"line\": {\"width\": 0}, \"opacity\": 1, \"type\": \"rect\", \"x0\": \"2016-09-24\", \"x1\": \"2016-09-25\", \"xref\": \"x\", \"y0\": 3.8, \"y1\": 4.2, \"yref\": \"y\"}, {\"fillcolor\": \"rgb(214, 39, 40)\", \"line\": {\"width\": 0}, \"opacity\": 1, \"type\": \"rect\", \"x0\": \"2016-09-25\", \"x1\": \"2016-09-27\", \"xref\": \"x\", \"y0\": 3.8, \"y1\": 4.2, \"yref\": \"y\"}, {\"fillcolor\": \"rgb(255, 127, 14)\", \"line\": {\"width\": 0}, \"opacity\": 1, \"type\": \"rect\", \"x0\": \"2016-09-27\", \"x1\": \"2016-09-29\", \"xref\": \"x\", \"y0\": 1.8, \"y1\": 2.2, \"yref\": \"y\"}, {\"fillcolor\": \"rgb(214, 39, 40)\", \"line\": {\"width\": 0}, \"opacity\": 1, \"type\": \"rect\", \"x0\": \"2014-07-19\", \"x1\": \"2014-07-21\", \"xref\": \"x\", \"y0\": 3.8, \"y1\": 4.2, \"yref\": \"y\"}, {\"fillcolor\": \"rgb(214, 39, 40)\", \"line\": {\"width\": 0}, \"opacity\": 1, \"type\": \"rect\", \"x0\": \"2014-07-21\", \"x1\": \"2014-07-21\", \"xref\": \"x\", \"y0\": 3.8, \"y1\": 4.2, \"yref\": \"y\"}, {\"fillcolor\": \"rgb(214, 39, 40)\", \"line\": {\"width\": 0}, \"opacity\": 1, \"type\": \"rect\", \"x0\": \"2014-07-21\", \"x1\": \"2014-07-23\", \"xref\": \"x\", \"y0\": 3.8, \"y1\": 4.2, \"yref\": \"y\"}, {\"fillcolor\": \"rgb(214, 39, 40)\", \"line\": {\"width\": 0}, \"opacity\": 1, \"type\": \"rect\", \"x0\": \"2014-07-23\", \"x1\": \"2014-07-26\", \"xref\": \"x\", \"y0\": 3.8, \"y1\": 4.2, \"yref\": \"y\"}, {\"fillcolor\": \"rgb(214, 39, 40)\", \"line\": {\"width\": 0}, \"opacity\": 1, \"type\": \"rect\", \"x0\": \"2014-07-26\", \"x1\": \"2014-07-29\", \"xref\": \"x\", \"y0\": 3.8, \"y1\": 4.2, \"yref\": \"y\"}, {\"fillcolor\": \"rgb(214, 39, 40)\", \"line\": {\"width\": 0}, \"opacity\": 1, \"type\": \"rect\", \"x0\": \"2014-07-29\", \"x1\": \"2014-07-29\", \"xref\": \"x\", \"y0\": 3.8, \"y1\": 4.2, \"yref\": \"y\"}, {\"fillcolor\": \"rgb(214, 39, 40)\", \"line\": {\"width\": 0}, \"opacity\": 1, \"type\": \"rect\", \"x0\": \"2014-07-29\", \"x1\": \"2014-07-29\", \"xref\": \"x\", \"y0\": 3.8, \"y1\": 4.2, \"yref\": \"y\"}, {\"fillcolor\": \"rgb(214, 39, 40)\", \"line\": {\"width\": 0}, \"opacity\": 1, \"type\": \"rect\", \"x0\": \"2014-07-29\", \"x1\": \"2014-08-02\", \"xref\": \"x\", \"y0\": 3.8, \"y1\": 4.2, \"yref\": \"y\"}, {\"fillcolor\": \"rgb(214, 39, 40)\", \"line\": {\"width\": 0}, \"opacity\": 1, \"type\": \"rect\", \"x0\": \"2014-08-02\", \"x1\": \"2014-08-05\", \"xref\": \"x\", \"y0\": 3.8, \"y1\": 4.2, \"yref\": \"y\"}, {\"fillcolor\": \"rgb(214, 39, 40)\", \"line\": {\"width\": 0}, \"opacity\": 1, \"type\": \"rect\", \"x0\": \"2014-08-05\", \"x1\": \"2014-08-06\", \"xref\": \"x\", \"y0\": 3.8, \"y1\": 4.2, \"yref\": \"y\"}, {\"fillcolor\": \"rgb(214, 39, 40)\", \"line\": {\"width\": 0}, \"opacity\": 1, \"type\": \"rect\", \"x0\": \"2014-08-06\", \"x1\": \"2014-08-12\", \"xref\": \"x\", \"y0\": 3.8, \"y1\": 4.2, \"yref\": \"y\"}, {\"fillcolor\": \"rgb(214, 39, 40)\", \"line\": {\"width\": 0}, \"opacity\": 1, \"type\": \"rect\", \"x0\": \"2014-08-12\", \"x1\": \"2014-08-15\", \"xref\": \"x\", \"y0\": 3.8, \"y1\": 4.2, \"yref\": \"y\"}, {\"fillcolor\": \"rgb(214, 39, 40)\", \"line\": {\"width\": 0}, \"opacity\": 1, \"type\": \"rect\", \"x0\": \"2014-08-15\", \"x1\": \"2014-08-16\", \"xref\": \"x\", \"y0\": 3.8, \"y1\": 4.2, \"yref\": \"y\"}, {\"fillcolor\": \"rgb(214, 39, 40)\", \"line\": {\"width\": 0}, \"opacity\": 1, \"type\": \"rect\", \"x0\": \"2014-08-16\", \"x1\": \"2014-08-18\", \"xref\": \"x\", \"y0\": 3.8, \"y1\": 4.2, \"yref\": \"y\"}, {\"fillcolor\": \"rgb(214, 39, 40)\", \"line\": {\"width\": 0}, \"opacity\": 1, \"type\": \"rect\", \"x0\": \"2014-08-18\", \"x1\": \"2014-08-20\", \"xref\": \"x\", \"y0\": 3.8, \"y1\": 4.2, \"yref\": \"y\"}, {\"fillcolor\": \"rgb(214, 39, 40)\", \"line\": {\"width\": 0}, \"opacity\": 1, \"type\": \"rect\", \"x0\": \"2014-08-20\", \"x1\": \"2014-08-22\", \"xref\": \"x\", \"y0\": 3.8, \"y1\": 4.2, \"yref\": \"y\"}, {\"fillcolor\": \"rgb(214, 39, 40)\", \"line\": {\"width\": 0}, \"opacity\": 1, \"type\": \"rect\", \"x0\": \"2014-08-22\", \"x1\": \"2014-08-22\", \"xref\": \"x\", \"y0\": 3.8, \"y1\": 4.2, \"yref\": \"y\"}, {\"fillcolor\": \"rgb(214, 39, 40)\", \"line\": {\"width\": 0}, \"opacity\": 1, \"type\": \"rect\", \"x0\": \"2014-08-22\", \"x1\": \"2014-08-25\", \"xref\": \"x\", \"y0\": 3.8, \"y1\": 4.2, \"yref\": \"y\"}, {\"fillcolor\": \"rgb(214, 39, 40)\", \"line\": {\"width\": 0}, \"opacity\": 1, \"type\": \"rect\", \"x0\": \"2014-08-25\", \"x1\": \"2014-08-26\", \"xref\": \"x\", \"y0\": 3.8, \"y1\": 4.2, \"yref\": \"y\"}, {\"fillcolor\": \"rgb(214, 39, 40)\", \"line\": {\"width\": 0}, \"opacity\": 1, \"type\": \"rect\", \"x0\": \"2014-08-26\", \"x1\": \"2014-08-28\", \"xref\": \"x\", \"y0\": 3.8, \"y1\": 4.2, \"yref\": \"y\"}, {\"fillcolor\": \"rgb(214, 39, 40)\", \"line\": {\"width\": 0}, \"opacity\": 1, \"type\": \"rect\", \"x0\": \"2013-12-28\", \"x1\": \"2014-01-04\", \"xref\": \"x\", \"y0\": 3.8, \"y1\": 4.2, \"yref\": \"y\"}, {\"fillcolor\": \"rgb(214, 39, 40)\", \"line\": {\"width\": 0}, \"opacity\": 1, \"type\": \"rect\", \"x0\": \"2015-07-15\", \"x1\": \"2015-07-18\", \"xref\": \"x\", \"y0\": 3.8, \"y1\": 4.2, \"yref\": \"y\"}, {\"fillcolor\": \"rgb(214, 39, 40)\", \"line\": {\"width\": 0}, \"opacity\": 1, \"type\": \"rect\", \"x0\": \"2015-07-18\", \"x1\": \"2015-07-20\", \"xref\": \"x\", \"y0\": 3.8, \"y1\": 4.2, \"yref\": \"y\"}, {\"fillcolor\": \"rgb(214, 39, 40)\", \"line\": {\"width\": 0}, \"opacity\": 1, \"type\": \"rect\", \"x0\": \"2015-07-20\", \"x1\": \"2015-07-23\", \"xref\": \"x\", \"y0\": 3.8, \"y1\": 4.2, \"yref\": \"y\"}, {\"fillcolor\": \"rgb(214, 39, 40)\", \"line\": {\"width\": 0}, \"opacity\": 1, \"type\": \"rect\", \"x0\": \"2015-07-23\", \"x1\": \"2015-07-25\", \"xref\": \"x\", \"y0\": 3.8, \"y1\": 4.2, \"yref\": \"y\"}, {\"fillcolor\": \"rgb(214, 39, 40)\", \"line\": {\"width\": 0}, \"opacity\": 1, \"type\": \"rect\", \"x0\": \"2015-07-25\", \"x1\": \"2015-08-01\", \"xref\": \"x\", \"y0\": 3.8, \"y1\": 4.2, \"yref\": \"y\"}, {\"fillcolor\": \"rgb(214, 39, 40)\", \"line\": {\"width\": 0}, \"opacity\": 1, \"type\": \"rect\", \"x0\": \"2015-08-01\", \"x1\": \"2015-08-02\", \"xref\": \"x\", \"y0\": 3.8, \"y1\": 4.2, \"yref\": \"y\"}, {\"fillcolor\": \"rgb(214, 39, 40)\", \"line\": {\"width\": 0}, \"opacity\": 1, \"type\": \"rect\", \"x0\": \"2014-12-27\", \"x1\": \"2015-01-03\", \"xref\": \"x\", \"y0\": 3.8, \"y1\": 4.2, \"yref\": \"y\"}, {\"fillcolor\": \"rgb(214, 39, 40)\", \"line\": {\"width\": 0}, \"opacity\": 1, \"type\": \"rect\", \"x0\": \"2015-01-18\", \"x1\": \"2015-01-23\", \"xref\": \"x\", \"y0\": 3.8, \"y1\": 4.2, \"yref\": \"y\"}, {\"fillcolor\": \"rgb(255, 127, 14)\", \"line\": {\"width\": 0}, \"opacity\": 1, \"type\": \"rect\", \"x0\": \"2017-05-26\", \"x1\": \"2017-05-26\", \"xref\": \"x\", \"y0\": 1.8, \"y1\": 2.2, \"yref\": \"y\"}, {\"fillcolor\": \"rgb(255, 127, 14)\", \"line\": {\"width\": 0}, \"opacity\": 1, \"type\": \"rect\", \"x0\": \"2017-05-26\", \"x1\": \"2017-05-31\", \"xref\": \"x\", \"y0\": 1.8, \"y1\": 2.2, \"yref\": \"y\"}, {\"fillcolor\": \"rgb(255, 127, 14)\", \"line\": {\"width\": 0}, \"opacity\": 1, \"type\": \"rect\", \"x0\": \"2017-05-31\", \"x1\": \"2017-06-03\", \"xref\": \"x\", \"y0\": 1.8, \"y1\": 2.2, \"yref\": \"y\"}, {\"fillcolor\": \"rgb(255, 127, 14)\", \"line\": {\"width\": 0}, \"opacity\": 1, \"type\": \"rect\", \"x0\": \"2017-06-03\", \"x1\": \"2017-06-05\", \"xref\": \"x\", \"y0\": 1.8, \"y1\": 2.2, \"yref\": \"y\"}, {\"fillcolor\": \"rgb(255, 127, 14)\", \"line\": {\"width\": 0}, \"opacity\": 1, \"type\": \"rect\", \"x0\": \"2017-06-05\", \"x1\": \"2017-06-08\", \"xref\": \"x\", \"y0\": 1.8, \"y1\": 2.2, \"yref\": \"y\"}, {\"fillcolor\": \"rgb(255, 127, 14)\", \"line\": {\"width\": 0}, \"opacity\": 1, \"type\": \"rect\", \"x0\": \"2017-06-08\", \"x1\": \"2017-06-10\", \"xref\": \"x\", \"y0\": 1.8, \"y1\": 2.2, \"yref\": \"y\"}, {\"fillcolor\": \"rgb(255, 127, 14)\", \"line\": {\"width\": 0}, \"opacity\": 1, \"type\": \"rect\", \"x0\": \"2017-06-10\", \"x1\": \"2017-06-11\", \"xref\": \"x\", \"y0\": 1.8, \"y1\": 2.2, \"yref\": \"y\"}, {\"fillcolor\": \"rgb(255, 127, 14)\", \"line\": {\"width\": 0}, \"opacity\": 1, \"type\": \"rect\", \"x0\": \"2017-06-11\", \"x1\": \"2017-06-11\", \"xref\": \"x\", \"y0\": 1.8, \"y1\": 2.2, \"yref\": \"y\"}, {\"fillcolor\": \"rgb(255, 127, 14)\", \"line\": {\"width\": 0}, \"opacity\": 1, \"type\": \"rect\", \"x0\": \"2017-06-11\", \"x1\": \"2017-06-12\", \"xref\": \"x\", \"y0\": 1.8, \"y1\": 2.2, \"yref\": \"y\"}, {\"fillcolor\": \"rgb(214, 39, 40)\", \"line\": {\"width\": 0}, \"opacity\": 1, \"type\": \"rect\", \"x0\": \"2018-03-17\", \"x1\": \"2018-03-24\", \"xref\": \"x\", \"y0\": 3.8, \"y1\": 4.2, \"yref\": \"y\"}, {\"fillcolor\": \"rgb(214, 39, 40)\", \"line\": {\"width\": 0}, \"opacity\": 1, \"type\": \"rect\", \"x0\": \"2017-12-27\", \"x1\": \"2017-12-27\", \"xref\": \"x\", \"y0\": 3.8, \"y1\": 4.2, \"yref\": \"y\"}, {\"fillcolor\": \"rgb(214, 39, 40)\", \"line\": {\"width\": 0}, \"opacity\": 1, \"type\": \"rect\", \"x0\": \"2017-12-27\", \"x1\": \"2017-12-28\", \"xref\": \"x\", \"y0\": 3.8, \"y1\": 4.2, \"yref\": \"y\"}, {\"fillcolor\": \"rgb(214, 39, 40)\", \"line\": {\"width\": 0}, \"opacity\": 1, \"type\": \"rect\", \"x0\": \"2017-12-28\", \"x1\": \"2017-12-29\", \"xref\": \"x\", \"y0\": 3.8, \"y1\": 4.2, \"yref\": \"y\"}, {\"fillcolor\": \"rgb(214, 39, 40)\", \"line\": {\"width\": 0}, \"opacity\": 1, \"type\": \"rect\", \"x0\": \"2017-12-29\", \"x1\": \"2017-12-30\", \"xref\": \"x\", \"y0\": 3.8, \"y1\": 4.2, \"yref\": \"y\"}, {\"fillcolor\": \"rgb(214, 39, 40)\", \"line\": {\"width\": 0}, \"opacity\": 1, \"type\": \"rect\", \"x0\": \"2017-12-30\", \"x1\": \"2017-12-31\", \"xref\": \"x\", \"y0\": 3.8, \"y1\": 4.2, \"yref\": \"y\"}, {\"fillcolor\": \"rgb(214, 39, 40)\", \"line\": {\"width\": 0}, \"opacity\": 1, \"type\": \"rect\", \"x0\": \"2017-12-31\", \"x1\": \"2018-01-01\", \"xref\": \"x\", \"y0\": 3.8, \"y1\": 4.2, \"yref\": \"y\"}, {\"fillcolor\": \"rgb(214, 39, 40)\", \"line\": {\"width\": 0}, \"opacity\": 1, \"type\": \"rect\", \"x0\": \"2018-01-01\", \"x1\": \"2018-01-02\", \"xref\": \"x\", \"y0\": 3.8, \"y1\": 4.2, \"yref\": \"y\"}, {\"fillcolor\": \"rgb(214, 39, 40)\", \"line\": {\"width\": 0}, \"opacity\": 1, \"type\": \"rect\", \"x0\": \"2018-01-02\", \"x1\": \"2018-01-02\", \"xref\": \"x\", \"y0\": 3.8, \"y1\": 4.2, \"yref\": \"y\"}, {\"fillcolor\": \"rgb(214, 39, 40)\", \"line\": {\"width\": 0}, \"opacity\": 1, \"type\": \"rect\", \"x0\": \"2018-01-02\", \"x1\": \"2018-01-03\", \"xref\": \"x\", \"y0\": 3.8, \"y1\": 4.2, \"yref\": \"y\"}, {\"fillcolor\": \"rgb(214, 39, 40)\", \"line\": {\"width\": 0}, \"opacity\": 1, \"type\": \"rect\", \"x0\": \"2018-01-03\", \"x1\": \"2018-01-03\", \"xref\": \"x\", \"y0\": 3.8, \"y1\": 4.2, \"yref\": \"y\"}, {\"fillcolor\": \"rgb(214, 39, 40)\", \"line\": {\"width\": 0}, \"opacity\": 1, \"type\": \"rect\", \"x0\": \"2018-01-03\", \"x1\": \"2018-01-04\", \"xref\": \"x\", \"y0\": 3.8, \"y1\": 4.2, \"yref\": \"y\"}, {\"fillcolor\": \"rgb(214, 39, 40)\", \"line\": {\"width\": 0}, \"opacity\": 1, \"type\": \"rect\", \"x0\": \"2018-01-04\", \"x1\": \"2018-01-04\", \"xref\": \"x\", \"y0\": 3.8, \"y1\": 4.2, \"yref\": \"y\"}, {\"fillcolor\": \"rgb(214, 39, 40)\", \"line\": {\"width\": 0}, \"opacity\": 1, \"type\": \"rect\", \"x0\": \"2018-01-04\", \"x1\": \"2018-01-05\", \"xref\": \"x\", \"y0\": 3.8, \"y1\": 4.2, \"yref\": \"y\"}, {\"fillcolor\": \"rgb(214, 39, 40)\", \"line\": {\"width\": 0}, \"opacity\": 1, \"type\": \"rect\", \"x0\": \"2018-01-05\", \"x1\": \"2018-01-05\", \"xref\": \"x\", \"y0\": 3.8, \"y1\": 4.2, \"yref\": \"y\"}, {\"fillcolor\": \"rgb(214, 39, 40)\", \"line\": {\"width\": 0}, \"opacity\": 1, \"type\": \"rect\", \"x0\": \"2018-01-05\", \"x1\": \"2018-01-06\", \"xref\": \"x\", \"y0\": 3.8, \"y1\": 4.2, \"yref\": \"y\"}, {\"fillcolor\": \"rgb(214, 39, 40)\", \"line\": {\"width\": 0}, \"opacity\": 1, \"type\": \"rect\", \"x0\": \"2018-01-06\", \"x1\": \"2018-01-06\", \"xref\": \"x\", \"y0\": 3.8, \"y1\": 4.2, \"yref\": \"y\"}, {\"fillcolor\": \"rgb(214, 39, 40)\", \"line\": {\"width\": 0}, \"opacity\": 1, \"type\": \"rect\", \"x0\": \"2018-01-06\", \"x1\": \"2018-01-07\", \"xref\": \"x\", \"y0\": 3.8, \"y1\": 4.2, \"yref\": \"y\"}], \"showlegend\": false, \"title\": {\"text\": \"Patrick's Holidays\"}, \"width\": 900, \"xaxis\": {\"rangeselector\": {\"buttons\": [{\"count\": 7, \"label\": \"1w\", \"step\": \"day\", \"stepmode\": \"backward\"}, {\"count\": 1, \"label\": \"1m\", \"step\": \"month\", \"stepmode\": \"backward\"}, {\"count\": 6, \"label\": \"6m\", \"step\": \"month\", \"stepmode\": \"backward\"}, {\"count\": 1, \"label\": \"YTD\", \"step\": \"year\", \"stepmode\": \"todate\"}, {\"count\": 1, \"label\": \"1y\", \"step\": \"year\", \"stepmode\": \"backward\"}, {\"step\": \"all\"}]}, \"showgrid\": true, \"type\": \"date\", \"zeroline\": false}, \"yaxis\": {\"autorange\": false, \"range\": [-1, 6], \"showgrid\": true, \"ticktext\": [\"Oceania\", \"Asia\", \"Americas\", \"Africa\", \"Europe\"], \"tickvals\": [0, 1, 2, 3, 4], \"zeroline\": false}}, {\"showLink\": false, \"linkText\": \"Export to plot.ly\", \"plotlyServerURL\": \"https://plot.ly\"}); \n",
       "}\n",
       "});</script>"
      ]
     },
     "metadata": {},
     "output_type": "display_data"
    }
   ],
   "source": [
    "username = 'padmin'\n",
    "current_map = 'admin'\n",
    "name = 'Patrick'\n",
    "\n",
    "df = get_single_map_df(username=username, current_map=current_map)\n",
    "\n",
    "df_all = pd.read_csv(app.root_path + '/static/all.csv')\n",
    "df_all = df_all[['alpha-2', 'region']]\n",
    "df = pd.merge(df, df_all, left_on='country_code', right_on='alpha-2', how='left').reset_index()\n",
    "\n",
    "df['region'][df['region'].isnull()] = 'Antarctica'\n",
    "df.rename(index=str, columns={'region':'Task'}, inplace=True)\n",
    "\n",
    "df['Start'] = df['start_time'].apply(datetime.utcfromtimestamp)\n",
    "df['Finish'] = df['end_time'].apply(datetime.utcfromtimestamp)\n",
    "df['Start'] = df['Start'].apply(datetime.date)\n",
    "df['Finish'] = df['Finish'].apply(datetime.date)\n",
    "\n",
    "fig = ff.create_gantt(df, group_tasks=True, index_col='Task', title=f\"{name}'s Holidays\",\n",
    "                  showgrid_x=True, showgrid_y=True)\n",
    "iplot(fig, filename='cont_gantt')"
   ]
  }
 ],
 "metadata": {
  "kernelspec": {
   "display_name": "Python 3",
   "language": "python",
   "name": "python3"
  },
  "language_info": {
   "codemirror_mode": {
    "name": "ipython",
    "version": 3
   },
   "file_extension": ".py",
   "mimetype": "text/x-python",
   "name": "python",
   "nbconvert_exporter": "python",
   "pygments_lexer": "ipython3",
   "version": "3.7.2"
  }
 },
 "nbformat": 4,
 "nbformat_minor": 2
}
